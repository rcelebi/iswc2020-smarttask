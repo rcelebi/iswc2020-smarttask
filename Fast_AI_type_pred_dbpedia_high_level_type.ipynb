{
  "nbformat": 4,
  "nbformat_minor": 0,
  "metadata": {
    "accelerator": "GPU",
    "colab": {
      "name": "Fast.AI_type_pred-dbpedia.ipynb",
      "provenance": [],
      "collapsed_sections": [],
      "include_colab_link": true
    },
    "kernelspec": {
      "display_name": "Python 3",
      "language": "python",
      "name": "python3"
    },
    "language_info": {
      "codemirror_mode": {
        "name": "ipython",
        "version": 3
      },
      "file_extension": ".py",
      "mimetype": "text/x-python",
      "name": "python",
      "nbconvert_exporter": "python",
      "pygments_lexer": "ipython3",
      "version": "3.6.8"
    }
  },
  "cells": [
    {
      "cell_type": "markdown",
      "metadata": {
        "id": "view-in-github",
        "colab_type": "text"
      },
      "source": [
        "<a href=\"https://colab.research.google.com/github/rcelebi/iswc2020-smarttask/blob/master/Fast_AI_type_pred_dbpedia_high_level_type.ipynb\" target=\"_parent\"><img src=\"https://colab.research.google.com/assets/colab-badge.svg\" alt=\"Open In Colab\"/></a>"
      ]
    },
    {
      "cell_type": "code",
      "metadata": {
        "id": "iOJlsUWPZNlg",
        "colab": {
          "base_uri": "https://localhost:8080/"
        },
        "outputId": "6715f98b-91a2-43ff-e428-95f80a81f71d"
      },
      "source": [
        "!pip3 install fastai==1.0.61"
      ],
      "execution_count": 1,
      "outputs": [
        {
          "output_type": "stream",
          "text": [
            "Requirement already satisfied: fastai==1.0.61 in /usr/local/lib/python3.6/dist-packages (1.0.61)\n",
            "Requirement already satisfied: torchvision in /usr/local/lib/python3.6/dist-packages (from fastai==1.0.61) (0.8.1+cu101)\n",
            "Requirement already satisfied: matplotlib in /usr/local/lib/python3.6/dist-packages (from fastai==1.0.61) (3.2.2)\n",
            "Requirement already satisfied: spacy>=2.0.18; python_version < \"3.8\" in /usr/local/lib/python3.6/dist-packages (from fastai==1.0.61) (2.2.4)\n",
            "Requirement already satisfied: nvidia-ml-py3 in /usr/local/lib/python3.6/dist-packages (from fastai==1.0.61) (7.352.0)\n",
            "Requirement already satisfied: beautifulsoup4 in /usr/local/lib/python3.6/dist-packages (from fastai==1.0.61) (4.6.3)\n",
            "Requirement already satisfied: numexpr in /usr/local/lib/python3.6/dist-packages (from fastai==1.0.61) (2.7.2)\n",
            "Requirement already satisfied: Pillow in /usr/local/lib/python3.6/dist-packages (from fastai==1.0.61) (7.0.0)\n",
            "Requirement already satisfied: bottleneck in /usr/local/lib/python3.6/dist-packages (from fastai==1.0.61) (1.3.2)\n",
            "Requirement already satisfied: numpy>=1.15 in /usr/local/lib/python3.6/dist-packages (from fastai==1.0.61) (1.19.5)\n",
            "Requirement already satisfied: torch>=1.0.0 in /usr/local/lib/python3.6/dist-packages (from fastai==1.0.61) (1.7.0+cu101)\n",
            "Requirement already satisfied: pyyaml in /usr/local/lib/python3.6/dist-packages (from fastai==1.0.61) (3.13)\n",
            "Requirement already satisfied: fastprogress>=0.2.1 in /usr/local/lib/python3.6/dist-packages (from fastai==1.0.61) (1.0.0)\n",
            "Requirement already satisfied: scipy in /usr/local/lib/python3.6/dist-packages (from fastai==1.0.61) (1.4.1)\n",
            "Requirement already satisfied: dataclasses; python_version < \"3.7\" in /usr/local/lib/python3.6/dist-packages (from fastai==1.0.61) (0.8)\n",
            "Requirement already satisfied: packaging in /usr/local/lib/python3.6/dist-packages (from fastai==1.0.61) (20.9)\n",
            "Requirement already satisfied: pandas in /usr/local/lib/python3.6/dist-packages (from fastai==1.0.61) (1.1.5)\n",
            "Requirement already satisfied: requests in /usr/local/lib/python3.6/dist-packages (from fastai==1.0.61) (2.23.0)\n",
            "Requirement already satisfied: cycler>=0.10 in /usr/local/lib/python3.6/dist-packages (from matplotlib->fastai==1.0.61) (0.10.0)\n",
            "Requirement already satisfied: pyparsing!=2.0.4,!=2.1.2,!=2.1.6,>=2.0.1 in /usr/local/lib/python3.6/dist-packages (from matplotlib->fastai==1.0.61) (2.4.7)\n",
            "Requirement already satisfied: kiwisolver>=1.0.1 in /usr/local/lib/python3.6/dist-packages (from matplotlib->fastai==1.0.61) (1.3.1)\n",
            "Requirement already satisfied: python-dateutil>=2.1 in /usr/local/lib/python3.6/dist-packages (from matplotlib->fastai==1.0.61) (2.8.1)\n",
            "Requirement already satisfied: blis<0.5.0,>=0.4.0 in /usr/local/lib/python3.6/dist-packages (from spacy>=2.0.18; python_version < \"3.8\"->fastai==1.0.61) (0.4.1)\n",
            "Requirement already satisfied: srsly<1.1.0,>=1.0.2 in /usr/local/lib/python3.6/dist-packages (from spacy>=2.0.18; python_version < \"3.8\"->fastai==1.0.61) (1.0.5)\n",
            "Requirement already satisfied: wasabi<1.1.0,>=0.4.0 in /usr/local/lib/python3.6/dist-packages (from spacy>=2.0.18; python_version < \"3.8\"->fastai==1.0.61) (0.8.2)\n",
            "Requirement already satisfied: cymem<2.1.0,>=2.0.2 in /usr/local/lib/python3.6/dist-packages (from spacy>=2.0.18; python_version < \"3.8\"->fastai==1.0.61) (2.0.5)\n",
            "Requirement already satisfied: tqdm<5.0.0,>=4.38.0 in /usr/local/lib/python3.6/dist-packages (from spacy>=2.0.18; python_version < \"3.8\"->fastai==1.0.61) (4.41.1)\n",
            "Requirement already satisfied: plac<1.2.0,>=0.9.6 in /usr/local/lib/python3.6/dist-packages (from spacy>=2.0.18; python_version < \"3.8\"->fastai==1.0.61) (1.1.3)\n",
            "Requirement already satisfied: thinc==7.4.0 in /usr/local/lib/python3.6/dist-packages (from spacy>=2.0.18; python_version < \"3.8\"->fastai==1.0.61) (7.4.0)\n",
            "Requirement already satisfied: catalogue<1.1.0,>=0.0.7 in /usr/local/lib/python3.6/dist-packages (from spacy>=2.0.18; python_version < \"3.8\"->fastai==1.0.61) (1.0.0)\n",
            "Requirement already satisfied: setuptools in /usr/local/lib/python3.6/dist-packages (from spacy>=2.0.18; python_version < \"3.8\"->fastai==1.0.61) (53.0.0)\n",
            "Requirement already satisfied: murmurhash<1.1.0,>=0.28.0 in /usr/local/lib/python3.6/dist-packages (from spacy>=2.0.18; python_version < \"3.8\"->fastai==1.0.61) (1.0.5)\n",
            "Requirement already satisfied: preshed<3.1.0,>=3.0.2 in /usr/local/lib/python3.6/dist-packages (from spacy>=2.0.18; python_version < \"3.8\"->fastai==1.0.61) (3.0.5)\n",
            "Requirement already satisfied: typing-extensions in /usr/local/lib/python3.6/dist-packages (from torch>=1.0.0->fastai==1.0.61) (3.7.4.3)\n",
            "Requirement already satisfied: future in /usr/local/lib/python3.6/dist-packages (from torch>=1.0.0->fastai==1.0.61) (0.16.0)\n",
            "Requirement already satisfied: pytz>=2017.2 in /usr/local/lib/python3.6/dist-packages (from pandas->fastai==1.0.61) (2018.9)\n",
            "Requirement already satisfied: idna<3,>=2.5 in /usr/local/lib/python3.6/dist-packages (from requests->fastai==1.0.61) (2.10)\n",
            "Requirement already satisfied: chardet<4,>=3.0.2 in /usr/local/lib/python3.6/dist-packages (from requests->fastai==1.0.61) (3.0.4)\n",
            "Requirement already satisfied: certifi>=2017.4.17 in /usr/local/lib/python3.6/dist-packages (from requests->fastai==1.0.61) (2020.12.5)\n",
            "Requirement already satisfied: urllib3!=1.25.0,!=1.25.1,<1.26,>=1.21.1 in /usr/local/lib/python3.6/dist-packages (from requests->fastai==1.0.61) (1.24.3)\n",
            "Requirement already satisfied: six in /usr/local/lib/python3.6/dist-packages (from cycler>=0.10->matplotlib->fastai==1.0.61) (1.15.0)\n",
            "Requirement already satisfied: importlib-metadata>=0.20; python_version < \"3.8\" in /usr/local/lib/python3.6/dist-packages (from catalogue<1.1.0,>=0.0.7->spacy>=2.0.18; python_version < \"3.8\"->fastai==1.0.61) (3.4.0)\n",
            "Requirement already satisfied: zipp>=0.5 in /usr/local/lib/python3.6/dist-packages (from importlib-metadata>=0.20; python_version < \"3.8\"->catalogue<1.1.0,>=0.0.7->spacy>=2.0.18; python_version < \"3.8\"->fastai==1.0.61) (3.4.0)\n"
          ],
          "name": "stdout"
        }
      ]
    },
    {
      "cell_type": "code",
      "metadata": {
        "id": "Ytmq-K8f7SXu"
      },
      "source": [
        "from fastai.text import *\n",
        "#from fastai.text.all import *"
      ],
      "execution_count": 2,
      "outputs": []
    },
    {
      "cell_type": "code",
      "metadata": {
        "id": "7vHQ8mczZNlk"
      },
      "source": [
        "bs=64"
      ],
      "execution_count": 3,
      "outputs": []
    },
    {
      "cell_type": "markdown",
      "metadata": {
        "id": "6Q89yZwuZNln"
      },
      "source": [
        "## Data"
      ]
    },
    {
      "cell_type": "code",
      "metadata": {
        "id": "WLBmztiQ7nSY",
        "colab": {
          "base_uri": "https://localhost:8080/"
        },
        "outputId": "2759d526-9d44-4cfa-cbab-b052cf56fd66"
      },
      "source": [
        "from google.colab import drive\n",
        "drive.mount('/content/drive/')"
      ],
      "execution_count": 6,
      "outputs": [
        {
          "output_type": "stream",
          "text": [
            "Mounted at /content/drive/\n"
          ],
          "name": "stdout"
        }
      ]
    },
    {
      "cell_type": "code",
      "metadata": {
        "id": "R6GeRlxp74y4"
      },
      "source": [
        "import os\n",
        "path_to_ipynb = '/content/drive/My Drive/iswc-ammar/shervin'\n",
        "# change directory to where autoregq.py, src, and data are\n",
        "os.chdir(path_to_ipynb)"
      ],
      "execution_count": 7,
      "outputs": []
    },
    {
      "cell_type": "code",
      "metadata": {
        "id": "bUpUsiAoewcn"
      },
      "source": [
        "import pandas as pd\n",
        "import numpy as np\n"
      ],
      "execution_count": 15,
      "outputs": []
    },
    {
      "cell_type": "code",
      "metadata": {
        "id": "WBtytQ0p7SX8"
      },
      "source": [
        "dbpedia_df = pd.read_json('data/smarttask_dbpedia_train.json')\n",
        "test_df= pd.read_json('data/smarttask_dbpedia_test.json')"
      ],
      "execution_count": 16,
      "outputs": []
    },
    {
      "cell_type": "code",
      "metadata": {
        "id": "NrElntLz7SX_",
        "colab": {
          "base_uri": "https://localhost:8080/",
          "height": 202
        },
        "outputId": "bdc906eb-efe5-49ce-accd-85d178c98613"
      },
      "source": [
        "test_df.head()"
      ],
      "execution_count": 17,
      "outputs": [
        {
          "output_type": "execute_result",
          "data": {
            "text/html": [
              "<div>\n",
              "<style scoped>\n",
              "    .dataframe tbody tr th:only-of-type {\n",
              "        vertical-align: middle;\n",
              "    }\n",
              "\n",
              "    .dataframe tbody tr th {\n",
              "        vertical-align: top;\n",
              "    }\n",
              "\n",
              "    .dataframe thead th {\n",
              "        text-align: right;\n",
              "    }\n",
              "</style>\n",
              "<table border=\"1\" class=\"dataframe\">\n",
              "  <thead>\n",
              "    <tr style=\"text-align: right;\">\n",
              "      <th></th>\n",
              "      <th>id</th>\n",
              "      <th>question</th>\n",
              "      <th>category</th>\n",
              "      <th>type</th>\n",
              "    </tr>\n",
              "  </thead>\n",
              "  <tbody>\n",
              "    <tr>\n",
              "      <th>0</th>\n",
              "      <td>dbpedia_16015</td>\n",
              "      <td>How many ingredients are in the grain} ?</td>\n",
              "      <td>literal</td>\n",
              "      <td>[number]</td>\n",
              "    </tr>\n",
              "    <tr>\n",
              "      <th>1</th>\n",
              "      <td>dbpedia_3885</td>\n",
              "      <td>Is the case fatality rate of Fournier gangrene...</td>\n",
              "      <td>boolean</td>\n",
              "      <td>[boolean]</td>\n",
              "    </tr>\n",
              "    <tr>\n",
              "      <th>2</th>\n",
              "      <td>dbpedia_12907</td>\n",
              "      <td>Does the shelf life of spinach equal 8?</td>\n",
              "      <td>boolean</td>\n",
              "      <td>[boolean]</td>\n",
              "    </tr>\n",
              "    <tr>\n",
              "      <th>3</th>\n",
              "      <td>dbpedia_7955</td>\n",
              "      <td>What sound does a pig make in the French langu...</td>\n",
              "      <td>literal</td>\n",
              "      <td>[string]</td>\n",
              "    </tr>\n",
              "    <tr>\n",
              "      <th>4</th>\n",
              "      <td>dbpedia_2376</td>\n",
              "      <td>When was Fergie completed his record label in ...</td>\n",
              "      <td>literal</td>\n",
              "      <td>[date]</td>\n",
              "    </tr>\n",
              "  </tbody>\n",
              "</table>\n",
              "</div>"
            ],
            "text/plain": [
              "              id  ...       type\n",
              "0  dbpedia_16015  ...   [number]\n",
              "1   dbpedia_3885  ...  [boolean]\n",
              "2  dbpedia_12907  ...  [boolean]\n",
              "3   dbpedia_7955  ...   [string]\n",
              "4   dbpedia_2376  ...     [date]\n",
              "\n",
              "[5 rows x 4 columns]"
            ]
          },
          "metadata": {
            "tags": []
          },
          "execution_count": 17
        }
      ]
    },
    {
      "cell_type": "code",
      "metadata": {
        "id": "hLdG-MW37SYG"
      },
      "source": [
        "answer_types = {}\n",
        "for answers in dbpedia_df.type:\n",
        "    for a in answers:\n",
        "        if a in answer_types:\n",
        "            answer_types[a]+=1\n",
        "        else:\n",
        "            answer_types[a]=1\n",
        "\n",
        "def multitype_to_freqtype(type_list):\n",
        "    for t in sorted(sorted_types, key=lambda item: item[1]):\n",
        "        if sorted_types[t] < 1000: \n",
        "          if t in type_list:\n",
        "              return t\n",
        "\n",
        "    for t in sorted(sorted_types, key=lambda item: item[1]):\n",
        "          if t in type_list:\n",
        "              return t\n",
        "    \n",
        "\n",
        "def types_to_bottom_type(type_list):\n",
        "    if len(type_list) == 0:\n",
        "      return None \n",
        "    return type_list[0]\n",
        "\n",
        "\n",
        "def types_to_top_type(type_list):\n",
        "    if len(type_list) == 0:\n",
        "      return None \n",
        "    return type_list[-1]\n",
        "            \n",
        "answ_df =pd.DataFrame.from_dict(answer_types, orient='index', columns=['Freq'])\n",
        "sorted_types = answ_df.sort_values(by='Freq', ascending=False).to_dict()['Freq']\n",
        "\n",
        "dbpedia_df['frequent_type'] =dbpedia_df.type.apply(multitype_to_freqtype)\n",
        "dbpedia_df['bottom_level_type'] =dbpedia_df.type.apply(types_to_bottom_type)\n",
        "dbpedia_df['top_level_type'] =dbpedia_df.type.apply(types_to_top_type)"
      ],
      "execution_count": 18,
      "outputs": []
    },
    {
      "cell_type": "code",
      "metadata": {
        "id": "utEHYyTHOpt4"
      },
      "source": [
        "test_df['frequent_type'] =test_df.type.apply(multitype_to_freqtype)\n",
        "test_df['bottom_level_type'] =test_df.type.apply(types_to_bottom_type)\n",
        "test_df['top_level_type'] =test_df.type.apply(types_to_top_type)"
      ],
      "execution_count": 19,
      "outputs": []
    },
    {
      "cell_type": "code",
      "metadata": {
        "id": "WHTb6lB-GAsQ"
      },
      "source": [
        "dbpedia_df= dbpedia_df[dbpedia_df.category.notna()]\n",
        "test_df= test_df[test_df.category.notna()]"
      ],
      "execution_count": 20,
      "outputs": []
    },
    {
      "cell_type": "code",
      "metadata": {
        "id": "BWVt2DP27SYU"
      },
      "source": [
        "dbpedia_df= dbpedia_df[dbpedia_df['frequent_type'].notna()]\n",
        "test_df= test_df[test_df['frequent_type'].notna()]"
      ],
      "execution_count": 21,
      "outputs": []
    },
    {
      "cell_type": "code",
      "metadata": {
        "id": "PPP6ZtYLhnH3"
      },
      "source": [
        "dbpedia_df.dropna( subset=['question'], inplace=True)\n",
        "test_df.dropna( subset=['question'], inplace=True)"
      ],
      "execution_count": 22,
      "outputs": []
    },
    {
      "cell_type": "code",
      "metadata": {
        "id": "Z02pWhSPgSGj",
        "colab": {
          "base_uri": "https://localhost:8080/",
          "height": 479
        },
        "outputId": "da3737a6-a12c-4c81-b550-a419e2337cc7"
      },
      "source": [
        "dbpedia_df.head()"
      ],
      "execution_count": 23,
      "outputs": [
        {
          "output_type": "execute_result",
          "data": {
            "text/html": [
              "<div>\n",
              "<style scoped>\n",
              "    .dataframe tbody tr th:only-of-type {\n",
              "        vertical-align: middle;\n",
              "    }\n",
              "\n",
              "    .dataframe tbody tr th {\n",
              "        vertical-align: top;\n",
              "    }\n",
              "\n",
              "    .dataframe thead th {\n",
              "        text-align: right;\n",
              "    }\n",
              "</style>\n",
              "<table border=\"1\" class=\"dataframe\">\n",
              "  <thead>\n",
              "    <tr style=\"text-align: right;\">\n",
              "      <th></th>\n",
              "      <th>id</th>\n",
              "      <th>question</th>\n",
              "      <th>category</th>\n",
              "      <th>type</th>\n",
              "      <th>frequent_type</th>\n",
              "      <th>bottom_level_type</th>\n",
              "      <th>top_level_type</th>\n",
              "    </tr>\n",
              "  </thead>\n",
              "  <tbody>\n",
              "    <tr>\n",
              "      <th>0</th>\n",
              "      <td>dbpedia_1177</td>\n",
              "      <td>Was Jacqueline Kennedy Onassis a follower of M...</td>\n",
              "      <td>boolean</td>\n",
              "      <td>[boolean]</td>\n",
              "      <td>boolean</td>\n",
              "      <td>boolean</td>\n",
              "      <td>boolean</td>\n",
              "    </tr>\n",
              "    <tr>\n",
              "      <th>1</th>\n",
              "      <td>dbpedia_14427</td>\n",
              "      <td>What is the name of the opera based on Twelfth...</td>\n",
              "      <td>resource</td>\n",
              "      <td>[dbo:Opera, dbo:MusicalWork, dbo:Work]</td>\n",
              "      <td>dbo:Work</td>\n",
              "      <td>dbo:Opera</td>\n",
              "      <td>dbo:Work</td>\n",
              "    </tr>\n",
              "    <tr>\n",
              "      <th>2</th>\n",
              "      <td>dbpedia_16615</td>\n",
              "      <td>When did Lena Horne receive the Grammy Award f...</td>\n",
              "      <td>literal</td>\n",
              "      <td>[date]</td>\n",
              "      <td>date</td>\n",
              "      <td>date</td>\n",
              "      <td>date</td>\n",
              "    </tr>\n",
              "    <tr>\n",
              "      <th>3</th>\n",
              "      <td>dbpedia_23480</td>\n",
              "      <td>Do Prince Harry and Prince William have the sa...</td>\n",
              "      <td>boolean</td>\n",
              "      <td>[boolean]</td>\n",
              "      <td>boolean</td>\n",
              "      <td>boolean</td>\n",
              "      <td>boolean</td>\n",
              "    </tr>\n",
              "    <tr>\n",
              "      <th>4</th>\n",
              "      <td>dbpedia_3681</td>\n",
              "      <td>What is the subsidiary company working for Leo...</td>\n",
              "      <td>resource</td>\n",
              "      <td>[dbo:EducationalInstitution, dbo:Organisation,...</td>\n",
              "      <td>dbo:EducationalInstitution</td>\n",
              "      <td>dbo:EducationalInstitution</td>\n",
              "      <td>dbo:Agent</td>\n",
              "    </tr>\n",
              "  </tbody>\n",
              "</table>\n",
              "</div>"
            ],
            "text/plain": [
              "              id  ... top_level_type\n",
              "0   dbpedia_1177  ...        boolean\n",
              "1  dbpedia_14427  ...       dbo:Work\n",
              "2  dbpedia_16615  ...           date\n",
              "3  dbpedia_23480  ...        boolean\n",
              "4   dbpedia_3681  ...      dbo:Agent\n",
              "\n",
              "[5 rows x 7 columns]"
            ]
          },
          "metadata": {
            "tags": []
          },
          "execution_count": 23
        }
      ]
    },
    {
      "cell_type": "code",
      "metadata": {
        "id": "mvoXvf7EEo5M"
      },
      "source": [
        "def extend_cat(row):\n",
        "  if row['category'] =='boolean':\n",
        "    return row['category']\n",
        "  elif row['category'] == 'literal':\n",
        "    return row['frequent_type']\n",
        "  else:\n",
        "    return row['category']\n"
      ],
      "execution_count": 24,
      "outputs": []
    },
    {
      "cell_type": "code",
      "metadata": {
        "id": "TYQgLu0Oew84"
      },
      "source": [
        "dbpedia_df['extended_cat'] = dbpedia_df.apply(extend_cat, axis=1)"
      ],
      "execution_count": 25,
      "outputs": []
    },
    {
      "cell_type": "code",
      "metadata": {
        "id": "btjxmoY2IIB7",
        "colab": {
          "base_uri": "https://localhost:8080/"
        },
        "outputId": "0f13b7a4-3c9f-490c-ea43-bd61146f3c67"
      },
      "source": [
        "VALIDATION_SPLIT = 0.2\n",
        "indicies = np.arange(dbpedia_df.shape[0])\n",
        "np.random.shuffle(indicies)\n",
        "num_valid_samples = int(VALIDATION_SPLIT * dbpedia_df.shape[0])\n",
        "num_valid_samples"
      ],
      "execution_count": 26,
      "outputs": [
        {
          "output_type": "execute_result",
          "data": {
            "text/plain": [
              "3502"
            ]
          },
          "metadata": {
            "tags": []
          },
          "execution_count": 26
        }
      ]
    },
    {
      "cell_type": "code",
      "metadata": {
        "id": "ZDrkSlAx7SYg"
      },
      "source": [
        "num_test_samples=  int(num_valid_samples/2)"
      ],
      "execution_count": 27,
      "outputs": []
    },
    {
      "cell_type": "code",
      "metadata": {
        "id": "YAYxMSbLI-au"
      },
      "source": [
        "dbpedia_df=dbpedia_df.iloc[indicies]"
      ],
      "execution_count": 28,
      "outputs": []
    },
    {
      "cell_type": "code",
      "metadata": {
        "id": "cUbcdtQoIWPv",
        "colab": {
          "base_uri": "https://localhost:8080/",
          "height": 517
        },
        "outputId": "d67ea649-aedb-45d5-91c9-d717f22736bf"
      },
      "source": [
        "train_df= dbpedia_df[:-num_valid_samples]\n",
        "train_df.head()"
      ],
      "execution_count": 29,
      "outputs": [
        {
          "output_type": "execute_result",
          "data": {
            "text/html": [
              "<div>\n",
              "<style scoped>\n",
              "    .dataframe tbody tr th:only-of-type {\n",
              "        vertical-align: middle;\n",
              "    }\n",
              "\n",
              "    .dataframe tbody tr th {\n",
              "        vertical-align: top;\n",
              "    }\n",
              "\n",
              "    .dataframe thead th {\n",
              "        text-align: right;\n",
              "    }\n",
              "</style>\n",
              "<table border=\"1\" class=\"dataframe\">\n",
              "  <thead>\n",
              "    <tr style=\"text-align: right;\">\n",
              "      <th></th>\n",
              "      <th>id</th>\n",
              "      <th>question</th>\n",
              "      <th>category</th>\n",
              "      <th>type</th>\n",
              "      <th>frequent_type</th>\n",
              "      <th>bottom_level_type</th>\n",
              "      <th>top_level_type</th>\n",
              "      <th>extended_cat</th>\n",
              "    </tr>\n",
              "  </thead>\n",
              "  <tbody>\n",
              "    <tr>\n",
              "      <th>10349</th>\n",
              "      <td>dbpedia_1919</td>\n",
              "      <td>Who received Steiger Award together with Wladi...</td>\n",
              "      <td>resource</td>\n",
              "      <td>[dbo:Person, dbo:Agent]</td>\n",
              "      <td>dbo:Agent</td>\n",
              "      <td>dbo:Person</td>\n",
              "      <td>dbo:Agent</td>\n",
              "      <td>resource</td>\n",
              "    </tr>\n",
              "    <tr>\n",
              "      <th>4931</th>\n",
              "      <td>dbpedia_18703</td>\n",
              "      <td>Which river originates from Cape Vincent and K...</td>\n",
              "      <td>resource</td>\n",
              "      <td>[dbo:River, dbo:Stream, dbo:BodyOfWater, dbo:N...</td>\n",
              "      <td>dbo:NaturalPlace</td>\n",
              "      <td>dbo:River</td>\n",
              "      <td>dbo:Location</td>\n",
              "      <td>resource</td>\n",
              "    </tr>\n",
              "    <tr>\n",
              "      <th>15996</th>\n",
              "      <td>dbpedia_2663</td>\n",
              "      <td>How many creators are with the Pokémon?</td>\n",
              "      <td>literal</td>\n",
              "      <td>[number]</td>\n",
              "      <td>number</td>\n",
              "      <td>number</td>\n",
              "      <td>number</td>\n",
              "      <td>number</td>\n",
              "    </tr>\n",
              "    <tr>\n",
              "      <th>15866</th>\n",
              "      <td>dbpedia_5579</td>\n",
              "      <td>What is the Filmweb.pl film ID of Mr. Smith go...</td>\n",
              "      <td>literal</td>\n",
              "      <td>[string]</td>\n",
              "      <td>string</td>\n",
              "      <td>string</td>\n",
              "      <td>string</td>\n",
              "      <td>string</td>\n",
              "    </tr>\n",
              "    <tr>\n",
              "      <th>15432</th>\n",
              "      <td>dbpedia_20916</td>\n",
              "      <td>Who is the office holder for constituencies  C...</td>\n",
              "      <td>resource</td>\n",
              "      <td>[dbo:OfficeHolder, dbo:Person, dbo:Agent]</td>\n",
              "      <td>dbo:OfficeHolder</td>\n",
              "      <td>dbo:OfficeHolder</td>\n",
              "      <td>dbo:Agent</td>\n",
              "      <td>resource</td>\n",
              "    </tr>\n",
              "  </tbody>\n",
              "</table>\n",
              "</div>"
            ],
            "text/plain": [
              "                  id  ... extended_cat\n",
              "10349   dbpedia_1919  ...     resource\n",
              "4931   dbpedia_18703  ...     resource\n",
              "15996   dbpedia_2663  ...       number\n",
              "15866   dbpedia_5579  ...       string\n",
              "15432  dbpedia_20916  ...     resource\n",
              "\n",
              "[5 rows x 8 columns]"
            ]
          },
          "metadata": {
            "tags": []
          },
          "execution_count": 29
        }
      ]
    },
    {
      "cell_type": "code",
      "metadata": {
        "id": "jH_U7DpbJL_R",
        "colab": {
          "base_uri": "https://localhost:8080/",
          "height": 638
        },
        "outputId": "e8dd52e9-8aa6-4ce7-92dd-b7afad6c0a0e"
      },
      "source": [
        "valid_df= dbpedia_df[-num_valid_samples:]\n",
        "valid_df.head()"
      ],
      "execution_count": 30,
      "outputs": [
        {
          "output_type": "execute_result",
          "data": {
            "text/html": [
              "<div>\n",
              "<style scoped>\n",
              "    .dataframe tbody tr th:only-of-type {\n",
              "        vertical-align: middle;\n",
              "    }\n",
              "\n",
              "    .dataframe tbody tr th {\n",
              "        vertical-align: top;\n",
              "    }\n",
              "\n",
              "    .dataframe thead th {\n",
              "        text-align: right;\n",
              "    }\n",
              "</style>\n",
              "<table border=\"1\" class=\"dataframe\">\n",
              "  <thead>\n",
              "    <tr style=\"text-align: right;\">\n",
              "      <th></th>\n",
              "      <th>id</th>\n",
              "      <th>question</th>\n",
              "      <th>category</th>\n",
              "      <th>type</th>\n",
              "      <th>frequent_type</th>\n",
              "      <th>bottom_level_type</th>\n",
              "      <th>top_level_type</th>\n",
              "      <th>extended_cat</th>\n",
              "    </tr>\n",
              "  </thead>\n",
              "  <tbody>\n",
              "    <tr>\n",
              "      <th>8121</th>\n",
              "      <td>dbpedia_11151</td>\n",
              "      <td>Tell me religious behaviour whose name has the...</td>\n",
              "      <td>resource</td>\n",
              "      <td>[dbo:Activity]</td>\n",
              "      <td>dbo:Activity</td>\n",
              "      <td>dbo:Activity</td>\n",
              "      <td>dbo:Activity</td>\n",
              "      <td>resource</td>\n",
              "    </tr>\n",
              "    <tr>\n",
              "      <th>6353</th>\n",
              "      <td>dbpedia_4311</td>\n",
              "      <td>what party does mauricio marci like</td>\n",
              "      <td>resource</td>\n",
              "      <td>[dbo:PoliticalParty, dbo:Organisation, dbo:Agent]</td>\n",
              "      <td>dbo:PoliticalParty</td>\n",
              "      <td>dbo:PoliticalParty</td>\n",
              "      <td>dbo:Agent</td>\n",
              "      <td>resource</td>\n",
              "    </tr>\n",
              "    <tr>\n",
              "      <th>3307</th>\n",
              "      <td>dbpedia_20116</td>\n",
              "      <td>Which party of Rishang Keishing is the leader ...</td>\n",
              "      <td>resource</td>\n",
              "      <td>[dbo:PoliticalParty]</td>\n",
              "      <td>dbo:PoliticalParty</td>\n",
              "      <td>dbo:PoliticalParty</td>\n",
              "      <td>dbo:PoliticalParty</td>\n",
              "      <td>resource</td>\n",
              "    </tr>\n",
              "    <tr>\n",
              "      <th>264</th>\n",
              "      <td>dbpedia_19932</td>\n",
              "      <td>Which school of jack mcGregor attend which was...</td>\n",
              "      <td>resource</td>\n",
              "      <td>[dbo:University, dbo:EducationalInstitution, d...</td>\n",
              "      <td>dbo:EducationalInstitution</td>\n",
              "      <td>dbo:University</td>\n",
              "      <td>dbo:Agent</td>\n",
              "      <td>resource</td>\n",
              "    </tr>\n",
              "    <tr>\n",
              "      <th>12897</th>\n",
              "      <td>dbpedia_2616</td>\n",
              "      <td>What is Moscow State University's elibrary.ru ...</td>\n",
              "      <td>literal</td>\n",
              "      <td>[string]</td>\n",
              "      <td>string</td>\n",
              "      <td>string</td>\n",
              "      <td>string</td>\n",
              "      <td>string</td>\n",
              "    </tr>\n",
              "  </tbody>\n",
              "</table>\n",
              "</div>"
            ],
            "text/plain": [
              "                  id  ... extended_cat\n",
              "8121   dbpedia_11151  ...     resource\n",
              "6353    dbpedia_4311  ...     resource\n",
              "3307   dbpedia_20116  ...     resource\n",
              "264    dbpedia_19932  ...     resource\n",
              "12897   dbpedia_2616  ...       string\n",
              "\n",
              "[5 rows x 8 columns]"
            ]
          },
          "metadata": {
            "tags": []
          },
          "execution_count": 30
        }
      ]
    },
    {
      "cell_type": "code",
      "metadata": {
        "id": "oVbH4yCZ7SYp",
        "colab": {
          "base_uri": "https://localhost:8080/"
        },
        "outputId": "0bc776c6-df33-4f1d-ea50-9ee3a2104313"
      },
      "source": [
        "len(valid_df)"
      ],
      "execution_count": 31,
      "outputs": [
        {
          "output_type": "execute_result",
          "data": {
            "text/plain": [
              "3502"
            ]
          },
          "metadata": {
            "tags": []
          },
          "execution_count": 31
        }
      ]
    },
    {
      "cell_type": "code",
      "metadata": {
        "id": "t-mlCnDjtjFV"
      },
      "source": [
        "valid_df.to_csv('/content/drive/My Drive/fastai-v3/data/smarttask/dbpedia_valid_gold.csv', index=False)"
      ],
      "execution_count": 32,
      "outputs": []
    },
    {
      "cell_type": "code",
      "metadata": {
        "id": "S7io8zkd7SYr"
      },
      "source": [
        "#test_df= dbpedia_df[-num_test_samples:]\n",
        "#test_df.head()"
      ],
      "execution_count": 33,
      "outputs": []
    },
    {
      "cell_type": "code",
      "metadata": {
        "id": "k-7EDQfKLSjC",
        "colab": {
          "base_uri": "https://localhost:8080/"
        },
        "outputId": "be027bcb-08bd-4316-facd-3dd04f657d05"
      },
      "source": [
        "len(valid_df)"
      ],
      "execution_count": 34,
      "outputs": [
        {
          "output_type": "execute_result",
          "data": {
            "text/plain": [
              "3502"
            ]
          },
          "metadata": {
            "tags": []
          },
          "execution_count": 34
        }
      ]
    },
    {
      "cell_type": "markdown",
      "metadata": {
        "id": "8U7DFEHU0Z5t"
      },
      "source": [
        "## LSTM"
      ]
    },
    {
      "cell_type": "markdown",
      "metadata": {
        "id": "-2iYXi-k7SZX"
      },
      "source": [
        "## Most frequent/generic type prediction"
      ]
    },
    {
      "cell_type": "code",
      "metadata": {
        "id": "Y9xb3DjmqszD"
      },
      "source": [
        "target = 'top_level_type'"
      ],
      "execution_count": 40,
      "outputs": []
    },
    {
      "cell_type": "code",
      "metadata": {
        "id": "DRPVfHb87SZa",
        "colab": {
          "base_uri": "https://localhost:8080/"
        },
        "outputId": "7b448036-f4ae-45e3-8177-4386185da90f"
      },
      "source": [
        "len(dbpedia_df[target].unique())"
      ],
      "execution_count": 41,
      "outputs": [
        {
          "output_type": "execute_result",
          "data": {
            "text/plain": [
              "47"
            ]
          },
          "metadata": {
            "tags": []
          },
          "execution_count": 41
        }
      ]
    },
    {
      "cell_type": "code",
      "metadata": {
        "id": "bgHEuW4yD6tZ"
      },
      "source": [
        "train_res_df= train_df[train_df.category =='resource']\n",
        "valid_res_df= valid_df[valid_df.category =='resource']"
      ],
      "execution_count": 42,
      "outputs": []
    },
    {
      "cell_type": "code",
      "metadata": {
        "id": "Gi1kRUIyEKre",
        "colab": {
          "base_uri": "https://localhost:8080/"
        },
        "outputId": "5e1f9531-ff70-428d-ffe3-bb3504b93874"
      },
      "source": [
        "len(train_res_df), len(valid_res_df)"
      ],
      "execution_count": 43,
      "outputs": [
        {
          "output_type": "execute_result",
          "data": {
            "text/plain": [
              "(7662, 1895)"
            ]
          },
          "metadata": {
            "tags": []
          },
          "execution_count": 43
        }
      ]
    },
    {
      "cell_type": "code",
      "metadata": {
        "id": "YVgGnGFsTdbm"
      },
      "source": [
        "type_hierarchy = {}\n",
        "to_upper_class = {}\n",
        "for i, row in dbpedia_df.type.iteritems():\n",
        "    #print (row)\n",
        "    types= list(row)\n",
        "    for i in range(len(types)-1):\n",
        "      parent = types[i]\n",
        "      child = types[i+1]\n",
        "      #print (parent, child) \n",
        "      if parent not in type_hierarchy:\n",
        "          type_hierarchy[parent] = [child]\n",
        "      else:\n",
        "          type_hierarchy[parent].append(child)\n",
        "          \n",
        "      if child not in to_upper_class:\n",
        "          to_upper_class[child] = parent"
      ],
      "execution_count": 44,
      "outputs": []
    },
    {
      "cell_type": "code",
      "metadata": {
        "id": "4Rlq1IJ6TSBU"
      },
      "source": [
        "def to_super_class(specific_type, type_with_less_freq):\n",
        "    if specific_type in type_with_less_freq:\n",
        "        if specific_type in to_upper_class:\n",
        "            #if to_upper_class[specific_type] == 'owl:Thing':\n",
        "            #   return specific_type\n",
        "            return to_upper_class[specific_type]\n",
        "    return specific_type\n",
        "\n",
        "def to_sub_class(specific_type, type_with_less_freq):\n",
        "    if specific_type in type_with_less_freq:\n",
        "        if specific_type in to_upper_class:\n",
        "            #if to_upper_class[specific_type] == 'owl:Thing':\n",
        "            #   return specific_type\n",
        "            return type_hierarchy[parent]\n",
        "    return specific_type\n",
        "\n",
        "def choose_freqent_types_balancing(specific_type, iters, min_freq):\n",
        "    for i in range(iters):\n",
        "        specific_type_freq = specific_type.value_counts()\n",
        "        type_with_less_freq = list(specific_type_freq[specific_type_freq < min_freq].keys())\n",
        "        specific_type = specific_type.apply(lambda x: to_super_class(x, type_with_less_freq) )\n",
        "    return specific_type\n",
        "\n",
        "def balance_types(specific_type, min_freq, max_freq):\n",
        "    # slipt to super-classes if number of \n",
        "    \n",
        "    specific_type_freq = specific_type.value_counts()\n",
        "    max_freq =  specific_type_freq.sum() * 2  / len(specific_type_freq)\n",
        "    type_with_most_freq = list(specific_type_freq[specific_type_freq > max_freq].keys())\n",
        "    type_with_less_freq = list(specific_type_freq[specific_type_freq < min_freq].keys())\n",
        "    \n",
        "    specific_type = specific_type.apply(lambda x: to_super_class(x, type_with_less_freq) )\n",
        "\n",
        "\n",
        "def choose_freqent_types_balancing(specific_type, iters, min_freq):\n",
        "    for i in range(iters):\n",
        "        specific_type_freq = specific_type.value_counts()\n",
        "        type_with_less_freq = list(specific_type_freq[specific_type_freq < min_freq].keys())\n",
        "        specific_type = specific_type.apply(lambda x: to_super_class(x, type_with_less_freq) )\n",
        "    return specific_type  "
      ],
      "execution_count": 45,
      "outputs": []
    },
    {
      "cell_type": "code",
      "metadata": {
        "id": "O70gxDq8TnK6"
      },
      "source": [
        "#train_res_df['frequent_type'] =choose_freqent_types_balancing(train_res_df['frequent_type'], 50, 200)"
      ],
      "execution_count": 46,
      "outputs": []
    },
    {
      "cell_type": "markdown",
      "metadata": {
        "id": "q7GCgnYEO4OA"
      },
      "source": [
        "## FastAI Text Classfier"
      ]
    },
    {
      "cell_type": "code",
      "metadata": {
        "id": "Jsn5U5kerexW"
      },
      "source": [
        "np.warnings.filterwarnings('ignore', category=np.VisibleDeprecationWarning) "
      ],
      "execution_count": 52,
      "outputs": []
    },
    {
      "cell_type": "code",
      "metadata": {
        "id": "_-xwkZjm7SZd",
        "colab": {
          "base_uri": "https://localhost:8080/",
          "height": 124
        },
        "outputId": "0f6cdb23-817e-4ff0-c5c6-bce02df48235"
      },
      "source": [
        "#types = list(dbpedia_df.single_type.unique())\n",
        "types = list(dbpedia_df[target].unique())\n",
        "data_cls = TextDataBunch.from_df('tmp', train_df=train_res_df,  valid_df=valid_res_df, text_cols=['question'], label_cols=[target], classes=types)"
      ],
      "execution_count": 47,
      "outputs": [
        {
          "output_type": "display_data",
          "data": {
            "text/html": [
              ""
            ],
            "text/plain": [
              "<IPython.core.display.HTML object>"
            ]
          },
          "metadata": {
            "tags": []
          }
        },
        {
          "output_type": "stream",
          "text": [
            "/usr/local/lib/python3.6/dist-packages/fastai/core.py:302: VisibleDeprecationWarning: Creating an ndarray from ragged nested sequences (which is a list-or-tuple of lists-or-tuples-or ndarrays with different lengths or shapes) is deprecated. If you meant to do this, you must specify 'dtype=object' when creating the ndarray\n",
            "  return np.array(a, dtype=dtype, **kwargs)\n"
          ],
          "name": "stderr"
        },
        {
          "output_type": "display_data",
          "data": {
            "text/html": [
              ""
            ],
            "text/plain": [
              "<IPython.core.display.HTML object>"
            ]
          },
          "metadata": {
            "tags": []
          }
        },
        {
          "output_type": "stream",
          "text": [
            "/usr/local/lib/python3.6/dist-packages/numpy/core/_asarray.py:83: VisibleDeprecationWarning: Creating an ndarray from ragged nested sequences (which is a list-or-tuple of lists-or-tuples-or ndarrays with different lengths or shapes) is deprecated. If you meant to do this, you must specify 'dtype=object' when creating the ndarray\n",
            "  return array(a, dtype, copy=False, order=order)\n",
            "<string>:6: VisibleDeprecationWarning: Creating an ndarray from ragged nested sequences (which is a list-or-tuple of lists-or-tuples-or ndarrays with different lengths or shapes) is deprecated. If you meant to do this, you must specify 'dtype=object' when creating the ndarray\n"
          ],
          "name": "stderr"
        }
      ]
    },
    {
      "cell_type": "code",
      "metadata": {
        "id": "su-ztxWU7SZg",
        "colab": {
          "base_uri": "https://localhost:8080/",
          "height": 201
        },
        "outputId": "e2d5dbba-c3c4-4780-dd97-74c1b7e50585"
      },
      "source": [
        "cls2 = text_classifier_learner(data_cls, AWD_LSTM, bptt=10)\n",
        "cls2.lr_find()\n"
      ],
      "execution_count": 48,
      "outputs": [
        {
          "output_type": "stream",
          "text": [
            "Downloading https://s3.amazonaws.com/fast-ai-modelzoo/wt103-fwd.tgz\n"
          ],
          "name": "stdout"
        },
        {
          "output_type": "display_data",
          "data": {
            "text/html": [
              ""
            ],
            "text/plain": [
              "<IPython.core.display.HTML object>"
            ]
          },
          "metadata": {
            "tags": []
          }
        },
        {
          "output_type": "display_data",
          "data": {
            "text/html": [
              "\n",
              "    <div>\n",
              "        <style>\n",
              "            /* Turns off some styling */\n",
              "            progress {\n",
              "                /* gets rid of default border in Firefox and Opera. */\n",
              "                border: none;\n",
              "                /* Needs to be in here for Safari polyfill so background images work as expected. */\n",
              "                background-size: auto;\n",
              "            }\n",
              "            .progress-bar-interrupted, .progress-bar-interrupted::-webkit-progress-bar {\n",
              "                background: #F44336;\n",
              "            }\n",
              "        </style>\n",
              "      <progress value='0' class='' max='1' style='width:300px; height:20px; vertical-align: middle;'></progress>\n",
              "      0.00% [0/1 00:00<00:00]\n",
              "    </div>\n",
              "    \n",
              "<table border=\"1\" class=\"dataframe\">\n",
              "  <thead>\n",
              "    <tr style=\"text-align: left;\">\n",
              "      <th>epoch</th>\n",
              "      <th>train_loss</th>\n",
              "      <th>valid_loss</th>\n",
              "      <th>accuracy</th>\n",
              "      <th>time</th>\n",
              "    </tr>\n",
              "  </thead>\n",
              "  <tbody>\n",
              "  </tbody>\n",
              "</table><p>\n",
              "\n",
              "    <div>\n",
              "        <style>\n",
              "            /* Turns off some styling */\n",
              "            progress {\n",
              "                /* gets rid of default border in Firefox and Opera. */\n",
              "                border: none;\n",
              "                /* Needs to be in here for Safari polyfill so background images work as expected. */\n",
              "                background-size: auto;\n",
              "            }\n",
              "            .progress-bar-interrupted, .progress-bar-interrupted::-webkit-progress-bar {\n",
              "                background: #F44336;\n",
              "            }\n",
              "        </style>\n",
              "      <progress value='94' class='' max='119' style='width:300px; height:20px; vertical-align: middle;'></progress>\n",
              "      78.99% [94/119 00:02<00:00 6.1919]\n",
              "    </div>\n",
              "    "
            ],
            "text/plain": [
              "<IPython.core.display.HTML object>"
            ]
          },
          "metadata": {
            "tags": []
          }
        },
        {
          "output_type": "stream",
          "text": [
            "/usr/local/lib/python3.6/dist-packages/numpy/core/_asarray.py:83: VisibleDeprecationWarning: Creating an ndarray from ragged nested sequences (which is a list-or-tuple of lists-or-tuples-or ndarrays with different lengths or shapes) is deprecated. If you meant to do this, you must specify 'dtype=object' when creating the ndarray\n",
            "  return array(a, dtype, copy=False, order=order)\n",
            "<string>:6: VisibleDeprecationWarning: Creating an ndarray from ragged nested sequences (which is a list-or-tuple of lists-or-tuples-or ndarrays with different lengths or shapes) is deprecated. If you meant to do this, you must specify 'dtype=object' when creating the ndarray\n"
          ],
          "name": "stderr"
        },
        {
          "output_type": "stream",
          "text": [
            "LR Finder is complete, type {learner_name}.recorder.plot() to see the graph.\n"
          ],
          "name": "stdout"
        }
      ]
    },
    {
      "cell_type": "code",
      "metadata": {
        "id": "oBIqLy0I7SZi",
        "colab": {
          "base_uri": "https://localhost:8080/",
          "height": 279
        },
        "outputId": "f3ca5ff7-ccb2-46f8-e5a6-25186e2caf24"
      },
      "source": [
        "cls2.recorder.plot()"
      ],
      "execution_count": 49,
      "outputs": [
        {
          "output_type": "display_data",
          "data": {
            "image/png": "[encoded data removed]",
            "text/plain": [
              "<Figure size 432x288 with 1 Axes>"
            ]
          },
          "metadata": {
            "tags": [],
            "needs_background": "light"
          }
        }
      ]
    },
    {
      "cell_type": "code",
      "metadata": {
        "id": "OV8K9S8R7SZl",
        "colab": {
          "base_uri": "https://localhost:8080/",
          "height": 317
        },
        "outputId": "aba35c0f-5ec5-427e-9a17-487ce070c52b"
      },
      "source": [
        "cls2.fit_one_cycle(3, 1e-1, moms=(0.8,0.7))\n",
        "#cls2.save('dbpedia_type_fit_head')"
      ],
      "execution_count": 50,
      "outputs": [
        {
          "output_type": "display_data",
          "data": {
            "text/html": [
              "<table border=\"1\" class=\"dataframe\">\n",
              "  <thead>\n",
              "    <tr style=\"text-align: left;\">\n",
              "      <th>epoch</th>\n",
              "      <th>train_loss</th>\n",
              "      <th>valid_loss</th>\n",
              "      <th>accuracy</th>\n",
              "      <th>time</th>\n",
              "    </tr>\n",
              "  </thead>\n",
              "  <tbody>\n",
              "    <tr>\n",
              "      <td>0</td>\n",
              "      <td>2.123792</td>\n",
              "      <td>2.082549</td>\n",
              "      <td>0.431662</td>\n",
              "      <td>00:03</td>\n",
              "    </tr>\n",
              "    <tr>\n",
              "      <td>1</td>\n",
              "      <td>1.978827</td>\n",
              "      <td>1.962936</td>\n",
              "      <td>0.435884</td>\n",
              "      <td>00:03</td>\n",
              "    </tr>\n",
              "    <tr>\n",
              "      <td>2</td>\n",
              "      <td>1.955532</td>\n",
              "      <td>1.933031</td>\n",
              "      <td>0.435884</td>\n",
              "      <td>00:03</td>\n",
              "    </tr>\n",
              "  </tbody>\n",
              "</table>"
            ],
            "text/plain": [
              "<IPython.core.display.HTML object>"
            ]
          },
          "metadata": {
            "tags": []
          }
        },
        {
          "output_type": "stream",
          "text": [
            "/usr/local/lib/python3.6/dist-packages/numpy/core/_asarray.py:83: VisibleDeprecationWarning: Creating an ndarray from ragged nested sequences (which is a list-or-tuple of lists-or-tuples-or ndarrays with different lengths or shapes) is deprecated. If you meant to do this, you must specify 'dtype=object' when creating the ndarray\n",
            "  return array(a, dtype, copy=False, order=order)\n",
            "<string>:6: VisibleDeprecationWarning: Creating an ndarray from ragged nested sequences (which is a list-or-tuple of lists-or-tuples-or ndarrays with different lengths or shapes) is deprecated. If you meant to do this, you must specify 'dtype=object' when creating the ndarray\n",
            "/usr/local/lib/python3.6/dist-packages/numpy/core/_asarray.py:83: VisibleDeprecationWarning: Creating an ndarray from ragged nested sequences (which is a list-or-tuple of lists-or-tuples-or ndarrays with different lengths or shapes) is deprecated. If you meant to do this, you must specify 'dtype=object' when creating the ndarray\n",
            "  return array(a, dtype, copy=False, order=order)\n",
            "<string>:6: VisibleDeprecationWarning: Creating an ndarray from ragged nested sequences (which is a list-or-tuple of lists-or-tuples-or ndarrays with different lengths or shapes) is deprecated. If you meant to do this, you must specify 'dtype=object' when creating the ndarray\n",
            "/usr/local/lib/python3.6/dist-packages/numpy/core/_asarray.py:83: VisibleDeprecationWarning: Creating an ndarray from ragged nested sequences (which is a list-or-tuple of lists-or-tuples-or ndarrays with different lengths or shapes) is deprecated. If you meant to do this, you must specify 'dtype=object' when creating the ndarray\n",
            "  return array(a, dtype, copy=False, order=order)\n",
            "<string>:6: VisibleDeprecationWarning: Creating an ndarray from ragged nested sequences (which is a list-or-tuple of lists-or-tuples-or ndarrays with different lengths or shapes) is deprecated. If you meant to do this, you must specify 'dtype=object' when creating the ndarray\n"
          ],
          "name": "stderr"
        }
      ]
    },
    {
      "cell_type": "code",
      "metadata": {
        "id": "jjtoH53K7SZm",
        "colab": {
          "base_uri": "https://localhost:8080/",
          "height": 895
        },
        "outputId": "eb51370d-7122-441c-bad5-efc1e65c2d7e"
      },
      "source": [
        "#cls2.load('dbpedia_type_fit_head')\n",
        "cls2.unfreeze()\n",
        "cls2.fit_one_cycle(10, 1e-2, moms=(0.8,0.7))"
      ],
      "execution_count": 51,
      "outputs": [
        {
          "output_type": "display_data",
          "data": {
            "text/html": [
              "<table border=\"1\" class=\"dataframe\">\n",
              "  <thead>\n",
              "    <tr style=\"text-align: left;\">\n",
              "      <th>epoch</th>\n",
              "      <th>train_loss</th>\n",
              "      <th>valid_loss</th>\n",
              "      <th>accuracy</th>\n",
              "      <th>time</th>\n",
              "    </tr>\n",
              "  </thead>\n",
              "  <tbody>\n",
              "    <tr>\n",
              "      <td>0</td>\n",
              "      <td>1.789489</td>\n",
              "      <td>1.729295</td>\n",
              "      <td>0.536148</td>\n",
              "      <td>00:08</td>\n",
              "    </tr>\n",
              "    <tr>\n",
              "      <td>1</td>\n",
              "      <td>1.510096</td>\n",
              "      <td>1.671385</td>\n",
              "      <td>0.572032</td>\n",
              "      <td>00:08</td>\n",
              "    </tr>\n",
              "    <tr>\n",
              "      <td>2</td>\n",
              "      <td>1.313699</td>\n",
              "      <td>2.162984</td>\n",
              "      <td>0.621108</td>\n",
              "      <td>00:09</td>\n",
              "    </tr>\n",
              "    <tr>\n",
              "      <td>3</td>\n",
              "      <td>1.160125</td>\n",
              "      <td>1.276337</td>\n",
              "      <td>0.679683</td>\n",
              "      <td>00:08</td>\n",
              "    </tr>\n",
              "    <tr>\n",
              "      <td>4</td>\n",
              "      <td>0.999000</td>\n",
              "      <td>1.161136</td>\n",
              "      <td>0.707652</td>\n",
              "      <td>00:09</td>\n",
              "    </tr>\n",
              "    <tr>\n",
              "      <td>5</td>\n",
              "      <td>0.918735</td>\n",
              "      <td>2.541431</td>\n",
              "      <td>0.720317</td>\n",
              "      <td>00:08</td>\n",
              "    </tr>\n",
              "    <tr>\n",
              "      <td>6</td>\n",
              "      <td>0.821879</td>\n",
              "      <td>1.135240</td>\n",
              "      <td>0.731398</td>\n",
              "      <td>00:09</td>\n",
              "    </tr>\n",
              "    <tr>\n",
              "      <td>7</td>\n",
              "      <td>0.724172</td>\n",
              "      <td>1.088920</td>\n",
              "      <td>0.746702</td>\n",
              "      <td>00:09</td>\n",
              "    </tr>\n",
              "    <tr>\n",
              "      <td>8</td>\n",
              "      <td>0.666378</td>\n",
              "      <td>1.075950</td>\n",
              "      <td>0.739842</td>\n",
              "      <td>00:09</td>\n",
              "    </tr>\n",
              "    <tr>\n",
              "      <td>9</td>\n",
              "      <td>0.646035</td>\n",
              "      <td>1.074619</td>\n",
              "      <td>0.742480</td>\n",
              "      <td>00:09</td>\n",
              "    </tr>\n",
              "  </tbody>\n",
              "</table>"
            ],
            "text/plain": [
              "<IPython.core.display.HTML object>"
            ]
          },
          "metadata": {
            "tags": []
          }
        },
        {
          "output_type": "stream",
          "text": [
            "/usr/local/lib/python3.6/dist-packages/numpy/core/_asarray.py:83: VisibleDeprecationWarning: Creating an ndarray from ragged nested sequences (which is a list-or-tuple of lists-or-tuples-or ndarrays with different lengths or shapes) is deprecated. If you meant to do this, you must specify 'dtype=object' when creating the ndarray\n",
            "  return array(a, dtype, copy=False, order=order)\n",
            "<string>:6: VisibleDeprecationWarning: Creating an ndarray from ragged nested sequences (which is a list-or-tuple of lists-or-tuples-or ndarrays with different lengths or shapes) is deprecated. If you meant to do this, you must specify 'dtype=object' when creating the ndarray\n",
            "/usr/local/lib/python3.6/dist-packages/numpy/core/_asarray.py:83: VisibleDeprecationWarning: Creating an ndarray from ragged nested sequences (which is a list-or-tuple of lists-or-tuples-or ndarrays with different lengths or shapes) is deprecated. If you meant to do this, you must specify 'dtype=object' when creating the ndarray\n",
            "  return array(a, dtype, copy=False, order=order)\n",
            "<string>:6: VisibleDeprecationWarning: Creating an ndarray from ragged nested sequences (which is a list-or-tuple of lists-or-tuples-or ndarrays with different lengths or shapes) is deprecated. If you meant to do this, you must specify 'dtype=object' when creating the ndarray\n",
            "/usr/local/lib/python3.6/dist-packages/numpy/core/_asarray.py:83: VisibleDeprecationWarning: Creating an ndarray from ragged nested sequences (which is a list-or-tuple of lists-or-tuples-or ndarrays with different lengths or shapes) is deprecated. If you meant to do this, you must specify 'dtype=object' when creating the ndarray\n",
            "  return array(a, dtype, copy=False, order=order)\n",
            "<string>:6: VisibleDeprecationWarning: Creating an ndarray from ragged nested sequences (which is a list-or-tuple of lists-or-tuples-or ndarrays with different lengths or shapes) is deprecated. If you meant to do this, you must specify 'dtype=object' when creating the ndarray\n",
            "/usr/local/lib/python3.6/dist-packages/numpy/core/_asarray.py:83: VisibleDeprecationWarning: Creating an ndarray from ragged nested sequences (which is a list-or-tuple of lists-or-tuples-or ndarrays with different lengths or shapes) is deprecated. If you meant to do this, you must specify 'dtype=object' when creating the ndarray\n",
            "  return array(a, dtype, copy=False, order=order)\n",
            "<string>:6: VisibleDeprecationWarning: Creating an ndarray from ragged nested sequences (which is a list-or-tuple of lists-or-tuples-or ndarrays with different lengths or shapes) is deprecated. If you meant to do this, you must specify 'dtype=object' when creating the ndarray\n",
            "/usr/local/lib/python3.6/dist-packages/numpy/core/_asarray.py:83: VisibleDeprecationWarning: Creating an ndarray from ragged nested sequences (which is a list-or-tuple of lists-or-tuples-or ndarrays with different lengths or shapes) is deprecated. If you meant to do this, you must specify 'dtype=object' when creating the ndarray\n",
            "  return array(a, dtype, copy=False, order=order)\n",
            "<string>:6: VisibleDeprecationWarning: Creating an ndarray from ragged nested sequences (which is a list-or-tuple of lists-or-tuples-or ndarrays with different lengths or shapes) is deprecated. If you meant to do this, you must specify 'dtype=object' when creating the ndarray\n",
            "/usr/local/lib/python3.6/dist-packages/numpy/core/_asarray.py:83: VisibleDeprecationWarning: Creating an ndarray from ragged nested sequences (which is a list-or-tuple of lists-or-tuples-or ndarrays with different lengths or shapes) is deprecated. If you meant to do this, you must specify 'dtype=object' when creating the ndarray\n",
            "  return array(a, dtype, copy=False, order=order)\n",
            "<string>:6: VisibleDeprecationWarning: Creating an ndarray from ragged nested sequences (which is a list-or-tuple of lists-or-tuples-or ndarrays with different lengths or shapes) is deprecated. If you meant to do this, you must specify 'dtype=object' when creating the ndarray\n",
            "/usr/local/lib/python3.6/dist-packages/numpy/core/_asarray.py:83: VisibleDeprecationWarning: Creating an ndarray from ragged nested sequences (which is a list-or-tuple of lists-or-tuples-or ndarrays with different lengths or shapes) is deprecated. If you meant to do this, you must specify 'dtype=object' when creating the ndarray\n",
            "  return array(a, dtype, copy=False, order=order)\n",
            "<string>:6: VisibleDeprecationWarning: Creating an ndarray from ragged nested sequences (which is a list-or-tuple of lists-or-tuples-or ndarrays with different lengths or shapes) is deprecated. If you meant to do this, you must specify 'dtype=object' when creating the ndarray\n",
            "/usr/local/lib/python3.6/dist-packages/numpy/core/_asarray.py:83: VisibleDeprecationWarning: Creating an ndarray from ragged nested sequences (which is a list-or-tuple of lists-or-tuples-or ndarrays with different lengths or shapes) is deprecated. If you meant to do this, you must specify 'dtype=object' when creating the ndarray\n",
            "  return array(a, dtype, copy=False, order=order)\n",
            "<string>:6: VisibleDeprecationWarning: Creating an ndarray from ragged nested sequences (which is a list-or-tuple of lists-or-tuples-or ndarrays with different lengths or shapes) is deprecated. If you meant to do this, you must specify 'dtype=object' when creating the ndarray\n",
            "/usr/local/lib/python3.6/dist-packages/numpy/core/_asarray.py:83: VisibleDeprecationWarning: Creating an ndarray from ragged nested sequences (which is a list-or-tuple of lists-or-tuples-or ndarrays with different lengths or shapes) is deprecated. If you meant to do this, you must specify 'dtype=object' when creating the ndarray\n",
            "  return array(a, dtype, copy=False, order=order)\n",
            "<string>:6: VisibleDeprecationWarning: Creating an ndarray from ragged nested sequences (which is a list-or-tuple of lists-or-tuples-or ndarrays with different lengths or shapes) is deprecated. If you meant to do this, you must specify 'dtype=object' when creating the ndarray\n",
            "/usr/local/lib/python3.6/dist-packages/numpy/core/_asarray.py:83: VisibleDeprecationWarning: Creating an ndarray from ragged nested sequences (which is a list-or-tuple of lists-or-tuples-or ndarrays with different lengths or shapes) is deprecated. If you meant to do this, you must specify 'dtype=object' when creating the ndarray\n",
            "  return array(a, dtype, copy=False, order=order)\n",
            "<string>:6: VisibleDeprecationWarning: Creating an ndarray from ragged nested sequences (which is a list-or-tuple of lists-or-tuples-or ndarrays with different lengths or shapes) is deprecated. If you meant to do this, you must specify 'dtype=object' when creating the ndarray\n"
          ],
          "name": "stderr"
        }
      ]
    },
    {
      "cell_type": "code",
      "metadata": {
        "id": "YZFCXkWs7SZo"
      },
      "source": [
        "#cls2.save('dbpedia_type_fit_c5')"
      ],
      "execution_count": null,
      "outputs": []
    },
    {
      "cell_type": "code",
      "metadata": {
        "id": "7egxlY8u7SZq",
        "colab": {
          "base_uri": "https://localhost:8080/",
          "height": 202
        },
        "outputId": "6e78c6fa-db62-4f32-f87d-919818fa968e"
      },
      "source": [
        "#cls2.load('dbpedia_type_fit_c5')\n",
        "cls2.unfreeze()\n",
        "cls2.fit_one_cycle(5, 1e-3, moms=(0.8,0.7))"
      ],
      "execution_count": 53,
      "outputs": [
        {
          "output_type": "display_data",
          "data": {
            "text/html": [
              "<table border=\"1\" class=\"dataframe\">\n",
              "  <thead>\n",
              "    <tr style=\"text-align: left;\">\n",
              "      <th>epoch</th>\n",
              "      <th>train_loss</th>\n",
              "      <th>valid_loss</th>\n",
              "      <th>accuracy</th>\n",
              "      <th>time</th>\n",
              "    </tr>\n",
              "  </thead>\n",
              "  <tbody>\n",
              "    <tr>\n",
              "      <td>0</td>\n",
              "      <td>0.649252</td>\n",
              "      <td>1.085979</td>\n",
              "      <td>0.744591</td>\n",
              "      <td>00:09</td>\n",
              "    </tr>\n",
              "    <tr>\n",
              "      <td>1</td>\n",
              "      <td>0.644415</td>\n",
              "      <td>1.206892</td>\n",
              "      <td>0.744063</td>\n",
              "      <td>00:09</td>\n",
              "    </tr>\n",
              "    <tr>\n",
              "      <td>2</td>\n",
              "      <td>0.632785</td>\n",
              "      <td>1.611266</td>\n",
              "      <td>0.747757</td>\n",
              "      <td>00:09</td>\n",
              "    </tr>\n",
              "    <tr>\n",
              "      <td>3</td>\n",
              "      <td>0.627514</td>\n",
              "      <td>1.097677</td>\n",
              "      <td>0.754617</td>\n",
              "      <td>00:09</td>\n",
              "    </tr>\n",
              "    <tr>\n",
              "      <td>4</td>\n",
              "      <td>0.607484</td>\n",
              "      <td>1.170343</td>\n",
              "      <td>0.755673</td>\n",
              "      <td>00:09</td>\n",
              "    </tr>\n",
              "  </tbody>\n",
              "</table>"
            ],
            "text/plain": [
              "<IPython.core.display.HTML object>"
            ]
          },
          "metadata": {
            "tags": []
          }
        }
      ]
    },
    {
      "cell_type": "code",
      "metadata": {
        "id": "i7N_4-5W7SZy"
      },
      "source": [
        "#cls2.save_encoder('/content/drive/My Drive/fastai-v3/model/smarttask/dbpedia_resource_type_fit_c15')"
      ],
      "execution_count": null,
      "outputs": []
    },
    {
      "cell_type": "code",
      "metadata": {
        "id": "2DNt0HKy7SZ0",
        "colab": {
          "base_uri": "https://localhost:8080/",
          "height": 462
        },
        "outputId": "c2367b65-bb6b-41f0-cac5-aef9f8cfab31"
      },
      "source": [
        "cls2.show_results(ds_type=DatasetType.Valid)"
      ],
      "execution_count": 54,
      "outputs": [
        {
          "output_type": "stream",
          "text": [
            "/usr/local/lib/python3.6/dist-packages/fastai/text/data.py:339: UserWarning: This overload of nonzero is deprecated:\n",
            "\tnonzero()\n",
            "Consider using one of the following signatures instead:\n",
            "\tnonzero(*, bool as_tuple) (Triggered internally at  /pytorch/torch/csrc/utils/python_arg_parser.cpp:882.)\n",
            "  idx_min = (t != self.pad_idx).nonzero().min()\n"
          ],
          "name": "stderr"
        },
        {
          "output_type": "display_data",
          "data": {
            "text/html": [
              "<table border=\"1\" class=\"dataframe\">\n",
              "  <thead>\n",
              "    <tr style=\"text-align: right;\">\n",
              "      <th>text</th>\n",
              "      <th>target</th>\n",
              "      <th>prediction</th>\n",
              "    </tr>\n",
              "  </thead>\n",
              "  <tbody>\n",
              "    <tr>\n",
              "      <td>xxbos xxmaj which family member of xxmaj xxunk xxmaj xxunk is a writer by profession ? \\n \\n  xxmaj name the family member of xxmaj xxunk xxmaj xxunk who is a writer by profession . \\n \\n  xxmaj which of xxmaj xxunk xxmaj xxunk 's relatives has a career in writing ? \\n \\n  xxmaj who is the relative of xxmaj xxunk xxmaj xxunk who has a</td>\n",
              "      <td>dbo:Agent</td>\n",
              "      <td>dbo:Agent</td>\n",
              "    </tr>\n",
              "    <tr>\n",
              "      <td>xxbos xxmaj what is the xxunk with the safety classification and labelling of xxup nfpa 704 : xxmaj standard xxmaj system for the xxmaj identification of the xxmaj hazards of xxmaj materials for xxmaj emergency xxmaj response and which has the word \" xxunk \" in its name ?</td>\n",
              "      <td>dbo:ChemicalSubstance</td>\n",
              "      <td>dbo:ChemicalSubstance</td>\n",
              "    </tr>\n",
              "    <tr>\n",
              "      <td>xxbos xxmaj he was xxunk and had xxunk for xxunk years . xxmaj xxunk xxmaj xxunk xxup iv was buried on xxunk xxmaj xxunk xxunk at xxmaj xxunk xxmaj xxunk ( the xxmaj royal cemetery ) in the xxmaj xxunk capital , xxmaj xxunk .</td>\n",
              "      <td>dbo:Location</td>\n",
              "      <td>dbo:Location</td>\n",
              "    </tr>\n",
              "    <tr>\n",
              "      <td>xxbos xxmaj what is the { excipient with the lowest xxunk viscosity whose safety classification and labelling is xxup nfpa 704 : xxmaj standard xxmaj system for the xxmaj identification of the xxmaj hazards of xxmaj materials for xxmaj emergency xxmaj response ?</td>\n",
              "      <td>dbo:ChemicalSubstance</td>\n",
              "      <td>dbo:ChemicalSubstance</td>\n",
              "    </tr>\n",
              "    <tr>\n",
              "      <td>xxbos \" xxmaj who is { born at } of { xxmaj leopold i , xxmaj holy xxmaj roman xxmaj emperor } , where { county seat for } is { xxmaj austria - xxmaj hungary } ? \"</td>\n",
              "      <td>dbo:Location</td>\n",
              "      <td>dbo:Location</td>\n",
              "    </tr>\n",
              "  </tbody>\n",
              "</table>"
            ],
            "text/plain": [
              "<IPython.core.display.HTML object>"
            ]
          },
          "metadata": {
            "tags": []
          }
        }
      ]
    },
    {
      "cell_type": "code",
      "metadata": {
        "id": "wEWrzGaK_o3t",
        "colab": {
          "base_uri": "https://localhost:8080/",
          "height": 17
        },
        "outputId": "7b50976d-3780-4a26-d9ff-4f71e787d22b"
      },
      "source": [
        "test_res_df = test_df[test_df.category == 'resource']\n",
        "data_cls.add_test(test_res_df)"
      ],
      "execution_count": 55,
      "outputs": [
        {
          "output_type": "display_data",
          "data": {
            "text/html": [
              ""
            ],
            "text/plain": [
              "<IPython.core.display.HTML object>"
            ]
          },
          "metadata": {
            "tags": []
          }
        }
      ]
    },
    {
      "cell_type": "code",
      "metadata": {
        "id": "uSerToIwu_jB",
        "colab": {
          "base_uri": "https://localhost:8080/",
          "height": 17
        },
        "outputId": "74e71aeb-79d0-4beb-d6c2-b32fcf782feb"
      },
      "source": [
        "type_preds, *_  = cls2.get_preds(DatasetType.Test)\n",
        "type_labels = np.argmax(type_preds, 1)"
      ],
      "execution_count": 56,
      "outputs": [
        {
          "output_type": "display_data",
          "data": {
            "text/html": [
              ""
            ],
            "text/plain": [
              "<IPython.core.display.HTML object>"
            ]
          },
          "metadata": {
            "tags": []
          }
        }
      ]
    },
    {
      "cell_type": "code",
      "metadata": {
        "id": "cuLgPcHl7SZ6"
      },
      "source": [
        "type_labels = type_labels.numpy()"
      ],
      "execution_count": 57,
      "outputs": []
    },
    {
      "cell_type": "code",
      "metadata": {
        "id": "WcjKgzZi7SZ7",
        "colab": {
          "base_uri": "https://localhost:8080/"
        },
        "outputId": "be9db450-c144-4fcc-feab-2f31f9e7c501"
      },
      "source": [
        "type_labels"
      ],
      "execution_count": 58,
      "outputs": [
        {
          "output_type": "execute_result",
          "data": {
            "text/plain": [
              "array([ 1,  1,  1, 20, ...,  0,  0,  1,  0])"
            ]
          },
          "metadata": {
            "tags": []
          },
          "execution_count": 58
        }
      ]
    },
    {
      "cell_type": "code",
      "metadata": {
        "colab": {
          "base_uri": "https://localhost:8080/"
        },
        "id": "e_Fz3AspOXqJ",
        "outputId": "96bcd3b0-f11a-4d7a-9816-4625e819612d"
      },
      "source": [
        "!pip install pycm"
      ],
      "execution_count": 71,
      "outputs": [
        {
          "output_type": "stream",
          "text": [
            "Collecting pycm\n",
            "\u001b[?25l  Downloading https://files.pythonhosted.org/packages/07/e0/de92301a06bf5e2d24e04edc178ee457b49dbad2606c3252949222110f4d/pycm-3.0-py2.py3-none-any.whl (61kB)\n",
            "\r\u001b[K     |█████▎                          | 10kB 10.3MB/s eta 0:00:01\r\u001b[K     |██████████▋                     | 20kB 11.6MB/s eta 0:00:01\r\u001b[K     |███████████████▉                | 30kB 8.2MB/s eta 0:00:01\r\u001b[K     |█████████████████████▏          | 40kB 7.2MB/s eta 0:00:01\r\u001b[K     |██████████████████████████▌     | 51kB 4.3MB/s eta 0:00:01\r\u001b[K     |███████████████████████████████▊| 61kB 4.9MB/s eta 0:00:01\r\u001b[K     |████████████████████████████████| 71kB 3.6MB/s \n",
            "\u001b[?25hRequirement already satisfied: numpy>=1.9.0 in /usr/local/lib/python3.6/dist-packages (from pycm) (1.19.5)\n",
            "Collecting art>=1.8\n",
            "\u001b[?25l  Downloading https://files.pythonhosted.org/packages/83/37/c28d69ba1005889e8ff9633b8e7eccaaddc03549058a51ef5f51853cf183/art-5.1-py2.py3-none-any.whl (567kB)\n",
            "\u001b[K     |████████████████████████████████| 573kB 5.7MB/s \n",
            "\u001b[?25hInstalling collected packages: art, pycm\n",
            "Successfully installed art-5.1 pycm-3.0\n"
          ],
          "name": "stdout"
        }
      ]
    },
    {
      "cell_type": "code",
      "metadata": {
        "id": "-_KNaozQOZgR"
      },
      "source": [
        "from pycm import *\n",
        "import seaborn as sns\n",
        "import matplotlib.pyplot as plt"
      ],
      "execution_count": 72,
      "outputs": []
    },
    {
      "cell_type": "code",
      "metadata": {
        "id": "M--FqoiuGshV",
        "colab": {
          "base_uri": "https://localhost:8080/"
        },
        "outputId": "9dc2e596-6b97-4c5a-cd5a-8aa843cc1c0b"
      },
      "source": [
        "len(type_labels)"
      ],
      "execution_count": 59,
      "outputs": [
        {
          "output_type": "execute_result",
          "data": {
            "text/plain": [
              "2445"
            ]
          },
          "metadata": {
            "tags": []
          },
          "execution_count": 59
        }
      ]
    },
    {
      "cell_type": "code",
      "metadata": {
        "id": "TW2DD0J87SZ9",
        "colab": {
          "base_uri": "https://localhost:8080/"
        },
        "outputId": "fdef7b8a-4626-4130-b607-36f20ceaba11"
      },
      "source": [
        "test_res_df['type_pred'] = type_labels\n",
        "test_res_df.type_pred= test_res_df.type_pred.replace({ i:c for i,c in enumerate(types)})"
      ],
      "execution_count": 60,
      "outputs": [
        {
          "output_type": "stream",
          "text": [
            "/usr/local/lib/python3.6/dist-packages/ipykernel_launcher.py:1: SettingWithCopyWarning: \n",
            "A value is trying to be set on a copy of a slice from a DataFrame.\n",
            "Try using .loc[row_indexer,col_indexer] = value instead\n",
            "\n",
            "See the caveats in the documentation: https://pandas.pydata.org/pandas-docs/stable/user_guide/indexing.html#returning-a-view-versus-a-copy\n",
            "  \"\"\"Entry point for launching an IPython kernel.\n",
            "/usr/local/lib/python3.6/dist-packages/pandas/core/generic.py:5170: SettingWithCopyWarning: \n",
            "A value is trying to be set on a copy of a slice from a DataFrame.\n",
            "Try using .loc[row_indexer,col_indexer] = value instead\n",
            "\n",
            "See the caveats in the documentation: https://pandas.pydata.org/pandas-docs/stable/user_guide/indexing.html#returning-a-view-versus-a-copy\n",
            "  self[name] = value\n"
          ],
          "name": "stderr"
        }
      ]
    },
    {
      "cell_type": "code",
      "metadata": {
        "colab": {
          "base_uri": "https://localhost:8080/",
          "height": 497
        },
        "id": "CqYwb2QSR_Dm",
        "outputId": "ec63b8a6-c509-4fcd-c8b2-834be5dcc47f"
      },
      "source": [
        "test_res_df.head()"
      ],
      "execution_count": 61,
      "outputs": [
        {
          "output_type": "execute_result",
          "data": {
            "text/html": [
              "<div>\n",
              "<style scoped>\n",
              "    .dataframe tbody tr th:only-of-type {\n",
              "        vertical-align: middle;\n",
              "    }\n",
              "\n",
              "    .dataframe tbody tr th {\n",
              "        vertical-align: top;\n",
              "    }\n",
              "\n",
              "    .dataframe thead th {\n",
              "        text-align: right;\n",
              "    }\n",
              "</style>\n",
              "<table border=\"1\" class=\"dataframe\">\n",
              "  <thead>\n",
              "    <tr style=\"text-align: right;\">\n",
              "      <th></th>\n",
              "      <th>id</th>\n",
              "      <th>question</th>\n",
              "      <th>category</th>\n",
              "      <th>type</th>\n",
              "      <th>frequent_type</th>\n",
              "      <th>bottom_level_type</th>\n",
              "      <th>top_level_type</th>\n",
              "      <th>type_pred</th>\n",
              "    </tr>\n",
              "  </thead>\n",
              "  <tbody>\n",
              "    <tr>\n",
              "      <th>6</th>\n",
              "      <td>dbpedia_22599</td>\n",
              "      <td>Where did the war take place where one of the ...</td>\n",
              "      <td>resource</td>\n",
              "      <td>[dbo:Country, dbo:PopulatedPlace, dbo:Place]</td>\n",
              "      <td>dbo:Country</td>\n",
              "      <td>dbo:Country</td>\n",
              "      <td>dbo:Place</td>\n",
              "      <td>dbo:Location</td>\n",
              "    </tr>\n",
              "    <tr>\n",
              "      <th>9</th>\n",
              "      <td>dbpedia_19677</td>\n",
              "      <td>Which mountains are contained in Inyo National...</td>\n",
              "      <td>resource</td>\n",
              "      <td>[dbo:Mountain, dbo:NaturalPlace, dbo:Place]</td>\n",
              "      <td>dbo:NaturalPlace</td>\n",
              "      <td>dbo:Mountain</td>\n",
              "      <td>dbo:Place</td>\n",
              "      <td>dbo:Location</td>\n",
              "    </tr>\n",
              "    <tr>\n",
              "      <th>11</th>\n",
              "      <td>dbpedia_11163</td>\n",
              "      <td>What is the seat of Frankfurter Allgemeine Zei...</td>\n",
              "      <td>resource</td>\n",
              "      <td>[dbo:City, dbo:Settlement, dbo:PopulatedPlace,...</td>\n",
              "      <td>dbo:Settlement</td>\n",
              "      <td>dbo:City</td>\n",
              "      <td>dbo:Place</td>\n",
              "      <td>dbo:Location</td>\n",
              "    </tr>\n",
              "    <tr>\n",
              "      <th>16</th>\n",
              "      <td>dbpedia_18792</td>\n",
              "      <td>What did the people buried in Toronto die of?</td>\n",
              "      <td>resource</td>\n",
              "      <td>[dbo:Disease]</td>\n",
              "      <td>dbo:Disease</td>\n",
              "      <td>dbo:Disease</td>\n",
              "      <td>dbo:Disease</td>\n",
              "      <td>dbo:Disease</td>\n",
              "    </tr>\n",
              "    <tr>\n",
              "      <th>19</th>\n",
              "      <td>dbpedia_11251</td>\n",
              "      <td>What is the league of major league lacrosse?</td>\n",
              "      <td>resource</td>\n",
              "      <td>[dbo:SportsTeam, dbo:Organisation, dbo:Agent]</td>\n",
              "      <td>dbo:SportsTeam</td>\n",
              "      <td>dbo:SportsTeam</td>\n",
              "      <td>dbo:Agent</td>\n",
              "      <td>dbo:Agent</td>\n",
              "    </tr>\n",
              "  </tbody>\n",
              "</table>\n",
              "</div>"
            ],
            "text/plain": [
              "               id  ...     type_pred\n",
              "6   dbpedia_22599  ...  dbo:Location\n",
              "9   dbpedia_19677  ...  dbo:Location\n",
              "11  dbpedia_11163  ...  dbo:Location\n",
              "16  dbpedia_18792  ...   dbo:Disease\n",
              "19  dbpedia_11251  ...     dbo:Agent\n",
              "\n",
              "[5 rows x 8 columns]"
            ]
          },
          "metadata": {
            "tags": []
          },
          "execution_count": 61
        }
      ]
    },
    {
      "cell_type": "code",
      "metadata": {
        "id": "eZwdaikcRQ6U"
      },
      "source": [
        "from sklearn.metrics import accuracy_score"
      ],
      "execution_count": 63,
      "outputs": []
    },
    {
      "cell_type": "code",
      "metadata": {
        "colab": {
          "base_uri": "https://localhost:8080/"
        },
        "id": "rA0UUiKCRSC1",
        "outputId": "04a8b6cc-169e-437b-cfa8-eb9772e2a491"
      },
      "source": [
        "accuracy_score(test_res_df[target], test_res_df.type_pred, normalize=True)"
      ],
      "execution_count": 64,
      "outputs": [
        {
          "output_type": "execute_result",
          "data": {
            "text/plain": [
              "0.5905930470347648"
            ]
          },
          "metadata": {
            "tags": []
          },
          "execution_count": 64
        }
      ]
    },
    {
      "cell_type": "code",
      "metadata": {
        "id": "3xUW79xCPNoi"
      },
      "source": [
        "cm = ConfusionMatrix(test_df.top_level_type.to_list(), test_df.type_pred.to_list())"
      ],
      "execution_count": 93,
      "outputs": []
    },
    {
      "cell_type": "code",
      "metadata": {
        "colab": {
          "base_uri": "https://localhost:8080/",
          "height": 725
        },
        "id": "AZ_XTjzuPpaK",
        "outputId": "161d29da-6776-4a36-8beb-e80a922c2c17"
      },
      "source": [
        "import matplotlib\n",
        "matplotlib.use('Agg')\n",
        "import matplotlib.pyplot as plt\n",
        "matplotlib.style.use('ggplot')\n",
        "import seaborn as sns\n",
        "sns.set()\n",
        "fig, ax = plt.subplots(figsize=(10,10))\n",
        "ax= sns.heatmap(pd.DataFrame(cm.table), annot=True, annot_kws={\"size\": 9}, fmt='d', cmap=\"Blues\")\n",
        "#plt.xlabel('Experts'); plt.ylabel('Workers');\n",
        "ax.set_xlabel('Actual');ax.set_ylabel('Predicted'); \n",
        "plt.tight_layout()\n",
        "plt.show()\n",
        "#ax.get_figure().savefig('worker_vs_expert.png', dpi=200)"
      ],
      "execution_count": 94,
      "outputs": [
        {
          "output_type": "display_data",
          "data": {
            "image/png": "[encoded data removed]",
            "text/plain": [
              "<Figure size 720x720 with 2 Axes>"
            ]
          },
          "metadata": {
            "tags": []
          }
        }
      ]
    },
    {
      "cell_type": "code",
      "metadata": {
        "id": "z_Ws6bDO5GTT"
      },
      "source": [
        ""
      ],
      "execution_count": null,
      "outputs": []
    }
  ]
}