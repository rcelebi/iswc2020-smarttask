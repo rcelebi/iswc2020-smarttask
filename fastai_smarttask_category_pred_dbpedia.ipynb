{
 "cells": [
  {
   "cell_type": "markdown",
   "metadata": {
    "colab_type": "text",
    "id": "3rLugQ0nZNlf"
   },
   "source": [
    "# Human numbers"
   ]
  },
  {
   "cell_type": "code",
   "execution_count": 1,
   "metadata": {
    "colab": {},
    "colab_type": "code",
    "id": "qdoicxL67SXl"
   },
   "outputs": [],
   "source": [
    "#!pip3 install torch_nightly -f https://download.pytorch.org/whl/nightly/cu92/torch_nightly.html\n",
    "#!pip3 install fastai --user"
   ]
  },
  {
   "cell_type": "code",
   "execution_count": 31,
   "metadata": {
    "colab": {
     "base_uri": "https://localhost:8080/",
     "height": 793
    },
    "colab_type": "code",
    "id": "iOJlsUWPZNlg",
    "outputId": "a0f7ead9-1b2e-4a05-d0e2-46c2bbf72935"
   },
   "outputs": [
    {
     "name": "stdout",
     "output_type": "stream",
     "text": [
      "Requirement already satisfied: fastai==1.0.61 in /usr/local/lib/python3.6/dist-packages (1.0.61)\n",
      "Requirement already satisfied: pandas in /usr/local/lib/python3.6/dist-packages (from fastai==1.0.61) (1.0.5)\n",
      "Requirement already satisfied: bottleneck in /usr/local/lib/python3.6/dist-packages (from fastai==1.0.61) (1.3.2)\n",
      "Requirement already satisfied: dataclasses; python_version < \"3.7\" in /usr/local/lib/python3.6/dist-packages (from fastai==1.0.61) (0.7)\n",
      "Requirement already satisfied: beautifulsoup4 in /usr/local/lib/python3.6/dist-packages (from fastai==1.0.61) (4.6.3)\n",
      "Requirement already satisfied: nvidia-ml-py3 in /usr/local/lib/python3.6/dist-packages (from fastai==1.0.61) (7.352.0)\n",
      "Requirement already satisfied: pyyaml in /usr/local/lib/python3.6/dist-packages (from fastai==1.0.61) (3.13)\n",
      "Requirement already satisfied: torch>=1.0.0 in /usr/local/lib/python3.6/dist-packages (from fastai==1.0.61) (1.6.0+cu101)\n",
      "Requirement already satisfied: numpy>=1.15 in /usr/local/lib/python3.6/dist-packages (from fastai==1.0.61) (1.18.5)\n",
      "Requirement already satisfied: torchvision in /usr/local/lib/python3.6/dist-packages (from fastai==1.0.61) (0.7.0+cu101)\n",
      "Requirement already satisfied: fastprogress>=0.2.1 in /usr/local/lib/python3.6/dist-packages (from fastai==1.0.61) (1.0.0)\n",
      "Requirement already satisfied: matplotlib in /usr/local/lib/python3.6/dist-packages (from fastai==1.0.61) (3.2.2)\n",
      "Requirement already satisfied: packaging in /usr/local/lib/python3.6/dist-packages (from fastai==1.0.61) (20.4)\n",
      "Requirement already satisfied: Pillow in /usr/local/lib/python3.6/dist-packages (from fastai==1.0.61) (7.0.0)\n",
      "Requirement already satisfied: requests in /usr/local/lib/python3.6/dist-packages (from fastai==1.0.61) (2.23.0)\n",
      "Requirement already satisfied: spacy>=2.0.18; python_version < \"3.8\" in /usr/local/lib/python3.6/dist-packages (from fastai==1.0.61) (2.2.4)\n",
      "Requirement already satisfied: numexpr in /usr/local/lib/python3.6/dist-packages (from fastai==1.0.61) (2.7.1)\n",
      "Requirement already satisfied: scipy in /usr/local/lib/python3.6/dist-packages (from fastai==1.0.61) (1.4.1)\n",
      "Requirement already satisfied: python-dateutil>=2.6.1 in /usr/local/lib/python3.6/dist-packages (from pandas->fastai==1.0.61) (2.8.1)\n",
      "Requirement already satisfied: pytz>=2017.2 in /usr/local/lib/python3.6/dist-packages (from pandas->fastai==1.0.61) (2018.9)\n",
      "Requirement already satisfied: future in /usr/local/lib/python3.6/dist-packages (from torch>=1.0.0->fastai==1.0.61) (0.16.0)\n",
      "Requirement already satisfied: pyparsing!=2.0.4,!=2.1.2,!=2.1.6,>=2.0.1 in /usr/local/lib/python3.6/dist-packages (from matplotlib->fastai==1.0.61) (2.4.7)\n",
      "Requirement already satisfied: kiwisolver>=1.0.1 in /usr/local/lib/python3.6/dist-packages (from matplotlib->fastai==1.0.61) (1.2.0)\n",
      "Requirement already satisfied: cycler>=0.10 in /usr/local/lib/python3.6/dist-packages (from matplotlib->fastai==1.0.61) (0.10.0)\n",
      "Requirement already satisfied: six in /usr/local/lib/python3.6/dist-packages (from packaging->fastai==1.0.61) (1.15.0)\n",
      "Requirement already satisfied: certifi>=2017.4.17 in /usr/local/lib/python3.6/dist-packages (from requests->fastai==1.0.61) (2020.6.20)\n",
      "Requirement already satisfied: idna<3,>=2.5 in /usr/local/lib/python3.6/dist-packages (from requests->fastai==1.0.61) (2.10)\n",
      "Requirement already satisfied: urllib3!=1.25.0,!=1.25.1,<1.26,>=1.21.1 in /usr/local/lib/python3.6/dist-packages (from requests->fastai==1.0.61) (1.24.3)\n",
      "Requirement already satisfied: chardet<4,>=3.0.2 in /usr/local/lib/python3.6/dist-packages (from requests->fastai==1.0.61) (3.0.4)\n",
      "Requirement already satisfied: srsly<1.1.0,>=1.0.2 in /usr/local/lib/python3.6/dist-packages (from spacy>=2.0.18; python_version < \"3.8\"->fastai==1.0.61) (1.0.2)\n",
      "Requirement already satisfied: tqdm<5.0.0,>=4.38.0 in /usr/local/lib/python3.6/dist-packages (from spacy>=2.0.18; python_version < \"3.8\"->fastai==1.0.61) (4.41.1)\n",
      "Requirement already satisfied: wasabi<1.1.0,>=0.4.0 in /usr/local/lib/python3.6/dist-packages (from spacy>=2.0.18; python_version < \"3.8\"->fastai==1.0.61) (0.8.0)\n",
      "Requirement already satisfied: preshed<3.1.0,>=3.0.2 in /usr/local/lib/python3.6/dist-packages (from spacy>=2.0.18; python_version < \"3.8\"->fastai==1.0.61) (3.0.2)\n",
      "Requirement already satisfied: cymem<2.1.0,>=2.0.2 in /usr/local/lib/python3.6/dist-packages (from spacy>=2.0.18; python_version < \"3.8\"->fastai==1.0.61) (2.0.3)\n",
      "Requirement already satisfied: catalogue<1.1.0,>=0.0.7 in /usr/local/lib/python3.6/dist-packages (from spacy>=2.0.18; python_version < \"3.8\"->fastai==1.0.61) (1.0.0)\n",
      "Requirement already satisfied: plac<1.2.0,>=0.9.6 in /usr/local/lib/python3.6/dist-packages (from spacy>=2.0.18; python_version < \"3.8\"->fastai==1.0.61) (1.1.3)\n",
      "Requirement already satisfied: setuptools in /usr/local/lib/python3.6/dist-packages (from spacy>=2.0.18; python_version < \"3.8\"->fastai==1.0.61) (50.3.0)\n",
      "Requirement already satisfied: blis<0.5.0,>=0.4.0 in /usr/local/lib/python3.6/dist-packages (from spacy>=2.0.18; python_version < \"3.8\"->fastai==1.0.61) (0.4.1)\n",
      "Requirement already satisfied: murmurhash<1.1.0,>=0.28.0 in /usr/local/lib/python3.6/dist-packages (from spacy>=2.0.18; python_version < \"3.8\"->fastai==1.0.61) (1.0.2)\n",
      "Requirement already satisfied: thinc==7.4.0 in /usr/local/lib/python3.6/dist-packages (from spacy>=2.0.18; python_version < \"3.8\"->fastai==1.0.61) (7.4.0)\n",
      "Requirement already satisfied: importlib-metadata>=0.20; python_version < \"3.8\" in /usr/local/lib/python3.6/dist-packages (from catalogue<1.1.0,>=0.0.7->spacy>=2.0.18; python_version < \"3.8\"->fastai==1.0.61) (1.7.0)\n",
      "Requirement already satisfied: zipp>=0.5 in /usr/local/lib/python3.6/dist-packages (from importlib-metadata>=0.20; python_version < \"3.8\"->catalogue<1.1.0,>=0.0.7->spacy>=2.0.18; python_version < \"3.8\"->fastai==1.0.61) (3.1.0)\n"
     ]
    }
   ],
   "source": [
    "!pip3 install fastai==1.0.61"
   ]
  },
  {
   "cell_type": "code",
   "execution_count": 32,
   "metadata": {
    "colab": {},
    "colab_type": "code",
    "id": "Ytmq-K8f7SXu"
   },
   "outputs": [],
   "source": [
    "from fastai.text import *\n",
    "#from fastai.text.all import *"
   ]
  },
  {
   "cell_type": "code",
   "execution_count": 33,
   "metadata": {
    "colab": {},
    "colab_type": "code",
    "id": "7vHQ8mczZNlk"
   },
   "outputs": [],
   "source": [
    "bs=64"
   ]
  },
  {
   "cell_type": "markdown",
   "metadata": {
    "colab_type": "text",
    "id": "6Q89yZwuZNln"
   },
   "source": [
    "## Data"
   ]
  },
  {
   "cell_type": "code",
   "execution_count": 1,
   "metadata": {},
   "outputs": [],
   "source": [
    "import pandas as pd\n",
    "import numpy as np"
   ]
  },
  {
   "cell_type": "code",
   "execution_count": 2,
   "metadata": {
    "colab": {},
    "colab_type": "code",
    "id": "bUpUsiAoewcn"
   },
   "outputs": [],
   "source": [
    "\n",
    "dbpedia_df = pd.read_json('datasets/DBpedia/smarttask_dbpedia_train.json')"
   ]
  },
  {
   "cell_type": "code",
   "execution_count": 3,
   "metadata": {
    "colab": {},
    "colab_type": "code",
    "id": "WBtytQ0p7SX8"
   },
   "outputs": [],
   "source": [
    "test_df= pd.read_json('datasets/DBpedia/smarttask_dbpedia_test_questions.json')"
   ]
  },
  {
   "cell_type": "code",
   "execution_count": 4,
   "metadata": {
    "colab": {
     "base_uri": "https://localhost:8080/",
     "height": 202
    },
    "colab_type": "code",
    "id": "NrElntLz7SX_",
    "outputId": "335b17b8-e76c-4bdb-f391-39bceb26013c"
   },
   "outputs": [
    {
     "data": {
      "text/html": [
       "<div>\n",
       "<style scoped>\n",
       "    .dataframe tbody tr th:only-of-type {\n",
       "        vertical-align: middle;\n",
       "    }\n",
       "\n",
       "    .dataframe tbody tr th {\n",
       "        vertical-align: top;\n",
       "    }\n",
       "\n",
       "    .dataframe thead th {\n",
       "        text-align: right;\n",
       "    }\n",
       "</style>\n",
       "<table border=\"1\" class=\"dataframe\">\n",
       "  <thead>\n",
       "    <tr style=\"text-align: right;\">\n",
       "      <th></th>\n",
       "      <th>id</th>\n",
       "      <th>question</th>\n",
       "    </tr>\n",
       "  </thead>\n",
       "  <tbody>\n",
       "    <tr>\n",
       "      <th>0</th>\n",
       "      <td>dbpedia_16015</td>\n",
       "      <td>How many ingredients are in the grain} ?</td>\n",
       "    </tr>\n",
       "    <tr>\n",
       "      <th>1</th>\n",
       "      <td>dbpedia_3885</td>\n",
       "      <td>Is the case fatality rate of Fournier gangrene...</td>\n",
       "    </tr>\n",
       "    <tr>\n",
       "      <th>2</th>\n",
       "      <td>dbpedia_12907</td>\n",
       "      <td>Does the shelf life of spinach equal 8?</td>\n",
       "    </tr>\n",
       "    <tr>\n",
       "      <th>3</th>\n",
       "      <td>dbpedia_7955</td>\n",
       "      <td>What sound does a pig make in the French langu...</td>\n",
       "    </tr>\n",
       "    <tr>\n",
       "      <th>4</th>\n",
       "      <td>dbpedia_2376</td>\n",
       "      <td>When was Fergie completed his record label in ...</td>\n",
       "    </tr>\n",
       "  </tbody>\n",
       "</table>\n",
       "</div>"
      ],
      "text/plain": [
       "              id                                           question\n",
       "0  dbpedia_16015           How many ingredients are in the grain} ?\n",
       "1   dbpedia_3885  Is the case fatality rate of Fournier gangrene...\n",
       "2  dbpedia_12907            Does the shelf life of spinach equal 8?\n",
       "3   dbpedia_7955  What sound does a pig make in the French langu...\n",
       "4   dbpedia_2376  When was Fergie completed his record label in ..."
      ]
     },
     "execution_count": 4,
     "metadata": {},
     "output_type": "execute_result"
    }
   ],
   "source": [
    "test_df.head()"
   ]
  },
  {
   "cell_type": "code",
   "execution_count": 9,
   "metadata": {
    "colab": {},
    "colab_type": "code",
    "id": "x1WrmIfAIo1O"
   },
   "outputs": [],
   "source": [
    "#vq_test_df= pd.read_json('data/VQUANDA_train.json')"
   ]
  },
  {
   "cell_type": "code",
   "execution_count": 10,
   "metadata": {
    "colab": {},
    "colab_type": "code",
    "id": "mAnhRQ2JJBra"
   },
   "outputs": [],
   "source": [
    "#vq_test_df.head()"
   ]
  },
  {
   "cell_type": "code",
   "execution_count": 11,
   "metadata": {
    "colab": {},
    "colab_type": "code",
    "id": "hLdG-MW37SYG"
   },
   "outputs": [],
   "source": [
    "answer_types = {}\n",
    "for answers in dbpedia_df.type:\n",
    "    for a in answers:\n",
    "        if a in answer_types:\n",
    "            answer_types[a]+=1\n",
    "        else:\n",
    "            answer_types[a]=1\n",
    "\n",
    "def multitype_to_freqtype(type_list):\n",
    "    for t in sorted_types:\n",
    "        if t in type_list:\n",
    "            return t\n",
    "\n",
    "def types_to_spec_type(type_list):\n",
    "    if len(type_list) == 0:\n",
    "      return None \n",
    "    return type_list[0]\n",
    "            \n",
    "answ_df =pd.DataFrame.from_dict(answer_types, orient='index', columns=['Freq'])\n",
    "sorted_types = answ_df.sort_values(by='Freq', ascending=False).index\n",
    "dbpedia_df['single_type'] =dbpedia_df.type.apply(multitype_to_freqtype)\n",
    "dbpedia_df['specific_type'] =dbpedia_df.type.apply(types_to_spec_type)"
   ]
  },
  {
   "cell_type": "code",
   "execution_count": 12,
   "metadata": {
    "colab": {},
    "colab_type": "code",
    "id": "WHTb6lB-GAsQ"
   },
   "outputs": [],
   "source": [
    "dbpedia_df= dbpedia_df[dbpedia_df.category.notna()]"
   ]
  },
  {
   "cell_type": "code",
   "execution_count": 13,
   "metadata": {
    "colab": {
     "base_uri": "https://localhost:8080/",
     "height": 1000
    },
    "colab_type": "code",
    "id": "bicu2l-oGTmb",
    "outputId": "09923f9f-aa48-49c2-fd85-800a656bf9e5"
   },
   "outputs": [
    {
     "data": {
      "text/html": [
       "<div>\n",
       "<style scoped>\n",
       "    .dataframe tbody tr th:only-of-type {\n",
       "        vertical-align: middle;\n",
       "    }\n",
       "\n",
       "    .dataframe tbody tr th {\n",
       "        vertical-align: top;\n",
       "    }\n",
       "\n",
       "    .dataframe thead th {\n",
       "        text-align: right;\n",
       "    }\n",
       "</style>\n",
       "<table border=\"1\" class=\"dataframe\">\n",
       "  <thead>\n",
       "    <tr style=\"text-align: right;\">\n",
       "      <th></th>\n",
       "      <th>id</th>\n",
       "      <th>question</th>\n",
       "      <th>category</th>\n",
       "      <th>type</th>\n",
       "      <th>single_type</th>\n",
       "      <th>specific_type</th>\n",
       "    </tr>\n",
       "  </thead>\n",
       "  <tbody>\n",
       "    <tr>\n",
       "      <th>242</th>\n",
       "      <td>dbpedia_7042</td>\n",
       "      <td>None</td>\n",
       "      <td>literal</td>\n",
       "      <td>[date]</td>\n",
       "      <td>date</td>\n",
       "      <td>date</td>\n",
       "    </tr>\n",
       "    <tr>\n",
       "      <th>443</th>\n",
       "      <td>dbpedia_16956</td>\n",
       "      <td>None</td>\n",
       "      <td>resource</td>\n",
       "      <td>[dbo:Village, dbo:Settlement, dbo:PopulatedPla...</td>\n",
       "      <td>dbo:Place</td>\n",
       "      <td>dbo:Village</td>\n",
       "    </tr>\n",
       "    <tr>\n",
       "      <th>497</th>\n",
       "      <td>dbpedia_15803</td>\n",
       "      <td>None</td>\n",
       "      <td>literal</td>\n",
       "      <td>[date]</td>\n",
       "      <td>date</td>\n",
       "      <td>date</td>\n",
       "    </tr>\n",
       "    <tr>\n",
       "      <th>775</th>\n",
       "      <td>dbpedia_440</td>\n",
       "      <td>None</td>\n",
       "      <td>literal</td>\n",
       "      <td>[date]</td>\n",
       "      <td>date</td>\n",
       "      <td>date</td>\n",
       "    </tr>\n",
       "    <tr>\n",
       "      <th>1295</th>\n",
       "      <td>dbpedia_11926</td>\n",
       "      <td>None</td>\n",
       "      <td>literal</td>\n",
       "      <td>[date]</td>\n",
       "      <td>date</td>\n",
       "      <td>date</td>\n",
       "    </tr>\n",
       "    <tr>\n",
       "      <th>1740</th>\n",
       "      <td>dbpedia_13826</td>\n",
       "      <td>None</td>\n",
       "      <td>literal</td>\n",
       "      <td>[date]</td>\n",
       "      <td>date</td>\n",
       "      <td>date</td>\n",
       "    </tr>\n",
       "    <tr>\n",
       "      <th>2133</th>\n",
       "      <td>dbpedia_15458</td>\n",
       "      <td>None</td>\n",
       "      <td>literal</td>\n",
       "      <td>[date]</td>\n",
       "      <td>date</td>\n",
       "      <td>date</td>\n",
       "    </tr>\n",
       "    <tr>\n",
       "      <th>2195</th>\n",
       "      <td>dbpedia_17058</td>\n",
       "      <td>None</td>\n",
       "      <td>literal</td>\n",
       "      <td>[date]</td>\n",
       "      <td>date</td>\n",
       "      <td>date</td>\n",
       "    </tr>\n",
       "    <tr>\n",
       "      <th>2459</th>\n",
       "      <td>dbpedia_3072</td>\n",
       "      <td>None</td>\n",
       "      <td>resource</td>\n",
       "      <td>[dbo:Village, dbo:Settlement, dbo:PopulatedPla...</td>\n",
       "      <td>dbo:Place</td>\n",
       "      <td>dbo:Village</td>\n",
       "    </tr>\n",
       "    <tr>\n",
       "      <th>2584</th>\n",
       "      <td>dbpedia_95</td>\n",
       "      <td>None</td>\n",
       "      <td>literal</td>\n",
       "      <td>[date]</td>\n",
       "      <td>date</td>\n",
       "      <td>date</td>\n",
       "    </tr>\n",
       "    <tr>\n",
       "      <th>2900</th>\n",
       "      <td>dbpedia_17222</td>\n",
       "      <td>None</td>\n",
       "      <td>literal</td>\n",
       "      <td>[string]</td>\n",
       "      <td>string</td>\n",
       "      <td>string</td>\n",
       "    </tr>\n",
       "    <tr>\n",
       "      <th>3455</th>\n",
       "      <td>dbpedia_12914</td>\n",
       "      <td>None</td>\n",
       "      <td>resource</td>\n",
       "      <td>[dbo:Person, dbo:Agent]</td>\n",
       "      <td>dbo:Agent</td>\n",
       "      <td>dbo:Person</td>\n",
       "    </tr>\n",
       "    <tr>\n",
       "      <th>4052</th>\n",
       "      <td>dbpedia_751</td>\n",
       "      <td>None</td>\n",
       "      <td>literal</td>\n",
       "      <td>[date]</td>\n",
       "      <td>date</td>\n",
       "      <td>date</td>\n",
       "    </tr>\n",
       "    <tr>\n",
       "      <th>4894</th>\n",
       "      <td>dbpedia_10270</td>\n",
       "      <td>None</td>\n",
       "      <td>literal</td>\n",
       "      <td>[date]</td>\n",
       "      <td>date</td>\n",
       "      <td>date</td>\n",
       "    </tr>\n",
       "    <tr>\n",
       "      <th>5061</th>\n",
       "      <td>dbpedia_11728</td>\n",
       "      <td>None</td>\n",
       "      <td>literal</td>\n",
       "      <td>[date]</td>\n",
       "      <td>date</td>\n",
       "      <td>date</td>\n",
       "    </tr>\n",
       "    <tr>\n",
       "      <th>5161</th>\n",
       "      <td>dbpedia_3004</td>\n",
       "      <td>None</td>\n",
       "      <td>literal</td>\n",
       "      <td>[date]</td>\n",
       "      <td>date</td>\n",
       "      <td>date</td>\n",
       "    </tr>\n",
       "    <tr>\n",
       "      <th>5241</th>\n",
       "      <td>dbpedia_5762</td>\n",
       "      <td>None</td>\n",
       "      <td>literal</td>\n",
       "      <td>[date]</td>\n",
       "      <td>date</td>\n",
       "      <td>date</td>\n",
       "    </tr>\n",
       "    <tr>\n",
       "      <th>5657</th>\n",
       "      <td>dbpedia_1875</td>\n",
       "      <td>None</td>\n",
       "      <td>literal</td>\n",
       "      <td>[date]</td>\n",
       "      <td>date</td>\n",
       "      <td>date</td>\n",
       "    </tr>\n",
       "    <tr>\n",
       "      <th>6912</th>\n",
       "      <td>dbpedia_3162</td>\n",
       "      <td>None</td>\n",
       "      <td>literal</td>\n",
       "      <td>[date]</td>\n",
       "      <td>date</td>\n",
       "      <td>date</td>\n",
       "    </tr>\n",
       "    <tr>\n",
       "      <th>7177</th>\n",
       "      <td>dbpedia_10264</td>\n",
       "      <td>None</td>\n",
       "      <td>resource</td>\n",
       "      <td>[dbo:Media]</td>\n",
       "      <td>dbo:Media</td>\n",
       "      <td>dbo:Media</td>\n",
       "    </tr>\n",
       "    <tr>\n",
       "      <th>7295</th>\n",
       "      <td>dbpedia_6000</td>\n",
       "      <td>None</td>\n",
       "      <td>literal</td>\n",
       "      <td>[date]</td>\n",
       "      <td>date</td>\n",
       "      <td>date</td>\n",
       "    </tr>\n",
       "    <tr>\n",
       "      <th>7512</th>\n",
       "      <td>dbpedia_9487</td>\n",
       "      <td>None</td>\n",
       "      <td>literal</td>\n",
       "      <td>[date]</td>\n",
       "      <td>date</td>\n",
       "      <td>date</td>\n",
       "    </tr>\n",
       "    <tr>\n",
       "      <th>7550</th>\n",
       "      <td>dbpedia_14144</td>\n",
       "      <td>None</td>\n",
       "      <td>literal</td>\n",
       "      <td>[date]</td>\n",
       "      <td>date</td>\n",
       "      <td>date</td>\n",
       "    </tr>\n",
       "    <tr>\n",
       "      <th>8251</th>\n",
       "      <td>dbpedia_2395</td>\n",
       "      <td>None</td>\n",
       "      <td>literal</td>\n",
       "      <td>[date]</td>\n",
       "      <td>date</td>\n",
       "      <td>date</td>\n",
       "    </tr>\n",
       "    <tr>\n",
       "      <th>8261</th>\n",
       "      <td>dbpedia_3102</td>\n",
       "      <td>None</td>\n",
       "      <td>resource</td>\n",
       "      <td>[dbo:Award]</td>\n",
       "      <td>dbo:Award</td>\n",
       "      <td>dbo:Award</td>\n",
       "    </tr>\n",
       "    <tr>\n",
       "      <th>8664</th>\n",
       "      <td>dbpedia_5150</td>\n",
       "      <td>None</td>\n",
       "      <td>literal</td>\n",
       "      <td>[date]</td>\n",
       "      <td>date</td>\n",
       "      <td>date</td>\n",
       "    </tr>\n",
       "    <tr>\n",
       "      <th>8666</th>\n",
       "      <td>dbpedia_355</td>\n",
       "      <td>None</td>\n",
       "      <td>literal</td>\n",
       "      <td>[date]</td>\n",
       "      <td>date</td>\n",
       "      <td>date</td>\n",
       "    </tr>\n",
       "    <tr>\n",
       "      <th>9695</th>\n",
       "      <td>dbpedia_16192</td>\n",
       "      <td>None</td>\n",
       "      <td>literal</td>\n",
       "      <td>[date]</td>\n",
       "      <td>date</td>\n",
       "      <td>date</td>\n",
       "    </tr>\n",
       "    <tr>\n",
       "      <th>10352</th>\n",
       "      <td>dbpedia_12182</td>\n",
       "      <td>None</td>\n",
       "      <td>resource</td>\n",
       "      <td>[dbo:Person, dbo:Agent]</td>\n",
       "      <td>dbo:Agent</td>\n",
       "      <td>dbo:Person</td>\n",
       "    </tr>\n",
       "    <tr>\n",
       "      <th>11395</th>\n",
       "      <td>dbpedia_15471</td>\n",
       "      <td>None</td>\n",
       "      <td>literal</td>\n",
       "      <td>[date]</td>\n",
       "      <td>date</td>\n",
       "      <td>date</td>\n",
       "    </tr>\n",
       "    <tr>\n",
       "      <th>11842</th>\n",
       "      <td>dbpedia_6111</td>\n",
       "      <td>None</td>\n",
       "      <td>literal</td>\n",
       "      <td>[date]</td>\n",
       "      <td>date</td>\n",
       "      <td>date</td>\n",
       "    </tr>\n",
       "    <tr>\n",
       "      <th>12248</th>\n",
       "      <td>dbpedia_7262</td>\n",
       "      <td>None</td>\n",
       "      <td>resource</td>\n",
       "      <td>[dbo:Single, dbo:MusicalWork, dbo:Work]</td>\n",
       "      <td>dbo:Work</td>\n",
       "      <td>dbo:Single</td>\n",
       "    </tr>\n",
       "    <tr>\n",
       "      <th>12781</th>\n",
       "      <td>dbpedia_12156</td>\n",
       "      <td>None</td>\n",
       "      <td>resource</td>\n",
       "      <td>[dbo:Library, dbo:EducationalInstitution, dbo:...</td>\n",
       "      <td>dbo:Agent</td>\n",
       "      <td>dbo:Library</td>\n",
       "    </tr>\n",
       "    <tr>\n",
       "      <th>13795</th>\n",
       "      <td>dbpedia_7447</td>\n",
       "      <td>None</td>\n",
       "      <td>literal</td>\n",
       "      <td>[date]</td>\n",
       "      <td>date</td>\n",
       "      <td>date</td>\n",
       "    </tr>\n",
       "    <tr>\n",
       "      <th>14138</th>\n",
       "      <td>dbpedia_3476</td>\n",
       "      <td>None</td>\n",
       "      <td>literal</td>\n",
       "      <td>[date]</td>\n",
       "      <td>date</td>\n",
       "      <td>date</td>\n",
       "    </tr>\n",
       "    <tr>\n",
       "      <th>14562</th>\n",
       "      <td>dbpedia_7320</td>\n",
       "      <td>None</td>\n",
       "      <td>literal</td>\n",
       "      <td>[date]</td>\n",
       "      <td>date</td>\n",
       "      <td>date</td>\n",
       "    </tr>\n",
       "    <tr>\n",
       "      <th>15147</th>\n",
       "      <td>dbpedia_17378</td>\n",
       "      <td>None</td>\n",
       "      <td>resource</td>\n",
       "      <td>[dbo:Activity]</td>\n",
       "      <td>dbo:Activity</td>\n",
       "      <td>dbo:Activity</td>\n",
       "    </tr>\n",
       "    <tr>\n",
       "      <th>15222</th>\n",
       "      <td>dbpedia_12686</td>\n",
       "      <td>None</td>\n",
       "      <td>literal</td>\n",
       "      <td>[date]</td>\n",
       "      <td>date</td>\n",
       "      <td>date</td>\n",
       "    </tr>\n",
       "    <tr>\n",
       "      <th>15564</th>\n",
       "      <td>dbpedia_13458</td>\n",
       "      <td>None</td>\n",
       "      <td>literal</td>\n",
       "      <td>[date]</td>\n",
       "      <td>date</td>\n",
       "      <td>date</td>\n",
       "    </tr>\n",
       "    <tr>\n",
       "      <th>15659</th>\n",
       "      <td>dbpedia_13656</td>\n",
       "      <td>None</td>\n",
       "      <td>literal</td>\n",
       "      <td>[date]</td>\n",
       "      <td>date</td>\n",
       "      <td>date</td>\n",
       "    </tr>\n",
       "    <tr>\n",
       "      <th>15972</th>\n",
       "      <td>dbpedia_9619</td>\n",
       "      <td>None</td>\n",
       "      <td>resource</td>\n",
       "      <td>[dbo:Person, dbo:Agent]</td>\n",
       "      <td>dbo:Agent</td>\n",
       "      <td>dbo:Person</td>\n",
       "    </tr>\n",
       "    <tr>\n",
       "      <th>16772</th>\n",
       "      <td>dbpedia_16491</td>\n",
       "      <td>None</td>\n",
       "      <td>resource</td>\n",
       "      <td>[dbo:City, dbo:Settlement, dbo:PopulatedPlace,...</td>\n",
       "      <td>dbo:Place</td>\n",
       "      <td>dbo:City</td>\n",
       "    </tr>\n",
       "    <tr>\n",
       "      <th>17038</th>\n",
       "      <td>dbpedia_2410</td>\n",
       "      <td>None</td>\n",
       "      <td>literal</td>\n",
       "      <td>[number]</td>\n",
       "      <td>number</td>\n",
       "      <td>number</td>\n",
       "    </tr>\n",
       "  </tbody>\n",
       "</table>\n",
       "</div>"
      ],
      "text/plain": [
       "                  id question  ...   single_type specific_type\n",
       "242     dbpedia_7042     None  ...          date          date\n",
       "443    dbpedia_16956     None  ...     dbo:Place   dbo:Village\n",
       "497    dbpedia_15803     None  ...          date          date\n",
       "775      dbpedia_440     None  ...          date          date\n",
       "1295   dbpedia_11926     None  ...          date          date\n",
       "1740   dbpedia_13826     None  ...          date          date\n",
       "2133   dbpedia_15458     None  ...          date          date\n",
       "2195   dbpedia_17058     None  ...          date          date\n",
       "2459    dbpedia_3072     None  ...     dbo:Place   dbo:Village\n",
       "2584      dbpedia_95     None  ...          date          date\n",
       "2900   dbpedia_17222     None  ...        string        string\n",
       "3455   dbpedia_12914     None  ...     dbo:Agent    dbo:Person\n",
       "4052     dbpedia_751     None  ...          date          date\n",
       "4894   dbpedia_10270     None  ...          date          date\n",
       "5061   dbpedia_11728     None  ...          date          date\n",
       "5161    dbpedia_3004     None  ...          date          date\n",
       "5241    dbpedia_5762     None  ...          date          date\n",
       "5657    dbpedia_1875     None  ...          date          date\n",
       "6912    dbpedia_3162     None  ...          date          date\n",
       "7177   dbpedia_10264     None  ...     dbo:Media     dbo:Media\n",
       "7295    dbpedia_6000     None  ...          date          date\n",
       "7512    dbpedia_9487     None  ...          date          date\n",
       "7550   dbpedia_14144     None  ...          date          date\n",
       "8251    dbpedia_2395     None  ...          date          date\n",
       "8261    dbpedia_3102     None  ...     dbo:Award     dbo:Award\n",
       "8664    dbpedia_5150     None  ...          date          date\n",
       "8666     dbpedia_355     None  ...          date          date\n",
       "9695   dbpedia_16192     None  ...          date          date\n",
       "10352  dbpedia_12182     None  ...     dbo:Agent    dbo:Person\n",
       "11395  dbpedia_15471     None  ...          date          date\n",
       "11842   dbpedia_6111     None  ...          date          date\n",
       "12248   dbpedia_7262     None  ...      dbo:Work    dbo:Single\n",
       "12781  dbpedia_12156     None  ...     dbo:Agent   dbo:Library\n",
       "13795   dbpedia_7447     None  ...          date          date\n",
       "14138   dbpedia_3476     None  ...          date          date\n",
       "14562   dbpedia_7320     None  ...          date          date\n",
       "15147  dbpedia_17378     None  ...  dbo:Activity  dbo:Activity\n",
       "15222  dbpedia_12686     None  ...          date          date\n",
       "15564  dbpedia_13458     None  ...          date          date\n",
       "15659  dbpedia_13656     None  ...          date          date\n",
       "15972   dbpedia_9619     None  ...     dbo:Agent    dbo:Person\n",
       "16772  dbpedia_16491     None  ...     dbo:Place      dbo:City\n",
       "17038   dbpedia_2410     None  ...        number        number\n",
       "\n",
       "[43 rows x 6 columns]"
      ]
     },
     "execution_count": 13,
     "metadata": {
      "tags": []
     },
     "output_type": "execute_result"
    }
   ],
   "source": [
    "dbpedia_df[dbpedia_df['question'].isna()]"
   ]
  },
  {
   "cell_type": "code",
   "execution_count": 14,
   "metadata": {
    "colab": {
     "base_uri": "https://localhost:8080/",
     "height": 574
    },
    "colab_type": "code",
    "id": "i4zYuu8v7SYR",
    "outputId": "2878526a-378c-403f-9cd5-61fbc7558ea6"
   },
   "outputs": [
    {
     "data": {
      "text/html": [
       "<div>\n",
       "<style scoped>\n",
       "    .dataframe tbody tr th:only-of-type {\n",
       "        vertical-align: middle;\n",
       "    }\n",
       "\n",
       "    .dataframe tbody tr th {\n",
       "        vertical-align: top;\n",
       "    }\n",
       "\n",
       "    .dataframe thead th {\n",
       "        text-align: right;\n",
       "    }\n",
       "</style>\n",
       "<table border=\"1\" class=\"dataframe\">\n",
       "  <thead>\n",
       "    <tr style=\"text-align: right;\">\n",
       "      <th></th>\n",
       "      <th>id</th>\n",
       "      <th>question</th>\n",
       "      <th>category</th>\n",
       "      <th>type</th>\n",
       "      <th>single_type</th>\n",
       "      <th>specific_type</th>\n",
       "    </tr>\n",
       "  </thead>\n",
       "  <tbody>\n",
       "    <tr>\n",
       "      <th>372</th>\n",
       "      <td>dbpedia_23441</td>\n",
       "      <td>In which time zone is Rome?</td>\n",
       "      <td>resource</td>\n",
       "      <td>[]</td>\n",
       "      <td>None</td>\n",
       "      <td>None</td>\n",
       "    </tr>\n",
       "    <tr>\n",
       "      <th>724</th>\n",
       "      <td>dbpedia_23334</td>\n",
       "      <td>Give me all breeds of the German Shepherd dog.</td>\n",
       "      <td>resource</td>\n",
       "      <td>[]</td>\n",
       "      <td>None</td>\n",
       "      <td>None</td>\n",
       "    </tr>\n",
       "    <tr>\n",
       "      <th>1091</th>\n",
       "      <td>dbpedia_23283</td>\n",
       "      <td>Where is the residence of the prime minister o...</td>\n",
       "      <td>resource</td>\n",
       "      <td>[]</td>\n",
       "      <td>None</td>\n",
       "      <td>None</td>\n",
       "    </tr>\n",
       "    <tr>\n",
       "      <th>2398</th>\n",
       "      <td>dbpedia_23022</td>\n",
       "      <td>Which frequent flyer program has the most airl...</td>\n",
       "      <td>resource</td>\n",
       "      <td>[]</td>\n",
       "      <td>None</td>\n",
       "      <td>None</td>\n",
       "    </tr>\n",
       "    <tr>\n",
       "      <th>5146</th>\n",
       "      <td>dbpedia_23526</td>\n",
       "      <td>What form of government does Russia have?</td>\n",
       "      <td>resource</td>\n",
       "      <td>[]</td>\n",
       "      <td>None</td>\n",
       "      <td>None</td>\n",
       "    </tr>\n",
       "    <tr>\n",
       "      <th>6653</th>\n",
       "      <td>dbpedia_23146</td>\n",
       "      <td>Show me hiking trails in the Grand Canyon wher...</td>\n",
       "      <td>resource</td>\n",
       "      <td>[]</td>\n",
       "      <td>None</td>\n",
       "      <td>None</td>\n",
       "    </tr>\n",
       "    <tr>\n",
       "      <th>7690</th>\n",
       "      <td>dbpedia_23152</td>\n",
       "      <td>Which instruments does Cat Stevens play?</td>\n",
       "      <td>resource</td>\n",
       "      <td>[]</td>\n",
       "      <td>None</td>\n",
       "      <td>None</td>\n",
       "    </tr>\n",
       "    <tr>\n",
       "      <th>9476</th>\n",
       "      <td>dbpedia_23094</td>\n",
       "      <td>Whom did Lance Bass marry?</td>\n",
       "      <td>resource</td>\n",
       "      <td>[]</td>\n",
       "      <td>None</td>\n",
       "      <td>None</td>\n",
       "    </tr>\n",
       "    <tr>\n",
       "      <th>10025</th>\n",
       "      <td>dbpedia_23514</td>\n",
       "      <td>What is the timezone in San Pedro de Atacama?</td>\n",
       "      <td>resource</td>\n",
       "      <td>[]</td>\n",
       "      <td>None</td>\n",
       "      <td>None</td>\n",
       "    </tr>\n",
       "    <tr>\n",
       "      <th>10637</th>\n",
       "      <td>dbpedia_23494</td>\n",
       "      <td>Who designed the Brooklyn Bridge?</td>\n",
       "      <td>resource</td>\n",
       "      <td>[]</td>\n",
       "      <td>None</td>\n",
       "      <td>None</td>\n",
       "    </tr>\n",
       "    <tr>\n",
       "      <th>10851</th>\n",
       "      <td>dbpedia_23349</td>\n",
       "      <td>Which ingredients do I need for carrot cake?</td>\n",
       "      <td>resource</td>\n",
       "      <td>[]</td>\n",
       "      <td>None</td>\n",
       "      <td>None</td>\n",
       "    </tr>\n",
       "    <tr>\n",
       "      <th>11231</th>\n",
       "      <td>dbpedia_23019</td>\n",
       "      <td>What is the time zone of Salt Lake City?</td>\n",
       "      <td>resource</td>\n",
       "      <td>[]</td>\n",
       "      <td>None</td>\n",
       "      <td>None</td>\n",
       "    </tr>\n",
       "    <tr>\n",
       "      <th>11306</th>\n",
       "      <td>dbpedia_23153</td>\n",
       "      <td>Give me the websites of companies with more th...</td>\n",
       "      <td>resource</td>\n",
       "      <td>[]</td>\n",
       "      <td>None</td>\n",
       "      <td>None</td>\n",
       "    </tr>\n",
       "    <tr>\n",
       "      <th>13407</th>\n",
       "      <td>dbpedia_23285</td>\n",
       "      <td>Which instruments does Cat Stevens play?</td>\n",
       "      <td>resource</td>\n",
       "      <td>[]</td>\n",
       "      <td>None</td>\n",
       "      <td>None</td>\n",
       "    </tr>\n",
       "    <tr>\n",
       "      <th>13476</th>\n",
       "      <td>dbpedia_23248</td>\n",
       "      <td>What is the largest metropolitan area in Washi...</td>\n",
       "      <td>resource</td>\n",
       "      <td>[]</td>\n",
       "      <td>None</td>\n",
       "      <td>None</td>\n",
       "    </tr>\n",
       "    <tr>\n",
       "      <th>17198</th>\n",
       "      <td>dbpedia_23125</td>\n",
       "      <td>Give me the official websites of actors of the...</td>\n",
       "      <td>resource</td>\n",
       "      <td>[]</td>\n",
       "      <td>None</td>\n",
       "      <td>None</td>\n",
       "    </tr>\n",
       "  </tbody>\n",
       "</table>\n",
       "</div>"
      ],
      "text/plain": [
       "                  id  ... specific_type\n",
       "372    dbpedia_23441  ...          None\n",
       "724    dbpedia_23334  ...          None\n",
       "1091   dbpedia_23283  ...          None\n",
       "2398   dbpedia_23022  ...          None\n",
       "5146   dbpedia_23526  ...          None\n",
       "6653   dbpedia_23146  ...          None\n",
       "7690   dbpedia_23152  ...          None\n",
       "9476   dbpedia_23094  ...          None\n",
       "10025  dbpedia_23514  ...          None\n",
       "10637  dbpedia_23494  ...          None\n",
       "10851  dbpedia_23349  ...          None\n",
       "11231  dbpedia_23019  ...          None\n",
       "11306  dbpedia_23153  ...          None\n",
       "13407  dbpedia_23285  ...          None\n",
       "13476  dbpedia_23248  ...          None\n",
       "17198  dbpedia_23125  ...          None\n",
       "\n",
       "[16 rows x 6 columns]"
      ]
     },
     "execution_count": 14,
     "metadata": {
      "tags": []
     },
     "output_type": "execute_result"
    }
   ],
   "source": [
    "dbpedia_df[dbpedia_df['single_type'].isna()]"
   ]
  },
  {
   "cell_type": "code",
   "execution_count": 15,
   "metadata": {
    "colab": {},
    "colab_type": "code",
    "id": "BWVt2DP27SYU"
   },
   "outputs": [],
   "source": [
    "dbpedia_df= dbpedia_df[dbpedia_df['single_type'].notna()]"
   ]
  },
  {
   "cell_type": "code",
   "execution_count": 16,
   "metadata": {
    "colab": {},
    "colab_type": "code",
    "id": "PPP6ZtYLhnH3"
   },
   "outputs": [],
   "source": [
    "dbpedia_df.dropna( subset=['question'], inplace=True)"
   ]
  },
  {
   "cell_type": "code",
   "execution_count": 17,
   "metadata": {
    "colab": {
     "base_uri": "https://localhost:8080/",
     "height": 375
    },
    "colab_type": "code",
    "id": "Z02pWhSPgSGj",
    "outputId": "387ddc0f-5ca3-4fe3-8673-a91481555e99"
   },
   "outputs": [
    {
     "data": {
      "text/html": [
       "<div>\n",
       "<style scoped>\n",
       "    .dataframe tbody tr th:only-of-type {\n",
       "        vertical-align: middle;\n",
       "    }\n",
       "\n",
       "    .dataframe tbody tr th {\n",
       "        vertical-align: top;\n",
       "    }\n",
       "\n",
       "    .dataframe thead th {\n",
       "        text-align: right;\n",
       "    }\n",
       "</style>\n",
       "<table border=\"1\" class=\"dataframe\">\n",
       "  <thead>\n",
       "    <tr style=\"text-align: right;\">\n",
       "      <th></th>\n",
       "      <th>id</th>\n",
       "      <th>question</th>\n",
       "      <th>category</th>\n",
       "      <th>type</th>\n",
       "      <th>single_type</th>\n",
       "      <th>specific_type</th>\n",
       "    </tr>\n",
       "  </thead>\n",
       "  <tbody>\n",
       "    <tr>\n",
       "      <th>0</th>\n",
       "      <td>dbpedia_1177</td>\n",
       "      <td>Was Jacqueline Kennedy Onassis a follower of M...</td>\n",
       "      <td>boolean</td>\n",
       "      <td>[boolean]</td>\n",
       "      <td>boolean</td>\n",
       "      <td>boolean</td>\n",
       "    </tr>\n",
       "    <tr>\n",
       "      <th>1</th>\n",
       "      <td>dbpedia_14427</td>\n",
       "      <td>What is the name of the opera based on Twelfth...</td>\n",
       "      <td>resource</td>\n",
       "      <td>[dbo:Opera, dbo:MusicalWork, dbo:Work]</td>\n",
       "      <td>dbo:Work</td>\n",
       "      <td>dbo:Opera</td>\n",
       "    </tr>\n",
       "    <tr>\n",
       "      <th>2</th>\n",
       "      <td>dbpedia_16615</td>\n",
       "      <td>When did Lena Horne receive the Grammy Award f...</td>\n",
       "      <td>literal</td>\n",
       "      <td>[date]</td>\n",
       "      <td>date</td>\n",
       "      <td>date</td>\n",
       "    </tr>\n",
       "    <tr>\n",
       "      <th>3</th>\n",
       "      <td>dbpedia_23480</td>\n",
       "      <td>Do Prince Harry and Prince William have the sa...</td>\n",
       "      <td>boolean</td>\n",
       "      <td>[boolean]</td>\n",
       "      <td>boolean</td>\n",
       "      <td>boolean</td>\n",
       "    </tr>\n",
       "    <tr>\n",
       "      <th>4</th>\n",
       "      <td>dbpedia_3681</td>\n",
       "      <td>What is the subsidiary company working for Leo...</td>\n",
       "      <td>resource</td>\n",
       "      <td>[dbo:EducationalInstitution, dbo:Organisation,...</td>\n",
       "      <td>dbo:Agent</td>\n",
       "      <td>dbo:EducationalInstitution</td>\n",
       "    </tr>\n",
       "  </tbody>\n",
       "</table>\n",
       "</div>"
      ],
      "text/plain": [
       "              id  ...               specific_type\n",
       "0   dbpedia_1177  ...                     boolean\n",
       "1  dbpedia_14427  ...                   dbo:Opera\n",
       "2  dbpedia_16615  ...                        date\n",
       "3  dbpedia_23480  ...                     boolean\n",
       "4   dbpedia_3681  ...  dbo:EducationalInstitution\n",
       "\n",
       "[5 rows x 6 columns]"
      ]
     },
     "execution_count": 17,
     "metadata": {
      "tags": []
     },
     "output_type": "execute_result"
    }
   ],
   "source": [
    "dbpedia_df.head()"
   ]
  },
  {
   "cell_type": "code",
   "execution_count": 18,
   "metadata": {
    "colab": {
     "base_uri": "https://localhost:8080/",
     "height": 1000
    },
    "colab_type": "code",
    "id": "grb3CWOEePfC",
    "outputId": "1a53c277-29a9-459a-8cdb-b47f01470387"
   },
   "outputs": [
    {
     "data": {
      "text/html": [
       "<div>\n",
       "<style scoped>\n",
       "    .dataframe tbody tr th:only-of-type {\n",
       "        vertical-align: middle;\n",
       "    }\n",
       "\n",
       "    .dataframe tbody tr th {\n",
       "        vertical-align: top;\n",
       "    }\n",
       "\n",
       "    .dataframe thead th {\n",
       "        text-align: right;\n",
       "    }\n",
       "</style>\n",
       "<table border=\"1\" class=\"dataframe\">\n",
       "  <thead>\n",
       "    <tr style=\"text-align: right;\">\n",
       "      <th></th>\n",
       "      <th>id</th>\n",
       "      <th>question</th>\n",
       "      <th>category</th>\n",
       "      <th>type</th>\n",
       "      <th>single_type</th>\n",
       "      <th>specific_type</th>\n",
       "    </tr>\n",
       "  </thead>\n",
       "  <tbody>\n",
       "    <tr>\n",
       "      <th>2</th>\n",
       "      <td>dbpedia_16615</td>\n",
       "      <td>When did Lena Horne receive the Grammy Award f...</td>\n",
       "      <td>literal</td>\n",
       "      <td>[date]</td>\n",
       "      <td>date</td>\n",
       "      <td>date</td>\n",
       "    </tr>\n",
       "    <tr>\n",
       "      <th>5</th>\n",
       "      <td>dbpedia_14897</td>\n",
       "      <td>Which is the hierarchical BrainInfo ID of the ...</td>\n",
       "      <td>literal</td>\n",
       "      <td>[string]</td>\n",
       "      <td>string</td>\n",
       "      <td>string</td>\n",
       "    </tr>\n",
       "    <tr>\n",
       "      <th>8</th>\n",
       "      <td>dbpedia_3712</td>\n",
       "      <td>what is the musical composer id of bedrish sme...</td>\n",
       "      <td>literal</td>\n",
       "      <td>[string]</td>\n",
       "      <td>string</td>\n",
       "      <td>string</td>\n",
       "    </tr>\n",
       "    <tr>\n",
       "      <th>10</th>\n",
       "      <td>dbpedia_14847</td>\n",
       "      <td>How often are the Paralympic games held?</td>\n",
       "      <td>literal</td>\n",
       "      <td>[number]</td>\n",
       "      <td>number</td>\n",
       "      <td>number</td>\n",
       "    </tr>\n",
       "    <tr>\n",
       "      <th>18</th>\n",
       "      <td>dbpedia_6806</td>\n",
       "      <td>In what year did Tim Hunt give a Croonian Lect...</td>\n",
       "      <td>literal</td>\n",
       "      <td>[date]</td>\n",
       "      <td>date</td>\n",
       "      <td>date</td>\n",
       "    </tr>\n",
       "    <tr>\n",
       "      <th>...</th>\n",
       "      <td>...</td>\n",
       "      <td>...</td>\n",
       "      <td>...</td>\n",
       "      <td>...</td>\n",
       "      <td>...</td>\n",
       "      <td>...</td>\n",
       "    </tr>\n",
       "    <tr>\n",
       "      <th>17553</th>\n",
       "      <td>dbpedia_141</td>\n",
       "      <td>What is Bandysidan player ID for Sergey Lomanov ?</td>\n",
       "      <td>literal</td>\n",
       "      <td>[string]</td>\n",
       "      <td>string</td>\n",
       "      <td>string</td>\n",
       "    </tr>\n",
       "    <tr>\n",
       "      <th>17558</th>\n",
       "      <td>dbpedia_3605</td>\n",
       "      <td>What is the total fertility rate for operators...</td>\n",
       "      <td>literal</td>\n",
       "      <td>[number]</td>\n",
       "      <td>number</td>\n",
       "      <td>number</td>\n",
       "    </tr>\n",
       "    <tr>\n",
       "      <th>17560</th>\n",
       "      <td>dbpedia_6823</td>\n",
       "      <td>What is long  lives in  John Keats ?</td>\n",
       "      <td>literal</td>\n",
       "      <td>[number]</td>\n",
       "      <td>number</td>\n",
       "      <td>number</td>\n",
       "    </tr>\n",
       "    <tr>\n",
       "      <th>17561</th>\n",
       "      <td>dbpedia_10069</td>\n",
       "      <td>Who is the employer of the {Hans Krebs} ?</td>\n",
       "      <td>literal</td>\n",
       "      <td>[number]</td>\n",
       "      <td>number</td>\n",
       "      <td>number</td>\n",
       "    </tr>\n",
       "    <tr>\n",
       "      <th>17570</th>\n",
       "      <td>dbpedia_11517</td>\n",
       "      <td>When will Selma Lagerlöf start their membershi...</td>\n",
       "      <td>literal</td>\n",
       "      <td>[date]</td>\n",
       "      <td>date</td>\n",
       "      <td>date</td>\n",
       "    </tr>\n",
       "  </tbody>\n",
       "</table>\n",
       "<p>5156 rows × 6 columns</p>\n",
       "</div>"
      ],
      "text/plain": [
       "                  id  ... specific_type\n",
       "2      dbpedia_16615  ...          date\n",
       "5      dbpedia_14897  ...        string\n",
       "8       dbpedia_3712  ...        string\n",
       "10     dbpedia_14847  ...        number\n",
       "18      dbpedia_6806  ...          date\n",
       "...              ...  ...           ...\n",
       "17553    dbpedia_141  ...        string\n",
       "17558   dbpedia_3605  ...        number\n",
       "17560   dbpedia_6823  ...        number\n",
       "17561  dbpedia_10069  ...        number\n",
       "17570  dbpedia_11517  ...          date\n",
       "\n",
       "[5156 rows x 6 columns]"
      ]
     },
     "execution_count": 18,
     "metadata": {
      "tags": []
     },
     "output_type": "execute_result"
    }
   ],
   "source": [
    "dbpedia_df[dbpedia_df.category=='literal']"
   ]
  },
  {
   "cell_type": "code",
   "execution_count": 19,
   "metadata": {
    "colab": {},
    "colab_type": "code",
    "id": "mvoXvf7EEo5M"
   },
   "outputs": [],
   "source": [
    "def extend_cat(row):\n",
    "  if row['category'] =='boolean':\n",
    "    return row['category']\n",
    "  elif row['category'] == 'literal':\n",
    "    return row['single_type']\n",
    "  else:\n",
    "    return row['category']\n"
   ]
  },
  {
   "cell_type": "code",
   "execution_count": 20,
   "metadata": {
    "colab": {},
    "colab_type": "code",
    "id": "TYQgLu0Oew84"
   },
   "outputs": [],
   "source": [
    "dbpedia_df['extended_cat'] = dbpedia_df.apply(extend_cat, axis=1)"
   ]
  },
  {
   "cell_type": "code",
   "execution_count": 96,
   "metadata": {
    "colab": {
     "base_uri": "https://localhost:8080/",
     "height": 35
    },
    "colab_type": "code",
    "id": "btjxmoY2IIB7",
    "outputId": "dbe4ffaf-306f-4e43-a489-2a5803e14f4e"
   },
   "outputs": [
    {
     "data": {
      "text/plain": [
       "3502"
      ]
     },
     "execution_count": 96,
     "metadata": {
      "tags": []
     },
     "output_type": "execute_result"
    }
   ],
   "source": [
    "VALIDATION_SPLIT = 0.2\n",
    "indicies = np.arange(dbpedia_df.shape[0])\n",
    "np.random.shuffle(indicies)\n",
    "num_valid_samples = int(VALIDATION_SPLIT * dbpedia_df.shape[0])\n",
    "num_valid_samples"
   ]
  },
  {
   "cell_type": "code",
   "execution_count": 97,
   "metadata": {
    "colab": {},
    "colab_type": "code",
    "id": "ZDrkSlAx7SYg"
   },
   "outputs": [],
   "source": [
    "num_test_samples=  int(num_valid_samples/2)"
   ]
  },
  {
   "cell_type": "code",
   "execution_count": 98,
   "metadata": {
    "colab": {},
    "colab_type": "code",
    "id": "YAYxMSbLI-au"
   },
   "outputs": [],
   "source": [
    "dbpedia_df=dbpedia_df.iloc[indicies]"
   ]
  },
  {
   "cell_type": "code",
   "execution_count": 99,
   "metadata": {
    "colab": {
     "base_uri": "https://localhost:8080/",
     "height": 534
    },
    "colab_type": "code",
    "id": "cUbcdtQoIWPv",
    "outputId": "f3cccb74-1b68-4a73-b871-fc09922fa884"
   },
   "outputs": [
    {
     "data": {
      "text/html": [
       "<div>\n",
       "<style scoped>\n",
       "    .dataframe tbody tr th:only-of-type {\n",
       "        vertical-align: middle;\n",
       "    }\n",
       "\n",
       "    .dataframe tbody tr th {\n",
       "        vertical-align: top;\n",
       "    }\n",
       "\n",
       "    .dataframe thead th {\n",
       "        text-align: right;\n",
       "    }\n",
       "</style>\n",
       "<table border=\"1\" class=\"dataframe\">\n",
       "  <thead>\n",
       "    <tr style=\"text-align: right;\">\n",
       "      <th></th>\n",
       "      <th>id</th>\n",
       "      <th>question</th>\n",
       "      <th>category</th>\n",
       "      <th>type</th>\n",
       "      <th>single_type</th>\n",
       "      <th>specific_type</th>\n",
       "      <th>extended_cat</th>\n",
       "    </tr>\n",
       "  </thead>\n",
       "  <tbody>\n",
       "    <tr>\n",
       "      <th>2592</th>\n",
       "      <td>dbpedia_6746</td>\n",
       "      <td>What date did Richard Attenborough marry Sheil...</td>\n",
       "      <td>literal</td>\n",
       "      <td>[date]</td>\n",
       "      <td>date</td>\n",
       "      <td>date</td>\n",
       "      <td>date</td>\n",
       "    </tr>\n",
       "    <tr>\n",
       "      <th>12092</th>\n",
       "      <td>dbpedia_15139</td>\n",
       "      <td>In what year was Do the Right Thing nominated ...</td>\n",
       "      <td>literal</td>\n",
       "      <td>[date]</td>\n",
       "      <td>date</td>\n",
       "      <td>date</td>\n",
       "      <td>date</td>\n",
       "    </tr>\n",
       "    <tr>\n",
       "      <th>3153</th>\n",
       "      <td>dbpedia_7534</td>\n",
       "      <td>Who influenced Roald Dahl's career?</td>\n",
       "      <td>resource</td>\n",
       "      <td>[dbo:Profession, dbo:PersonFunction]</td>\n",
       "      <td>dbo:PersonFunction</td>\n",
       "      <td>dbo:Profession</td>\n",
       "      <td>resource</td>\n",
       "    </tr>\n",
       "    <tr>\n",
       "      <th>9024</th>\n",
       "      <td>dbpedia_5525</td>\n",
       "      <td>What is the location of death of Antonio Canov...</td>\n",
       "      <td>resource</td>\n",
       "      <td>[dbo:City, dbo:Settlement, dbo:PopulatedPlace,...</td>\n",
       "      <td>dbo:Place</td>\n",
       "      <td>dbo:City</td>\n",
       "      <td>resource</td>\n",
       "    </tr>\n",
       "    <tr>\n",
       "      <th>13986</th>\n",
       "      <td>dbpedia_18202</td>\n",
       "      <td>Which animator of Tommy Ticker's Tooth is also...</td>\n",
       "      <td>resource</td>\n",
       "      <td>[dbo:Person, dbo:Agent]</td>\n",
       "      <td>dbo:Agent</td>\n",
       "      <td>dbo:Person</td>\n",
       "      <td>resource</td>\n",
       "    </tr>\n",
       "  </tbody>\n",
       "</table>\n",
       "</div>"
      ],
      "text/plain": [
       "                  id  ... extended_cat\n",
       "2592    dbpedia_6746  ...         date\n",
       "12092  dbpedia_15139  ...         date\n",
       "3153    dbpedia_7534  ...     resource\n",
       "9024    dbpedia_5525  ...     resource\n",
       "13986  dbpedia_18202  ...     resource\n",
       "\n",
       "[5 rows x 7 columns]"
      ]
     },
     "execution_count": 99,
     "metadata": {
      "tags": []
     },
     "output_type": "execute_result"
    }
   ],
   "source": [
    "train_df= dbpedia_df[:-num_valid_samples]\n",
    "train_df.head()"
   ]
  },
  {
   "cell_type": "code",
   "execution_count": 100,
   "metadata": {
    "colab": {
     "base_uri": "https://localhost:8080/",
     "height": 638
    },
    "colab_type": "code",
    "id": "jH_U7DpbJL_R",
    "outputId": "8f9d6522-3225-44ce-d0d2-2cb60fa770dc"
   },
   "outputs": [
    {
     "data": {
      "text/html": [
       "<div>\n",
       "<style scoped>\n",
       "    .dataframe tbody tr th:only-of-type {\n",
       "        vertical-align: middle;\n",
       "    }\n",
       "\n",
       "    .dataframe tbody tr th {\n",
       "        vertical-align: top;\n",
       "    }\n",
       "\n",
       "    .dataframe thead th {\n",
       "        text-align: right;\n",
       "    }\n",
       "</style>\n",
       "<table border=\"1\" class=\"dataframe\">\n",
       "  <thead>\n",
       "    <tr style=\"text-align: right;\">\n",
       "      <th></th>\n",
       "      <th>id</th>\n",
       "      <th>question</th>\n",
       "      <th>category</th>\n",
       "      <th>type</th>\n",
       "      <th>single_type</th>\n",
       "      <th>specific_type</th>\n",
       "      <th>extended_cat</th>\n",
       "    </tr>\n",
       "  </thead>\n",
       "  <tbody>\n",
       "    <tr>\n",
       "      <th>13794</th>\n",
       "      <td>dbpedia_6046</td>\n",
       "      <td>Is labetalol and piretanide used as a drug to ...</td>\n",
       "      <td>boolean</td>\n",
       "      <td>[boolean]</td>\n",
       "      <td>boolean</td>\n",
       "      <td>boolean</td>\n",
       "      <td>boolean</td>\n",
       "    </tr>\n",
       "    <tr>\n",
       "      <th>364</th>\n",
       "      <td>dbpedia_8196</td>\n",
       "      <td>Which is the literature work that had Hebrew a...</td>\n",
       "      <td>resource</td>\n",
       "      <td>[dbo:Work]</td>\n",
       "      <td>dbo:Work</td>\n",
       "      <td>dbo:Work</td>\n",
       "      <td>resource</td>\n",
       "    </tr>\n",
       "    <tr>\n",
       "      <th>5678</th>\n",
       "      <td>dbpedia_13125</td>\n",
       "      <td>Of all the unitary states which are members of...</td>\n",
       "      <td>resource</td>\n",
       "      <td>[dbo:Country, dbo:State, dbo:PopulatedPlace, d...</td>\n",
       "      <td>dbo:Place</td>\n",
       "      <td>dbo:Country</td>\n",
       "      <td>resource</td>\n",
       "    </tr>\n",
       "    <tr>\n",
       "      <th>12352</th>\n",
       "      <td>dbpedia_19587</td>\n",
       "      <td>Where was the company who is the operator of H...</td>\n",
       "      <td>resource</td>\n",
       "      <td>[dbo:City, dbo:Settlement, dbo:PopulatedPlace,...</td>\n",
       "      <td>dbo:Place</td>\n",
       "      <td>dbo:City</td>\n",
       "      <td>resource</td>\n",
       "    </tr>\n",
       "    <tr>\n",
       "      <th>2764</th>\n",
       "      <td>dbpedia_3798</td>\n",
       "      <td>What is route map of Milan Metro?</td>\n",
       "      <td>literal</td>\n",
       "      <td>[string]</td>\n",
       "      <td>string</td>\n",
       "      <td>string</td>\n",
       "      <td>string</td>\n",
       "    </tr>\n",
       "  </tbody>\n",
       "</table>\n",
       "</div>"
      ],
      "text/plain": [
       "                  id  ... extended_cat\n",
       "13794   dbpedia_6046  ...      boolean\n",
       "364     dbpedia_8196  ...     resource\n",
       "5678   dbpedia_13125  ...     resource\n",
       "12352  dbpedia_19587  ...     resource\n",
       "2764    dbpedia_3798  ...       string\n",
       "\n",
       "[5 rows x 7 columns]"
      ]
     },
     "execution_count": 100,
     "metadata": {
      "tags": []
     },
     "output_type": "execute_result"
    }
   ],
   "source": [
    "valid_df= dbpedia_df[-num_valid_samples:]\n",
    "valid_df.head()"
   ]
  },
  {
   "cell_type": "code",
   "execution_count": 101,
   "metadata": {
    "colab": {
     "base_uri": "https://localhost:8080/",
     "height": 35
    },
    "colab_type": "code",
    "id": "oVbH4yCZ7SYp",
    "outputId": "df8df965-1dd7-4b08-e8b1-d9ffe4fd3c5b"
   },
   "outputs": [
    {
     "data": {
      "text/plain": [
       "3502"
      ]
     },
     "execution_count": 101,
     "metadata": {
      "tags": []
     },
     "output_type": "execute_result"
    }
   ],
   "source": [
    "len(valid_df)"
   ]
  },
  {
   "cell_type": "code",
   "execution_count": 102,
   "metadata": {
    "colab": {},
    "colab_type": "code",
    "id": "t-mlCnDjtjFV"
   },
   "outputs": [],
   "source": [
    "valid_df.to_csv('datasets/dbpedia_valid_gold.csv', index=False)"
   ]
  },
  {
   "cell_type": "code",
   "execution_count": 27,
   "metadata": {
    "colab": {},
    "colab_type": "code",
    "id": "S7io8zkd7SYr"
   },
   "outputs": [],
   "source": [
    "#test_df= dbpedia_df[-num_test_samples:]\n",
    "#test_df.head()"
   ]
  },
  {
   "cell_type": "code",
   "execution_count": 28,
   "metadata": {
    "colab": {
     "base_uri": "https://localhost:8080/",
     "height": 35
    },
    "colab_type": "code",
    "id": "k-7EDQfKLSjC",
    "outputId": "0b48e04d-2099-4ecf-f3e9-8f2fdfb0049b"
   },
   "outputs": [
    {
     "data": {
      "text/plain": [
       "3502"
      ]
     },
     "execution_count": 28,
     "metadata": {
      "tags": []
     },
     "output_type": "execute_result"
    }
   ],
   "source": [
    "len(valid_df)"
   ]
  },
  {
   "cell_type": "markdown",
   "metadata": {
    "colab_type": "text",
    "id": "xo1qLqL-ZNnH"
   },
   "source": [
    "## Maintain state"
   ]
  },
  {
   "cell_type": "markdown",
   "metadata": {
    "colab_type": "text",
    "id": "8U7DFEHU0Z5t"
   },
   "source": [
    "## LSTM"
   ]
  },
  {
   "cell_type": "code",
   "execution_count": 29,
   "metadata": {
    "colab": {
     "base_uri": "https://localhost:8080/",
     "height": 35
    },
    "colab_type": "code",
    "id": "HUpDH2BwbGBU",
    "outputId": "165bc7b5-d5ea-4087-a974-cda2dfa3ba31"
   },
   "outputs": [
    {
     "data": {
      "text/plain": [
       "3502"
      ]
     },
     "execution_count": 29,
     "metadata": {
      "tags": []
     },
     "output_type": "execute_result"
    }
   ],
   "source": [
    "len(valid_df)"
   ]
  },
  {
   "cell_type": "code",
   "execution_count": 34,
   "metadata": {
    "colab": {
     "base_uri": "https://localhost:8080/",
     "height": 17
    },
    "colab_type": "code",
    "id": "yPDyU3Ek7SYw",
    "outputId": "96b5ded2-5a28-4f71-b3b8-2a59ac276eab"
   },
   "outputs": [
    {
     "data": {
      "text/html": [],
      "text/plain": [
       "<IPython.core.display.HTML object>"
      ]
     },
     "metadata": {
      "tags": []
     },
     "output_type": "display_data"
    },
    {
     "data": {
      "text/html": [],
      "text/plain": [
       "<IPython.core.display.HTML object>"
      ]
     },
     "metadata": {
      "tags": []
     },
     "output_type": "display_data"
    },
    {
     "data": {
      "text/html": [],
      "text/plain": [
       "<IPython.core.display.HTML object>"
      ]
     },
     "metadata": {
      "tags": []
     },
     "output_type": "display_data"
    }
   ],
   "source": [
    "categories = list(dbpedia_df.extended_cat.unique())\n",
    "data_cat = TextDataBunch.from_df('tmp', train_df=train_df,  valid_df=valid_df, test_df=test_df, text_cols=['question'], label_cols=['extended_cat'], classes=categories)"
   ]
  },
  {
   "cell_type": "code",
   "execution_count": 35,
   "metadata": {
    "colab": {
     "base_uri": "https://localhost:8080/",
     "height": 572
    },
    "colab_type": "code",
    "id": "RHYc4RTWDp8_",
    "outputId": "a96da22f-aa05-4233-f8dc-621635033fd8"
   },
   "outputs": [
    {
     "name": "stderr",
     "output_type": "stream",
     "text": [
      "/usr/local/lib/python3.6/dist-packages/fastai/text/data.py:339: UserWarning: This overload of nonzero is deprecated:\n",
      "\tnonzero()\n",
      "Consider using one of the following signatures instead:\n",
      "\tnonzero(*, bool as_tuple) (Triggered internally at  /pytorch/torch/csrc/utils/python_arg_parser.cpp:766.)\n",
      "  idx_min = (t != self.pad_idx).nonzero().min()\n"
     ]
    },
    {
     "data": {
      "text/html": [
       "<table border=\"1\" class=\"dataframe\">\n",
       "  <thead>\n",
       "    <tr style=\"text-align: right;\">\n",
       "      <th>text</th>\n",
       "      <th>target</th>\n",
       "    </tr>\n",
       "  </thead>\n",
       "  <tbody>\n",
       "    <tr>\n",
       "      <td>xxbos xxmaj sovereignty has taken on a different meaning with the development of the principle of self - determination and the xxunk against the xxunk or use of force as xxunk xxunk xxunk of modern international law . xxmaj the xxmaj united xxmaj nations xxmaj xxunk , the xxmaj draft xxmaj declaration on xxmaj rights and xxmaj duties of xxmaj states , and the xxunk of regional international organizations express</td>\n",
       "      <td>resource</td>\n",
       "    </tr>\n",
       "    <tr>\n",
       "      <td>xxbos xxmaj xxunk xxmaj nandala xxmaj mafabi is a xxmaj xxunk accountant , lawyer , and politician . xxmaj he represents ... xxmaj nandala xxmaj mafabi . xxmaj from xxmaj wikipedia , the free encyclopedia . xxmaj jump to xxunk xxmaj jump to xxunk . xxmaj nandala xxmaj mafabi ... xxmaj residence , xxmaj kampala , xxmaj uganda . xxmaj nationality ... \\n  xxmaj missing : { ocean }</td>\n",
       "      <td>resource</td>\n",
       "    </tr>\n",
       "    <tr>\n",
       "      <td>xxbos xxmaj was xxmaj hunter xxup s. xxmaj thompson in xxmaj xxunk 's xxmaj angels : xxmaj the xxmaj strange and xxmaj terrible xxmaj saga of the xxmaj xxunk xxmaj motorcycle xxmaj xxunk and xxmaj the xxmaj kentucky xxmaj xxunk is xxmaj xxunk and xxmaj depraved ?</td>\n",
       "      <td>boolean</td>\n",
       "    </tr>\n",
       "    <tr>\n",
       "      <td>xxbos which is the { point in time } for { xxmaj kelly xxmaj xxunk } that has { nominated for } as { xxmaj daytime xxmaj emmy xxmaj award for xxmaj outstanding xxmaj talk xxmaj show xxmaj host } ?</td>\n",
       "      <td>date</td>\n",
       "    </tr>\n",
       "    <tr>\n",
       "      <td>xxbos xxmaj was the significant event of xxmaj augusto xxmaj pinochet his xxunk and xxunk and the xxup r. v xxmaj xxunk xxmaj street xxmaj metropolitan xxmaj xxunk xxmaj magistrate xxmaj xxunk xxmaj xxunk xxmaj pinochet xxmaj xxunk ?</td>\n",
       "      <td>boolean</td>\n",
       "    </tr>\n",
       "  </tbody>\n",
       "</table>"
      ],
      "text/plain": [
       "<IPython.core.display.HTML object>"
      ]
     },
     "metadata": {
      "tags": []
     },
     "output_type": "display_data"
    }
   ],
   "source": [
    "data_cat.show_batch()"
   ]
  },
  {
   "cell_type": "code",
   "execution_count": 36,
   "metadata": {
    "colab": {
     "base_uri": "https://localhost:8080/",
     "height": 151
    },
    "colab_type": "code",
    "id": "vx_qtT1f52KS",
    "outputId": "f043a996-d9b7-4ec6-b0e8-fd810bc0f09b"
   },
   "outputs": [
    {
     "name": "stdout",
     "output_type": "stream",
     "text": [
      "Downloading https://s3.amazonaws.com/fast-ai-modelzoo/wt103-fwd.tgz\n"
     ]
    },
    {
     "data": {
      "text/html": [],
      "text/plain": [
       "<IPython.core.display.HTML object>"
      ]
     },
     "metadata": {
      "tags": []
     },
     "output_type": "display_data"
    },
    {
     "data": {
      "text/html": [
       "\n",
       "    <div>\n",
       "        <style>\n",
       "            /* Turns off some styling */\n",
       "            progress {\n",
       "                /* gets rid of default border in Firefox and Opera. */\n",
       "                border: none;\n",
       "                /* Needs to be in here for Safari polyfill so background images work as expected. */\n",
       "                background-size: auto;\n",
       "            }\n",
       "            .progress-bar-interrupted, .progress-bar-interrupted::-webkit-progress-bar {\n",
       "                background: #F44336;\n",
       "            }\n",
       "        </style>\n",
       "      <progress value='0' class='' max='1' style='width:300px; height:20px; vertical-align: middle;'></progress>\n",
       "      0.00% [0/1 00:00<00:00]\n",
       "    </div>\n",
       "    \n",
       "<table border=\"1\" class=\"dataframe\">\n",
       "  <thead>\n",
       "    <tr style=\"text-align: left;\">\n",
       "      <th>epoch</th>\n",
       "      <th>train_loss</th>\n",
       "      <th>valid_loss</th>\n",
       "      <th>accuracy</th>\n",
       "      <th>time</th>\n",
       "    </tr>\n",
       "  </thead>\n",
       "  <tbody>\n",
       "  </tbody>\n",
       "</table><p>\n",
       "\n",
       "    <div>\n",
       "        <style>\n",
       "            /* Turns off some styling */\n",
       "            progress {\n",
       "                /* gets rid of default border in Firefox and Opera. */\n",
       "                border: none;\n",
       "                /* Needs to be in here for Safari polyfill so background images work as expected. */\n",
       "                background-size: auto;\n",
       "            }\n",
       "            .progress-bar-interrupted, .progress-bar-interrupted::-webkit-progress-bar {\n",
       "                background: #F44336;\n",
       "            }\n",
       "        </style>\n",
       "      <progress value='93' class='' max='218' style='width:300px; height:20px; vertical-align: middle;'></progress>\n",
       "      42.66% [93/218 00:02<00:03 3.5700]\n",
       "    </div>\n",
       "    "
      ],
      "text/plain": [
       "<IPython.core.display.HTML object>"
      ]
     },
     "metadata": {
      "tags": []
     },
     "output_type": "display_data"
    },
    {
     "name": "stdout",
     "output_type": "stream",
     "text": [
      "LR Finder is complete, type {learner_name}.recorder.plot() to see the graph.\n"
     ]
    }
   ],
   "source": [
    "cls1 = text_classifier_learner(data_cat, AWD_LSTM, bptt=10)\n",
    "cls1.lr_find()\n",
    "\n",
    "\n"
   ]
  },
  {
   "cell_type": "code",
   "execution_count": 37,
   "metadata": {
    "colab": {
     "base_uri": "https://localhost:8080/",
     "height": 279
    },
    "colab_type": "code",
    "id": "fJ-1rvy77SY3",
    "outputId": "06cd32de-79bc-4701-e3dc-47d74ed2585d"
   },
   "outputs": [
    {
     "data": {
      "image/png": "[encoded data removed]",
      "text/plain": [
       "<Figure size 432x288 with 1 Axes>"
      ]
     },
     "metadata": {
      "needs_background": "light",
      "tags": []
     },
     "output_type": "display_data"
    }
   ],
   "source": [
    "cls1.recorder.plot() "
   ]
  },
  {
   "cell_type": "code",
   "execution_count": 38,
   "metadata": {
    "colab": {
     "base_uri": "https://localhost:8080/",
     "height": 79
    },
    "colab_type": "code",
    "id": "EaxF8R157SY5",
    "outputId": "847a0bd8-ae47-41da-bc72-4d5a3114e9f0"
   },
   "outputs": [
    {
     "data": {
      "text/html": [
       "<table border=\"1\" class=\"dataframe\">\n",
       "  <thead>\n",
       "    <tr style=\"text-align: left;\">\n",
       "      <th>epoch</th>\n",
       "      <th>train_loss</th>\n",
       "      <th>valid_loss</th>\n",
       "      <th>accuracy</th>\n",
       "      <th>time</th>\n",
       "    </tr>\n",
       "  </thead>\n",
       "  <tbody>\n",
       "    <tr>\n",
       "      <td>0</td>\n",
       "      <td>1.329166</td>\n",
       "      <td>1.296423</td>\n",
       "      <td>0.545403</td>\n",
       "      <td>00:06</td>\n",
       "    </tr>\n",
       "  </tbody>\n",
       "</table>"
      ],
      "text/plain": [
       "<IPython.core.display.HTML object>"
      ]
     },
     "metadata": {
      "tags": []
     },
     "output_type": "display_data"
    }
   ],
   "source": [
    "cls1.fit_one_cycle(1, 1e-2, moms=(0.8,0.7))\n",
    "#cls1.save('dbpedia_fit_head')"
   ]
  },
  {
   "cell_type": "code",
   "execution_count": 39,
   "metadata": {
    "colab": {
     "base_uri": "https://localhost:8080/",
     "height": 202
    },
    "colab_type": "code",
    "id": "vStTv9KtHVke",
    "outputId": "3e24bb72-1ce1-41ba-e6e9-354f73bee153"
   },
   "outputs": [
    {
     "data": {
      "text/html": [
       "<table border=\"1\" class=\"dataframe\">\n",
       "  <thead>\n",
       "    <tr style=\"text-align: left;\">\n",
       "      <th>epoch</th>\n",
       "      <th>train_loss</th>\n",
       "      <th>valid_loss</th>\n",
       "      <th>accuracy</th>\n",
       "      <th>time</th>\n",
       "    </tr>\n",
       "  </thead>\n",
       "  <tbody>\n",
       "    <tr>\n",
       "      <td>0</td>\n",
       "      <td>0.684678</td>\n",
       "      <td>0.506903</td>\n",
       "      <td>0.850086</td>\n",
       "      <td>00:12</td>\n",
       "    </tr>\n",
       "    <tr>\n",
       "      <td>1</td>\n",
       "      <td>0.382696</td>\n",
       "      <td>0.343408</td>\n",
       "      <td>0.914049</td>\n",
       "      <td>00:11</td>\n",
       "    </tr>\n",
       "    <tr>\n",
       "      <td>2</td>\n",
       "      <td>0.277832</td>\n",
       "      <td>0.221281</td>\n",
       "      <td>0.942319</td>\n",
       "      <td>00:12</td>\n",
       "    </tr>\n",
       "    <tr>\n",
       "      <td>3</td>\n",
       "      <td>0.183297</td>\n",
       "      <td>0.202202</td>\n",
       "      <td>0.943461</td>\n",
       "      <td>00:11</td>\n",
       "    </tr>\n",
       "    <tr>\n",
       "      <td>4</td>\n",
       "      <td>0.160159</td>\n",
       "      <td>0.195942</td>\n",
       "      <td>0.946316</td>\n",
       "      <td>00:11</td>\n",
       "    </tr>\n",
       "  </tbody>\n",
       "</table>"
      ],
      "text/plain": [
       "<IPython.core.display.HTML object>"
      ]
     },
     "metadata": {
      "tags": []
     },
     "output_type": "display_data"
    }
   ],
   "source": [
    "#cls1.load('dbpedia_fit_head')\n",
    "cls1.unfreeze()\n",
    "cls1.fit_one_cycle(5, 1e-3, moms=(0.8,0.7))"
   ]
  },
  {
   "cell_type": "code",
   "execution_count": 40,
   "metadata": {
    "colab": {
     "base_uri": "https://localhost:8080/",
     "height": 202
    },
    "colab_type": "code",
    "id": "u92sH3S2n7we",
    "outputId": "395643ea-e83e-4f5b-b640-d2a09c806b9a"
   },
   "outputs": [
    {
     "data": {
      "text/html": [
       "<table border=\"1\" class=\"dataframe\">\n",
       "  <thead>\n",
       "    <tr style=\"text-align: left;\">\n",
       "      <th>epoch</th>\n",
       "      <th>train_loss</th>\n",
       "      <th>valid_loss</th>\n",
       "      <th>accuracy</th>\n",
       "      <th>time</th>\n",
       "    </tr>\n",
       "  </thead>\n",
       "  <tbody>\n",
       "    <tr>\n",
       "      <td>0</td>\n",
       "      <td>0.163769</td>\n",
       "      <td>0.229736</td>\n",
       "      <td>0.947173</td>\n",
       "      <td>00:12</td>\n",
       "    </tr>\n",
       "    <tr>\n",
       "      <td>1</td>\n",
       "      <td>0.209158</td>\n",
       "      <td>0.324305</td>\n",
       "      <td>0.915477</td>\n",
       "      <td>00:12</td>\n",
       "    </tr>\n",
       "    <tr>\n",
       "      <td>2</td>\n",
       "      <td>0.165535</td>\n",
       "      <td>0.210553</td>\n",
       "      <td>0.941748</td>\n",
       "      <td>00:11</td>\n",
       "    </tr>\n",
       "    <tr>\n",
       "      <td>3</td>\n",
       "      <td>0.121317</td>\n",
       "      <td>0.226867</td>\n",
       "      <td>0.938035</td>\n",
       "      <td>00:11</td>\n",
       "    </tr>\n",
       "    <tr>\n",
       "      <td>4</td>\n",
       "      <td>0.090068</td>\n",
       "      <td>0.218624</td>\n",
       "      <td>0.943461</td>\n",
       "      <td>00:12</td>\n",
       "    </tr>\n",
       "  </tbody>\n",
       "</table>"
      ],
      "text/plain": [
       "<IPython.core.display.HTML object>"
      ]
     },
     "metadata": {
      "tags": []
     },
     "output_type": "display_data"
    }
   ],
   "source": [
    "cls1.unfreeze()\n",
    "cls1.fit_one_cycle(5, 1e-3, moms=(0.8,0.7))"
   ]
  },
  {
   "cell_type": "code",
   "execution_count": 41,
   "metadata": {
    "colab": {},
    "colab_type": "code",
    "id": "KgF2w3IY7SY-"
   },
   "outputs": [],
   "source": [
    "cls1.save_encoder('models/dbpedia_cat_fit_c5')"
   ]
  },
  {
   "cell_type": "code",
   "execution_count": 42,
   "metadata": {
    "colab": {
     "base_uri": "https://localhost:8080/",
     "height": 1000
    },
    "colab_type": "code",
    "id": "Gbd-M_L7a8TS",
    "outputId": "4c48d822-4cad-41cb-9c39-3f878f5b23a4"
   },
   "outputs": [
    {
     "data": {
      "text/plain": [
       "RNNLearner(data=TextClasDataBunch;\n",
       "\n",
       "Train: LabelList (14010 items)\n",
       "x: TextList\n",
       "xxbos xxmaj list the magazines published by xxmaj xxunk xxmaj enterprises ?,xxbos xxmaj what has been founded in the state that xxmaj denton county , xxmaj texas is a part of ? xxunk,xxbos xxmaj is it true that the electorate of xxmaj del xxmaj carmen is greater than xxunk ?,xxbos xxmaj was 12th xxmaj field xxmaj artillery xxmaj regiment garrisoned at colorado ?,xxbos xxmaj is it true that the admission rate of the xxmaj massachusetts xxmaj institute of xxmaj technology equals to 0.08 ?\n",
       "y: CategoryList\n",
       "resource,resource,boolean,boolean,boolean\n",
       "Path: tmp;\n",
       "\n",
       "Valid: LabelList (3502 items)\n",
       "x: TextList\n",
       "xxbos xxmaj when was the city of xxmaj xxunk founded ?,xxbos xxmaj which scientist is known for the xxmaj manhattan xxmaj project and the xxmaj nobel xxmaj peace xxmaj prize ?,xxbos xxmaj in which city of xxmaj xxunk xxmaj xxunk was the xxmaj congress of xxmaj xxunk xxmaj organization founded ?,xxbos xxmaj which airports does xxmaj air xxmaj china serve ?,xxbos xxmaj who was xxmaj innocent xxup iii 's first xxunk once xxunk , xxunk ?\n",
       "y: CategoryList\n",
       "date,resource,resource,resource,resource\n",
       "Path: tmp;\n",
       "\n",
       "Test: LabelList (4381 items)\n",
       "x: TextList\n",
       "xxbos xxmaj how many ingredients are in the grain } ?,xxbos xxmaj is the case xxunk rate of xxmaj xxunk xxunk fewer than xxunk ?,xxbos xxmaj does the shelf life of xxunk equal 8 ?,xxbos xxmaj what sound does a xxunk make in the xxmaj french language ?,xxbos xxmaj when was xxmaj fergie completed his record label in xxmaj xxunk records ?\n",
       "y: EmptyLabelList\n",
       ",,,,\n",
       "Path: tmp, model=SequentialRNN(\n",
       "  (0): MultiBatchEncoder(\n",
       "    (module): AWD_LSTM(\n",
       "      (encoder): Embedding(7920, 400, padding_idx=1)\n",
       "      (encoder_dp): EmbeddingDropout(\n",
       "        (emb): Embedding(7920, 400, padding_idx=1)\n",
       "      )\n",
       "      (rnns): ModuleList(\n",
       "        (0): WeightDropout(\n",
       "          (module): LSTM(400, 1152, batch_first=True)\n",
       "        )\n",
       "        (1): WeightDropout(\n",
       "          (module): LSTM(1152, 1152, batch_first=True)\n",
       "        )\n",
       "        (2): WeightDropout(\n",
       "          (module): LSTM(1152, 400, batch_first=True)\n",
       "        )\n",
       "      )\n",
       "      (input_dp): RNNDropout()\n",
       "      (hidden_dps): ModuleList(\n",
       "        (0): RNNDropout()\n",
       "        (1): RNNDropout()\n",
       "        (2): RNNDropout()\n",
       "      )\n",
       "    )\n",
       "  )\n",
       "  (1): PoolingLinearClassifier(\n",
       "    (layers): Sequential(\n",
       "      (0): BatchNorm1d(1200, eps=1e-05, momentum=0.1, affine=True, track_running_stats=True)\n",
       "      (1): Dropout(p=0.4, inplace=False)\n",
       "      (2): Linear(in_features=1200, out_features=50, bias=True)\n",
       "      (3): ReLU(inplace=True)\n",
       "      (4): BatchNorm1d(50, eps=1e-05, momentum=0.1, affine=True, track_running_stats=True)\n",
       "      (5): Dropout(p=0.1, inplace=False)\n",
       "      (6): Linear(in_features=50, out_features=5, bias=True)\n",
       "    )\n",
       "  )\n",
       "), opt_func=functools.partial(<class 'torch.optim.adam.Adam'>, betas=(0.9, 0.99)), loss_func=FlattenedLoss of CrossEntropyLoss(), metrics=[<function accuracy at 0x7f7ea5a7b268>], true_wd=True, bn_wd=True, wd=0.01, train_bn=True, path=PosixPath('tmp'), model_dir='models', callback_fns=[functools.partial(<class 'fastai.basic_train.Recorder'>, add_time=True, silent=False)], callbacks=[RNNTrainer\n",
       "learn: RNNLearner(data=TextClasDataBunch;\n",
       "\n",
       "Train: LabelList (14010 items)\n",
       "x: TextList\n",
       "xxbos xxmaj list the magazines published by xxmaj xxunk xxmaj enterprises ?,xxbos xxmaj what has been founded in the state that xxmaj denton county , xxmaj texas is a part of ? xxunk,xxbos xxmaj is it true that the electorate of xxmaj del xxmaj carmen is greater than xxunk ?,xxbos xxmaj was 12th xxmaj field xxmaj artillery xxmaj regiment garrisoned at colorado ?,xxbos xxmaj is it true that the admission rate of the xxmaj massachusetts xxmaj institute of xxmaj technology equals to 0.08 ?\n",
       "y: CategoryList\n",
       "resource,resource,boolean,boolean,boolean\n",
       "Path: tmp;\n",
       "\n",
       "Valid: LabelList (3502 items)\n",
       "x: TextList\n",
       "xxbos xxmaj when was the city of xxmaj xxunk founded ?,xxbos xxmaj which scientist is known for the xxmaj manhattan xxmaj project and the xxmaj nobel xxmaj peace xxmaj prize ?,xxbos xxmaj in which city of xxmaj xxunk xxmaj xxunk was the xxmaj congress of xxmaj xxunk xxmaj organization founded ?,xxbos xxmaj which airports does xxmaj air xxmaj china serve ?,xxbos xxmaj who was xxmaj innocent xxup iii 's first xxunk once xxunk , xxunk ?\n",
       "y: CategoryList\n",
       "date,resource,resource,resource,resource\n",
       "Path: tmp;\n",
       "\n",
       "Test: LabelList (4381 items)\n",
       "x: TextList\n",
       "xxbos xxmaj how many ingredients are in the grain } ?,xxbos xxmaj is the case xxunk rate of xxmaj xxunk xxunk fewer than xxunk ?,xxbos xxmaj does the shelf life of xxunk equal 8 ?,xxbos xxmaj what sound does a xxunk make in the xxmaj french language ?,xxbos xxmaj when was xxmaj fergie completed his record label in xxmaj xxunk records ?\n",
       "y: EmptyLabelList\n",
       ",,,,\n",
       "Path: tmp, model=SequentialRNN(\n",
       "  (0): MultiBatchEncoder(\n",
       "    (module): AWD_LSTM(\n",
       "      (encoder): Embedding(7920, 400, padding_idx=1)\n",
       "      (encoder_dp): EmbeddingDropout(\n",
       "        (emb): Embedding(7920, 400, padding_idx=1)\n",
       "      )\n",
       "      (rnns): ModuleList(\n",
       "        (0): WeightDropout(\n",
       "          (module): LSTM(400, 1152, batch_first=True)\n",
       "        )\n",
       "        (1): WeightDropout(\n",
       "          (module): LSTM(1152, 1152, batch_first=True)\n",
       "        )\n",
       "        (2): WeightDropout(\n",
       "          (module): LSTM(1152, 400, batch_first=True)\n",
       "        )\n",
       "      )\n",
       "      (input_dp): RNNDropout()\n",
       "      (hidden_dps): ModuleList(\n",
       "        (0): RNNDropout()\n",
       "        (1): RNNDropout()\n",
       "        (2): RNNDropout()\n",
       "      )\n",
       "    )\n",
       "  )\n",
       "  (1): PoolingLinearClassifier(\n",
       "    (layers): Sequential(\n",
       "      (0): BatchNorm1d(1200, eps=1e-05, momentum=0.1, affine=True, track_running_stats=True)\n",
       "      (1): Dropout(p=0.4, inplace=False)\n",
       "      (2): Linear(in_features=1200, out_features=50, bias=True)\n",
       "      (3): ReLU(inplace=True)\n",
       "      (4): BatchNorm1d(50, eps=1e-05, momentum=0.1, affine=True, track_running_stats=True)\n",
       "      (5): Dropout(p=0.1, inplace=False)\n",
       "      (6): Linear(in_features=50, out_features=5, bias=True)\n",
       "    )\n",
       "  )\n",
       "), opt_func=functools.partial(<class 'torch.optim.adam.Adam'>, betas=(0.9, 0.99)), loss_func=FlattenedLoss of CrossEntropyLoss(), metrics=[<function accuracy at 0x7f7ea5a7b268>], true_wd=True, bn_wd=True, wd=0.01, train_bn=True, path=PosixPath('tmp'), model_dir='models', callback_fns=[functools.partial(<class 'fastai.basic_train.Recorder'>, add_time=True, silent=False)], callbacks=[...], layer_groups=[Sequential(\n",
       "  (0): Embedding(7920, 400, padding_idx=1)\n",
       "  (1): EmbeddingDropout(\n",
       "    (emb): Embedding(7920, 400, padding_idx=1)\n",
       "  )\n",
       "), Sequential(\n",
       "  (0): WeightDropout(\n",
       "    (module): LSTM(400, 1152, batch_first=True)\n",
       "  )\n",
       "  (1): RNNDropout()\n",
       "), Sequential(\n",
       "  (0): WeightDropout(\n",
       "    (module): LSTM(1152, 1152, batch_first=True)\n",
       "  )\n",
       "  (1): RNNDropout()\n",
       "), Sequential(\n",
       "  (0): WeightDropout(\n",
       "    (module): LSTM(1152, 400, batch_first=True)\n",
       "  )\n",
       "  (1): RNNDropout()\n",
       "), Sequential(\n",
       "  (0): PoolingLinearClassifier(\n",
       "    (layers): Sequential(\n",
       "      (0): BatchNorm1d(1200, eps=1e-05, momentum=0.1, affine=True, track_running_stats=True)\n",
       "      (1): Dropout(p=0.4, inplace=False)\n",
       "      (2): Linear(in_features=1200, out_features=50, bias=True)\n",
       "      (3): ReLU(inplace=True)\n",
       "      (4): BatchNorm1d(50, eps=1e-05, momentum=0.1, affine=True, track_running_stats=True)\n",
       "      (5): Dropout(p=0.1, inplace=False)\n",
       "      (6): Linear(in_features=50, out_features=5, bias=True)\n",
       "    )\n",
       "  )\n",
       ")], add_time=True, silent=False)\n",
       "alpha: 2.0\n",
       "beta: 1.0], layer_groups=[Sequential(\n",
       "  (0): Embedding(7920, 400, padding_idx=1)\n",
       "  (1): EmbeddingDropout(\n",
       "    (emb): Embedding(7920, 400, padding_idx=1)\n",
       "  )\n",
       "), Sequential(\n",
       "  (0): WeightDropout(\n",
       "    (module): LSTM(400, 1152, batch_first=True)\n",
       "  )\n",
       "  (1): RNNDropout()\n",
       "), Sequential(\n",
       "  (0): WeightDropout(\n",
       "    (module): LSTM(1152, 1152, batch_first=True)\n",
       "  )\n",
       "  (1): RNNDropout()\n",
       "), Sequential(\n",
       "  (0): WeightDropout(\n",
       "    (module): LSTM(1152, 400, batch_first=True)\n",
       "  )\n",
       "  (1): RNNDropout()\n",
       "), Sequential(\n",
       "  (0): PoolingLinearClassifier(\n",
       "    (layers): Sequential(\n",
       "      (0): BatchNorm1d(1200, eps=1e-05, momentum=0.1, affine=True, track_running_stats=True)\n",
       "      (1): Dropout(p=0.4, inplace=False)\n",
       "      (2): Linear(in_features=1200, out_features=50, bias=True)\n",
       "      (3): ReLU(inplace=True)\n",
       "      (4): BatchNorm1d(50, eps=1e-05, momentum=0.1, affine=True, track_running_stats=True)\n",
       "      (5): Dropout(p=0.1, inplace=False)\n",
       "      (6): Linear(in_features=50, out_features=5, bias=True)\n",
       "    )\n",
       "  )\n",
       ")], add_time=True, silent=False)"
      ]
     },
     "execution_count": 42,
     "metadata": {
      "tags": []
     },
     "output_type": "execute_result"
    }
   ],
   "source": [
    "cls1.load_encoder('models/dbpedia_cat_fit_c5')"
   ]
  },
  {
   "cell_type": "code",
   "execution_count": 43,
   "metadata": {
    "colab": {
     "base_uri": "https://localhost:8080/",
     "height": 35
    },
    "colab_type": "code",
    "id": "Uvv9k95cdiz-",
    "outputId": "9955e0da-73a1-4488-a207-7f45f90b6122"
   },
   "outputs": [
    {
     "data": {
      "text/plain": [
       "4381"
      ]
     },
     "execution_count": 43,
     "metadata": {
      "tags": []
     },
     "output_type": "execute_result"
    }
   ],
   "source": [
    "len(test_df)"
   ]
  },
  {
   "cell_type": "code",
   "execution_count": 44,
   "metadata": {
    "colab": {
     "base_uri": "https://localhost:8080/",
     "height": 603
    },
    "colab_type": "code",
    "id": "Ra4KoN1Qf8T2",
    "outputId": "0bb73b1f-4811-41fe-bf69-65c3eb5f8732"
   },
   "outputs": [
    {
     "data": {
      "text/html": [
       "<div>\n",
       "<style scoped>\n",
       "    .dataframe tbody tr th:only-of-type {\n",
       "        vertical-align: middle;\n",
       "    }\n",
       "\n",
       "    .dataframe tbody tr th {\n",
       "        vertical-align: top;\n",
       "    }\n",
       "\n",
       "    .dataframe thead th {\n",
       "        text-align: right;\n",
       "    }\n",
       "</style>\n",
       "<table border=\"1\" class=\"dataframe\">\n",
       "  <thead>\n",
       "    <tr style=\"text-align: right;\">\n",
       "      <th></th>\n",
       "      <th>id</th>\n",
       "      <th>question</th>\n",
       "      <th>category</th>\n",
       "      <th>type</th>\n",
       "      <th>single_type</th>\n",
       "      <th>specific_type</th>\n",
       "      <th>extended_cat</th>\n",
       "    </tr>\n",
       "  </thead>\n",
       "  <tbody>\n",
       "    <tr>\n",
       "      <th>1781</th>\n",
       "      <td>dbpedia_4772</td>\n",
       "      <td>When was the city of Frankfurt founded ?</td>\n",
       "      <td>literal</td>\n",
       "      <td>[date]</td>\n",
       "      <td>date</td>\n",
       "      <td>date</td>\n",
       "      <td>date</td>\n",
       "    </tr>\n",
       "    <tr>\n",
       "      <th>1457</th>\n",
       "      <td>dbpedia_23475</td>\n",
       "      <td>Which scientist is known for the Manhattan Pro...</td>\n",
       "      <td>resource</td>\n",
       "      <td>[dbo:Scientist, dbo:Person, dbo:Agent]</td>\n",
       "      <td>dbo:Agent</td>\n",
       "      <td>dbo:Scientist</td>\n",
       "      <td>resource</td>\n",
       "    </tr>\n",
       "    <tr>\n",
       "      <th>16326</th>\n",
       "      <td>dbpedia_22151</td>\n",
       "      <td>In which city of Pittsburg Steelers was the Co...</td>\n",
       "      <td>resource</td>\n",
       "      <td>[dbo:City, dbo:Settlement, dbo:PopulatedPlace,...</td>\n",
       "      <td>dbo:Place</td>\n",
       "      <td>dbo:City</td>\n",
       "      <td>resource</td>\n",
       "    </tr>\n",
       "    <tr>\n",
       "      <th>1940</th>\n",
       "      <td>dbpedia_23173</td>\n",
       "      <td>Which airports does Air China serve?</td>\n",
       "      <td>resource</td>\n",
       "      <td>[dbo:Airport, dbo:Infrastructure, dbo:Architec...</td>\n",
       "      <td>dbo:Place</td>\n",
       "      <td>dbo:Airport</td>\n",
       "      <td>resource</td>\n",
       "    </tr>\n",
       "    <tr>\n",
       "      <th>1744</th>\n",
       "      <td>dbpedia_16586</td>\n",
       "      <td>Who was Innocent III's first cousin once remov...</td>\n",
       "      <td>resource</td>\n",
       "      <td>[dbo:Person, dbo:Agent]</td>\n",
       "      <td>dbo:Agent</td>\n",
       "      <td>dbo:Person</td>\n",
       "      <td>resource</td>\n",
       "    </tr>\n",
       "  </tbody>\n",
       "</table>\n",
       "</div>"
      ],
      "text/plain": [
       "                  id  ... extended_cat\n",
       "1781    dbpedia_4772  ...         date\n",
       "1457   dbpedia_23475  ...     resource\n",
       "16326  dbpedia_22151  ...     resource\n",
       "1940   dbpedia_23173  ...     resource\n",
       "1744   dbpedia_16586  ...     resource\n",
       "\n",
       "[5 rows x 7 columns]"
      ]
     },
     "execution_count": 44,
     "metadata": {
      "tags": []
     },
     "output_type": "execute_result"
    }
   ],
   "source": [
    "valid_df.head()"
   ]
  },
  {
   "cell_type": "code",
   "execution_count": 46,
   "metadata": {
    "colab": {
     "base_uri": "https://localhost:8080/",
     "height": 377
    },
    "colab_type": "code",
    "id": "Cce1AnYGYDxX",
    "outputId": "5adb1502-a942-4c0f-932a-f31169c544a1"
   },
   "outputs": [
    {
     "name": "stdout",
     "output_type": "stream",
     "text": [
      "What is the location in or next to body of water and time zone of Nice? \n",
      " : resource\n",
      "Prob: tensor(0.9990)\n",
      "press for next1\n",
      "Which mountains are contained in Inyo National Forest? \n",
      " : resource\n",
      "Prob: tensor(0.9957)\n",
      "press for next1\n",
      "Is it true that the total assets of the HHLA equals 1812900000? \n",
      " : boolean\n",
      "Prob: tensor(0.9999)\n",
      "press for next1\n",
      "Is the duration of 666 less than .8? \n",
      " : boolean\n",
      "Prob: tensor(0.9998)\n",
      "press for next1\n",
      "Did Tom Selleck play sports for the USA? \n",
      " : boolean\n",
      "Prob: tensor(0.9993)\n",
      "press for next1\n"
     ]
    }
   ],
   "source": [
    "classes_t=[]\n",
    "for i,row in test_df.sample(5).iterrows():\n",
    "  p_ = cls1.predict(row['question'])\n",
    "  #print (p_)\n",
    "  #va = row['verbalized_answer']\n",
    "  #s = va.find('[')\n",
    "  #e = va.find(']')\n",
    "  # ans =va[s:e+1]\n",
    "  cls = int(p_[1])\n",
    "  prob= p_[2]\n",
    "  print (row['question'], '\\n',':',categories[cls] )\n",
    "  print ('Prob:',prob[cls])\n",
    "  input('press for next')"
   ]
  },
  {
   "cell_type": "code",
   "execution_count": 47,
   "metadata": {
    "colab": {
     "base_uri": "https://localhost:8080/",
     "height": 17
    },
    "colab_type": "code",
    "id": "42R7QFMO7SZF",
    "outputId": "cae2e9ca-6e33-4e9c-a0fe-f392f0138bc4"
   },
   "outputs": [
    {
     "data": {
      "text/html": [],
      "text/plain": [
       "<IPython.core.display.HTML object>"
      ]
     },
     "metadata": {
      "tags": []
     },
     "output_type": "display_data"
    }
   ],
   "source": [
    "data_cat.add_test(test_df)"
   ]
  },
  {
   "cell_type": "code",
   "execution_count": 103,
   "metadata": {
    "colab": {
     "base_uri": "https://localhost:8080/",
     "height": 1000
    },
    "colab_type": "code",
    "id": "Kg4_S3fbuQtU",
    "outputId": "ea5da0ba-5f81-410f-ca7c-1def1dfdb856"
   },
   "outputs": [
    {
     "data": {
      "text/html": [],
      "text/plain": [
       "<IPython.core.display.HTML object>"
      ]
     },
     "metadata": {
      "tags": []
     },
     "output_type": "display_data"
    },
    {
     "name": "stderr",
     "output_type": "stream",
     "text": [
      "/usr/local/lib/python3.6/dist-packages/ipykernel_launcher.py:3: SettingWithCopyWarning: \n",
      "A value is trying to be set on a copy of a slice from a DataFrame.\n",
      "Try using .loc[row_indexer,col_indexer] = value instead\n",
      "\n",
      "See the caveats in the documentation: https://pandas.pydata.org/pandas-docs/stable/user_guide/indexing.html#returning-a-view-versus-a-copy\n",
      "  This is separate from the ipykernel package so we can avoid doing imports until\n",
      "/usr/local/lib/python3.6/dist-packages/pandas/core/generic.py:5303: SettingWithCopyWarning: \n",
      "A value is trying to be set on a copy of a slice from a DataFrame.\n",
      "Try using .loc[row_indexer,col_indexer] = value instead\n",
      "\n",
      "See the caveats in the documentation: https://pandas.pydata.org/pandas-docs/stable/user_guide/indexing.html#returning-a-view-versus-a-copy\n",
      "  self[name] = value\n"
     ]
    },
    {
     "data": {
      "text/html": [
       "<div>\n",
       "<style scoped>\n",
       "    .dataframe tbody tr th:only-of-type {\n",
       "        vertical-align: middle;\n",
       "    }\n",
       "\n",
       "    .dataframe tbody tr th {\n",
       "        vertical-align: top;\n",
       "    }\n",
       "\n",
       "    .dataframe thead th {\n",
       "        text-align: right;\n",
       "    }\n",
       "</style>\n",
       "<table border=\"1\" class=\"dataframe\">\n",
       "  <thead>\n",
       "    <tr style=\"text-align: right;\">\n",
       "      <th></th>\n",
       "      <th>id</th>\n",
       "      <th>question</th>\n",
       "      <th>category</th>\n",
       "      <th>type</th>\n",
       "      <th>single_type</th>\n",
       "      <th>specific_type</th>\n",
       "      <th>extended_cat</th>\n",
       "      <th>cat_pred</th>\n",
       "    </tr>\n",
       "  </thead>\n",
       "  <tbody>\n",
       "    <tr>\n",
       "      <th>11518</th>\n",
       "      <td>dbpedia_2155</td>\n",
       "      <td>Who began the International Olympic Committee?</td>\n",
       "      <td>resource</td>\n",
       "      <td>[dbo:Person, dbo:Agent]</td>\n",
       "      <td>dbo:Agent</td>\n",
       "      <td>dbo:Person</td>\n",
       "      <td>resource</td>\n",
       "      <td>resource</td>\n",
       "    </tr>\n",
       "    <tr>\n",
       "      <th>8061</th>\n",
       "      <td>dbpedia_3075</td>\n",
       "      <td>What is Dewey Decimal Classification for Canto...</td>\n",
       "      <td>literal</td>\n",
       "      <td>[string]</td>\n",
       "      <td>string</td>\n",
       "      <td>string</td>\n",
       "      <td>string</td>\n",
       "      <td>boolean</td>\n",
       "    </tr>\n",
       "    <tr>\n",
       "      <th>5997</th>\n",
       "      <td>dbpedia_3773</td>\n",
       "      <td>Which is the WSJ topic ID for Al Sharpton?</td>\n",
       "      <td>literal</td>\n",
       "      <td>[string]</td>\n",
       "      <td>string</td>\n",
       "      <td>string</td>\n",
       "      <td>string</td>\n",
       "      <td>resource</td>\n",
       "    </tr>\n",
       "    <tr>\n",
       "      <th>10287</th>\n",
       "      <td>dbpedia_17493</td>\n",
       "      <td>n/a</td>\n",
       "      <td>resource</td>\n",
       "      <td>[dbo:Country, dbo:State, dbo:PopulatedPlace, d...</td>\n",
       "      <td>dbo:Place</td>\n",
       "      <td>dbo:Country</td>\n",
       "      <td>resource</td>\n",
       "      <td>resource</td>\n",
       "    </tr>\n",
       "    <tr>\n",
       "      <th>12304</th>\n",
       "      <td>dbpedia_12867</td>\n",
       "      <td>What are the ice honey team which start with t...</td>\n",
       "      <td>resource</td>\n",
       "      <td>[dbo:HockeyTeam, dbo:SportsTeam, dbo:Organisat...</td>\n",
       "      <td>dbo:Agent</td>\n",
       "      <td>dbo:HockeyTeam</td>\n",
       "      <td>resource</td>\n",
       "      <td>resource</td>\n",
       "    </tr>\n",
       "    <tr>\n",
       "      <th>8606</th>\n",
       "      <td>dbpedia_8703</td>\n",
       "      <td>Who composed the Star-Spangled Banner ?</td>\n",
       "      <td>resource</td>\n",
       "      <td>[dbo:Person, dbo:Agent]</td>\n",
       "      <td>dbo:Agent</td>\n",
       "      <td>dbo:Person</td>\n",
       "      <td>resource</td>\n",
       "      <td>boolean</td>\n",
       "    </tr>\n",
       "    <tr>\n",
       "      <th>5103</th>\n",
       "      <td>dbpedia_22015</td>\n",
       "      <td>Tell me the name of the Prime Time Entertainme...</td>\n",
       "      <td>resource</td>\n",
       "      <td>[dbo:TelevisionShow, dbo:Work]</td>\n",
       "      <td>dbo:Work</td>\n",
       "      <td>dbo:TelevisionShow</td>\n",
       "      <td>resource</td>\n",
       "      <td>resource</td>\n",
       "    </tr>\n",
       "    <tr>\n",
       "      <th>15301</th>\n",
       "      <td>dbpedia_557</td>\n",
       "      <td>When did Shivaji and Sakavaarbai become married?</td>\n",
       "      <td>literal</td>\n",
       "      <td>[date]</td>\n",
       "      <td>date</td>\n",
       "      <td>date</td>\n",
       "      <td>date</td>\n",
       "      <td>boolean</td>\n",
       "    </tr>\n",
       "    <tr>\n",
       "      <th>5958</th>\n",
       "      <td>dbpedia_825</td>\n",
       "      <td>what is the {represents} for {North Atlantic T...</td>\n",
       "      <td>resource</td>\n",
       "      <td>[dbo:Organisation, dbo:Agent]</td>\n",
       "      <td>dbo:Agent</td>\n",
       "      <td>dbo:Organisation</td>\n",
       "      <td>resource</td>\n",
       "      <td>resource</td>\n",
       "    </tr>\n",
       "    <tr>\n",
       "      <th>10119</th>\n",
       "      <td>dbpedia_20492</td>\n",
       "      <td>Which content license of the MSX BASIC is also...</td>\n",
       "      <td>resource</td>\n",
       "      <td>[dbo:Company, dbo:Organisation, dbo:Agent]</td>\n",
       "      <td>dbo:Agent</td>\n",
       "      <td>dbo:Company</td>\n",
       "      <td>resource</td>\n",
       "      <td>date</td>\n",
       "    </tr>\n",
       "  </tbody>\n",
       "</table>\n",
       "</div>"
      ],
      "text/plain": [
       "                  id  ...  cat_pred\n",
       "11518   dbpedia_2155  ...  resource\n",
       "8061    dbpedia_3075  ...   boolean\n",
       "5997    dbpedia_3773  ...  resource\n",
       "10287  dbpedia_17493  ...  resource\n",
       "12304  dbpedia_12867  ...  resource\n",
       "8606    dbpedia_8703  ...   boolean\n",
       "5103   dbpedia_22015  ...  resource\n",
       "15301    dbpedia_557  ...   boolean\n",
       "5958     dbpedia_825  ...  resource\n",
       "10119  dbpedia_20492  ...      date\n",
       "\n",
       "[10 rows x 8 columns]"
      ]
     },
     "execution_count": 103,
     "metadata": {
      "tags": []
     },
     "output_type": "execute_result"
    }
   ],
   "source": [
    "predictions, *_  = cls1.get_preds(DatasetType.Valid)\n",
    "labels = np.argmax(predictions, 1)\n",
    "valid_df['cat_pred'] = labels\n",
    "valid_df.cat_pred= valid_df.cat_pred.replace({ i:c for i,c in enumerate(categories)})\n",
    "valid_df.sample(10)"
   ]
  },
  {
   "cell_type": "code",
   "execution_count": 48,
   "metadata": {
    "colab": {
     "base_uri": "https://localhost:8080/",
     "height": 17
    },
    "colab_type": "code",
    "id": "CoI2VwcRKpIA",
    "outputId": "7230052d-6b7b-457f-dd7d-06b3164d5ba6"
   },
   "outputs": [
    {
     "data": {
      "text/html": [],
      "text/plain": [
       "<IPython.core.display.HTML object>"
      ]
     },
     "metadata": {
      "tags": []
     },
     "output_type": "display_data"
    }
   ],
   "source": [
    "predictions, *_  = cls1.get_preds(DatasetType.Test)\n",
    "labels = np.argmax(predictions, 1)"
   ]
  },
  {
   "cell_type": "code",
   "execution_count": 49,
   "metadata": {
    "colab": {},
    "colab_type": "code",
    "id": "4WsOrO3I7SZJ"
   },
   "outputs": [],
   "source": [
    "labels= labels.numpy()"
   ]
  },
  {
   "cell_type": "code",
   "execution_count": 50,
   "metadata": {
    "colab": {
     "base_uri": "https://localhost:8080/",
     "height": 549
    },
    "colab_type": "code",
    "id": "U5LbVsSE7SZL",
    "outputId": "57b4cfca-5c6b-4bbf-bfdf-9b499077c7ac"
   },
   "outputs": [
    {
     "data": {
      "text/html": [
       "<table border=\"1\" class=\"dataframe\">\n",
       "  <thead>\n",
       "    <tr style=\"text-align: right;\">\n",
       "      <th>text</th>\n",
       "      <th>target</th>\n",
       "      <th>prediction</th>\n",
       "    </tr>\n",
       "  </thead>\n",
       "  <tbody>\n",
       "    <tr>\n",
       "      <td>xxbos xxmaj in xxunk the xxunk family xxunk to 2 xxmaj xxunk xxmaj street , xxmaj xxunk , from which xxmaj william xxunk rented part of the xxunk of xxmaj xxunk xxmaj house . xxmaj there he xxunk flowers in which his family were xxunk to take an interest , the origin of xxmaj xxunk 's life - long interest in botanical forms as a subject matter for the xxunk</td>\n",
       "      <td>string</td>\n",
       "      <td>resource</td>\n",
       "    </tr>\n",
       "    <tr>\n",
       "      <td>xxbos xxmaj the death of xxmaj xxunk was xxunk depicted in a much - xxunk xxunk xxmaj xxunk and xxmaj his xxmaj sons , xxunk by xxmaj xxunk the xxmaj elder to the xxmaj xxunk sculptors xxmaj xxunk , xxmaj xxunk , and xxmaj xxunk , which xxunk in the xxmaj xxunk xxmaj xxunk , xxmaj rome . ... song \" xxmaj xxunk \" xxunk xxmaj xxunk , xxunk him</td>\n",
       "      <td>number</td>\n",
       "      <td>resource</td>\n",
       "    </tr>\n",
       "    <tr>\n",
       "      <td>xxbos xxmaj which family member of xxmaj xxunk xxmaj xxunk is a writer by profession ? \\n \\n  xxmaj name the family member of xxmaj xxunk xxmaj xxunk who is a writer by profession . \\n \\n  xxmaj which of xxmaj xxunk xxmaj xxunk 's relatives has a career in writing ? \\n \\n  xxmaj who is the relative of xxmaj xxunk xxmaj xxunk who has a</td>\n",
       "      <td>resource</td>\n",
       "      <td>resource</td>\n",
       "    </tr>\n",
       "    <tr>\n",
       "      <td>xxbos xxmaj did { xxunk } was { nominated for } { xxmaj primetime xxmaj emmy xxmaj award for xxmaj outstanding xxmaj supporting xxmaj actress in a xxmaj drama xxmaj series } and { xxmaj primetime xxmaj emmy xxmaj award for xxmaj outstanding xxmaj lead xxmaj actress in a xxmaj miniseries or a xxmaj movie } ?</td>\n",
       "      <td>boolean</td>\n",
       "      <td>boolean</td>\n",
       "    </tr>\n",
       "    <tr>\n",
       "      <td>xxbos xxup which xxup is xxup the xxup specialist xxup of xxup the xxup part xxup of xxup work xxup of xxup xxunk xxup of xxup quantum xxup xxunk xxup xxunk xxup with a xxup blood xxup flow xxup limited xxup xxunk xxup based xxup xxunk xxup model ?</td>\n",
       "      <td>resource</td>\n",
       "      <td>resource</td>\n",
       "    </tr>\n",
       "  </tbody>\n",
       "</table>"
      ],
      "text/plain": [
       "<IPython.core.display.HTML object>"
      ]
     },
     "metadata": {
      "tags": []
     },
     "output_type": "display_data"
    }
   ],
   "source": [
    "cls1.show_results(ds_type=DatasetType.Valid)"
   ]
  },
  {
   "cell_type": "code",
   "execution_count": 51,
   "metadata": {
    "colab": {},
    "colab_type": "code",
    "id": "K0bsmQeC7SZO"
   },
   "outputs": [],
   "source": [
    "test_df['cat_pred'] = labels\n",
    "test_df.cat_pred= test_df.cat_pred.replace({ i:c for i,c in enumerate(categories)})"
   ]
  },
  {
   "cell_type": "code",
   "execution_count": 52,
   "metadata": {
    "colab": {
     "base_uri": "https://localhost:8080/",
     "height": 35
    },
    "colab_type": "code",
    "id": "_7mg0iGU7SZR",
    "outputId": "ea11b2ce-18bb-4178-a479-778be477b8b4"
   },
   "outputs": [
    {
     "data": {
      "text/plain": [
       "['resource', 'boolean', 'number', 'string', 'date']"
      ]
     },
     "execution_count": 52,
     "metadata": {
      "tags": []
     },
     "output_type": "execute_result"
    }
   ],
   "source": [
    "categories"
   ]
  },
  {
   "cell_type": "code",
   "execution_count": 53,
   "metadata": {
    "colab": {
     "base_uri": "https://localhost:8080/",
     "height": 355
    },
    "colab_type": "code",
    "id": "aQYhc6Mt7SZU",
    "outputId": "7704dfbe-359f-4fd0-c551-ea2a5dffaf29"
   },
   "outputs": [
    {
     "data": {
      "text/html": [
       "<div>\n",
       "<style scoped>\n",
       "    .dataframe tbody tr th:only-of-type {\n",
       "        vertical-align: middle;\n",
       "    }\n",
       "\n",
       "    .dataframe tbody tr th {\n",
       "        vertical-align: top;\n",
       "    }\n",
       "\n",
       "    .dataframe thead th {\n",
       "        text-align: right;\n",
       "    }\n",
       "</style>\n",
       "<table border=\"1\" class=\"dataframe\">\n",
       "  <thead>\n",
       "    <tr style=\"text-align: right;\">\n",
       "      <th></th>\n",
       "      <th>id</th>\n",
       "      <th>question</th>\n",
       "      <th>cat_pred</th>\n",
       "    </tr>\n",
       "  </thead>\n",
       "  <tbody>\n",
       "    <tr>\n",
       "      <th>175</th>\n",
       "      <td>dbpedia_15955</td>\n",
       "      <td>When did Rowan Atkinson attend the Queen's Col...</td>\n",
       "      <td>date</td>\n",
       "    </tr>\n",
       "    <tr>\n",
       "      <th>2886</th>\n",
       "      <td>dbpedia_10493</td>\n",
       "      <td>Which is {terminating connection location} of ...</td>\n",
       "      <td>resource</td>\n",
       "    </tr>\n",
       "    <tr>\n",
       "      <th>705</th>\n",
       "      <td>dbpedia_18449</td>\n",
       "      <td>What are the television shows whose distributo...</td>\n",
       "      <td>resource</td>\n",
       "    </tr>\n",
       "    <tr>\n",
       "      <th>693</th>\n",
       "      <td>dbpedia_17455</td>\n",
       "      <td>What is the name of a film located in Montreal?</td>\n",
       "      <td>resource</td>\n",
       "    </tr>\n",
       "    <tr>\n",
       "      <th>3088</th>\n",
       "      <td>dbpedia_21273</td>\n",
       "      <td>Does Jean Louis Arcand work for Geneva?</td>\n",
       "      <td>boolean</td>\n",
       "    </tr>\n",
       "    <tr>\n",
       "      <th>3257</th>\n",
       "      <td>dbpedia_18918</td>\n",
       "      <td>Who all are buried in Arlington national cemen...</td>\n",
       "      <td>resource</td>\n",
       "    </tr>\n",
       "    <tr>\n",
       "      <th>151</th>\n",
       "      <td>dbpedia_20082</td>\n",
       "      <td>What is the common debut team of the Butch Met...</td>\n",
       "      <td>resource</td>\n",
       "    </tr>\n",
       "    <tr>\n",
       "      <th>2420</th>\n",
       "      <td>dbpedia_8792</td>\n",
       "      <td>Which is the JMDb film ID for Nausicaä of the ...</td>\n",
       "      <td>string</td>\n",
       "    </tr>\n",
       "    <tr>\n",
       "      <th>3861</th>\n",
       "      <td>dbpedia_17132</td>\n",
       "      <td>Which is the monomer of polyvinyl chloride?</td>\n",
       "      <td>resource</td>\n",
       "    </tr>\n",
       "    <tr>\n",
       "      <th>2211</th>\n",
       "      <td>dbpedia_16796</td>\n",
       "      <td>When was Isaac stern completed his education a...</td>\n",
       "      <td>date</td>\n",
       "    </tr>\n",
       "  </tbody>\n",
       "</table>\n",
       "</div>"
      ],
      "text/plain": [
       "                 id  ...  cat_pred\n",
       "175   dbpedia_15955  ...      date\n",
       "2886  dbpedia_10493  ...  resource\n",
       "705   dbpedia_18449  ...  resource\n",
       "693   dbpedia_17455  ...  resource\n",
       "3088  dbpedia_21273  ...   boolean\n",
       "3257  dbpedia_18918  ...  resource\n",
       "151   dbpedia_20082  ...  resource\n",
       "2420   dbpedia_8792  ...    string\n",
       "3861  dbpedia_17132  ...  resource\n",
       "2211  dbpedia_16796  ...      date\n",
       "\n",
       "[10 rows x 3 columns]"
      ]
     },
     "execution_count": 53,
     "metadata": {
      "tags": []
     },
     "output_type": "execute_result"
    }
   ],
   "source": [
    "test_df.sample(10)"
   ]
  },
  {
   "cell_type": "markdown",
   "metadata": {
    "colab_type": "text",
    "id": "-2iYXi-k7SZX"
   },
   "source": [
    "## Most frequent/generic type prediction"
   ]
  },
  {
   "cell_type": "code",
   "execution_count": 54,
   "metadata": {
    "colab": {
     "base_uri": "https://localhost:8080/",
     "height": 35
    },
    "colab_type": "code",
    "id": "DRPVfHb87SZa",
    "outputId": "1687c950-4ff7-4d68-db73-08adaf161763"
   },
   "outputs": [
    {
     "data": {
      "text/plain": [
       "47"
      ]
     },
     "execution_count": 54,
     "metadata": {
      "tags": []
     },
     "output_type": "execute_result"
    }
   ],
   "source": [
    "len(dbpedia_df.single_type.unique())"
   ]
  },
  {
   "cell_type": "code",
   "execution_count": 55,
   "metadata": {
    "colab": {},
    "colab_type": "code",
    "id": "bgHEuW4yD6tZ"
   },
   "outputs": [],
   "source": [
    "train_df= train_df[train_df.category =='resource']\n",
    "valid_df= valid_df[valid_df.category =='resource']"
   ]
  },
  {
   "cell_type": "code",
   "execution_count": 56,
   "metadata": {
    "colab": {
     "base_uri": "https://localhost:8080/",
     "height": 35
    },
    "colab_type": "code",
    "id": "Gi1kRUIyEKre",
    "outputId": "a5711572-4a35-4667-e7a2-764d9d5023a8"
   },
   "outputs": [
    {
     "data": {
      "text/plain": [
       "(7647, 1910)"
      ]
     },
     "execution_count": 56,
     "metadata": {
      "tags": []
     },
     "output_type": "execute_result"
    }
   ],
   "source": [
    "len(train_df), len(valid_df)"
   ]
  },
  {
   "cell_type": "code",
   "execution_count": 57,
   "metadata": {
    "colab": {
     "base_uri": "https://localhost:8080/",
     "height": 253
    },
    "colab_type": "code",
    "id": "bvVMnYYt9njM",
    "outputId": "9c63f9fb-e962-4ff5-b032-eecde77a9700"
   },
   "outputs": [
    {
     "name": "stderr",
     "output_type": "stream",
     "text": [
      "/usr/local/lib/python3.6/dist-packages/ipykernel_launcher.py:1: SettingWithCopyWarning: \n",
      "A value is trying to be set on a copy of a slice from a DataFrame.\n",
      "Try using .loc[row_indexer,col_indexer] = value instead\n",
      "\n",
      "See the caveats in the documentation: https://pandas.pydata.org/pandas-docs/stable/user_guide/indexing.html#returning-a-view-versus-a-copy\n",
      "  \"\"\"Entry point for launching an IPython kernel.\n",
      "/usr/local/lib/python3.6/dist-packages/ipykernel_launcher.py:2: SettingWithCopyWarning: \n",
      "A value is trying to be set on a copy of a slice from a DataFrame.\n",
      "Try using .loc[row_indexer,col_indexer] = value instead\n",
      "\n",
      "See the caveats in the documentation: https://pandas.pydata.org/pandas-docs/stable/user_guide/indexing.html#returning-a-view-versus-a-copy\n",
      "  \n"
     ]
    }
   ],
   "source": [
    "train_df['ques_cat'] = train_df.question + ' dbo:'+train_df.extended_cat\n",
    "valid_df['ques_cat'] = valid_df.question + ' dbo:'+valid_df.extended_cat"
   ]
  },
  {
   "cell_type": "code",
   "execution_count": 58,
   "metadata": {
    "colab": {
     "base_uri": "https://localhost:8080/",
     "height": 603
    },
    "colab_type": "code",
    "id": "73OEgi0lcBFG",
    "outputId": "a591fb91-1f6d-4b27-8d25-ace21d6d8102"
   },
   "outputs": [
    {
     "data": {
      "text/html": [
       "<div>\n",
       "<style scoped>\n",
       "    .dataframe tbody tr th:only-of-type {\n",
       "        vertical-align: middle;\n",
       "    }\n",
       "\n",
       "    .dataframe tbody tr th {\n",
       "        vertical-align: top;\n",
       "    }\n",
       "\n",
       "    .dataframe thead th {\n",
       "        text-align: right;\n",
       "    }\n",
       "</style>\n",
       "<table border=\"1\" class=\"dataframe\">\n",
       "  <thead>\n",
       "    <tr style=\"text-align: right;\">\n",
       "      <th></th>\n",
       "      <th>id</th>\n",
       "      <th>question</th>\n",
       "      <th>category</th>\n",
       "      <th>type</th>\n",
       "      <th>single_type</th>\n",
       "      <th>specific_type</th>\n",
       "      <th>extended_cat</th>\n",
       "      <th>ques_cat</th>\n",
       "    </tr>\n",
       "  </thead>\n",
       "  <tbody>\n",
       "    <tr>\n",
       "      <th>1457</th>\n",
       "      <td>dbpedia_23475</td>\n",
       "      <td>Which scientist is known for the Manhattan Pro...</td>\n",
       "      <td>resource</td>\n",
       "      <td>[dbo:Scientist, dbo:Person, dbo:Agent]</td>\n",
       "      <td>dbo:Agent</td>\n",
       "      <td>dbo:Scientist</td>\n",
       "      <td>resource</td>\n",
       "      <td>Which scientist is known for the Manhattan Pro...</td>\n",
       "    </tr>\n",
       "    <tr>\n",
       "      <th>16326</th>\n",
       "      <td>dbpedia_22151</td>\n",
       "      <td>In which city of Pittsburg Steelers was the Co...</td>\n",
       "      <td>resource</td>\n",
       "      <td>[dbo:City, dbo:Settlement, dbo:PopulatedPlace,...</td>\n",
       "      <td>dbo:Place</td>\n",
       "      <td>dbo:City</td>\n",
       "      <td>resource</td>\n",
       "      <td>In which city of Pittsburg Steelers was the Co...</td>\n",
       "    </tr>\n",
       "    <tr>\n",
       "      <th>1940</th>\n",
       "      <td>dbpedia_23173</td>\n",
       "      <td>Which airports does Air China serve?</td>\n",
       "      <td>resource</td>\n",
       "      <td>[dbo:Airport, dbo:Infrastructure, dbo:Architec...</td>\n",
       "      <td>dbo:Place</td>\n",
       "      <td>dbo:Airport</td>\n",
       "      <td>resource</td>\n",
       "      <td>Which airports does Air China serve? dbo:resource</td>\n",
       "    </tr>\n",
       "    <tr>\n",
       "      <th>1744</th>\n",
       "      <td>dbpedia_16586</td>\n",
       "      <td>Who was Innocent III's first cousin once remov...</td>\n",
       "      <td>resource</td>\n",
       "      <td>[dbo:Person, dbo:Agent]</td>\n",
       "      <td>dbo:Agent</td>\n",
       "      <td>dbo:Person</td>\n",
       "      <td>resource</td>\n",
       "      <td>Who was Innocent III's first cousin once remov...</td>\n",
       "    </tr>\n",
       "    <tr>\n",
       "      <th>16707</th>\n",
       "      <td>dbpedia_20015</td>\n",
       "      <td>Who are the founders of Iskra ?</td>\n",
       "      <td>resource</td>\n",
       "      <td>[dbo:Person, dbo:Agent]</td>\n",
       "      <td>dbo:Agent</td>\n",
       "      <td>dbo:Person</td>\n",
       "      <td>resource</td>\n",
       "      <td>Who are the founders of Iskra ? dbo:resource</td>\n",
       "    </tr>\n",
       "  </tbody>\n",
       "</table>\n",
       "</div>"
      ],
      "text/plain": [
       "                  id  ...                                           ques_cat\n",
       "1457   dbpedia_23475  ...  Which scientist is known for the Manhattan Pro...\n",
       "16326  dbpedia_22151  ...  In which city of Pittsburg Steelers was the Co...\n",
       "1940   dbpedia_23173  ...  Which airports does Air China serve? dbo:resource\n",
       "1744   dbpedia_16586  ...  Who was Innocent III's first cousin once remov...\n",
       "16707  dbpedia_20015  ...       Who are the founders of Iskra ? dbo:resource\n",
       "\n",
       "[5 rows x 8 columns]"
      ]
     },
     "execution_count": 58,
     "metadata": {
      "tags": []
     },
     "output_type": "execute_result"
    }
   ],
   "source": [
    "valid_df.head()"
   ]
  },
  {
   "cell_type": "code",
   "execution_count": 59,
   "metadata": {
    "colab": {
     "base_uri": "https://localhost:8080/",
     "height": 17
    },
    "colab_type": "code",
    "id": "_-xwkZjm7SZd",
    "outputId": "8d127f2c-2a1c-453a-d56b-9e4e95f3277f"
   },
   "outputs": [
    {
     "data": {
      "text/html": [],
      "text/plain": [
       "<IPython.core.display.HTML object>"
      ]
     },
     "metadata": {
      "tags": []
     },
     "output_type": "display_data"
    },
    {
     "data": {
      "text/html": [],
      "text/plain": [
       "<IPython.core.display.HTML object>"
      ]
     },
     "metadata": {
      "tags": []
     },
     "output_type": "display_data"
    }
   ],
   "source": [
    "types = list(dbpedia_df.single_type.unique())\n",
    "data_cls = TextDataBunch.from_df('tmp', train_df=train_df,  valid_df=valid_df, text_cols=['ques_cat'], label_cols=['single_type'], classes=types)"
   ]
  },
  {
   "cell_type": "code",
   "execution_count": 60,
   "metadata": {
    "colab": {
     "base_uri": "https://localhost:8080/",
     "height": 133
    },
    "colab_type": "code",
    "id": "su-ztxWU7SZg",
    "outputId": "8c46f759-d00a-4d35-dc94-585ffb136576"
   },
   "outputs": [
    {
     "data": {
      "text/html": [
       "\n",
       "    <div>\n",
       "        <style>\n",
       "            /* Turns off some styling */\n",
       "            progress {\n",
       "                /* gets rid of default border in Firefox and Opera. */\n",
       "                border: none;\n",
       "                /* Needs to be in here for Safari polyfill so background images work as expected. */\n",
       "                background-size: auto;\n",
       "            }\n",
       "            .progress-bar-interrupted, .progress-bar-interrupted::-webkit-progress-bar {\n",
       "                background: #F44336;\n",
       "            }\n",
       "        </style>\n",
       "      <progress value='0' class='' max='1' style='width:300px; height:20px; vertical-align: middle;'></progress>\n",
       "      0.00% [0/1 00:00<00:00]\n",
       "    </div>\n",
       "    \n",
       "<table border=\"1\" class=\"dataframe\">\n",
       "  <thead>\n",
       "    <tr style=\"text-align: left;\">\n",
       "      <th>epoch</th>\n",
       "      <th>train_loss</th>\n",
       "      <th>valid_loss</th>\n",
       "      <th>accuracy</th>\n",
       "      <th>time</th>\n",
       "    </tr>\n",
       "  </thead>\n",
       "  <tbody>\n",
       "  </tbody>\n",
       "</table><p>\n",
       "\n",
       "    <div>\n",
       "        <style>\n",
       "            /* Turns off some styling */\n",
       "            progress {\n",
       "                /* gets rid of default border in Firefox and Opera. */\n",
       "                border: none;\n",
       "                /* Needs to be in here for Safari polyfill so background images work as expected. */\n",
       "                background-size: auto;\n",
       "            }\n",
       "            .progress-bar-interrupted, .progress-bar-interrupted::-webkit-progress-bar {\n",
       "                background: #F44336;\n",
       "            }\n",
       "        </style>\n",
       "      <progress value='90' class='' max='119' style='width:300px; height:20px; vertical-align: middle;'></progress>\n",
       "      75.63% [90/119 00:02<00:00 4.1725]\n",
       "    </div>\n",
       "    "
      ],
      "text/plain": [
       "<IPython.core.display.HTML object>"
      ]
     },
     "metadata": {
      "tags": []
     },
     "output_type": "display_data"
    },
    {
     "name": "stdout",
     "output_type": "stream",
     "text": [
      "LR Finder is complete, type {learner_name}.recorder.plot() to see the graph.\n"
     ]
    }
   ],
   "source": [
    "cls2 = text_classifier_learner(data_cls, AWD_LSTM, bptt=10)\n",
    "cls2.lr_find()\n"
   ]
  },
  {
   "cell_type": "code",
   "execution_count": 61,
   "metadata": {
    "colab": {
     "base_uri": "https://localhost:8080/",
     "height": 279
    },
    "colab_type": "code",
    "id": "oBIqLy0I7SZi",
    "outputId": "ce6a1561-7865-40d9-f6de-fd7ca58e4b13"
   },
   "outputs": [
    {
     "data": {
      "image/png": "[encoded data removed]",
      "text/plain": [
       "<Figure size 432x288 with 1 Axes>"
      ]
     },
     "metadata": {
      "needs_background": "light",
      "tags": []
     },
     "output_type": "display_data"
    }
   ],
   "source": [
    "cls2.recorder.plot()"
   ]
  },
  {
   "cell_type": "code",
   "execution_count": 62,
   "metadata": {
    "colab": {
     "base_uri": "https://localhost:8080/",
     "height": 141
    },
    "colab_type": "code",
    "id": "OV8K9S8R7SZl",
    "outputId": "58523ba5-e177-4634-9b9f-b716071d7699"
   },
   "outputs": [
    {
     "data": {
      "text/html": [
       "<table border=\"1\" class=\"dataframe\">\n",
       "  <thead>\n",
       "    <tr style=\"text-align: left;\">\n",
       "      <th>epoch</th>\n",
       "      <th>train_loss</th>\n",
       "      <th>valid_loss</th>\n",
       "      <th>accuracy</th>\n",
       "      <th>time</th>\n",
       "    </tr>\n",
       "  </thead>\n",
       "  <tbody>\n",
       "    <tr>\n",
       "      <td>0</td>\n",
       "      <td>2.115203</td>\n",
       "      <td>1.967345</td>\n",
       "      <td>0.427749</td>\n",
       "      <td>00:03</td>\n",
       "    </tr>\n",
       "    <tr>\n",
       "      <td>1</td>\n",
       "      <td>1.983128</td>\n",
       "      <td>1.948670</td>\n",
       "      <td>0.427749</td>\n",
       "      <td>00:03</td>\n",
       "    </tr>\n",
       "    <tr>\n",
       "      <td>2</td>\n",
       "      <td>1.911806</td>\n",
       "      <td>1.934409</td>\n",
       "      <td>0.427749</td>\n",
       "      <td>00:03</td>\n",
       "    </tr>\n",
       "  </tbody>\n",
       "</table>"
      ],
      "text/plain": [
       "<IPython.core.display.HTML object>"
      ]
     },
     "metadata": {
      "tags": []
     },
     "output_type": "display_data"
    }
   ],
   "source": [
    "cls2.fit_one_cycle(3, 1e-1, moms=(0.8,0.7))\n",
    "#cls2.save('dbpedia_type_fit_head')"
   ]
  },
  {
   "cell_type": "code",
   "execution_count": 63,
   "metadata": {
    "colab": {
     "base_uri": "https://localhost:8080/",
     "height": 355
    },
    "colab_type": "code",
    "id": "jjtoH53K7SZm",
    "outputId": "8ce63d00-aa80-44ba-fdee-deebde1a491b"
   },
   "outputs": [
    {
     "data": {
      "text/html": [
       "<table border=\"1\" class=\"dataframe\">\n",
       "  <thead>\n",
       "    <tr style=\"text-align: left;\">\n",
       "      <th>epoch</th>\n",
       "      <th>train_loss</th>\n",
       "      <th>valid_loss</th>\n",
       "      <th>accuracy</th>\n",
       "      <th>time</th>\n",
       "    </tr>\n",
       "  </thead>\n",
       "  <tbody>\n",
       "    <tr>\n",
       "      <td>0</td>\n",
       "      <td>1.774482</td>\n",
       "      <td>1.950551</td>\n",
       "      <td>0.504188</td>\n",
       "      <td>00:07</td>\n",
       "    </tr>\n",
       "    <tr>\n",
       "      <td>1</td>\n",
       "      <td>1.419451</td>\n",
       "      <td>1.444095</td>\n",
       "      <td>0.646597</td>\n",
       "      <td>00:07</td>\n",
       "    </tr>\n",
       "    <tr>\n",
       "      <td>2</td>\n",
       "      <td>1.240897</td>\n",
       "      <td>1.761017</td>\n",
       "      <td>0.646597</td>\n",
       "      <td>00:07</td>\n",
       "    </tr>\n",
       "    <tr>\n",
       "      <td>3</td>\n",
       "      <td>1.096238</td>\n",
       "      <td>1.196488</td>\n",
       "      <td>0.695812</td>\n",
       "      <td>00:07</td>\n",
       "    </tr>\n",
       "    <tr>\n",
       "      <td>4</td>\n",
       "      <td>0.983128</td>\n",
       "      <td>1.394360</td>\n",
       "      <td>0.668063</td>\n",
       "      <td>00:07</td>\n",
       "    </tr>\n",
       "    <tr>\n",
       "      <td>5</td>\n",
       "      <td>0.900591</td>\n",
       "      <td>1.105428</td>\n",
       "      <td>0.712042</td>\n",
       "      <td>00:07</td>\n",
       "    </tr>\n",
       "    <tr>\n",
       "      <td>6</td>\n",
       "      <td>0.821659</td>\n",
       "      <td>1.125803</td>\n",
       "      <td>0.723037</td>\n",
       "      <td>00:07</td>\n",
       "    </tr>\n",
       "    <tr>\n",
       "      <td>7</td>\n",
       "      <td>0.765875</td>\n",
       "      <td>1.776744</td>\n",
       "      <td>0.728272</td>\n",
       "      <td>00:07</td>\n",
       "    </tr>\n",
       "    <tr>\n",
       "      <td>8</td>\n",
       "      <td>0.697750</td>\n",
       "      <td>1.097815</td>\n",
       "      <td>0.732984</td>\n",
       "      <td>00:07</td>\n",
       "    </tr>\n",
       "    <tr>\n",
       "      <td>9</td>\n",
       "      <td>0.674912</td>\n",
       "      <td>1.118801</td>\n",
       "      <td>0.726702</td>\n",
       "      <td>00:07</td>\n",
       "    </tr>\n",
       "  </tbody>\n",
       "</table>"
      ],
      "text/plain": [
       "<IPython.core.display.HTML object>"
      ]
     },
     "metadata": {
      "tags": []
     },
     "output_type": "display_data"
    }
   ],
   "source": [
    "#cls2.load('dbpedia_type_fit_head')\n",
    "cls2.unfreeze()\n",
    "cls2.fit_one_cycle(10, 1e-2, moms=(0.8,0.7))"
   ]
  },
  {
   "cell_type": "code",
   "execution_count": null,
   "metadata": {
    "colab": {},
    "colab_type": "code",
    "id": "YZFCXkWs7SZo"
   },
   "outputs": [],
   "source": [
    "#cls2.save('dbpedia_type_fit_c5')"
   ]
  },
  {
   "cell_type": "code",
   "execution_count": 65,
   "metadata": {
    "colab": {
     "base_uri": "https://localhost:8080/",
     "height": 202
    },
    "colab_type": "code",
    "id": "7egxlY8u7SZq",
    "outputId": "a7345cbd-bc60-4c9c-9b82-498755e4d383"
   },
   "outputs": [
    {
     "data": {
      "text/html": [
       "<table border=\"1\" class=\"dataframe\">\n",
       "  <thead>\n",
       "    <tr style=\"text-align: left;\">\n",
       "      <th>epoch</th>\n",
       "      <th>train_loss</th>\n",
       "      <th>valid_loss</th>\n",
       "      <th>accuracy</th>\n",
       "      <th>time</th>\n",
       "    </tr>\n",
       "  </thead>\n",
       "  <tbody>\n",
       "    <tr>\n",
       "      <td>0</td>\n",
       "      <td>0.641408</td>\n",
       "      <td>1.117572</td>\n",
       "      <td>0.734031</td>\n",
       "      <td>00:07</td>\n",
       "    </tr>\n",
       "    <tr>\n",
       "      <td>1</td>\n",
       "      <td>0.623091</td>\n",
       "      <td>1.118303</td>\n",
       "      <td>0.736126</td>\n",
       "      <td>00:07</td>\n",
       "    </tr>\n",
       "    <tr>\n",
       "      <td>2</td>\n",
       "      <td>0.626866</td>\n",
       "      <td>1.119956</td>\n",
       "      <td>0.737696</td>\n",
       "      <td>00:07</td>\n",
       "    </tr>\n",
       "    <tr>\n",
       "      <td>3</td>\n",
       "      <td>0.651271</td>\n",
       "      <td>1.117572</td>\n",
       "      <td>0.740838</td>\n",
       "      <td>00:07</td>\n",
       "    </tr>\n",
       "    <tr>\n",
       "      <td>4</td>\n",
       "      <td>0.591740</td>\n",
       "      <td>1.236693</td>\n",
       "      <td>0.736126</td>\n",
       "      <td>00:07</td>\n",
       "    </tr>\n",
       "  </tbody>\n",
       "</table>"
      ],
      "text/plain": [
       "<IPython.core.display.HTML object>"
      ]
     },
     "metadata": {
      "tags": []
     },
     "output_type": "display_data"
    }
   ],
   "source": [
    "#cls2.load('dbpedia_type_fit_c5')\n",
    "cls2.unfreeze()\n",
    "cls2.fit_one_cycle(5, 1e-3, moms=(0.8,0.7))"
   ]
  },
  {
   "cell_type": "code",
   "execution_count": 66,
   "metadata": {
    "colab": {},
    "colab_type": "code",
    "id": "i7N_4-5W7SZy"
   },
   "outputs": [],
   "source": [
    "#cls2.save_encoder('/models/dbpedia_resource_type_fit_c15')"
   ]
  },
  {
   "cell_type": "code",
   "execution_count": 67,
   "metadata": {
    "colab": {
     "base_uri": "https://localhost:8080/",
     "height": 705
    },
    "colab_type": "code",
    "id": "2DNt0HKy7SZ0",
    "outputId": "21b11697-97f8-4569-d756-4e58278bd84d"
   },
   "outputs": [
    {
     "data": {
      "text/html": [
       "<table border=\"1\" class=\"dataframe\">\n",
       "  <thead>\n",
       "    <tr style=\"text-align: right;\">\n",
       "      <th>text</th>\n",
       "      <th>target</th>\n",
       "      <th>prediction</th>\n",
       "    </tr>\n",
       "  </thead>\n",
       "  <tbody>\n",
       "    <tr>\n",
       "      <td>xxbos xxmaj which family member of xxmaj xxunk xxmaj xxunk is a writer by profession ? \\n \\n  xxmaj name the family member of xxmaj xxunk xxmaj xxunk who is a writer by profession . \\n \\n  xxmaj which of xxmaj xxunk xxmaj xxunk 's relatives has a career in writing ? \\n \\n  xxmaj who is the relative of xxmaj xxunk xxmaj xxunk who has a</td>\n",
       "      <td>dbo:Agent</td>\n",
       "      <td>dbo:Agent</td>\n",
       "    </tr>\n",
       "    <tr>\n",
       "      <td>xxbos xxup which xxup is xxup the xxup specialist xxup of xxup the xxup part xxup of xxup work xxup of xxup xxunk xxup of xxup quantum xxup xxunk xxup xxunk xxup with a xxup xxunk xxup flow xxup limited xxup xxunk xxup based xxup xxunk xxup model ? dbo : resource</td>\n",
       "      <td>dbo:TopicalConcept</td>\n",
       "      <td>dbo:Agent</td>\n",
       "    </tr>\n",
       "    <tr>\n",
       "      <td>xxbos xxmaj what is the { excipient with the lowest xxunk xxunk whose safety classification and labelling is xxup nfpa 704 : xxmaj standard xxmaj system for the xxmaj identification of the xxmaj hazards of xxmaj materials for xxmaj emergency xxmaj response ? dbo : resource</td>\n",
       "      <td>dbo:ChemicalSubstance</td>\n",
       "      <td>dbo:ChemicalSubstance</td>\n",
       "    </tr>\n",
       "    <tr>\n",
       "      <td>xxbos xxmaj what is the excipient with the highest xxunk xxunk whose safety classification and labelling is xxup nfpa 704 : xxmaj standard xxmaj system for the xxmaj identification of the xxmaj hazards of xxmaj materials for xxmaj emergency xxmaj response ? dbo : resource</td>\n",
       "      <td>dbo:ChemicalSubstance</td>\n",
       "      <td>dbo:ChemicalSubstance</td>\n",
       "    </tr>\n",
       "    <tr>\n",
       "      <td>xxbos who is the { elected in } for { xxmaj david xxmaj lloyd xxmaj george } that has { position held } as { xxmaj member of the xxunk xxmaj parliament of the xxmaj united xxmaj kingdom } ? dbo : resource</td>\n",
       "      <td>dbo:Event</td>\n",
       "      <td>dbo:Agent</td>\n",
       "    </tr>\n",
       "  </tbody>\n",
       "</table>"
      ],
      "text/plain": [
       "<IPython.core.display.HTML object>"
      ]
     },
     "metadata": {
      "tags": []
     },
     "output_type": "display_data"
    }
   ],
   "source": [
    "cls2.show_results(ds_type=DatasetType.Valid)"
   ]
  },
  {
   "cell_type": "code",
   "execution_count": null,
   "metadata": {
    "colab": {},
    "colab_type": "code",
    "id": "wEWrzGaK_o3t"
   },
   "outputs": [],
   "source": []
  },
  {
   "cell_type": "code",
   "execution_count": 68,
   "metadata": {
    "colab": {
     "base_uri": "https://localhost:8080/",
     "height": 202
    },
    "colab_type": "code",
    "id": "78tu_rRMFwaE",
    "outputId": "80b44570-ddab-4c7a-a2a6-c9d20cd4062a"
   },
   "outputs": [
    {
     "data": {
      "text/html": [
       "<div>\n",
       "<style scoped>\n",
       "    .dataframe tbody tr th:only-of-type {\n",
       "        vertical-align: middle;\n",
       "    }\n",
       "\n",
       "    .dataframe tbody tr th {\n",
       "        vertical-align: top;\n",
       "    }\n",
       "\n",
       "    .dataframe thead th {\n",
       "        text-align: right;\n",
       "    }\n",
       "</style>\n",
       "<table border=\"1\" class=\"dataframe\">\n",
       "  <thead>\n",
       "    <tr style=\"text-align: right;\">\n",
       "      <th></th>\n",
       "      <th>id</th>\n",
       "      <th>question</th>\n",
       "      <th>cat_pred</th>\n",
       "    </tr>\n",
       "  </thead>\n",
       "  <tbody>\n",
       "    <tr>\n",
       "      <th>0</th>\n",
       "      <td>dbpedia_16015</td>\n",
       "      <td>How many ingredients are in the grain} ?</td>\n",
       "      <td>number</td>\n",
       "    </tr>\n",
       "    <tr>\n",
       "      <th>1</th>\n",
       "      <td>dbpedia_3885</td>\n",
       "      <td>Is the case fatality rate of Fournier gangrene...</td>\n",
       "      <td>boolean</td>\n",
       "    </tr>\n",
       "    <tr>\n",
       "      <th>2</th>\n",
       "      <td>dbpedia_12907</td>\n",
       "      <td>Does the shelf life of spinach equal 8?</td>\n",
       "      <td>boolean</td>\n",
       "    </tr>\n",
       "    <tr>\n",
       "      <th>3</th>\n",
       "      <td>dbpedia_7955</td>\n",
       "      <td>What sound does a pig make in the French langu...</td>\n",
       "      <td>resource</td>\n",
       "    </tr>\n",
       "    <tr>\n",
       "      <th>4</th>\n",
       "      <td>dbpedia_2376</td>\n",
       "      <td>When was Fergie completed his record label in ...</td>\n",
       "      <td>date</td>\n",
       "    </tr>\n",
       "  </tbody>\n",
       "</table>\n",
       "</div>"
      ],
      "text/plain": [
       "              id                                           question  cat_pred\n",
       "0  dbpedia_16015           How many ingredients are in the grain} ?    number\n",
       "1   dbpedia_3885  Is the case fatality rate of Fournier gangrene...   boolean\n",
       "2  dbpedia_12907            Does the shelf life of spinach equal 8?   boolean\n",
       "3   dbpedia_7955  What sound does a pig make in the French langu...  resource\n",
       "4   dbpedia_2376  When was Fergie completed his record label in ...      date"
      ]
     },
     "execution_count": 68,
     "metadata": {
      "tags": []
     },
     "output_type": "execute_result"
    }
   ],
   "source": [
    "test_df.head()"
   ]
  },
  {
   "cell_type": "code",
   "execution_count": 167,
   "metadata": {
    "colab": {
     "base_uri": "https://localhost:8080/",
     "height": 145
    },
    "colab_type": "code",
    "id": "HqOX3Qzi7SZ2",
    "outputId": "f241f6da-e3e6-4966-a3f1-2a4c897b294d"
   },
   "outputs": [
    {
     "name": "stderr",
     "output_type": "stream",
     "text": [
      "/usr/local/lib/python3.6/dist-packages/ipykernel_launcher.py:3: SettingWithCopyWarning: \n",
      "A value is trying to be set on a copy of a slice from a DataFrame.\n",
      "Try using .loc[row_indexer,col_indexer] = value instead\n",
      "\n",
      "See the caveats in the documentation: https://pandas.pydata.org/pandas-docs/stable/user_guide/indexing.html#returning-a-view-versus-a-copy\n",
      "  This is separate from the ipykernel package so we can avoid doing imports until\n"
     ]
    }
   ],
   "source": [
    "test_res_df = test_df[test_df.cat_pred == 'resource']\n",
    "#test_res_df = valid_df[valid_df.cat_pred == 'resource']\n",
    "test_res_df['ques_cat'] = test_res_df.question + ' dbo:'+test_res_df.cat_pred\n"
   ]
  },
  {
   "cell_type": "code",
   "execution_count": 168,
   "metadata": {
    "colab": {
     "base_uri": "https://localhost:8080/",
     "height": 17
    },
    "colab_type": "code",
    "id": "WiKLIRtOGxvq",
    "outputId": "182b9d70-9a38-4ec5-af5c-fb46aee4f3df"
   },
   "outputs": [
    {
     "data": {
      "text/html": [],
      "text/plain": [
       "<IPython.core.display.HTML object>"
      ]
     },
     "metadata": {
      "tags": []
     },
     "output_type": "display_data"
    }
   ],
   "source": [
    "data_cls.add_test(test_res_df)"
   ]
  },
  {
   "cell_type": "code",
   "execution_count": 169,
   "metadata": {
    "colab": {
     "base_uri": "https://localhost:8080/",
     "height": 17
    },
    "colab_type": "code",
    "id": "uSerToIwu_jB",
    "outputId": "cff218ab-c3ee-42ca-f14d-5b752a076011"
   },
   "outputs": [
    {
     "data": {
      "text/html": [],
      "text/plain": [
       "<IPython.core.display.HTML object>"
      ]
     },
     "metadata": {
      "tags": []
     },
     "output_type": "display_data"
    }
   ],
   "source": [
    "type_preds, *_  = cls2.get_preds(DatasetType.Test)\n",
    "type_labels = np.argmax(type_preds, 1)"
   ]
  },
  {
   "cell_type": "code",
   "execution_count": 170,
   "metadata": {
    "colab": {
     "base_uri": "https://localhost:8080/",
     "height": 621
    },
    "colab_type": "code",
    "id": "2PzJKTk4GWU1",
    "outputId": "3e53e545-a79d-44af-ca39-610d7f152710"
   },
   "outputs": [
    {
     "data": {
      "text/html": [
       "<div>\n",
       "<style scoped>\n",
       "    .dataframe tbody tr th:only-of-type {\n",
       "        vertical-align: middle;\n",
       "    }\n",
       "\n",
       "    .dataframe tbody tr th {\n",
       "        vertical-align: top;\n",
       "    }\n",
       "\n",
       "    .dataframe thead th {\n",
       "        text-align: right;\n",
       "    }\n",
       "</style>\n",
       "<table border=\"1\" class=\"dataframe\">\n",
       "  <thead>\n",
       "    <tr style=\"text-align: right;\">\n",
       "      <th></th>\n",
       "      <th>id</th>\n",
       "      <th>question</th>\n",
       "      <th>category</th>\n",
       "      <th>type</th>\n",
       "      <th>single_type</th>\n",
       "      <th>specific_type</th>\n",
       "      <th>extended_cat</th>\n",
       "      <th>cat_pred</th>\n",
       "      <th>type_pred</th>\n",
       "      <th>ques_cat</th>\n",
       "    </tr>\n",
       "  </thead>\n",
       "  <tbody>\n",
       "    <tr>\n",
       "      <th>364</th>\n",
       "      <td>dbpedia_8196</td>\n",
       "      <td>Which is the literature work that had Hebrew a...</td>\n",
       "      <td>resource</td>\n",
       "      <td>[dbo:Work]</td>\n",
       "      <td>dbo:Work</td>\n",
       "      <td>dbo:Work</td>\n",
       "      <td>resource</td>\n",
       "      <td>resource</td>\n",
       "      <td>resource</td>\n",
       "      <td>Which is the literature work that had Hebrew a...</td>\n",
       "    </tr>\n",
       "    <tr>\n",
       "      <th>5678</th>\n",
       "      <td>dbpedia_13125</td>\n",
       "      <td>Of all the unitary states which are members of...</td>\n",
       "      <td>resource</td>\n",
       "      <td>[dbo:Country, dbo:State, dbo:PopulatedPlace, d...</td>\n",
       "      <td>dbo:Place</td>\n",
       "      <td>dbo:Country</td>\n",
       "      <td>resource</td>\n",
       "      <td>resource</td>\n",
       "      <td>resource</td>\n",
       "      <td>Of all the unitary states which are members of...</td>\n",
       "    </tr>\n",
       "    <tr>\n",
       "      <th>12352</th>\n",
       "      <td>dbpedia_19587</td>\n",
       "      <td>Where was the company who is the operator of H...</td>\n",
       "      <td>resource</td>\n",
       "      <td>[dbo:City, dbo:Settlement, dbo:PopulatedPlace,...</td>\n",
       "      <td>dbo:Place</td>\n",
       "      <td>dbo:City</td>\n",
       "      <td>resource</td>\n",
       "      <td>resource</td>\n",
       "      <td>resource</td>\n",
       "      <td>Where was the company who is the operator of H...</td>\n",
       "    </tr>\n",
       "    <tr>\n",
       "      <th>2764</th>\n",
       "      <td>dbpedia_3798</td>\n",
       "      <td>What is route map of Milan Metro?</td>\n",
       "      <td>literal</td>\n",
       "      <td>[string]</td>\n",
       "      <td>string</td>\n",
       "      <td>string</td>\n",
       "      <td>string</td>\n",
       "      <td>resource</td>\n",
       "      <td>resource</td>\n",
       "      <td>What is route map of Milan Metro? dbo:resource</td>\n",
       "    </tr>\n",
       "    <tr>\n",
       "      <th>14400</th>\n",
       "      <td>dbpedia_1643</td>\n",
       "      <td>Did Neil deGrasse Tyson win the NASA Distingui...</td>\n",
       "      <td>boolean</td>\n",
       "      <td>[boolean]</td>\n",
       "      <td>boolean</td>\n",
       "      <td>boolean</td>\n",
       "      <td>boolean</td>\n",
       "      <td>resource</td>\n",
       "      <td>resource</td>\n",
       "      <td>Did Neil deGrasse Tyson win the NASA Distingui...</td>\n",
       "    </tr>\n",
       "  </tbody>\n",
       "</table>\n",
       "</div>"
      ],
      "text/plain": [
       "                  id  ...                                           ques_cat\n",
       "364     dbpedia_8196  ...  Which is the literature work that had Hebrew a...\n",
       "5678   dbpedia_13125  ...  Of all the unitary states which are members of...\n",
       "12352  dbpedia_19587  ...  Where was the company who is the operator of H...\n",
       "2764    dbpedia_3798  ...     What is route map of Milan Metro? dbo:resource\n",
       "14400   dbpedia_1643  ...  Did Neil deGrasse Tyson win the NASA Distingui...\n",
       "\n",
       "[5 rows x 10 columns]"
      ]
     },
     "execution_count": 170,
     "metadata": {
      "tags": []
     },
     "output_type": "execute_result"
    }
   ],
   "source": [
    "test_res_df.head()"
   ]
  },
  {
   "cell_type": "code",
   "execution_count": 171,
   "metadata": {
    "colab": {},
    "colab_type": "code",
    "id": "cuLgPcHl7SZ6"
   },
   "outputs": [],
   "source": [
    "type_labels = type_labels.numpy()"
   ]
  },
  {
   "cell_type": "code",
   "execution_count": 172,
   "metadata": {
    "colab": {
     "base_uri": "https://localhost:8080/",
     "height": 35
    },
    "colab_type": "code",
    "id": "WcjKgzZi7SZ7",
    "outputId": "69377900-a3f7-41f1-de98-95f7fea06112"
   },
   "outputs": [
    {
     "data": {
      "text/plain": [
       "array([ 0,  5,  5,  5, ..., 17,  1,  1,  5])"
      ]
     },
     "execution_count": 172,
     "metadata": {
      "tags": []
     },
     "output_type": "execute_result"
    }
   ],
   "source": [
    "type_labels"
   ]
  },
  {
   "cell_type": "code",
   "execution_count": 173,
   "metadata": {
    "colab": {
     "base_uri": "https://localhost:8080/",
     "height": 35
    },
    "colab_type": "code",
    "id": "M--FqoiuGshV",
    "outputId": "53e9e32a-4b86-4f1f-aab4-3fc35d85b381"
   },
   "outputs": [
    {
     "data": {
      "text/plain": [
       "1937"
      ]
     },
     "execution_count": 173,
     "metadata": {
      "tags": []
     },
     "output_type": "execute_result"
    }
   ],
   "source": [
    "len(type_labels)"
   ]
  },
  {
   "cell_type": "code",
   "execution_count": 149,
   "metadata": {
    "colab": {
     "base_uri": "https://localhost:8080/",
     "height": 253
    },
    "colab_type": "code",
    "id": "TW2DD0J87SZ9",
    "outputId": "cf97af11-9e94-4e75-bfad-cb1b8d7b8293"
   },
   "outputs": [
    {
     "name": "stderr",
     "output_type": "stream",
     "text": [
      "/usr/local/lib/python3.6/dist-packages/ipykernel_launcher.py:1: SettingWithCopyWarning: \n",
      "A value is trying to be set on a copy of a slice from a DataFrame.\n",
      "Try using .loc[row_indexer,col_indexer] = value instead\n",
      "\n",
      "See the caveats in the documentation: https://pandas.pydata.org/pandas-docs/stable/user_guide/indexing.html#returning-a-view-versus-a-copy\n",
      "  \"\"\"Entry point for launching an IPython kernel.\n",
      "/usr/local/lib/python3.6/dist-packages/pandas/core/generic.py:5303: SettingWithCopyWarning: \n",
      "A value is trying to be set on a copy of a slice from a DataFrame.\n",
      "Try using .loc[row_indexer,col_indexer] = value instead\n",
      "\n",
      "See the caveats in the documentation: https://pandas.pydata.org/pandas-docs/stable/user_guide/indexing.html#returning-a-view-versus-a-copy\n",
      "  self[name] = value\n"
     ]
    }
   ],
   "source": [
    "test_res_df['type_pred'] = type_labels\n",
    "test_res_df.type_pred= test_res_df.type_pred.replace({ i:c for i,c in enumerate(types)})"
   ]
  },
  {
   "cell_type": "code",
   "execution_count": 150,
   "metadata": {
    "colab": {
     "base_uri": "https://localhost:8080/",
     "height": 35
    },
    "colab_type": "code",
    "id": "_W_a1Wzf7SZ_",
    "outputId": "069305f6-c0c9-45d3-b698-31666d267092"
   },
   "outputs": [
    {
     "data": {
      "text/plain": [
       "array(['resource'], dtype=object)"
      ]
     },
     "execution_count": 150,
     "metadata": {
      "tags": []
     },
     "output_type": "execute_result"
    }
   ],
   "source": [
    "test_res_df.cat_pred.unique()"
   ]
  },
  {
   "cell_type": "code",
   "execution_count": 79,
   "metadata": {
    "colab": {},
    "colab_type": "code",
    "id": "ITIEuFp-7SaB"
   },
   "outputs": [],
   "source": [
    "test_res_df.to_csv('/content/drive/My Drive/fastai-v3/data/smarttask/dbpedia_test_resourse_predictions.csv', index=False)"
   ]
  },
  {
   "cell_type": "code",
   "execution_count": 151,
   "metadata": {
    "colab": {
     "base_uri": "https://localhost:8080/",
     "height": 73
    },
    "colab_type": "code",
    "id": "RsDFfz0G7SaE",
    "outputId": "fddc5d6c-a2da-4163-be33-1f85c9ff6ac9"
   },
   "outputs": [
    {
     "data": {
      "text/plain": [
       "array(['dbo:Work', 'dbo:Place', 'dbo:Agent', 'dbo:TopicalConcept', 'dbo:Activity', 'dbo:PersonFunction',\n",
       "       'dbo:Biomolecule', 'dbo:Award', 'dbo:Media', 'dbo:ChemicalSubstance', 'dbo:Disease'], dtype=object)"
      ]
     },
     "execution_count": 151,
     "metadata": {
      "tags": []
     },
     "output_type": "execute_result"
    }
   ],
   "source": [
    "test_res_df.type_pred.unique()"
   ]
  },
  {
   "cell_type": "code",
   "execution_count": 152,
   "metadata": {
    "colab": {
     "base_uri": "https://localhost:8080/",
     "height": 145
    },
    "colab_type": "code",
    "id": "VtcLcizcDTd6",
    "outputId": "22aab383-c668-43d6-e5d3-52f3994f5e9e"
   },
   "outputs": [
    {
     "name": "stderr",
     "output_type": "stream",
     "text": [
      "/usr/local/lib/python3.6/dist-packages/ipykernel_launcher.py:2: SettingWithCopyWarning: \n",
      "A value is trying to be set on a copy of a slice from a DataFrame.\n",
      "Try using .loc[row_indexer,col_indexer] = value instead\n",
      "\n",
      "See the caveats in the documentation: https://pandas.pydata.org/pandas-docs/stable/user_guide/indexing.html#returning-a-view-versus-a-copy\n",
      "  \n"
     ]
    }
   ],
   "source": [
    "test_df = valid_df\n",
    "test_df['type_pred'] = test_df['cat_pred']"
   ]
  },
  {
   "cell_type": "code",
   "execution_count": 161,
   "metadata": {
    "colab": {
     "base_uri": "https://localhost:8080/",
     "height": 35
    },
    "colab_type": "code",
    "id": "hsHI8z3RxV9q",
    "outputId": "51feb9e4-5f48-4368-b936-67cf235c6ee9"
   },
   "outputs": [
    {
     "data": {
      "text/plain": [
       "3502"
      ]
     },
     "execution_count": 161,
     "metadata": {
      "tags": []
     },
     "output_type": "execute_result"
    }
   ],
   "source": [
    "len(test_df)"
   ]
  },
  {
   "cell_type": "code",
   "execution_count": 162,
   "metadata": {
    "colab": {
     "base_uri": "https://localhost:8080/",
     "height": 638
    },
    "colab_type": "code",
    "id": "H7U0AJd-hQdy",
    "outputId": "54911d7b-0a30-49e3-b27f-cdc63e9c3781"
   },
   "outputs": [
    {
     "data": {
      "text/html": [
       "<div>\n",
       "<style scoped>\n",
       "    .dataframe tbody tr th:only-of-type {\n",
       "        vertical-align: middle;\n",
       "    }\n",
       "\n",
       "    .dataframe tbody tr th {\n",
       "        vertical-align: top;\n",
       "    }\n",
       "\n",
       "    .dataframe thead th {\n",
       "        text-align: right;\n",
       "    }\n",
       "</style>\n",
       "<table border=\"1\" class=\"dataframe\">\n",
       "  <thead>\n",
       "    <tr style=\"text-align: right;\">\n",
       "      <th></th>\n",
       "      <th>id</th>\n",
       "      <th>question</th>\n",
       "      <th>category</th>\n",
       "      <th>type</th>\n",
       "      <th>single_type</th>\n",
       "      <th>specific_type</th>\n",
       "      <th>extended_cat</th>\n",
       "      <th>cat_pred</th>\n",
       "      <th>type_pred</th>\n",
       "    </tr>\n",
       "  </thead>\n",
       "  <tbody>\n",
       "    <tr>\n",
       "      <th>13794</th>\n",
       "      <td>dbpedia_6046</td>\n",
       "      <td>Is labetalol and piretanide used as a drug to ...</td>\n",
       "      <td>boolean</td>\n",
       "      <td>[boolean]</td>\n",
       "      <td>boolean</td>\n",
       "      <td>boolean</td>\n",
       "      <td>boolean</td>\n",
       "      <td>date</td>\n",
       "      <td>date</td>\n",
       "    </tr>\n",
       "    <tr>\n",
       "      <th>364</th>\n",
       "      <td>dbpedia_8196</td>\n",
       "      <td>Which is the literature work that had Hebrew a...</td>\n",
       "      <td>resource</td>\n",
       "      <td>[dbo:Work]</td>\n",
       "      <td>dbo:Work</td>\n",
       "      <td>dbo:Work</td>\n",
       "      <td>resource</td>\n",
       "      <td>resource</td>\n",
       "      <td>resource</td>\n",
       "    </tr>\n",
       "    <tr>\n",
       "      <th>5678</th>\n",
       "      <td>dbpedia_13125</td>\n",
       "      <td>Of all the unitary states which are members of...</td>\n",
       "      <td>resource</td>\n",
       "      <td>[dbo:Country, dbo:State, dbo:PopulatedPlace, d...</td>\n",
       "      <td>dbo:Place</td>\n",
       "      <td>dbo:Country</td>\n",
       "      <td>resource</td>\n",
       "      <td>resource</td>\n",
       "      <td>resource</td>\n",
       "    </tr>\n",
       "    <tr>\n",
       "      <th>12352</th>\n",
       "      <td>dbpedia_19587</td>\n",
       "      <td>Where was the company who is the operator of H...</td>\n",
       "      <td>resource</td>\n",
       "      <td>[dbo:City, dbo:Settlement, dbo:PopulatedPlace,...</td>\n",
       "      <td>dbo:Place</td>\n",
       "      <td>dbo:City</td>\n",
       "      <td>resource</td>\n",
       "      <td>resource</td>\n",
       "      <td>resource</td>\n",
       "    </tr>\n",
       "    <tr>\n",
       "      <th>2764</th>\n",
       "      <td>dbpedia_3798</td>\n",
       "      <td>What is route map of Milan Metro?</td>\n",
       "      <td>literal</td>\n",
       "      <td>[string]</td>\n",
       "      <td>string</td>\n",
       "      <td>string</td>\n",
       "      <td>string</td>\n",
       "      <td>resource</td>\n",
       "      <td>resource</td>\n",
       "    </tr>\n",
       "  </tbody>\n",
       "</table>\n",
       "</div>"
      ],
      "text/plain": [
       "                  id  ... type_pred\n",
       "13794   dbpedia_6046  ...      date\n",
       "364     dbpedia_8196  ...  resource\n",
       "5678   dbpedia_13125  ...  resource\n",
       "12352  dbpedia_19587  ...  resource\n",
       "2764    dbpedia_3798  ...  resource\n",
       "\n",
       "[5 rows x 9 columns]"
      ]
     },
     "execution_count": 162,
     "metadata": {
      "tags": []
     },
     "output_type": "execute_result"
    }
   ],
   "source": [
    "test_df.head(5)\n"
   ]
  },
  {
   "cell_type": "code",
   "execution_count": 163,
   "metadata": {
    "colab": {
     "base_uri": "https://localhost:8080/",
     "height": 35
    },
    "colab_type": "code",
    "id": "S0jkFAmEhu-5",
    "outputId": "c98ffceb-57c5-4a68-b440-2a8e35ffd032"
   },
   "outputs": [
    {
     "data": {
      "text/plain": [
       "3502"
      ]
     },
     "execution_count": 163,
     "metadata": {
      "tags": []
     },
     "output_type": "execute_result"
    }
   ],
   "source": [
    "len(test_df)"
   ]
  },
  {
   "cell_type": "code",
   "execution_count": 164,
   "metadata": {
    "colab": {
     "base_uri": "https://localhost:8080/",
     "height": 321
    },
    "colab_type": "code",
    "id": "BqhozAa0xCa1",
    "outputId": "f820f1ac-7e18-4d69-8b75-9515d0163feb"
   },
   "outputs": [
    {
     "data": {
      "text/html": [
       "<div>\n",
       "<style scoped>\n",
       "    .dataframe tbody tr th:only-of-type {\n",
       "        vertical-align: middle;\n",
       "    }\n",
       "\n",
       "    .dataframe tbody tr th {\n",
       "        vertical-align: top;\n",
       "    }\n",
       "\n",
       "    .dataframe thead th {\n",
       "        text-align: right;\n",
       "    }\n",
       "</style>\n",
       "<table border=\"1\" class=\"dataframe\">\n",
       "  <thead>\n",
       "    <tr style=\"text-align: right;\">\n",
       "      <th></th>\n",
       "      <th>id</th>\n",
       "      <th>question</th>\n",
       "      <th>category</th>\n",
       "      <th>type</th>\n",
       "      <th>single_type</th>\n",
       "      <th>specific_type</th>\n",
       "      <th>extended_cat</th>\n",
       "      <th>cat_pred</th>\n",
       "      <th>type_pred</th>\n",
       "      <th>ques_cat</th>\n",
       "    </tr>\n",
       "  </thead>\n",
       "  <tbody>\n",
       "    <tr>\n",
       "      <th>364</th>\n",
       "      <td>dbpedia_8196</td>\n",
       "      <td>Which is the literature work that had Hebrew a...</td>\n",
       "      <td>resource</td>\n",
       "      <td>[dbo:Work]</td>\n",
       "      <td>dbo:Work</td>\n",
       "      <td>dbo:Work</td>\n",
       "      <td>resource</td>\n",
       "      <td>resource</td>\n",
       "      <td>dbo:Work</td>\n",
       "      <td>Which is the literature work that had Hebrew a...</td>\n",
       "    </tr>\n",
       "    <tr>\n",
       "      <th>5678</th>\n",
       "      <td>dbpedia_13125</td>\n",
       "      <td>Of all the unitary states which are members of...</td>\n",
       "      <td>resource</td>\n",
       "      <td>[dbo:Country, dbo:State, dbo:PopulatedPlace, d...</td>\n",
       "      <td>dbo:Place</td>\n",
       "      <td>dbo:Country</td>\n",
       "      <td>resource</td>\n",
       "      <td>resource</td>\n",
       "      <td>dbo:Place</td>\n",
       "      <td>Of all the unitary states which are members of...</td>\n",
       "    </tr>\n",
       "  </tbody>\n",
       "</table>\n",
       "</div>"
      ],
      "text/plain": [
       "                 id  ...                                           ques_cat\n",
       "364    dbpedia_8196  ...  Which is the literature work that had Hebrew a...\n",
       "5678  dbpedia_13125  ...  Of all the unitary states which are members of...\n",
       "\n",
       "[2 rows x 10 columns]"
      ]
     },
     "execution_count": 164,
     "metadata": {
      "tags": []
     },
     "output_type": "execute_result"
    }
   ],
   "source": [
    "test_res_df.head(2)"
   ]
  },
  {
   "cell_type": "code",
   "execution_count": null,
   "metadata": {
    "colab": {
     "base_uri": "https://localhost:8080/",
     "height": 933
    },
    "colab_type": "code",
    "id": "FgCm_s68haQT",
    "outputId": "4dd0811e-028a-4e0a-86ed-87d76fc86bb2"
   },
   "outputs": [],
   "source": [
    "for i,row in test_res_df.iterrows():\n",
    "  index =np.where(test_df['id']==row['id'])\n",
    "  #print(index)\n",
    "  test_df.loc[index[0][0]]['type_pred'] = row['type_pred']"
   ]
  },
  {
   "cell_type": "code",
   "execution_count": 86,
   "metadata": {
    "colab": {
     "base_uri": "https://localhost:8080/",
     "height": 511
    },
    "colab_type": "code",
    "id": "hGXLZVanheRB",
    "outputId": "5a58c48d-27dd-42b1-c903-171c36cf9924"
   },
   "outputs": [
    {
     "data": {
      "text/html": [
       "<div>\n",
       "<style scoped>\n",
       "    .dataframe tbody tr th:only-of-type {\n",
       "        vertical-align: middle;\n",
       "    }\n",
       "\n",
       "    .dataframe tbody tr th {\n",
       "        vertical-align: top;\n",
       "    }\n",
       "\n",
       "    .dataframe thead th {\n",
       "        text-align: right;\n",
       "    }\n",
       "</style>\n",
       "<table border=\"1\" class=\"dataframe\">\n",
       "  <thead>\n",
       "    <tr style=\"text-align: right;\">\n",
       "      <th></th>\n",
       "      <th>id</th>\n",
       "      <th>question</th>\n",
       "      <th>cat_pred</th>\n",
       "      <th>type_pred</th>\n",
       "    </tr>\n",
       "  </thead>\n",
       "  <tbody>\n",
       "    <tr>\n",
       "      <th>611</th>\n",
       "      <td>dbpedia_8681</td>\n",
       "      <td>What is AnimeCons.com id for Troy Baker?</td>\n",
       "      <td>string</td>\n",
       "      <td>string</td>\n",
       "    </tr>\n",
       "    <tr>\n",
       "      <th>1312</th>\n",
       "      <td>dbpedia_10981</td>\n",
       "      <td>Where is the birth place of Giambattista Vico ...</td>\n",
       "      <td>resource</td>\n",
       "      <td>dbo:Place</td>\n",
       "    </tr>\n",
       "    <tr>\n",
       "      <th>3355</th>\n",
       "      <td>dbpedia_138</td>\n",
       "      <td>Who is the captain of F.C. Porto?</td>\n",
       "      <td>resource</td>\n",
       "      <td>dbo:Agent</td>\n",
       "    </tr>\n",
       "    <tr>\n",
       "      <th>3707</th>\n",
       "      <td>dbpedia_2992</td>\n",
       "      <td>What is Dmitry Medvedev's Declarator.org ID?</td>\n",
       "      <td>string</td>\n",
       "      <td>string</td>\n",
       "    </tr>\n",
       "    <tr>\n",
       "      <th>3381</th>\n",
       "      <td>dbpedia_13820</td>\n",
       "      <td>What is the conjugate base of the anion presen...</td>\n",
       "      <td>resource</td>\n",
       "      <td>dbo:ChemicalSubstance</td>\n",
       "    </tr>\n",
       "    <tr>\n",
       "      <th>1664</th>\n",
       "      <td>dbpedia_6121</td>\n",
       "      <td>Whom did Janet Yellen got married to?</td>\n",
       "      <td>resource</td>\n",
       "      <td>dbo:Agent</td>\n",
       "    </tr>\n",
       "    <tr>\n",
       "      <th>2192</th>\n",
       "      <td>dbpedia_18536</td>\n",
       "      <td>Is Bacillus belong to the domain Bacteria?</td>\n",
       "      <td>boolean</td>\n",
       "      <td>boolean</td>\n",
       "    </tr>\n",
       "    <tr>\n",
       "      <th>561</th>\n",
       "      <td>dbpedia_2711</td>\n",
       "      <td>What Sam Kinison label has Warner Music Group ...</td>\n",
       "      <td>resource</td>\n",
       "      <td>dbo:Agent</td>\n",
       "    </tr>\n",
       "    <tr>\n",
       "      <th>3839</th>\n",
       "      <td>dbpedia_10808</td>\n",
       "      <td>What is the Skyscraper Center building complet...</td>\n",
       "      <td>string</td>\n",
       "      <td>string</td>\n",
       "    </tr>\n",
       "    <tr>\n",
       "      <th>476</th>\n",
       "      <td>dbpedia_12534</td>\n",
       "      <td>Who owns the Oracle Corporation and what are s...</td>\n",
       "      <td>resource</td>\n",
       "      <td>dbo:Agent</td>\n",
       "    </tr>\n",
       "  </tbody>\n",
       "</table>\n",
       "</div>"
      ],
      "text/plain": [
       "                 id  ...              type_pred\n",
       "611    dbpedia_8681  ...                 string\n",
       "1312  dbpedia_10981  ...              dbo:Place\n",
       "3355    dbpedia_138  ...              dbo:Agent\n",
       "3707   dbpedia_2992  ...                 string\n",
       "3381  dbpedia_13820  ...  dbo:ChemicalSubstance\n",
       "1664   dbpedia_6121  ...              dbo:Agent\n",
       "2192  dbpedia_18536  ...                boolean\n",
       "561    dbpedia_2711  ...              dbo:Agent\n",
       "3839  dbpedia_10808  ...                 string\n",
       "476   dbpedia_12534  ...              dbo:Agent\n",
       "\n",
       "[10 rows x 4 columns]"
      ]
     },
     "execution_count": 86,
     "metadata": {
      "tags": []
     },
     "output_type": "execute_result"
    }
   ],
   "source": [
    "test_df.sample(10)"
   ]
  },
  {
   "cell_type": "code",
   "execution_count": 166,
   "metadata": {
    "colab": {
     "base_uri": "https://localhost:8080/",
     "height": 35
    },
    "colab_type": "code",
    "id": "EoZ2vjozjG1e",
    "outputId": "a5833ba5-950e-4a52-84dd-0d592b3297f8"
   },
   "outputs": [
    {
     "data": {
      "text/plain": [
       "array(['date', 'resource', 'boolean', 'number', 'string'], dtype=object)"
      ]
     },
     "execution_count": 166,
     "metadata": {
      "tags": []
     },
     "output_type": "execute_result"
    }
   ],
   "source": [
    "test_df.cat_pred.unique()"
   ]
  },
  {
   "cell_type": "code",
   "execution_count": 90,
   "metadata": {
    "colab": {},
    "colab_type": "code",
    "id": "l3kyKSztqzfN"
   },
   "outputs": [],
   "source": [
    "test_df.cat_pred = test_df.cat_pred.map({'string':'literal','date':'literal','number':'literal','boolean':'boolean','resource':'resource'})"
   ]
  },
  {
   "cell_type": "code",
   "execution_count": 93,
   "metadata": {
    "colab": {},
    "colab_type": "code",
    "id": "df4JomKJrLsQ"
   },
   "outputs": [],
   "source": [
    "test_df.rename(columns={'cat_pred':'category','type_pred':'type'}, inplace=True)"
   ]
  },
  {
   "cell_type": "code",
   "execution_count": 95,
   "metadata": {
    "colab": {},
    "colab_type": "code",
    "id": "w_vXIlTFj7oH"
   },
   "outputs": [],
   "source": [
    "test_df.to_csv('/content/drive/My Drive/fastai-v3/data/smarttask/dbpedia_test_predictions.csv', index=False)"
   ]
  },
  {
   "cell_type": "code",
   "execution_count": null,
   "metadata": {
    "colab": {},
    "colab_type": "code",
    "id": "70HmOmhura_V"
   },
   "outputs": [],
   "source": []
  },
  {
   "cell_type": "code",
   "execution_count": null,
   "metadata": {
    "colab": {},
    "colab_type": "code",
    "id": "9De8Dpl6kBgz"
   },
   "outputs": [],
   "source": []
  }
 ],
 "metadata": {
  "accelerator": "GPU",
  "colab": {
   "collapsed_sections": [],
   "name": "fastai_smarttask_category_pred-dbpedia.ipynb",
   "provenance": [],
   "toc_visible": true
  },
  "kernelspec": {
   "display_name": "Python 3",
   "language": "python",
   "name": "python3"
  },
  "language_info": {
   "codemirror_mode": {
    "name": "ipython",
    "version": 3
   },
   "file_extension": ".py",
   "mimetype": "text/x-python",
   "name": "python",
   "nbconvert_exporter": "python",
   "pygments_lexer": "ipython3",
   "version": "3.7.6"
  }
 },
 "nbformat": 4,
 "nbformat_minor": 4
}
