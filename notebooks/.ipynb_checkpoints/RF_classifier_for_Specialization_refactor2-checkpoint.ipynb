{
 "cells": [
  {
   "cell_type": "code",
   "execution_count": 2,
   "metadata": {
    "id": "NtXpuLrVAcjV"
   },
   "outputs": [],
   "source": [
    "#!pip install sentence-transformers"
   ]
  },
  {
   "cell_type": "code",
   "execution_count": 3,
   "metadata": {
    "id": "TNGxfa97AcjV"
   },
   "outputs": [],
   "source": [
    "import pandas as pd\n",
    "import gensim\n",
    "import numpy as np\n",
    "import random\n",
    "import json\n",
    "import os"
   ]
  },
  {
   "cell_type": "markdown",
   "metadata": {
    "id": "2ANTY0N5AcjX"
   },
   "source": [
    "# Bert Sentence transformer"
   ]
  },
  {
   "cell_type": "markdown",
   "metadata": {
    "id": "XDEGpukTAcja"
   },
   "source": [
    "# Generate word2vec embedding using dbpedia taxonomy"
   ]
  },
  {
   "cell_type": "code",
   "execution_count": 159,
   "metadata": {},
   "outputs": [],
   "source": [
    "os.chdir('../')"
   ]
  },
  {
   "cell_type": "code",
   "execution_count": 160,
   "metadata": {},
   "outputs": [
    {
     "name": "stdout",
     "output_type": "stream",
     "text": [
      "/home/jovyan/work/iswc2020-smarttask\n"
     ]
    }
   ],
   "source": [
    "!pwd"
   ]
  },
  {
   "cell_type": "code",
   "execution_count": 5,
   "metadata": {
    "id": "BJ8ljYHpJi76"
   },
   "outputs": [],
   "source": [
    "from src import evaluate"
   ]
  },
  {
   "cell_type": "code",
   "execution_count": 6,
   "metadata": {
    "id": "AUZpXLmTCsL3"
   },
   "outputs": [],
   "source": [
    "# training data frm the challenge\n",
    "dbpedia_df = pd.read_json('datasets/DBpedia/smarttask_dbpedia_train.json')"
   ]
  },
  {
   "cell_type": "markdown",
   "metadata": {
    "id": "8_Ho3ImKM924"
   },
   "source": [
    "Generation of DBPedia hierarchy embeddings"
   ]
  },
  {
   "cell_type": "code",
   "execution_count": 7,
   "metadata": {
    "colab": {
     "base_uri": "https://localhost:8080/"
    },
    "id": "VfPVS2laoC5I",
    "outputId": "78656920-737e-4f25-c70b-302a5592672b"
   },
   "outputs": [],
   "source": [
    "#!git clone https://github.com/cnikas/isl-smart-task"
   ]
  },
  {
   "cell_type": "code",
   "execution_count": 8,
   "metadata": {
    "id": "upWk28yenfhM"
   },
   "outputs": [],
   "source": [
    "\n",
    "import csv\n",
    "import json\n",
    "\n",
    "\n",
    "\"\"\"Load models &  resources\"\"\"\n",
    "resources_dir = 'isl-smart-task/resources_dir' \n",
    "mapping_csv = resources_dir+'/mapping.csv'\n",
    "hierarchy_json = resources_dir+'/dbpedia_hierarchy.json'\n",
    "\n",
    "\n",
    "id_to_label = {}\n",
    "label_to_id = {}\n",
    "with open(mapping_csv) as csvfile:\n",
    "    reader = csv.reader(csvfile, delimiter=',')\n",
    "    for row in reader:\n",
    "        id_to_label[row[1]] = row[0]\n",
    "        label_to_id[row[0]] = row[1]\n",
    "\n",
    "\n",
    "hierarchy = {}\n",
    "with open(hierarchy_json) as json_file:\n",
    "    hierarchy = json.load(json_file)\n"
   ]
  },
  {
   "cell_type": "code",
   "execution_count": 9,
   "metadata": {
    "id": "5hFTXDSIAcjb"
   },
   "outputs": [],
   "source": [
    "# import DBPedia class hierarchy\n",
    "# flatten the hierarchy to sequences\n",
    "def import_db_hry(hierarchy):\n",
    "    #grouped= concepts_df.groupby('Parent')\n",
    "    sequence = []\n",
    "    for name in hierarchy:\n",
    "        sequence.append(hierarchy[name]['children'] + [name])\n",
    "    return sequence"
   ]
  },
  {
   "cell_type": "code",
   "execution_count": 10,
   "metadata": {
    "id": "tnIK3KaeAcjb"
   },
   "outputs": [],
   "source": [
    "sequence = import_db_hry(hierarchy)\n",
    "#sequence =[]"
   ]
  },
  {
   "cell_type": "code",
   "execution_count": 11,
   "metadata": {
    "id": "kKdMvhskAcjb"
   },
   "outputs": [],
   "source": [
    "# also added type order from the training set\n",
    "dbpedia_res_df = dbpedia_df[dbpedia_df.category == 'resource']\n",
    "type_list = dbpedia_res_df.type.values"
   ]
  },
  {
   "cell_type": "code",
   "execution_count": 12,
   "metadata": {
    "colab": {
     "base_uri": "https://localhost:8080/"
    },
    "id": "CuKpGL6On8Ig",
    "outputId": "41bde093-1bd4-4338-e958-810fb84c0279"
   },
   "outputs": [
    {
     "data": {
      "text/plain": [
       "array([list(['dbo:Opera', 'dbo:MusicalWork', 'dbo:Work']),\n",
       "       list(['dbo:EducationalInstitution', 'dbo:Organisation', 'dbo:Agent']),\n",
       "       list(['dbo:State', 'dbo:PopulatedPlace', 'dbo:Place', 'dbo:Location']),\n",
       "       ...,\n",
       "       list(['dbo:University', 'dbo:EducationalInstitution', 'dbo:Organisation', 'dbo:Agent']),\n",
       "       list(['dbo:Person', 'dbo:Agent']),\n",
       "       list(['dbo:River', 'dbo:Stream', 'dbo:BodyOfWater', 'dbo:NaturalPlace', 'dbo:Place', 'dbo:Location'])],\n",
       "      dtype=object)"
      ]
     },
     "execution_count": 12,
     "metadata": {},
     "output_type": "execute_result"
    }
   ],
   "source": [
    "type_list"
   ]
  },
  {
   "cell_type": "code",
   "execution_count": 13,
   "metadata": {
    "id": "terwQZk7Acjc"
   },
   "outputs": [],
   "source": [
    "for s in type_list.tolist():\n",
    "    sequence.append(s)"
   ]
  },
  {
   "cell_type": "code",
   "execution_count": 14,
   "metadata": {
    "id": "nEf859z2Acjc"
   },
   "outputs": [],
   "source": [
    "# train Word2Vec model for DBPedia class hierarchy\n",
    "model= gensim.models.Word2Vec(size=100,min_count=0, window=5, sg=1, iter=5,cbow_mean=1)\n",
    "model.build_vocab(sequence)"
   ]
  },
  {
   "cell_type": "code",
   "execution_count": 15,
   "metadata": {
    "colab": {
     "base_uri": "https://localhost:8080/"
    },
    "id": "3wiSGJsJAcjc",
    "outputId": "af69f7ab-73b1-4ad4-a933-50a8ebf93569"
   },
   "outputs": [
    {
     "data": {
      "text/plain": [
       "(63441, 153815)"
      ]
     },
     "execution_count": 15,
     "metadata": {},
     "output_type": "execute_result"
    }
   ],
   "source": [
    "model.train(sequence, total_examples=model.corpus_count, epochs=5)"
   ]
  },
  {
   "cell_type": "code",
   "execution_count": 16,
   "metadata": {
    "colab": {
     "base_uri": "https://localhost:8080/"
    },
    "id": "SAvEpdtIAcjc",
    "outputId": "125649f5-4d71-4157-e18c-18fc1d221099"
   },
   "outputs": [
    {
     "data": {
      "text/plain": [
       "[('dbo:OfficeHolder', 0.9819596409797668),\n",
       " ('dbo:SportsTeam', 0.9717636108398438),\n",
       " ('dbo:Company', 0.9704587459564209),\n",
       " ('dbo:RecordLabel', 0.9689014554023743),\n",
       " ('dbo:Band', 0.9679181575775146)]"
      ]
     },
     "execution_count": 16,
     "metadata": {},
     "output_type": "execute_result"
    }
   ],
   "source": [
    "model.wv.most_similar('dbo:Person',topn=5)"
   ]
  },
  {
   "cell_type": "code",
   "execution_count": 17,
   "metadata": {
    "id": "4a8tEHMA5ga_"
   },
   "outputs": [],
   "source": [
    "model.wv.save_word2vec_format('datasets/output/type_embedding.txt')"
   ]
  },
  {
   "cell_type": "markdown",
   "metadata": {
    "id": "2vQJMhDjAcjd"
   },
   "source": [
    "# Pre-processing on dataframe"
   ]
  },
  {
   "cell_type": "code",
   "execution_count": 18,
   "metadata": {
    "colab": {
     "base_uri": "https://localhost:8080/",
     "height": 258
    },
    "id": "f00FqRLTAcjd",
    "outputId": "532fa533-3dd6-4c70-a75d-094d0ca90bea"
   },
   "outputs": [
    {
     "data": {
      "text/html": [
       "<div>\n",
       "<style scoped>\n",
       "    .dataframe tbody tr th:only-of-type {\n",
       "        vertical-align: middle;\n",
       "    }\n",
       "\n",
       "    .dataframe tbody tr th {\n",
       "        vertical-align: top;\n",
       "    }\n",
       "\n",
       "    .dataframe thead th {\n",
       "        text-align: right;\n",
       "    }\n",
       "</style>\n",
       "<table border=\"1\" class=\"dataframe\">\n",
       "  <thead>\n",
       "    <tr style=\"text-align: right;\">\n",
       "      <th></th>\n",
       "      <th>id</th>\n",
       "      <th>question</th>\n",
       "      <th>category</th>\n",
       "      <th>type</th>\n",
       "    </tr>\n",
       "  </thead>\n",
       "  <tbody>\n",
       "    <tr>\n",
       "      <th>0</th>\n",
       "      <td>dbpedia_1177</td>\n",
       "      <td>Was Jacqueline Kennedy Onassis a follower of M...</td>\n",
       "      <td>boolean</td>\n",
       "      <td>[boolean]</td>\n",
       "    </tr>\n",
       "    <tr>\n",
       "      <th>1</th>\n",
       "      <td>dbpedia_14427</td>\n",
       "      <td>What is the name of the opera based on Twelfth...</td>\n",
       "      <td>resource</td>\n",
       "      <td>[dbo:Opera, dbo:MusicalWork, dbo:Work]</td>\n",
       "    </tr>\n",
       "    <tr>\n",
       "      <th>2</th>\n",
       "      <td>dbpedia_16615</td>\n",
       "      <td>When did Lena Horne receive the Grammy Award f...</td>\n",
       "      <td>literal</td>\n",
       "      <td>[date]</td>\n",
       "    </tr>\n",
       "    <tr>\n",
       "      <th>3</th>\n",
       "      <td>dbpedia_23480</td>\n",
       "      <td>Do Prince Harry and Prince William have the sa...</td>\n",
       "      <td>boolean</td>\n",
       "      <td>[boolean]</td>\n",
       "    </tr>\n",
       "    <tr>\n",
       "      <th>4</th>\n",
       "      <td>dbpedia_3681</td>\n",
       "      <td>What is the subsidiary company working for Leo...</td>\n",
       "      <td>resource</td>\n",
       "      <td>[dbo:EducationalInstitution, dbo:Organisation,...</td>\n",
       "    </tr>\n",
       "  </tbody>\n",
       "</table>\n",
       "</div>"
      ],
      "text/plain": [
       "              id                                           question  category  \\\n",
       "0   dbpedia_1177  Was Jacqueline Kennedy Onassis a follower of M...   boolean   \n",
       "1  dbpedia_14427  What is the name of the opera based on Twelfth...  resource   \n",
       "2  dbpedia_16615  When did Lena Horne receive the Grammy Award f...   literal   \n",
       "3  dbpedia_23480  Do Prince Harry and Prince William have the sa...   boolean   \n",
       "4   dbpedia_3681  What is the subsidiary company working for Leo...  resource   \n",
       "\n",
       "                                                type  \n",
       "0                                          [boolean]  \n",
       "1             [dbo:Opera, dbo:MusicalWork, dbo:Work]  \n",
       "2                                             [date]  \n",
       "3                                          [boolean]  \n",
       "4  [dbo:EducationalInstitution, dbo:Organisation,...  "
      ]
     },
     "execution_count": 18,
     "metadata": {},
     "output_type": "execute_result"
    }
   ],
   "source": [
    "dbpedia_df.head()"
   ]
  },
  {
   "cell_type": "code",
   "execution_count": 19,
   "metadata": {
    "id": "BqcjDuETF94l"
   },
   "outputs": [],
   "source": [
    "test_df= pd.read_json('datasets/DBpedia/smarttask_dbpedia_test.json')"
   ]
  },
  {
   "cell_type": "code",
   "execution_count": 20,
   "metadata": {
    "id": "AKf-ez29Acjd"
   },
   "outputs": [],
   "source": [
    "answer_types = {}\n",
    "for answers in dbpedia_df.type:\n",
    "    for a in answers:\n",
    "        if a in answer_types:\n",
    "            answer_types[a]+=1\n",
    "        else:\n",
    "            answer_types[a]=1\n",
    "\n",
    "def types_to_freqtype(type_list):\n",
    "    for t in sorted(sorted_types, key=lambda item: item[1]):\n",
    "        if sorted_types[t] < 1000: \n",
    "          if t in type_list:\n",
    "              return t\n",
    "\n",
    "    for t in sorted(sorted_types, key=lambda item: item[1]):\n",
    "          if t in type_list:\n",
    "              return t\n",
    "    \n",
    "\n",
    "def types_to_specific_type(type_list):\n",
    "    if len(type_list) == 0:\n",
    "      return None \n",
    "    return type_list[0]\n",
    "\n",
    "\n",
    "def types_to_top_type(type_list):\n",
    "    if len(type_list) == 0:\n",
    "      return None \n",
    "    return type_list[-1]\n",
    "            \n",
    "answ_df =pd.DataFrame.from_dict(answer_types, orient='index', columns=['Freq'])\n",
    "sorted_types = answ_df.sort_values(by='Freq', ascending=False).to_dict()['Freq']\n",
    "\n",
    "dbpedia_df['frequent_type'] =dbpedia_df.type.apply(types_to_freqtype)\n",
    "dbpedia_df['bottom_level_type'] =dbpedia_df.type.apply(types_to_specific_type)\n",
    "dbpedia_df['top_level_type'] =dbpedia_df.type.apply(types_to_top_type)"
   ]
  },
  {
   "cell_type": "code",
   "execution_count": 21,
   "metadata": {},
   "outputs": [
    {
     "data": {
      "text/html": [
       "<div>\n",
       "<style scoped>\n",
       "    .dataframe tbody tr th:only-of-type {\n",
       "        vertical-align: middle;\n",
       "    }\n",
       "\n",
       "    .dataframe tbody tr th {\n",
       "        vertical-align: top;\n",
       "    }\n",
       "\n",
       "    .dataframe thead th {\n",
       "        text-align: right;\n",
       "    }\n",
       "</style>\n",
       "<table border=\"1\" class=\"dataframe\">\n",
       "  <thead>\n",
       "    <tr style=\"text-align: right;\">\n",
       "      <th></th>\n",
       "      <th>id</th>\n",
       "      <th>question</th>\n",
       "      <th>category</th>\n",
       "      <th>type</th>\n",
       "      <th>frequent_type</th>\n",
       "      <th>bottom_level_type</th>\n",
       "      <th>top_level_type</th>\n",
       "    </tr>\n",
       "  </thead>\n",
       "  <tbody>\n",
       "    <tr>\n",
       "      <th>0</th>\n",
       "      <td>dbpedia_1177</td>\n",
       "      <td>Was Jacqueline Kennedy Onassis a follower of M...</td>\n",
       "      <td>boolean</td>\n",
       "      <td>[boolean]</td>\n",
       "      <td>boolean</td>\n",
       "      <td>boolean</td>\n",
       "      <td>boolean</td>\n",
       "    </tr>\n",
       "    <tr>\n",
       "      <th>1</th>\n",
       "      <td>dbpedia_14427</td>\n",
       "      <td>What is the name of the opera based on Twelfth...</td>\n",
       "      <td>resource</td>\n",
       "      <td>[dbo:Opera, dbo:MusicalWork, dbo:Work]</td>\n",
       "      <td>dbo:Work</td>\n",
       "      <td>dbo:Opera</td>\n",
       "      <td>dbo:Work</td>\n",
       "    </tr>\n",
       "    <tr>\n",
       "      <th>2</th>\n",
       "      <td>dbpedia_16615</td>\n",
       "      <td>When did Lena Horne receive the Grammy Award f...</td>\n",
       "      <td>literal</td>\n",
       "      <td>[date]</td>\n",
       "      <td>date</td>\n",
       "      <td>date</td>\n",
       "      <td>date</td>\n",
       "    </tr>\n",
       "    <tr>\n",
       "      <th>3</th>\n",
       "      <td>dbpedia_23480</td>\n",
       "      <td>Do Prince Harry and Prince William have the sa...</td>\n",
       "      <td>boolean</td>\n",
       "      <td>[boolean]</td>\n",
       "      <td>boolean</td>\n",
       "      <td>boolean</td>\n",
       "      <td>boolean</td>\n",
       "    </tr>\n",
       "    <tr>\n",
       "      <th>4</th>\n",
       "      <td>dbpedia_3681</td>\n",
       "      <td>What is the subsidiary company working for Leo...</td>\n",
       "      <td>resource</td>\n",
       "      <td>[dbo:EducationalInstitution, dbo:Organisation,...</td>\n",
       "      <td>dbo:EducationalInstitution</td>\n",
       "      <td>dbo:EducationalInstitution</td>\n",
       "      <td>dbo:Agent</td>\n",
       "    </tr>\n",
       "  </tbody>\n",
       "</table>\n",
       "</div>"
      ],
      "text/plain": [
       "              id                                           question  category  \\\n",
       "0   dbpedia_1177  Was Jacqueline Kennedy Onassis a follower of M...   boolean   \n",
       "1  dbpedia_14427  What is the name of the opera based on Twelfth...  resource   \n",
       "2  dbpedia_16615  When did Lena Horne receive the Grammy Award f...   literal   \n",
       "3  dbpedia_23480  Do Prince Harry and Prince William have the sa...   boolean   \n",
       "4   dbpedia_3681  What is the subsidiary company working for Leo...  resource   \n",
       "\n",
       "                                                type  \\\n",
       "0                                          [boolean]   \n",
       "1             [dbo:Opera, dbo:MusicalWork, dbo:Work]   \n",
       "2                                             [date]   \n",
       "3                                          [boolean]   \n",
       "4  [dbo:EducationalInstitution, dbo:Organisation,...   \n",
       "\n",
       "                frequent_type           bottom_level_type top_level_type  \n",
       "0                     boolean                     boolean        boolean  \n",
       "1                    dbo:Work                   dbo:Opera       dbo:Work  \n",
       "2                        date                        date           date  \n",
       "3                     boolean                     boolean        boolean  \n",
       "4  dbo:EducationalInstitution  dbo:EducationalInstitution      dbo:Agent  "
      ]
     },
     "execution_count": 21,
     "metadata": {},
     "output_type": "execute_result"
    }
   ],
   "source": [
    "dbpedia_df.head()"
   ]
  },
  {
   "cell_type": "code",
   "execution_count": 22,
   "metadata": {
    "id": "04j40pCqGJPO"
   },
   "outputs": [],
   "source": [
    "test_df['frequent_type'] =test_df.type.apply(types_to_freqtype)\n",
    "test_df['bottom_level_type'] =test_df.type.apply(types_to_specific_type)\n",
    "test_df['top_level_type'] =test_df.type.apply(types_to_top_type)"
   ]
  },
  {
   "cell_type": "code",
   "execution_count": 23,
   "metadata": {
    "id": "PxCmYP9NAcje"
   },
   "outputs": [],
   "source": [
    "# cleaning DBpedia dataset\n",
    "\n",
    "dbpedia_df= dbpedia_df[dbpedia_df.category.notna()]\n",
    "test_df= test_df[test_df.category.notna()]\n",
    "\n",
    "dbpedia_df= dbpedia_df[dbpedia_df['frequent_type'].notna()]\n",
    "test_df= test_df[test_df['frequent_type'].notna()]\n",
    "\n",
    "dbpedia_df.dropna( subset=['question'], inplace=True)\n",
    "test_df.dropna( subset=['question'], inplace=True)"
   ]
  },
  {
   "cell_type": "code",
   "execution_count": 24,
   "metadata": {
    "colab": {
     "base_uri": "https://localhost:8080/",
     "height": 677
    },
    "id": "v1YpznLbAcje",
    "outputId": "c2a90d9e-3044-467b-e077-30ce7fb79bab"
   },
   "outputs": [
    {
     "data": {
      "text/html": [
       "<div>\n",
       "<style scoped>\n",
       "    .dataframe tbody tr th:only-of-type {\n",
       "        vertical-align: middle;\n",
       "    }\n",
       "\n",
       "    .dataframe tbody tr th {\n",
       "        vertical-align: top;\n",
       "    }\n",
       "\n",
       "    .dataframe thead th {\n",
       "        text-align: right;\n",
       "    }\n",
       "</style>\n",
       "<table border=\"1\" class=\"dataframe\">\n",
       "  <thead>\n",
       "    <tr style=\"text-align: right;\">\n",
       "      <th></th>\n",
       "      <th>id</th>\n",
       "      <th>question</th>\n",
       "      <th>category</th>\n",
       "      <th>type</th>\n",
       "      <th>frequent_type</th>\n",
       "      <th>bottom_level_type</th>\n",
       "      <th>top_level_type</th>\n",
       "    </tr>\n",
       "  </thead>\n",
       "  <tbody>\n",
       "    <tr>\n",
       "      <th>0</th>\n",
       "      <td>dbpedia_1177</td>\n",
       "      <td>Was Jacqueline Kennedy Onassis a follower of M...</td>\n",
       "      <td>boolean</td>\n",
       "      <td>[boolean]</td>\n",
       "      <td>boolean</td>\n",
       "      <td>boolean</td>\n",
       "      <td>boolean</td>\n",
       "    </tr>\n",
       "    <tr>\n",
       "      <th>1</th>\n",
       "      <td>dbpedia_14427</td>\n",
       "      <td>What is the name of the opera based on Twelfth...</td>\n",
       "      <td>resource</td>\n",
       "      <td>[dbo:Opera, dbo:MusicalWork, dbo:Work]</td>\n",
       "      <td>dbo:Work</td>\n",
       "      <td>dbo:Opera</td>\n",
       "      <td>dbo:Work</td>\n",
       "    </tr>\n",
       "    <tr>\n",
       "      <th>2</th>\n",
       "      <td>dbpedia_16615</td>\n",
       "      <td>When did Lena Horne receive the Grammy Award f...</td>\n",
       "      <td>literal</td>\n",
       "      <td>[date]</td>\n",
       "      <td>date</td>\n",
       "      <td>date</td>\n",
       "      <td>date</td>\n",
       "    </tr>\n",
       "    <tr>\n",
       "      <th>3</th>\n",
       "      <td>dbpedia_23480</td>\n",
       "      <td>Do Prince Harry and Prince William have the sa...</td>\n",
       "      <td>boolean</td>\n",
       "      <td>[boolean]</td>\n",
       "      <td>boolean</td>\n",
       "      <td>boolean</td>\n",
       "      <td>boolean</td>\n",
       "    </tr>\n",
       "    <tr>\n",
       "      <th>4</th>\n",
       "      <td>dbpedia_3681</td>\n",
       "      <td>What is the subsidiary company working for Leo...</td>\n",
       "      <td>resource</td>\n",
       "      <td>[dbo:EducationalInstitution, dbo:Organisation,...</td>\n",
       "      <td>dbo:EducationalInstitution</td>\n",
       "      <td>dbo:EducationalInstitution</td>\n",
       "      <td>dbo:Agent</td>\n",
       "    </tr>\n",
       "  </tbody>\n",
       "</table>\n",
       "</div>"
      ],
      "text/plain": [
       "              id                                           question  category  \\\n",
       "0   dbpedia_1177  Was Jacqueline Kennedy Onassis a follower of M...   boolean   \n",
       "1  dbpedia_14427  What is the name of the opera based on Twelfth...  resource   \n",
       "2  dbpedia_16615  When did Lena Horne receive the Grammy Award f...   literal   \n",
       "3  dbpedia_23480  Do Prince Harry and Prince William have the sa...   boolean   \n",
       "4   dbpedia_3681  What is the subsidiary company working for Leo...  resource   \n",
       "\n",
       "                                                type  \\\n",
       "0                                          [boolean]   \n",
       "1             [dbo:Opera, dbo:MusicalWork, dbo:Work]   \n",
       "2                                             [date]   \n",
       "3                                          [boolean]   \n",
       "4  [dbo:EducationalInstitution, dbo:Organisation,...   \n",
       "\n",
       "                frequent_type           bottom_level_type top_level_type  \n",
       "0                     boolean                     boolean        boolean  \n",
       "1                    dbo:Work                   dbo:Opera       dbo:Work  \n",
       "2                        date                        date           date  \n",
       "3                     boolean                     boolean        boolean  \n",
       "4  dbo:EducationalInstitution  dbo:EducationalInstitution      dbo:Agent  "
      ]
     },
     "execution_count": 24,
     "metadata": {},
     "output_type": "execute_result"
    }
   ],
   "source": [
    "dbpedia_df.head()"
   ]
  },
  {
   "cell_type": "code",
   "execution_count": 25,
   "metadata": {
    "id": "SQ1cXXGLAcje"
   },
   "outputs": [],
   "source": [
    "# only choose sample with 'resource' category\n",
    "dbpedia_res_df = dbpedia_df[dbpedia_df.category == 'resource']\n",
    "test_res_df = test_df[test_df.category == 'resource']"
   ]
  },
  {
   "cell_type": "code",
   "execution_count": 26,
   "metadata": {
    "id": "YaIPYGcv9kqD"
   },
   "outputs": [],
   "source": [
    "from gensim.models import KeyedVectors"
   ]
  },
  {
   "cell_type": "code",
   "execution_count": 27,
   "metadata": {
    "id": "ZIUnuEjvAdRJ"
   },
   "outputs": [],
   "source": [
    "sbert_vectors = KeyedVectors.load_word2vec_format('datasets/embedding/sbert_w2v.txt', binary=False)\n"
   ]
  },
  {
   "cell_type": "code",
   "execution_count": 28,
   "metadata": {
    "colab": {
     "base_uri": "https://localhost:8080/"
    },
    "id": "0z8H2ZV3Cu8u",
    "outputId": "0c1db070-cbba-46bf-ca4d-c2aa47e1da52"
   },
   "outputs": [
    {
     "data": {
      "text/plain": [
       "array([-0.9934367 ,  1.743141  , -0.11504482, ..., -0.00684955,\n",
       "       -0.8644674 , -0.7142398 ], dtype=float32)"
      ]
     },
     "execution_count": 28,
     "metadata": {},
     "output_type": "execute_result"
    }
   ],
   "source": [
    "sbert_vectors['dbpedia_3681']"
   ]
  },
  {
   "cell_type": "code",
   "execution_count": 29,
   "metadata": {
    "colab": {
     "base_uri": "https://localhost:8080/",
     "height": 642
    },
    "id": "0ZOZkW4aQgSt",
    "outputId": "18d1344b-06d6-4d6f-a0a3-a5257a5d661c"
   },
   "outputs": [
    {
     "data": {
      "text/html": [
       "<div>\n",
       "<style scoped>\n",
       "    .dataframe tbody tr th:only-of-type {\n",
       "        vertical-align: middle;\n",
       "    }\n",
       "\n",
       "    .dataframe tbody tr th {\n",
       "        vertical-align: top;\n",
       "    }\n",
       "\n",
       "    .dataframe thead th {\n",
       "        text-align: right;\n",
       "    }\n",
       "</style>\n",
       "<table border=\"1\" class=\"dataframe\">\n",
       "  <thead>\n",
       "    <tr style=\"text-align: right;\">\n",
       "      <th></th>\n",
       "      <th>id</th>\n",
       "      <th>question</th>\n",
       "      <th>category</th>\n",
       "      <th>type</th>\n",
       "      <th>frequent_type</th>\n",
       "      <th>bottom_level_type</th>\n",
       "      <th>top_level_type</th>\n",
       "    </tr>\n",
       "  </thead>\n",
       "  <tbody>\n",
       "    <tr>\n",
       "      <th>1</th>\n",
       "      <td>dbpedia_14427</td>\n",
       "      <td>What is the name of the opera based on Twelfth...</td>\n",
       "      <td>resource</td>\n",
       "      <td>[dbo:Opera, dbo:MusicalWork, dbo:Work]</td>\n",
       "      <td>dbo:Work</td>\n",
       "      <td>dbo:Opera</td>\n",
       "      <td>dbo:Work</td>\n",
       "    </tr>\n",
       "    <tr>\n",
       "      <th>4</th>\n",
       "      <td>dbpedia_3681</td>\n",
       "      <td>What is the subsidiary company working for Leo...</td>\n",
       "      <td>resource</td>\n",
       "      <td>[dbo:EducationalInstitution, dbo:Organisation,...</td>\n",
       "      <td>dbo:EducationalInstitution</td>\n",
       "      <td>dbo:EducationalInstitution</td>\n",
       "      <td>dbo:Agent</td>\n",
       "    </tr>\n",
       "    <tr>\n",
       "      <th>6</th>\n",
       "      <td>dbpedia_12020</td>\n",
       "      <td>What is the federated state located in the Wei...</td>\n",
       "      <td>resource</td>\n",
       "      <td>[dbo:State, dbo:PopulatedPlace, dbo:Place, dbo...</td>\n",
       "      <td>dbo:State</td>\n",
       "      <td>dbo:State</td>\n",
       "      <td>dbo:Location</td>\n",
       "    </tr>\n",
       "    <tr>\n",
       "      <th>9</th>\n",
       "      <td>dbpedia_10315</td>\n",
       "      <td>What are the opera which start with the letter z</td>\n",
       "      <td>resource</td>\n",
       "      <td>[dbo:Opera, dbo:MusicalWork, dbo:Work]</td>\n",
       "      <td>dbo:Work</td>\n",
       "      <td>dbo:Opera</td>\n",
       "      <td>dbo:Work</td>\n",
       "    </tr>\n",
       "    <tr>\n",
       "      <th>11</th>\n",
       "      <td>dbpedia_1335</td>\n",
       "      <td>Which is the state and country of the Watergat...</td>\n",
       "      <td>resource</td>\n",
       "      <td>[dbo:Country, dbo:State, dbo:PopulatedPlace, d...</td>\n",
       "      <td>dbo:Country</td>\n",
       "      <td>dbo:Country</td>\n",
       "      <td>dbo:Location</td>\n",
       "    </tr>\n",
       "  </tbody>\n",
       "</table>\n",
       "</div>"
      ],
      "text/plain": [
       "               id                                           question  \\\n",
       "1   dbpedia_14427  What is the name of the opera based on Twelfth...   \n",
       "4    dbpedia_3681  What is the subsidiary company working for Leo...   \n",
       "6   dbpedia_12020  What is the federated state located in the Wei...   \n",
       "9   dbpedia_10315   What are the opera which start with the letter z   \n",
       "11   dbpedia_1335  Which is the state and country of the Watergat...   \n",
       "\n",
       "    category                                               type  \\\n",
       "1   resource             [dbo:Opera, dbo:MusicalWork, dbo:Work]   \n",
       "4   resource  [dbo:EducationalInstitution, dbo:Organisation,...   \n",
       "6   resource  [dbo:State, dbo:PopulatedPlace, dbo:Place, dbo...   \n",
       "9   resource             [dbo:Opera, dbo:MusicalWork, dbo:Work]   \n",
       "11  resource  [dbo:Country, dbo:State, dbo:PopulatedPlace, d...   \n",
       "\n",
       "                 frequent_type           bottom_level_type top_level_type  \n",
       "1                     dbo:Work                   dbo:Opera       dbo:Work  \n",
       "4   dbo:EducationalInstitution  dbo:EducationalInstitution      dbo:Agent  \n",
       "6                    dbo:State                   dbo:State   dbo:Location  \n",
       "9                     dbo:Work                   dbo:Opera       dbo:Work  \n",
       "11                 dbo:Country                 dbo:Country   dbo:Location  "
      ]
     },
     "execution_count": 29,
     "metadata": {},
     "output_type": "execute_result"
    }
   ],
   "source": [
    "dbpedia_res_df.head()"
   ]
  },
  {
   "cell_type": "code",
   "execution_count": 30,
   "metadata": {
    "id": "xhpczilEsH5w"
   },
   "outputs": [],
   "source": [
    "top_level_concepts = dbpedia_res_df.top_level_type.unique()"
   ]
  },
  {
   "cell_type": "code",
   "execution_count": 31,
   "metadata": {
    "colab": {
     "base_uri": "https://localhost:8080/"
    },
    "id": "qe8ImHa7t1nc",
    "outputId": "6ec7323d-6d95-4d46-cd8e-7ed0f263dbc7"
   },
   "outputs": [
    {
     "data": {
      "text/plain": [
       "43"
      ]
     },
     "execution_count": 31,
     "metadata": {},
     "output_type": "execute_result"
    }
   ],
   "source": [
    "len(top_level_concepts)"
   ]
  },
  {
   "cell_type": "code",
   "execution_count": 32,
   "metadata": {
    "id": "XH7F2U1pNA1V"
   },
   "outputs": [],
   "source": [
    "# only generates one positive sample but potentilly we can use all types except the top type\n",
    "# for the positive samples \n",
    "# generate negative samples based on types and top-level type\n",
    "#   a\n",
    "#  b        c\n",
    "# d  e     f   g\n",
    "\n",
    "# positive: (a, b), (b, d), (a, d)\n",
    "# negatives: (a, e), (a, c), (a,f) , (a, g)\n",
    "def negative_sample(row):\n",
    "    types = list(row['type']) \n",
    "    gen_type =  row['top_level_type']\n",
    "  \n",
    "    children=[]\n",
    "    for t in types:\n",
    "        if t in hierarchy:\n",
    "            children.extend( hierarchy[t]['children'] ) \n",
    "\n",
    "    canditates = []\n",
    "    for t in types:\n",
    "        for c in children:\n",
    "            if c not in canditates and t in hierarchy and c in hierarchy:\n",
    "                if hierarchy[t]['level'] == hierarchy[c]['level']:\n",
    "                    #print (t,c)\n",
    "                    canditates.append(c)\n",
    "                    break\n",
    "\n",
    "    if len(canditates) >= len(types):\n",
    "        neg = random.choices(canditates, k=len(types)) \n",
    "    else:\n",
    "        n_add = len(types)- len(canditates)\n",
    "        generic_tyeps = list(top_level_concepts)\n",
    "        generic_tyeps.remove(gen_type)\n",
    "        additonal_types = random.choices(generic_tyeps , k=n_add)\n",
    "        canditates.extend(additonal_types )\n",
    "        #canditates.remove(gen_type)\n",
    "        neg= canditates\n",
    "    return neg\n",
    "  "
   ]
  },
  {
   "cell_type": "code",
   "execution_count": 33,
   "metadata": {},
   "outputs": [],
   "source": [
    "#hierarchy['dbo:Agent']"
   ]
  },
  {
   "cell_type": "code",
   "execution_count": 34,
   "metadata": {
    "colab": {
     "base_uri": "https://localhost:8080/"
    },
    "id": "97BGaUlMAcjh",
    "outputId": "def9e4b0-5896-4067-fa93-e5ffe760502d"
   },
   "outputs": [
    {
     "data": {
      "text/plain": [
       "(id                                                        dbpedia_7821\n",
       " question             Which is the city and state for the twinned ad...\n",
       " category                                                      resource\n",
       " type                 [dbo:City, dbo:State, dbo:Settlement, dbo:Popu...\n",
       " frequent_type                                           dbo:Settlement\n",
       " bottom_level_type                                             dbo:City\n",
       " top_level_type                                            dbo:Location\n",
       " Name: 9978, dtype: object,\n",
       " ['dbo:HistoricalSettlement',\n",
       "  'dbo:Department',\n",
       "  'dbo:Street',\n",
       "  'dbo:SkiResort',\n",
       "  'dbo:CelestialBody',\n",
       "  'dbo:Flag'])"
      ]
     },
     "execution_count": 34,
     "metadata": {},
     "output_type": "execute_result"
    }
   ],
   "source": [
    "row= dbpedia_res_df.loc[9978]\n",
    "row, negative_sample(row)"
   ]
  },
  {
   "cell_type": "code",
   "execution_count": 35,
   "metadata": {},
   "outputs": [],
   "source": [
    "#len(row['type'])"
   ]
  },
  {
   "cell_type": "code",
   "execution_count": 36,
   "metadata": {
    "colab": {
     "base_uri": "https://localhost:8080/"
    },
    "id": "ji2D1thpAcjh",
    "outputId": "4a70eb5a-cbe4-4093-a808-f6a6262abc26"
   },
   "outputs": [
    {
     "name": "stderr",
     "output_type": "stream",
     "text": [
      "/opt/conda/lib/python3.7/site-packages/ipykernel_launcher.py:1: SettingWithCopyWarning: \n",
      "A value is trying to be set on a copy of a slice from a DataFrame.\n",
      "Try using .loc[row_indexer,col_indexer] = value instead\n",
      "\n",
      "See the caveats in the documentation: https://pandas.pydata.org/pandas-docs/stable/user_guide/indexing.html#returning-a-view-versus-a-copy\n",
      "  \"\"\"Entry point for launching an IPython kernel.\n"
     ]
    }
   ],
   "source": [
    "dbpedia_res_df['neg_spec_types']= dbpedia_res_df.apply(negative_sample,axis=1)"
   ]
  },
  {
   "cell_type": "code",
   "execution_count": 37,
   "metadata": {
    "colab": {
     "base_uri": "https://localhost:8080/",
     "height": 486
    },
    "id": "hmMxZOrjPHZ_",
    "outputId": "0da88973-16b9-4443-d4ba-5224002eb19c"
   },
   "outputs": [
    {
     "data": {
      "text/html": [
       "<div>\n",
       "<style scoped>\n",
       "    .dataframe tbody tr th:only-of-type {\n",
       "        vertical-align: middle;\n",
       "    }\n",
       "\n",
       "    .dataframe tbody tr th {\n",
       "        vertical-align: top;\n",
       "    }\n",
       "\n",
       "    .dataframe thead th {\n",
       "        text-align: right;\n",
       "    }\n",
       "</style>\n",
       "<table border=\"1\" class=\"dataframe\">\n",
       "  <thead>\n",
       "    <tr style=\"text-align: right;\">\n",
       "      <th></th>\n",
       "      <th>id</th>\n",
       "      <th>question</th>\n",
       "      <th>category</th>\n",
       "      <th>type</th>\n",
       "      <th>frequent_type</th>\n",
       "      <th>bottom_level_type</th>\n",
       "      <th>top_level_type</th>\n",
       "      <th>neg_spec_types</th>\n",
       "    </tr>\n",
       "  </thead>\n",
       "  <tbody>\n",
       "    <tr>\n",
       "      <th>9978</th>\n",
       "      <td>dbpedia_7821</td>\n",
       "      <td>Which is the city and state for the twinned ad...</td>\n",
       "      <td>resource</td>\n",
       "      <td>[dbo:City, dbo:State, dbo:Settlement, dbo:Popu...</td>\n",
       "      <td>dbo:Settlement</td>\n",
       "      <td>dbo:City</td>\n",
       "      <td>dbo:Location</td>\n",
       "      <td>[dbo:HistoricalSettlement, dbo:Department, dbo...</td>\n",
       "    </tr>\n",
       "  </tbody>\n",
       "</table>\n",
       "</div>"
      ],
      "text/plain": [
       "                id                                           question  \\\n",
       "9978  dbpedia_7821  Which is the city and state for the twinned ad...   \n",
       "\n",
       "      category                                               type  \\\n",
       "9978  resource  [dbo:City, dbo:State, dbo:Settlement, dbo:Popu...   \n",
       "\n",
       "       frequent_type bottom_level_type top_level_type  \\\n",
       "9978  dbo:Settlement          dbo:City   dbo:Location   \n",
       "\n",
       "                                         neg_spec_types  \n",
       "9978  [dbo:HistoricalSettlement, dbo:Department, dbo...  "
      ]
     },
     "execution_count": 37,
     "metadata": {},
     "output_type": "execute_result"
    }
   ],
   "source": [
    "dbpedia_res_df[dbpedia_res_df.id=='dbpedia_7821']"
   ]
  },
  {
   "cell_type": "code",
   "execution_count": 38,
   "metadata": {},
   "outputs": [
    {
     "data": {
      "text/plain": [
       "array(['dbo:Work', 'dbo:Agent', 'dbo:Location', 'dbo:TopicalConcept',\n",
       "       'dbo:Name', 'dbo:EthnicGroup', 'dbo:ChemicalSubstance',\n",
       "       'dbo:Award', 'dbo:Species', 'dbo:Activity', 'dbo:PersonFunction',\n",
       "       'dbo:Biomolecule', 'dbo:Event', 'dbo:PoliticalParty',\n",
       "       'dbo:Disease', 'dbo:MeanOfTransportation', 'dbo:Media',\n",
       "       'dbo:UnitOfWork', 'dbo:Device', 'dbo:Language',\n",
       "       'dbo:AnatomicalStructure', 'dbo:MedicalSpecialty', 'dbo:Currency',\n",
       "       'dbo:OfficeHolder', 'dbo:MusicalArtist', 'dbo:HorseRace',\n",
       "       'dbo:Country', 'dbo:BaseballTeam', 'dbo:Food', 'dbo:City',\n",
       "       'dbo:River', 'dbo:SoccerPlayer', 'dbo:TimePeriod',\n",
       "       'dbo:MountainRange', 'dbo:Holiday', 'dbo:PublicService',\n",
       "       'dbo:University', 'dbo:Museum', 'dbo:SoccerClub',\n",
       "       'dbo:CollegeCoach', 'dbo:Flag', 'dbo:Person', 'dbo:RecordLabel'],\n",
       "      dtype=object)"
      ]
     },
     "execution_count": 38,
     "metadata": {},
     "output_type": "execute_result"
    }
   ],
   "source": [
    "top_level_concepts"
   ]
  },
  {
   "cell_type": "code",
   "execution_count": 39,
   "metadata": {
    "id": "hy0Tbqr4Acjh"
   },
   "outputs": [],
   "source": [
    "# typearray = np.asanyarray( dbpedia_res_df.neg_spec_types.values)"
   ]
  },
  {
   "cell_type": "code",
   "execution_count": 40,
   "metadata": {
    "id": "Wus_gsKqVev0"
   },
   "outputs": [],
   "source": [
    "from sklearn.model_selection import train_test_split"
   ]
  },
  {
   "cell_type": "code",
   "execution_count": 185,
   "metadata": {
    "id": "5KVO-CQbVoNg"
   },
   "outputs": [],
   "source": [
    "train_res_df,valid_res_df = train_test_split(dbpedia_res_df, test_size=0.1, random_state=42)"
   ]
  },
  {
   "cell_type": "code",
   "execution_count": 186,
   "metadata": {
    "colab": {
     "base_uri": "https://localhost:8080/",
     "height": 590
    },
    "id": "88HD-8WiWQi3",
    "outputId": "af9fef5c-21f2-4e9b-c25b-d74102a6bef4"
   },
   "outputs": [
    {
     "data": {
      "text/html": [
       "<div>\n",
       "<style scoped>\n",
       "    .dataframe tbody tr th:only-of-type {\n",
       "        vertical-align: middle;\n",
       "    }\n",
       "\n",
       "    .dataframe tbody tr th {\n",
       "        vertical-align: top;\n",
       "    }\n",
       "\n",
       "    .dataframe thead th {\n",
       "        text-align: right;\n",
       "    }\n",
       "</style>\n",
       "<table border=\"1\" class=\"dataframe\">\n",
       "  <thead>\n",
       "    <tr style=\"text-align: right;\">\n",
       "      <th></th>\n",
       "      <th>id</th>\n",
       "      <th>question</th>\n",
       "      <th>category</th>\n",
       "      <th>type</th>\n",
       "      <th>frequent_type</th>\n",
       "      <th>bottom_level_type</th>\n",
       "      <th>top_level_type</th>\n",
       "      <th>pred_types</th>\n",
       "    </tr>\n",
       "  </thead>\n",
       "  <tbody>\n",
       "    <tr>\n",
       "      <th>6</th>\n",
       "      <td>dbpedia_22599</td>\n",
       "      <td>Where did the war take place where one of the ...</td>\n",
       "      <td>resource</td>\n",
       "      <td>[dbo:Country, dbo:PopulatedPlace, dbo:Place]</td>\n",
       "      <td>dbo:Country</td>\n",
       "      <td>dbo:Country</td>\n",
       "      <td>dbo:Place</td>\n",
       "      <td>[dbo:Settlement, dbo:State, dbo:City, dbo:Popu...</td>\n",
       "    </tr>\n",
       "    <tr>\n",
       "      <th>9</th>\n",
       "      <td>dbpedia_19677</td>\n",
       "      <td>Which mountains are contained in Inyo National...</td>\n",
       "      <td>resource</td>\n",
       "      <td>[dbo:Mountain, dbo:NaturalPlace, dbo:Place]</td>\n",
       "      <td>dbo:NaturalPlace</td>\n",
       "      <td>dbo:Mountain</td>\n",
       "      <td>dbo:Place</td>\n",
       "      <td>[dbo:RouteOfTransportation, dbo:Mountain, dbo:...</td>\n",
       "    </tr>\n",
       "    <tr>\n",
       "      <th>11</th>\n",
       "      <td>dbpedia_11163</td>\n",
       "      <td>What is the seat of Frankfurter Allgemeine Zei...</td>\n",
       "      <td>resource</td>\n",
       "      <td>[dbo:City, dbo:Settlement, dbo:PopulatedPlace,...</td>\n",
       "      <td>dbo:Settlement</td>\n",
       "      <td>dbo:City</td>\n",
       "      <td>dbo:Place</td>\n",
       "      <td>[dbo:Settlement, dbo:City, dbo:State, dbo:Popu...</td>\n",
       "    </tr>\n",
       "    <tr>\n",
       "      <th>16</th>\n",
       "      <td>dbpedia_18792</td>\n",
       "      <td>What did the people buried in Toronto die of?</td>\n",
       "      <td>resource</td>\n",
       "      <td>[dbo:Disease]</td>\n",
       "      <td>dbo:Disease</td>\n",
       "      <td>dbo:Disease</td>\n",
       "      <td>dbo:Disease</td>\n",
       "      <td>[dbo:Settlement, dbo:State, dbo:PopulatedPlace...</td>\n",
       "    </tr>\n",
       "    <tr>\n",
       "      <th>19</th>\n",
       "      <td>dbpedia_11251</td>\n",
       "      <td>What is the league of major league lacrosse?</td>\n",
       "      <td>resource</td>\n",
       "      <td>[dbo:SportsTeam, dbo:Organisation, dbo:Agent]</td>\n",
       "      <td>dbo:SportsTeam</td>\n",
       "      <td>dbo:SportsTeam</td>\n",
       "      <td>dbo:Agent</td>\n",
       "      <td>[dbo:Settlement, dbo:State, dbo:City, dbo:Popu...</td>\n",
       "    </tr>\n",
       "  </tbody>\n",
       "</table>\n",
       "</div>"
      ],
      "text/plain": [
       "               id                                           question  \\\n",
       "6   dbpedia_22599  Where did the war take place where one of the ...   \n",
       "9   dbpedia_19677  Which mountains are contained in Inyo National...   \n",
       "11  dbpedia_11163  What is the seat of Frankfurter Allgemeine Zei...   \n",
       "16  dbpedia_18792      What did the people buried in Toronto die of?   \n",
       "19  dbpedia_11251       What is the league of major league lacrosse?   \n",
       "\n",
       "    category                                               type  \\\n",
       "6   resource       [dbo:Country, dbo:PopulatedPlace, dbo:Place]   \n",
       "9   resource        [dbo:Mountain, dbo:NaturalPlace, dbo:Place]   \n",
       "11  resource  [dbo:City, dbo:Settlement, dbo:PopulatedPlace,...   \n",
       "16  resource                                      [dbo:Disease]   \n",
       "19  resource      [dbo:SportsTeam, dbo:Organisation, dbo:Agent]   \n",
       "\n",
       "       frequent_type bottom_level_type top_level_type  \\\n",
       "6        dbo:Country       dbo:Country      dbo:Place   \n",
       "9   dbo:NaturalPlace      dbo:Mountain      dbo:Place   \n",
       "11    dbo:Settlement          dbo:City      dbo:Place   \n",
       "16       dbo:Disease       dbo:Disease    dbo:Disease   \n",
       "19    dbo:SportsTeam    dbo:SportsTeam      dbo:Agent   \n",
       "\n",
       "                                           pred_types  \n",
       "6   [dbo:Settlement, dbo:State, dbo:City, dbo:Popu...  \n",
       "9   [dbo:RouteOfTransportation, dbo:Mountain, dbo:...  \n",
       "11  [dbo:Settlement, dbo:City, dbo:State, dbo:Popu...  \n",
       "16  [dbo:Settlement, dbo:State, dbo:PopulatedPlace...  \n",
       "19  [dbo:Settlement, dbo:State, dbo:City, dbo:Popu...  "
      ]
     },
     "execution_count": 186,
     "metadata": {},
     "output_type": "execute_result"
    }
   ],
   "source": [
    "test_res_df.head()"
   ]
  },
  {
   "cell_type": "code",
   "execution_count": 187,
   "metadata": {
    "id": "j2w9nXc8Acjj"
   },
   "outputs": [],
   "source": [
    "# combine embeddings for tokens of question, general and spcific answer type \n",
    "def getCombinedEmbedding(db_id, gen_type, specific_type):\n",
    "    #avg_emb = np.add(embedding(gen_type), embedding(specific_type))  / 2.0\n",
    "    avg_emb= embedding(specific_type)\n",
    "    ques_vec = sbert_vectors[db_id]\n",
    "    return np.concatenate([avg_emb, ques_vec], axis=None)\n",
    "\n",
    "def embedding(entity):\n",
    "  #print ('entity',entity)\n",
    "    return model.wv[entity]\n"
   ]
  },
  {
   "cell_type": "code",
   "execution_count": 188,
   "metadata": {
    "id": "w8Y-7gb8Acjk"
   },
   "outputs": [],
   "source": [
    "def createCombinedEmbedding(row):\n",
    "    return getCombinedEmbedding(row['id'], row['generic_type'],row['specific_type'])\n",
    "\n",
    "def createNegCombinedEmbedding(row, i):\n",
    "    #print (row['general_type'], row['neg_spec_types'])\n",
    "    return getCombinedEmbedding(row['id'], row['generic_type'],row['neg_spec_types'] )"
   ]
  },
  {
   "cell_type": "code",
   "execution_count": 189,
   "metadata": {
    "id": "FeR0pMkalGMq"
   },
   "outputs": [],
   "source": [
    "def example_generation(train_df):\n",
    "  train = []\n",
    "  for i, row in train_df.iterrows():\n",
    "    types = list(row['type'])\n",
    "\n",
    "    for i in range(len(types)):\n",
    "      train.append([row['id'], row['top_level_type'], types[i], 1])\n",
    "      train.append([row['id'], row['top_level_type'], row['neg_spec_types'][i], 0 ])\n",
    "  \n",
    "  return pd.DataFrame(train, columns=['id','generic_type','specific_type','class'])"
   ]
  },
  {
   "cell_type": "code",
   "execution_count": 236,
   "metadata": {
    "id": "pPwjZZSjm0h-"
   },
   "outputs": [],
   "source": [
    "train_resampled= example_generation(train_res_df)"
   ]
  },
  {
   "cell_type": "code",
   "execution_count": 237,
   "metadata": {
    "colab": {
     "base_uri": "https://localhost:8080/",
     "height": 676
    },
    "id": "WTj1I7DoaXP6",
    "outputId": "8e7f7fd4-4b3b-44ba-9261-53c457c4027a"
   },
   "outputs": [
    {
     "data": {
      "text/html": [
       "<div>\n",
       "<style scoped>\n",
       "    .dataframe tbody tr th:only-of-type {\n",
       "        vertical-align: middle;\n",
       "    }\n",
       "\n",
       "    .dataframe tbody tr th {\n",
       "        vertical-align: top;\n",
       "    }\n",
       "\n",
       "    .dataframe thead th {\n",
       "        text-align: right;\n",
       "    }\n",
       "</style>\n",
       "<table border=\"1\" class=\"dataframe\">\n",
       "  <thead>\n",
       "    <tr style=\"text-align: right;\">\n",
       "      <th></th>\n",
       "      <th>id</th>\n",
       "      <th>generic_type</th>\n",
       "      <th>specific_type</th>\n",
       "      <th>class</th>\n",
       "    </tr>\n",
       "  </thead>\n",
       "  <tbody>\n",
       "    <tr>\n",
       "      <th>0</th>\n",
       "      <td>dbpedia_22967</td>\n",
       "      <td>dbo:Work</td>\n",
       "      <td>dbo:TelevisionShow</td>\n",
       "      <td>1</td>\n",
       "    </tr>\n",
       "    <tr>\n",
       "      <th>1</th>\n",
       "      <td>dbpedia_22967</td>\n",
       "      <td>dbo:Work</td>\n",
       "      <td>dbo:Website</td>\n",
       "      <td>0</td>\n",
       "    </tr>\n",
       "    <tr>\n",
       "      <th>2</th>\n",
       "      <td>dbpedia_22967</td>\n",
       "      <td>dbo:Work</td>\n",
       "      <td>dbo:Work</td>\n",
       "      <td>1</td>\n",
       "    </tr>\n",
       "    <tr>\n",
       "      <th>3</th>\n",
       "      <td>dbpedia_22967</td>\n",
       "      <td>dbo:Work</td>\n",
       "      <td>dbo:PersonFunction</td>\n",
       "      <td>0</td>\n",
       "    </tr>\n",
       "    <tr>\n",
       "      <th>4</th>\n",
       "      <td>dbpedia_19382</td>\n",
       "      <td>dbo:Agent</td>\n",
       "      <td>dbo:OfficeHolder</td>\n",
       "      <td>1</td>\n",
       "    </tr>\n",
       "    <tr>\n",
       "      <th>5</th>\n",
       "      <td>dbpedia_19382</td>\n",
       "      <td>dbo:Agent</td>\n",
       "      <td>dbo:Architect</td>\n",
       "      <td>0</td>\n",
       "    </tr>\n",
       "    <tr>\n",
       "      <th>6</th>\n",
       "      <td>dbpedia_19382</td>\n",
       "      <td>dbo:Agent</td>\n",
       "      <td>dbo:Person</td>\n",
       "      <td>1</td>\n",
       "    </tr>\n",
       "    <tr>\n",
       "      <th>7</th>\n",
       "      <td>dbpedia_19382</td>\n",
       "      <td>dbo:Agent</td>\n",
       "      <td>dbo:Family</td>\n",
       "      <td>0</td>\n",
       "    </tr>\n",
       "    <tr>\n",
       "      <th>8</th>\n",
       "      <td>dbpedia_19382</td>\n",
       "      <td>dbo:Agent</td>\n",
       "      <td>dbo:Agent</td>\n",
       "      <td>1</td>\n",
       "    </tr>\n",
       "    <tr>\n",
       "      <th>9</th>\n",
       "      <td>dbpedia_19382</td>\n",
       "      <td>dbo:Agent</td>\n",
       "      <td>dbo:Food</td>\n",
       "      <td>0</td>\n",
       "    </tr>\n",
       "    <tr>\n",
       "      <th>10</th>\n",
       "      <td>dbpedia_23027</td>\n",
       "      <td>dbo:Agent</td>\n",
       "      <td>dbo:Person</td>\n",
       "      <td>1</td>\n",
       "    </tr>\n",
       "    <tr>\n",
       "      <th>11</th>\n",
       "      <td>dbpedia_23027</td>\n",
       "      <td>dbo:Agent</td>\n",
       "      <td>dbo:Family</td>\n",
       "      <td>0</td>\n",
       "    </tr>\n",
       "    <tr>\n",
       "      <th>12</th>\n",
       "      <td>dbpedia_23027</td>\n",
       "      <td>dbo:Agent</td>\n",
       "      <td>dbo:Agent</td>\n",
       "      <td>1</td>\n",
       "    </tr>\n",
       "    <tr>\n",
       "      <th>13</th>\n",
       "      <td>dbpedia_23027</td>\n",
       "      <td>dbo:Agent</td>\n",
       "      <td>dbo:PublicService</td>\n",
       "      <td>0</td>\n",
       "    </tr>\n",
       "    <tr>\n",
       "      <th>14</th>\n",
       "      <td>dbpedia_22972</td>\n",
       "      <td>dbo:Location</td>\n",
       "      <td>dbo:Country</td>\n",
       "      <td>1</td>\n",
       "    </tr>\n",
       "    <tr>\n",
       "      <th>15</th>\n",
       "      <td>dbpedia_22972</td>\n",
       "      <td>dbo:Location</td>\n",
       "      <td>dbo:Department</td>\n",
       "      <td>0</td>\n",
       "    </tr>\n",
       "    <tr>\n",
       "      <th>16</th>\n",
       "      <td>dbpedia_22972</td>\n",
       "      <td>dbo:Location</td>\n",
       "      <td>dbo:City</td>\n",
       "      <td>1</td>\n",
       "    </tr>\n",
       "    <tr>\n",
       "      <th>17</th>\n",
       "      <td>dbpedia_22972</td>\n",
       "      <td>dbo:Location</td>\n",
       "      <td>dbo:HistoricalCountry</td>\n",
       "      <td>0</td>\n",
       "    </tr>\n",
       "    <tr>\n",
       "      <th>18</th>\n",
       "      <td>dbpedia_22972</td>\n",
       "      <td>dbo:Location</td>\n",
       "      <td>dbo:Settlement</td>\n",
       "      <td>1</td>\n",
       "    </tr>\n",
       "    <tr>\n",
       "      <th>19</th>\n",
       "      <td>dbpedia_22972</td>\n",
       "      <td>dbo:Location</td>\n",
       "      <td>dbo:Street</td>\n",
       "      <td>0</td>\n",
       "    </tr>\n",
       "  </tbody>\n",
       "</table>\n",
       "</div>"
      ],
      "text/plain": [
       "               id  generic_type          specific_type  class\n",
       "0   dbpedia_22967      dbo:Work     dbo:TelevisionShow      1\n",
       "1   dbpedia_22967      dbo:Work            dbo:Website      0\n",
       "2   dbpedia_22967      dbo:Work               dbo:Work      1\n",
       "3   dbpedia_22967      dbo:Work     dbo:PersonFunction      0\n",
       "4   dbpedia_19382     dbo:Agent       dbo:OfficeHolder      1\n",
       "5   dbpedia_19382     dbo:Agent          dbo:Architect      0\n",
       "6   dbpedia_19382     dbo:Agent             dbo:Person      1\n",
       "7   dbpedia_19382     dbo:Agent             dbo:Family      0\n",
       "8   dbpedia_19382     dbo:Agent              dbo:Agent      1\n",
       "9   dbpedia_19382     dbo:Agent               dbo:Food      0\n",
       "10  dbpedia_23027     dbo:Agent             dbo:Person      1\n",
       "11  dbpedia_23027     dbo:Agent             dbo:Family      0\n",
       "12  dbpedia_23027     dbo:Agent              dbo:Agent      1\n",
       "13  dbpedia_23027     dbo:Agent      dbo:PublicService      0\n",
       "14  dbpedia_22972  dbo:Location            dbo:Country      1\n",
       "15  dbpedia_22972  dbo:Location         dbo:Department      0\n",
       "16  dbpedia_22972  dbo:Location               dbo:City      1\n",
       "17  dbpedia_22972  dbo:Location  dbo:HistoricalCountry      0\n",
       "18  dbpedia_22972  dbo:Location         dbo:Settlement      1\n",
       "19  dbpedia_22972  dbo:Location             dbo:Street      0"
      ]
     },
     "execution_count": 237,
     "metadata": {},
     "output_type": "execute_result"
    }
   ],
   "source": [
    "train_resampled.head(20)"
   ]
  },
  {
   "cell_type": "code",
   "execution_count": 238,
   "metadata": {
    "id": "ffAgqR9B_UHw"
   },
   "outputs": [],
   "source": [
    "#train_df = train_df[train_df.specific_type != 'owl:Thing']"
   ]
  },
  {
   "cell_type": "code",
   "execution_count": 239,
   "metadata": {
    "id": "tqOeoQLW9PMM"
   },
   "outputs": [],
   "source": [
    "valid_resampled= example_generation(valid_res_df)"
   ]
  },
  {
   "cell_type": "code",
   "execution_count": 240,
   "metadata": {
    "colab": {
     "base_uri": "https://localhost:8080/"
    },
    "id": "P3z4038EHHBe",
    "outputId": "f2b5c124-c2d5-40fa-d712-8e289c83d78e"
   },
   "outputs": [
    {
     "data": {
      "text/plain": [
       "1    24949\n",
       "0    24949\n",
       "Name: class, dtype: int64"
      ]
     },
     "execution_count": 240,
     "metadata": {},
     "output_type": "execute_result"
    }
   ],
   "source": [
    "train_resampled['class'].value_counts()"
   ]
  },
  {
   "cell_type": "code",
   "execution_count": 241,
   "metadata": {
    "colab": {
     "base_uri": "https://localhost:8080/"
    },
    "id": "zgKHGPkWHyub",
    "outputId": "759c0b06-2220-4c4a-f1e1-fe5b53607c54"
   },
   "outputs": [
    {
     "data": {
      "text/plain": [
       "1    2862\n",
       "0    2862\n",
       "Name: class, dtype: int64"
      ]
     },
     "execution_count": 241,
     "metadata": {},
     "output_type": "execute_result"
    }
   ],
   "source": [
    "valid_resampled['class'].value_counts()"
   ]
  },
  {
   "cell_type": "code",
   "execution_count": 242,
   "metadata": {
    "id": "FAA5RR2dwMqo"
   },
   "outputs": [],
   "source": [
    "#train_resampled.to_csv('datasets/output/dbpedia_train_resampled.csv', index=False)"
   ]
  },
  {
   "cell_type": "code",
   "execution_count": 243,
   "metadata": {
    "id": "eZx7DawswylW"
   },
   "outputs": [],
   "source": [
    "#valid_resampled.to_csv('datasets/output/dbpedia_valid_resampled.csv', index=False)"
   ]
  },
  {
   "cell_type": "code",
   "execution_count": 244,
   "metadata": {
    "colab": {
     "base_uri": "https://localhost:8080/"
    },
    "id": "srBjhj8rAcjk",
    "outputId": "ff0ce79e-aa9b-40be-d985-7c7a0f648e94"
   },
   "outputs": [
    {
     "name": "stdout",
     "output_type": "stream",
     "text": [
      "id               dbpedia_11008\n",
      "generic_type         dbo:Agent\n",
      "specific_type       dbo:Person\n",
      "class                        1\n",
      "Name: 100, dtype: object\n"
     ]
    }
   ],
   "source": [
    "row = valid_resampled.iloc[100]\n",
    "print (row)\n",
    "concat_vec = createCombinedEmbedding(row)"
   ]
  },
  {
   "cell_type": "code",
   "execution_count": 245,
   "metadata": {
    "colab": {
     "base_uri": "https://localhost:8080/"
    },
    "id": "F2gbE4Fsbwc8",
    "outputId": "9dd4d0ea-0f23-402e-f9a2-b9598145bb13"
   },
   "outputs": [
    {
     "data": {
      "text/plain": [
       "array([ 3.1876564e-03,  9.3735807e-04, -4.6780482e-02, ...,\n",
       "       -8.9567590e-01, -1.5002191e+00,  1.1927358e+00], dtype=float32)"
      ]
     },
     "execution_count": 245,
     "metadata": {},
     "output_type": "execute_result"
    }
   ],
   "source": [
    "concat_vec"
   ]
  },
  {
   "cell_type": "code",
   "execution_count": 246,
   "metadata": {
    "id": "jD-rVCTtcN3N"
   },
   "outputs": [],
   "source": [
    "\n",
    "#indicies = np.arange(train_resampled.shape[0])\n",
    "#np.random.shuffle(indicies)\n",
    "#train_df_sample=train_resampled.iloc[indicies]\n",
    "\n",
    "#indicies = np.arange(valid_resampled.shape[0])\n",
    "#np.random.shuffle(indicies)\n",
    "#valid_df_sample=valid_resampled.iloc[indicies]"
   ]
  },
  {
   "cell_type": "code",
   "execution_count": 247,
   "metadata": {
    "id": "GWI41dDzAcjk"
   },
   "outputs": [],
   "source": [
    "def vectorize(train_df, valid_df, vec_size):\n",
    "    train_X = train_df.apply(createCombinedEmbedding, axis=1)\n",
    "    train_y = train_df['class'].values\n",
    "    \n",
    "    valid_X = valid_df.apply(createCombinedEmbedding, axis=1)\n",
    "    valid_y = valid_df['class'].values\n",
    "\n",
    "    return np.stack(train_X.values), train_y, np.stack(valid_X.values), valid_y"
   ]
  },
  {
   "cell_type": "code",
   "execution_count": 248,
   "metadata": {
    "colab": {
     "base_uri": "https://localhost:8080/"
    },
    "id": "U0gyTh-eAcjl",
    "outputId": "d399afa7-61cd-4733-c715-aaea7eef7b5a"
   },
   "outputs": [
    {
     "data": {
      "text/plain": [
       "(49898, 5724)"
      ]
     },
     "execution_count": 248,
     "metadata": {},
     "output_type": "execute_result"
    }
   ],
   "source": [
    "len(train_resampled), len(valid_resampled)"
   ]
  },
  {
   "cell_type": "code",
   "execution_count": 249,
   "metadata": {},
   "outputs": [
    {
     "data": {
      "text/plain": [
       "dbo:Agent            3847\n",
       "dbo:Family           3741\n",
       "dbo:Person           2634\n",
       "dbo:Location         2164\n",
       "dbo:CelestialBody    2073\n",
       "                     ... \n",
       "dbo:Mollusca            1\n",
       "dbo:Dancer              1\n",
       "dbo:HotSpring           1\n",
       "dbo:Wrestler            1\n",
       "dbo:Tax                 1\n",
       "Name: specific_type, Length: 344, dtype: int64"
      ]
     },
     "execution_count": 249,
     "metadata": {},
     "output_type": "execute_result"
    }
   ],
   "source": [
    "train_resampled.specific_type.value_counts()"
   ]
  },
  {
   "cell_type": "code",
   "execution_count": 250,
   "metadata": {},
   "outputs": [
    {
     "data": {
      "text/plain": [
       "dbo:Agent            447\n",
       "dbo:Family           437\n",
       "dbo:Person           319\n",
       "dbo:Location         263\n",
       "dbo:CelestialBody    253\n",
       "                    ... \n",
       "dbo:Bank               1\n",
       "dbo:Gnetophytes        1\n",
       "dbo:RugbyPlayer        1\n",
       "dbo:Comedian           1\n",
       "dbo:Philosopher        1\n",
       "Name: specific_type, Length: 227, dtype: int64"
      ]
     },
     "execution_count": 250,
     "metadata": {},
     "output_type": "execute_result"
    }
   ],
   "source": [
    "valid_resampled.specific_type.value_counts()"
   ]
  },
  {
   "cell_type": "code",
   "execution_count": 60,
   "metadata": {},
   "outputs": [],
   "source": [
    "from imblearn.under_sampling import RandomUnderSampler"
   ]
  },
  {
   "cell_type": "code",
   "execution_count": 251,
   "metadata": {},
   "outputs": [],
   "source": [
    "\n",
    "rus = RandomUnderSampler(sampling_strategy='all')"
   ]
  },
  {
   "cell_type": "code",
   "execution_count": 252,
   "metadata": {},
   "outputs": [],
   "source": [
    "train_resampled_under, _= rus.fit_resample(train_resampled, train_resampled['id'])"
   ]
  },
  {
   "cell_type": "code",
   "execution_count": 257,
   "metadata": {},
   "outputs": [
    {
     "data": {
      "text/plain": [
       "dbpedia_17503    2\n",
       "dbpedia_833      2\n",
       "dbpedia_16602    2\n",
       "dbpedia_7172     2\n",
       "dbpedia_13381    2\n",
       "                ..\n",
       "dbpedia_17151    2\n",
       "dbpedia_9595     2\n",
       "dbpedia_11121    2\n",
       "dbpedia_7442     2\n",
       "dbpedia_22613    2\n",
       "Name: id, Length: 8601, dtype: int64"
      ]
     },
     "execution_count": 257,
     "metadata": {},
     "output_type": "execute_result"
    }
   ],
   "source": [
    "train_resampled_under.id.value_counts()"
   ]
  },
  {
   "cell_type": "code",
   "execution_count": 253,
   "metadata": {},
   "outputs": [
    {
     "data": {
      "text/plain": [
       "dbo:Agent                     1580\n",
       "dbo:Family                    1552\n",
       "dbo:Person                    1179\n",
       "dbo:Location                   518\n",
       "dbo:Work                       489\n",
       "                              ... \n",
       "dbo:CanadianFootballPlayer       1\n",
       "dbo:Locomotive                   1\n",
       "dbo:Prison                       1\n",
       "dbo:Tax                          1\n",
       "dbo:WaterTower                   1\n",
       "Name: specific_type, Length: 269, dtype: int64"
      ]
     },
     "execution_count": 253,
     "metadata": {},
     "output_type": "execute_result"
    }
   ],
   "source": [
    "train_resampled_under.specific_type.value_counts()"
   ]
  },
  {
   "cell_type": "code",
   "execution_count": 255,
   "metadata": {},
   "outputs": [
    {
     "data": {
      "text/plain": [
       "0    8758\n",
       "1    8444\n",
       "Name: class, dtype: int64"
      ]
     },
     "execution_count": 255,
     "metadata": {},
     "output_type": "execute_result"
    }
   ],
   "source": [
    "train_resampled_under['class'].value_counts()"
   ]
  },
  {
   "cell_type": "code",
   "execution_count": 258,
   "metadata": {},
   "outputs": [],
   "source": [
    "train_resampled = train_resampled_under"
   ]
  },
  {
   "cell_type": "code",
   "execution_count": 259,
   "metadata": {},
   "outputs": [],
   "source": [
    "#valid_resampled, _= rus.fit_resample(valid_resampled, valid_resampled['generic_type'])"
   ]
  },
  {
   "cell_type": "code",
   "execution_count": 260,
   "metadata": {
    "colab": {
     "base_uri": "https://localhost:8080/"
    },
    "id": "FIcCZyO4Acjl",
    "outputId": "ec3c00c4-70f7-44e4-db38-868a37f8ec07"
   },
   "outputs": [
    {
     "name": "stdout",
     "output_type": "stream",
     "text": [
      "1124\n"
     ]
    }
   ],
   "source": [
    "vec_size = concat_vec.shape[0]\n",
    "print (vec_size)\n",
    "X, y, X_val, y_val = vectorize(train_resampled, valid_resampled, vec_size)"
   ]
  },
  {
   "cell_type": "code",
   "execution_count": 261,
   "metadata": {
    "id": "TkVss4LD9mh2"
   },
   "outputs": [
    {
     "data": {
      "text/plain": [
       "((17202, 1124), (17202,))"
      ]
     },
     "execution_count": 261,
     "metadata": {},
     "output_type": "execute_result"
    }
   ],
   "source": [
    "X.shape, y.shape"
   ]
  },
  {
   "cell_type": "code",
   "execution_count": 262,
   "metadata": {
    "id": "tBX8atG3Acjl"
   },
   "outputs": [
    {
     "data": {
      "text/plain": [
       "RandomForestClassifier(max_depth=5, n_estimators=200, n_jobs=5)"
      ]
     },
     "execution_count": 262,
     "metadata": {},
     "output_type": "execute_result"
    }
   ],
   "source": [
    "#train RF calssifier\n",
    "from sklearn.ensemble import RandomForestClassifier\n",
    "from sklearn.svm import LinearSVC\n",
    "rf =RandomForestClassifier(n_estimators=200,max_depth=5,n_jobs=5)\n",
    "rf.fit(X, y)"
   ]
  },
  {
   "cell_type": "code",
   "execution_count": 263,
   "metadata": {
    "id": "RMSUjNalAcjm"
   },
   "outputs": [],
   "source": [
    "y_pred= rf.predict(X_val)"
   ]
  },
  {
   "cell_type": "code",
   "execution_count": 264,
   "metadata": {
    "id": "sv5R2JLVAcjm"
   },
   "outputs": [
    {
     "data": {
      "text/plain": [
       "0.8857442348008385"
      ]
     },
     "execution_count": 264,
     "metadata": {},
     "output_type": "execute_result"
    }
   ],
   "source": [
    "np.sum(y_pred ==y_val)/y_val.shape[0]"
   ]
  },
  {
   "cell_type": "code",
   "execution_count": 266,
   "metadata": {
    "id": "yROF39e2R-9o"
   },
   "outputs": [
    {
     "data": {
      "text/plain": [
       "0.022785991235582722"
      ]
     },
     "execution_count": 266,
     "metadata": {},
     "output_type": "execute_result"
    }
   ],
   "source": [
    "rf.feature_importances_[100:].sum()"
   ]
  },
  {
   "cell_type": "code",
   "execution_count": null,
   "metadata": {
    "id": "Y5FMQZ3Jj_4f"
   },
   "outputs": [],
   "source": [
    "#dbpedia_types.head()"
   ]
  },
  {
   "cell_type": "code",
   "execution_count": 267,
   "metadata": {
    "id": "xCoGHZYbAcjm"
   },
   "outputs": [],
   "source": [
    "# look for the best specific type based on RF model for given generic and question text\n",
    "def get_best_type(row, clf, thers=0.01):\n",
    "   \n",
    "    gen_type = row['top_level_type']\n",
    "    #cand_list = train_df_sample[train_df_sample.generic_type == gen_type]['specific_type'].unique()\n",
    "\n",
    "    #if len(cand_list) == 0: return [gen_type]\n",
    "    \n",
    "    c_mat = []\n",
    "    cand_list= label_to_id\n",
    "    for c in label_to_id:\n",
    "        c_mat.append( getCombinedEmbedding(row['id'], row['top_level_type'], c))\n",
    "    probs =clf.predict_proba(np.array(c_mat))\n",
    "    #print (cand_list, probs)\n",
    "    if type(clf) == RandomForestClassifier:\n",
    "        probs= probs[:,1]\n",
    "        #print (probs)\n",
    "    else:\n",
    "        probs= probs[:,0]\n",
    "    #print (probs)\n",
    "    #best = np.argsort(probs)\n",
    "    norm = probs\n",
    "    result_before = np.argsort(norm)[::-1]\n",
    "    #print('before')\n",
    "    #for r in result_before:\n",
    "    #    print(id_to_label[str(r)])\n",
    "    #reward top class\n",
    "    initial_top_index = np.argmax(norm)\n",
    "    initial_top = hierarchy[id_to_label[str(initial_top_index)]]\n",
    "    if initial_top != {}:\n",
    "        norm[initial_top_index] = norm[initial_top_index] + int(initial_top['level'])/6\n",
    "        #reward sub classes of top class\n",
    "        initial_top_children = initial_top['children']\n",
    "        for c in initial_top_children:\n",
    "            if c in label_to_id:\n",
    "                norm[int(label_to_id[c])] = norm[int(label_to_id[c])] + int(hierarchy[c]['level'])/6\n",
    "    #classes in descending order\n",
    "    result = np.argsort(norm)[::-1]\n",
    "    #print('after')\n",
    "    #for r in result:\n",
    "    #    print(id_to_label[str(r)])\n",
    "    result_mapped = []\n",
    "    for r in result:\n",
    "        result_mapped.append(id_to_label[str(r)])\n",
    "   \n",
    "    #print (cand_list[best], probs[best])\n",
    "    return  result_mapped[:5]"
   ]
  },
  {
   "cell_type": "code",
   "execution_count": 268,
   "metadata": {
    "colab": {
     "base_uri": "https://localhost:8080/"
    },
    "id": "D4dF4rlSAcjm",
    "outputId": "43f6d868-e34c-42eb-bc19-23f77ad4ccb0"
   },
   "outputs": [
    {
     "data": {
      "text/plain": [
       "id                                                       dbpedia_14802\n",
       "question             What is the version, edition or translation of...\n",
       "category                                                      resource\n",
       "type                                                       [dbo:Media]\n",
       "frequent_type                                                dbo:Media\n",
       "bottom_level_type                                            dbo:Media\n",
       "top_level_type                                               dbo:Media\n",
       "neg_spec_types                                          [dbo:Activity]\n",
       "Name: 15427, dtype: object"
      ]
     },
     "execution_count": 268,
     "metadata": {},
     "output_type": "execute_result"
    }
   ],
   "source": [
    "valid_res_df.iloc[3]"
   ]
  },
  {
   "cell_type": "code",
   "execution_count": 269,
   "metadata": {
    "colab": {
     "base_uri": "https://localhost:8080/"
    },
    "id": "9sLl6LOtAcjn",
    "outputId": "898df740-e212-4f8c-b5ce-b19da78ad6bc"
   },
   "outputs": [
    {
     "data": {
      "text/plain": [
       "['dbo:Settlement',\n",
       " 'dbo:RouteOfTransportation',\n",
       " 'dbo:Mountain',\n",
       " 'dbo:Stream',\n",
       " 'dbo:State']"
      ]
     },
     "execution_count": 269,
     "metadata": {},
     "output_type": "execute_result"
    }
   ],
   "source": [
    "get_best_type(valid_res_df.iloc[3], rf) "
   ]
  },
  {
   "cell_type": "markdown",
   "metadata": {
    "id": "HT0DoJ5xAcjp"
   },
   "source": [
    "# Prediction "
   ]
  },
  {
   "cell_type": "code",
   "execution_count": 136,
   "metadata": {
    "colab": {
     "base_uri": "https://localhost:8080/",
     "height": 590
    },
    "id": "bNQuy-ldAcjp",
    "outputId": "e25a0c81-caaf-4c18-ea6e-3f7a1c127400"
   },
   "outputs": [
    {
     "data": {
      "text/html": [
       "<div>\n",
       "<style scoped>\n",
       "    .dataframe tbody tr th:only-of-type {\n",
       "        vertical-align: middle;\n",
       "    }\n",
       "\n",
       "    .dataframe tbody tr th {\n",
       "        vertical-align: top;\n",
       "    }\n",
       "\n",
       "    .dataframe thead th {\n",
       "        text-align: right;\n",
       "    }\n",
       "</style>\n",
       "<table border=\"1\" class=\"dataframe\">\n",
       "  <thead>\n",
       "    <tr style=\"text-align: right;\">\n",
       "      <th></th>\n",
       "      <th>id</th>\n",
       "      <th>question</th>\n",
       "      <th>category</th>\n",
       "      <th>type</th>\n",
       "      <th>frequent_type</th>\n",
       "      <th>bottom_level_type</th>\n",
       "      <th>top_level_type</th>\n",
       "    </tr>\n",
       "  </thead>\n",
       "  <tbody>\n",
       "    <tr>\n",
       "      <th>6</th>\n",
       "      <td>dbpedia_22599</td>\n",
       "      <td>Where did the war take place where one of the ...</td>\n",
       "      <td>resource</td>\n",
       "      <td>[dbo:Country, dbo:PopulatedPlace, dbo:Place]</td>\n",
       "      <td>dbo:Country</td>\n",
       "      <td>dbo:Country</td>\n",
       "      <td>dbo:Place</td>\n",
       "    </tr>\n",
       "    <tr>\n",
       "      <th>9</th>\n",
       "      <td>dbpedia_19677</td>\n",
       "      <td>Which mountains are contained in Inyo National...</td>\n",
       "      <td>resource</td>\n",
       "      <td>[dbo:Mountain, dbo:NaturalPlace, dbo:Place]</td>\n",
       "      <td>dbo:NaturalPlace</td>\n",
       "      <td>dbo:Mountain</td>\n",
       "      <td>dbo:Place</td>\n",
       "    </tr>\n",
       "    <tr>\n",
       "      <th>11</th>\n",
       "      <td>dbpedia_11163</td>\n",
       "      <td>What is the seat of Frankfurter Allgemeine Zei...</td>\n",
       "      <td>resource</td>\n",
       "      <td>[dbo:City, dbo:Settlement, dbo:PopulatedPlace,...</td>\n",
       "      <td>dbo:Settlement</td>\n",
       "      <td>dbo:City</td>\n",
       "      <td>dbo:Place</td>\n",
       "    </tr>\n",
       "    <tr>\n",
       "      <th>16</th>\n",
       "      <td>dbpedia_18792</td>\n",
       "      <td>What did the people buried in Toronto die of?</td>\n",
       "      <td>resource</td>\n",
       "      <td>[dbo:Disease]</td>\n",
       "      <td>dbo:Disease</td>\n",
       "      <td>dbo:Disease</td>\n",
       "      <td>dbo:Disease</td>\n",
       "    </tr>\n",
       "    <tr>\n",
       "      <th>19</th>\n",
       "      <td>dbpedia_11251</td>\n",
       "      <td>What is the league of major league lacrosse?</td>\n",
       "      <td>resource</td>\n",
       "      <td>[dbo:SportsTeam, dbo:Organisation, dbo:Agent]</td>\n",
       "      <td>dbo:SportsTeam</td>\n",
       "      <td>dbo:SportsTeam</td>\n",
       "      <td>dbo:Agent</td>\n",
       "    </tr>\n",
       "  </tbody>\n",
       "</table>\n",
       "</div>"
      ],
      "text/plain": [
       "               id                                           question  \\\n",
       "6   dbpedia_22599  Where did the war take place where one of the ...   \n",
       "9   dbpedia_19677  Which mountains are contained in Inyo National...   \n",
       "11  dbpedia_11163  What is the seat of Frankfurter Allgemeine Zei...   \n",
       "16  dbpedia_18792      What did the people buried in Toronto die of?   \n",
       "19  dbpedia_11251       What is the league of major league lacrosse?   \n",
       "\n",
       "    category                                               type  \\\n",
       "6   resource       [dbo:Country, dbo:PopulatedPlace, dbo:Place]   \n",
       "9   resource        [dbo:Mountain, dbo:NaturalPlace, dbo:Place]   \n",
       "11  resource  [dbo:City, dbo:Settlement, dbo:PopulatedPlace,...   \n",
       "16  resource                                      [dbo:Disease]   \n",
       "19  resource      [dbo:SportsTeam, dbo:Organisation, dbo:Agent]   \n",
       "\n",
       "       frequent_type bottom_level_type top_level_type  \n",
       "6        dbo:Country       dbo:Country      dbo:Place  \n",
       "9   dbo:NaturalPlace      dbo:Mountain      dbo:Place  \n",
       "11    dbo:Settlement          dbo:City      dbo:Place  \n",
       "16       dbo:Disease       dbo:Disease    dbo:Disease  \n",
       "19    dbo:SportsTeam    dbo:SportsTeam      dbo:Agent  "
      ]
     },
     "execution_count": 136,
     "metadata": {},
     "output_type": "execute_result"
    }
   ],
   "source": [
    "test_res_df.head()"
   ]
  },
  {
   "cell_type": "code",
   "execution_count": 137,
   "metadata": {
    "colab": {
     "base_uri": "https://localhost:8080/"
    },
    "id": "a02kv40xAcjq",
    "outputId": "2483cb61-35e3-48b8-9351-bf872ca30065"
   },
   "outputs": [
    {
     "name": "stderr",
     "output_type": "stream",
     "text": [
      "/opt/conda/lib/python3.7/site-packages/ipykernel_launcher.py:2: SettingWithCopyWarning: \n",
      "A value is trying to be set on a copy of a slice from a DataFrame.\n",
      "Try using .loc[row_indexer,col_indexer] = value instead\n",
      "\n",
      "See the caveats in the documentation: https://pandas.pydata.org/pandas-docs/stable/user_guide/indexing.html#returning-a-view-versus-a-copy\n",
      "  \n"
     ]
    }
   ],
   "source": [
    "#db_valid_res_df =db_valid_res_df[db_valid_res_df['type'] !='resource']\n",
    "test_res_df['top_level_type'] = test_res_df.type.apply(types_to_top_type)"
   ]
  },
  {
   "cell_type": "code",
   "execution_count": 138,
   "metadata": {
    "colab": {
     "base_uri": "https://localhost:8080/",
     "height": 590
    },
    "id": "hzvxtRkmAcjq",
    "outputId": "6e8004c2-56ec-4884-afa5-b55a7d174036"
   },
   "outputs": [
    {
     "data": {
      "text/html": [
       "<div>\n",
       "<style scoped>\n",
       "    .dataframe tbody tr th:only-of-type {\n",
       "        vertical-align: middle;\n",
       "    }\n",
       "\n",
       "    .dataframe tbody tr th {\n",
       "        vertical-align: top;\n",
       "    }\n",
       "\n",
       "    .dataframe thead th {\n",
       "        text-align: right;\n",
       "    }\n",
       "</style>\n",
       "<table border=\"1\" class=\"dataframe\">\n",
       "  <thead>\n",
       "    <tr style=\"text-align: right;\">\n",
       "      <th></th>\n",
       "      <th>id</th>\n",
       "      <th>question</th>\n",
       "      <th>category</th>\n",
       "      <th>type</th>\n",
       "      <th>frequent_type</th>\n",
       "      <th>bottom_level_type</th>\n",
       "      <th>top_level_type</th>\n",
       "    </tr>\n",
       "  </thead>\n",
       "  <tbody>\n",
       "    <tr>\n",
       "      <th>6</th>\n",
       "      <td>dbpedia_22599</td>\n",
       "      <td>Where did the war take place where one of the ...</td>\n",
       "      <td>resource</td>\n",
       "      <td>[dbo:Country, dbo:PopulatedPlace, dbo:Place]</td>\n",
       "      <td>dbo:Country</td>\n",
       "      <td>dbo:Country</td>\n",
       "      <td>dbo:Place</td>\n",
       "    </tr>\n",
       "    <tr>\n",
       "      <th>9</th>\n",
       "      <td>dbpedia_19677</td>\n",
       "      <td>Which mountains are contained in Inyo National...</td>\n",
       "      <td>resource</td>\n",
       "      <td>[dbo:Mountain, dbo:NaturalPlace, dbo:Place]</td>\n",
       "      <td>dbo:NaturalPlace</td>\n",
       "      <td>dbo:Mountain</td>\n",
       "      <td>dbo:Place</td>\n",
       "    </tr>\n",
       "    <tr>\n",
       "      <th>11</th>\n",
       "      <td>dbpedia_11163</td>\n",
       "      <td>What is the seat of Frankfurter Allgemeine Zei...</td>\n",
       "      <td>resource</td>\n",
       "      <td>[dbo:City, dbo:Settlement, dbo:PopulatedPlace,...</td>\n",
       "      <td>dbo:Settlement</td>\n",
       "      <td>dbo:City</td>\n",
       "      <td>dbo:Place</td>\n",
       "    </tr>\n",
       "    <tr>\n",
       "      <th>16</th>\n",
       "      <td>dbpedia_18792</td>\n",
       "      <td>What did the people buried in Toronto die of?</td>\n",
       "      <td>resource</td>\n",
       "      <td>[dbo:Disease]</td>\n",
       "      <td>dbo:Disease</td>\n",
       "      <td>dbo:Disease</td>\n",
       "      <td>dbo:Disease</td>\n",
       "    </tr>\n",
       "    <tr>\n",
       "      <th>19</th>\n",
       "      <td>dbpedia_11251</td>\n",
       "      <td>What is the league of major league lacrosse?</td>\n",
       "      <td>resource</td>\n",
       "      <td>[dbo:SportsTeam, dbo:Organisation, dbo:Agent]</td>\n",
       "      <td>dbo:SportsTeam</td>\n",
       "      <td>dbo:SportsTeam</td>\n",
       "      <td>dbo:Agent</td>\n",
       "    </tr>\n",
       "  </tbody>\n",
       "</table>\n",
       "</div>"
      ],
      "text/plain": [
       "               id                                           question  \\\n",
       "6   dbpedia_22599  Where did the war take place where one of the ...   \n",
       "9   dbpedia_19677  Which mountains are contained in Inyo National...   \n",
       "11  dbpedia_11163  What is the seat of Frankfurter Allgemeine Zei...   \n",
       "16  dbpedia_18792      What did the people buried in Toronto die of?   \n",
       "19  dbpedia_11251       What is the league of major league lacrosse?   \n",
       "\n",
       "    category                                               type  \\\n",
       "6   resource       [dbo:Country, dbo:PopulatedPlace, dbo:Place]   \n",
       "9   resource        [dbo:Mountain, dbo:NaturalPlace, dbo:Place]   \n",
       "11  resource  [dbo:City, dbo:Settlement, dbo:PopulatedPlace,...   \n",
       "16  resource                                      [dbo:Disease]   \n",
       "19  resource      [dbo:SportsTeam, dbo:Organisation, dbo:Agent]   \n",
       "\n",
       "       frequent_type bottom_level_type top_level_type  \n",
       "6        dbo:Country       dbo:Country      dbo:Place  \n",
       "9   dbo:NaturalPlace      dbo:Mountain      dbo:Place  \n",
       "11    dbo:Settlement          dbo:City      dbo:Place  \n",
       "16       dbo:Disease       dbo:Disease    dbo:Disease  \n",
       "19    dbo:SportsTeam    dbo:SportsTeam      dbo:Agent  "
      ]
     },
     "execution_count": 138,
     "metadata": {},
     "output_type": "execute_result"
    }
   ],
   "source": [
    "test_res_df.head()"
   ]
  },
  {
   "cell_type": "code",
   "execution_count": 139,
   "metadata": {
    "id": "WSW0u7Y0Acjq"
   },
   "outputs": [],
   "source": [
    "test_res_df = test_res_df[test_res_df.question.notna()]"
   ]
  },
  {
   "cell_type": "code",
   "execution_count": 140,
   "metadata": {
    "colab": {
     "base_uri": "https://localhost:8080/",
     "height": 590
    },
    "id": "v3ZYyCFHAcjq",
    "outputId": "b733fbad-4e15-4abb-b765-e50782ad2655"
   },
   "outputs": [
    {
     "data": {
      "text/html": [
       "<div>\n",
       "<style scoped>\n",
       "    .dataframe tbody tr th:only-of-type {\n",
       "        vertical-align: middle;\n",
       "    }\n",
       "\n",
       "    .dataframe tbody tr th {\n",
       "        vertical-align: top;\n",
       "    }\n",
       "\n",
       "    .dataframe thead th {\n",
       "        text-align: right;\n",
       "    }\n",
       "</style>\n",
       "<table border=\"1\" class=\"dataframe\">\n",
       "  <thead>\n",
       "    <tr style=\"text-align: right;\">\n",
       "      <th></th>\n",
       "      <th>id</th>\n",
       "      <th>question</th>\n",
       "      <th>category</th>\n",
       "      <th>type</th>\n",
       "      <th>frequent_type</th>\n",
       "      <th>bottom_level_type</th>\n",
       "      <th>top_level_type</th>\n",
       "    </tr>\n",
       "  </thead>\n",
       "  <tbody>\n",
       "    <tr>\n",
       "      <th>740</th>\n",
       "      <td>dbpedia_19256</td>\n",
       "      <td>Name the agency of Election Commission of Thai...</td>\n",
       "      <td>resource</td>\n",
       "      <td>[dbo:Country, dbo:PopulatedPlace, dbo:Place]</td>\n",
       "      <td>dbo:Country</td>\n",
       "      <td>dbo:Country</td>\n",
       "      <td>dbo:Place</td>\n",
       "    </tr>\n",
       "    <tr>\n",
       "      <th>2123</th>\n",
       "      <td>dbpedia_696</td>\n",
       "      <td>Who is {club manager} of {actress} of {Wrestle...</td>\n",
       "      <td>resource</td>\n",
       "      <td>[dbo:Person, dbo:Agent]</td>\n",
       "      <td>dbo:Agent</td>\n",
       "      <td>dbo:Person</td>\n",
       "      <td>dbo:Agent</td>\n",
       "    </tr>\n",
       "    <tr>\n",
       "      <th>3036</th>\n",
       "      <td>dbpedia_21860</td>\n",
       "      <td>What does the bridge go over, which is in Kati...</td>\n",
       "      <td>resource</td>\n",
       "      <td>[dbo:River, dbo:Stream, dbo:BodyOfWater, dbo:N...</td>\n",
       "      <td>dbo:NaturalPlace</td>\n",
       "      <td>dbo:River</td>\n",
       "      <td>dbo:Place</td>\n",
       "    </tr>\n",
       "    <tr>\n",
       "      <th>3251</th>\n",
       "      <td>dbpedia_18009</td>\n",
       "      <td>Who is {scriptwriter} of {bibliography} of {Na...</td>\n",
       "      <td>resource</td>\n",
       "      <td>[dbo:Person, dbo:Agent]</td>\n",
       "      <td>dbo:Agent</td>\n",
       "      <td>dbo:Person</td>\n",
       "      <td>dbo:Agent</td>\n",
       "    </tr>\n",
       "    <tr>\n",
       "      <th>411</th>\n",
       "      <td>dbpedia_58</td>\n",
       "      <td>Which { meansseason starts} in {February} ?</td>\n",
       "      <td>resource</td>\n",
       "      <td>[dbo:Activity]</td>\n",
       "      <td>dbo:Activity</td>\n",
       "      <td>dbo:Activity</td>\n",
       "      <td>dbo:Activity</td>\n",
       "    </tr>\n",
       "  </tbody>\n",
       "</table>\n",
       "</div>"
      ],
      "text/plain": [
       "                 id                                           question  \\\n",
       "740   dbpedia_19256  Name the agency of Election Commission of Thai...   \n",
       "2123    dbpedia_696  Who is {club manager} of {actress} of {Wrestle...   \n",
       "3036  dbpedia_21860  What does the bridge go over, which is in Kati...   \n",
       "3251  dbpedia_18009  Who is {scriptwriter} of {bibliography} of {Na...   \n",
       "411      dbpedia_58        Which { meansseason starts} in {February} ?   \n",
       "\n",
       "      category                                               type  \\\n",
       "740   resource       [dbo:Country, dbo:PopulatedPlace, dbo:Place]   \n",
       "2123  resource                            [dbo:Person, dbo:Agent]   \n",
       "3036  resource  [dbo:River, dbo:Stream, dbo:BodyOfWater, dbo:N...   \n",
       "3251  resource                            [dbo:Person, dbo:Agent]   \n",
       "411   resource                                     [dbo:Activity]   \n",
       "\n",
       "         frequent_type bottom_level_type top_level_type  \n",
       "740        dbo:Country       dbo:Country      dbo:Place  \n",
       "2123         dbo:Agent        dbo:Person      dbo:Agent  \n",
       "3036  dbo:NaturalPlace         dbo:River      dbo:Place  \n",
       "3251         dbo:Agent        dbo:Person      dbo:Agent  \n",
       "411       dbo:Activity      dbo:Activity   dbo:Activity  "
      ]
     },
     "execution_count": 140,
     "metadata": {},
     "output_type": "execute_result"
    }
   ],
   "source": [
    "test_res_df.sample(5)"
   ]
  },
  {
   "cell_type": "code",
   "execution_count": 141,
   "metadata": {
    "colab": {
     "base_uri": "https://localhost:8080/"
    },
    "id": "dp71GAK8Acjq",
    "outputId": "2fee0df8-15b1-4b06-aa8d-6413caa39683"
   },
   "outputs": [
    {
     "name": "stdout",
     "output_type": "stream",
     "text": [
      "id                                                       dbpedia_20440\n",
      "question             Name the sea whose inflow is Kemijoki and outf...\n",
      "category                                                      resource\n",
      "type                 [dbo:Lake, dbo:Sea, dbo:BodyOfWater, dbo:Natur...\n",
      "frequent_type                                         dbo:NaturalPlace\n",
      "bottom_level_type                                             dbo:Lake\n",
      "top_level_type                                               dbo:Place\n",
      "Name: 223, dtype: object\n"
     ]
    },
    {
     "data": {
      "text/plain": [
       "['dbo:Settlement',\n",
       " 'dbo:City',\n",
       " 'dbo:State',\n",
       " 'dbo:PopulatedPlace',\n",
       " 'dbo:Country']"
      ]
     },
     "execution_count": 141,
     "metadata": {},
     "output_type": "execute_result"
    }
   ],
   "source": [
    "row =test_res_df.iloc[123] \n",
    "print (row)\n",
    "get_best_type(row, rf)"
   ]
  },
  {
   "cell_type": "code",
   "execution_count": 142,
   "metadata": {
    "id": "cW5MCq0WAcjr"
   },
   "outputs": [],
   "source": [
    "test_res_df['pred_types']= test_res_df.apply(lambda x: get_best_type(x, rf), axis=1)"
   ]
  },
  {
   "cell_type": "code",
   "execution_count": 143,
   "metadata": {
    "colab": {
     "base_uri": "https://localhost:8080/",
     "height": 625
    },
    "id": "tETzLa3oAcjr",
    "outputId": "b4ae0809-69e5-4bcc-9923-5b6ad5321297"
   },
   "outputs": [
    {
     "data": {
      "text/html": [
       "<div>\n",
       "<style scoped>\n",
       "    .dataframe tbody tr th:only-of-type {\n",
       "        vertical-align: middle;\n",
       "    }\n",
       "\n",
       "    .dataframe tbody tr th {\n",
       "        vertical-align: top;\n",
       "    }\n",
       "\n",
       "    .dataframe thead th {\n",
       "        text-align: right;\n",
       "    }\n",
       "</style>\n",
       "<table border=\"1\" class=\"dataframe\">\n",
       "  <thead>\n",
       "    <tr style=\"text-align: right;\">\n",
       "      <th></th>\n",
       "      <th>id</th>\n",
       "      <th>question</th>\n",
       "      <th>category</th>\n",
       "      <th>type</th>\n",
       "      <th>frequent_type</th>\n",
       "      <th>bottom_level_type</th>\n",
       "      <th>top_level_type</th>\n",
       "      <th>pred_types</th>\n",
       "    </tr>\n",
       "  </thead>\n",
       "  <tbody>\n",
       "    <tr>\n",
       "      <th>1343</th>\n",
       "      <td>dbpedia_3439</td>\n",
       "      <td>Who is the {Wikimedia category} for {category ...</td>\n",
       "      <td>resource</td>\n",
       "      <td>[dbo:Media]</td>\n",
       "      <td>dbo:Media</td>\n",
       "      <td>dbo:Media</td>\n",
       "      <td>dbo:Media</td>\n",
       "      <td>[dbo:Settlement, dbo:State, dbo:City, dbo:Popu...</td>\n",
       "    </tr>\n",
       "    <tr>\n",
       "      <th>2518</th>\n",
       "      <td>dbpedia_20331</td>\n",
       "      <td>What is the debut team of the baseball player ...</td>\n",
       "      <td>resource</td>\n",
       "      <td>[dbo:BaseballTeam, dbo:SportsTeam, dbo:Organis...</td>\n",
       "      <td>dbo:SportsTeam</td>\n",
       "      <td>dbo:BaseballTeam</td>\n",
       "      <td>dbo:Agent</td>\n",
       "      <td>[dbo:Settlement, dbo:State, dbo:PopulatedPlace...</td>\n",
       "    </tr>\n",
       "    <tr>\n",
       "      <th>2432</th>\n",
       "      <td>dbpedia_14121</td>\n",
       "      <td>What is a professional services firm whose nam...</td>\n",
       "      <td>resource</td>\n",
       "      <td>[dbo:Company, dbo:Organisation, dbo:Agent]</td>\n",
       "      <td>dbo:Company</td>\n",
       "      <td>dbo:Company</td>\n",
       "      <td>dbo:Agent</td>\n",
       "      <td>[dbo:RouteOfTransportation, dbo:Mountain, dbo:...</td>\n",
       "    </tr>\n",
       "    <tr>\n",
       "      <th>3896</th>\n",
       "      <td>dbpedia_12409</td>\n",
       "      <td>William McGonagall's birth place has a twin ci...</td>\n",
       "      <td>resource</td>\n",
       "      <td>[dbo:City, dbo:Settlement, dbo:PopulatedPlace,...</td>\n",
       "      <td>dbo:Settlement</td>\n",
       "      <td>dbo:City</td>\n",
       "      <td>dbo:Place</td>\n",
       "      <td>[dbo:Settlement, dbo:City, dbo:State, dbo:Popu...</td>\n",
       "    </tr>\n",
       "    <tr>\n",
       "      <th>2572</th>\n",
       "      <td>dbpedia_19980</td>\n",
       "      <td>Where did john o conner study?</td>\n",
       "      <td>resource</td>\n",
       "      <td>[dbo:University, dbo:EducationalInstitution, d...</td>\n",
       "      <td>dbo:EducationalInstitution</td>\n",
       "      <td>dbo:University</td>\n",
       "      <td>dbo:Agent</td>\n",
       "      <td>[dbo:Settlement, dbo:PopulatedPlace, dbo:State...</td>\n",
       "    </tr>\n",
       "  </tbody>\n",
       "</table>\n",
       "</div>"
      ],
      "text/plain": [
       "                 id                                           question  \\\n",
       "1343   dbpedia_3439  Who is the {Wikimedia category} for {category ...   \n",
       "2518  dbpedia_20331  What is the debut team of the baseball player ...   \n",
       "2432  dbpedia_14121  What is a professional services firm whose nam...   \n",
       "3896  dbpedia_12409  William McGonagall's birth place has a twin ci...   \n",
       "2572  dbpedia_19980                     Where did john o conner study?   \n",
       "\n",
       "      category                                               type  \\\n",
       "1343  resource                                        [dbo:Media]   \n",
       "2518  resource  [dbo:BaseballTeam, dbo:SportsTeam, dbo:Organis...   \n",
       "2432  resource         [dbo:Company, dbo:Organisation, dbo:Agent]   \n",
       "3896  resource  [dbo:City, dbo:Settlement, dbo:PopulatedPlace,...   \n",
       "2572  resource  [dbo:University, dbo:EducationalInstitution, d...   \n",
       "\n",
       "                   frequent_type bottom_level_type top_level_type  \\\n",
       "1343                   dbo:Media         dbo:Media      dbo:Media   \n",
       "2518              dbo:SportsTeam  dbo:BaseballTeam      dbo:Agent   \n",
       "2432                 dbo:Company       dbo:Company      dbo:Agent   \n",
       "3896              dbo:Settlement          dbo:City      dbo:Place   \n",
       "2572  dbo:EducationalInstitution    dbo:University      dbo:Agent   \n",
       "\n",
       "                                             pred_types  \n",
       "1343  [dbo:Settlement, dbo:State, dbo:City, dbo:Popu...  \n",
       "2518  [dbo:Settlement, dbo:State, dbo:PopulatedPlace...  \n",
       "2432  [dbo:RouteOfTransportation, dbo:Mountain, dbo:...  \n",
       "3896  [dbo:Settlement, dbo:City, dbo:State, dbo:Popu...  \n",
       "2572  [dbo:Settlement, dbo:PopulatedPlace, dbo:State...  "
      ]
     },
     "execution_count": 143,
     "metadata": {},
     "output_type": "execute_result"
    }
   ],
   "source": [
    "test_res_df.sample(5)"
   ]
  },
  {
   "cell_type": "code",
   "execution_count": 144,
   "metadata": {
    "id": "IujXgYnTnIpP"
   },
   "outputs": [],
   "source": [
    "def patk(actual, pred, k):\n",
    "  #we return 0 if k is 0 because \n",
    "  #   we can't divide the no of common values by 0 \n",
    "  if k == 0:\n",
    "    return 0\n",
    "\n",
    "  #taking only the top k predictions in a class \n",
    "  k_pred = pred[:k]\n",
    "\n",
    "  #print (actual)\n",
    "  #taking the set of the actual values \n",
    "  actual_set = set(actual)\n",
    "\n",
    "  #taking the set of the predicted values \n",
    "  pred_set = set(k_pred)\n",
    "\n",
    "  #taking the intersection of the actual set and the pred set\n",
    "    # to find the common values\n",
    "  common_values = actual_set.intersection(pred_set) \n",
    "  return len(common_values)/len(pred[:k])"
   ]
  },
  {
   "cell_type": "code",
   "execution_count": 161,
   "metadata": {
    "id": "uGTwkOeXaiNe"
   },
   "outputs": [],
   "source": [
    "test_res_df[['id','question','category','type']].to_json('datasets/output/dbpedia_test_gold.json', orient='records')"
   ]
  },
  {
   "cell_type": "code",
   "execution_count": 162,
   "metadata": {
    "colab": {
     "base_uri": "https://localhost:8080/"
    },
    "id": "CwCr9GHKMG0V",
    "outputId": "3150d44c-f522-4e3a-e76a-410d60e2cdaf"
   },
   "outputs": [
    {
     "name": "stderr",
     "output_type": "stream",
     "text": [
      "/opt/conda/lib/python3.7/site-packages/pandas/core/frame.py:4133: SettingWithCopyWarning: \n",
      "A value is trying to be set on a copy of a slice from a DataFrame\n",
      "\n",
      "See the caveats in the documentation: https://pandas.pydata.org/pandas-docs/stable/user_guide/indexing.html#returning-a-view-versus-a-copy\n",
      "  errors=errors,\n"
     ]
    }
   ],
   "source": [
    "pred_df= test_res_df[['id','question','category','pred_types']]\n",
    "pred_df.rename(columns={'pred_types': 'type'},inplace=True)\n",
    "pred_df.to_json('datasets/output/dbpedia_test_pred.json', orient='records')"
   ]
  },
  {
   "cell_type": "code",
   "execution_count": 163,
   "metadata": {
    "colab": {
     "base_uri": "https://localhost:8080/"
    },
    "id": "oYSA8CLaJs-w",
    "outputId": "a45af11d-8e13-4b45-d6ed-e4ab8ab5c462"
   },
   "outputs": [
    {
     "name": "stdout",
     "output_type": "stream",
     "text": [
      "Loading type hierarchy from datasets/dbpedia_types.tsv... 760 types loaded (max depth: 7)\n"
     ]
    }
   ],
   "source": [
    "type_hierarchy, max_depth = evaluate.load_type_hierarchy('datasets/dbpedia_types.tsv')"
   ]
  },
  {
   "cell_type": "code",
   "execution_count": 164,
   "metadata": {
    "colab": {
     "base_uri": "https://localhost:8080/"
    },
    "id": "mYce1Y4QL60i",
    "outputId": "cfedb4e4-8d54-4f36-d1f3-9803c094b9e4"
   },
   "outputs": [
    {
     "name": "stdout",
     "output_type": "stream",
     "text": [
      "Loading ground truth from datasets/output/dbpedia_test_gold.json... \n",
      "WARNING: unknown type \"dbo:MedicalSpecialty\"\n",
      "WARNING: unknown type \"dbo:MedicalSpecialty\"\n",
      "WARNING: unknown type \"dbo:MedicalSpecialty\"\n",
      "WARNING: unknown type \"dbo:MedicalSpecialty\"\n",
      "WARNING: unknown type \"dbo:MedicalSpecialty\"\n",
      "WARNING: unknown type \"dbo:MedicalSpecialty\"\n",
      "   2445 questions loaded\n"
     ]
    }
   ],
   "source": [
    "ground_truth = evaluate.load_ground_truth('datasets/output/dbpedia_test_gold.json', type_hierarchy)"
   ]
  },
  {
   "cell_type": "code",
   "execution_count": 169,
   "metadata": {
    "colab": {
     "base_uri": "https://localhost:8080/"
    },
    "id": "9852XrnOMB67",
    "outputId": "9b242be2-a374-4eb8-9d6b-3ffd198677f4"
   },
   "outputs": [
    {
     "name": "stdout",
     "output_type": "stream",
     "text": [
      "Loading system predictions from datasets/output/dbpedia_test_pred.json... \n",
      "   2445 predictions loaded\n"
     ]
    }
   ],
   "source": [
    "system_output = evaluate.load_system_output('datasets/output/dbpedia_test_pred.json')"
   ]
  },
  {
   "cell_type": "code",
   "execution_count": 170,
   "metadata": {
    "colab": {
     "base_uri": "https://localhost:8080/"
    },
    "id": "FkIe8aXaVumI",
    "outputId": "406c6b01-64dc-4750-ee3e-1490f63b2c31"
   },
   "outputs": [
    {
     "name": "stdout",
     "output_type": "stream",
     "text": [
      "WARNING: no gold types given for question ID dbpedia_4760\n",
      "WARNING: no gold types given for question ID dbpedia_10539\n",
      "WARNING: no gold types given for question ID dbpedia_2916\n",
      "WARNING: no gold types given for question ID dbpedia_3649\n",
      "WARNING: no gold types given for question ID dbpedia_13722\n",
      "WARNING: no gold types given for question ID dbpedia_6100\n",
      "\n",
      "\n",
      "Evaluation results:\n",
      "-------------------\n",
      "Category prediction (based on 2445 questions)\n",
      "  Accuracy: 1.000\n",
      "Type ranking (based on 2439 questions)\n",
      "  NDCG@5:  0.793\n",
      "  NDCG@10: 0.712\n"
     ]
    }
   ],
   "source": [
    "evaluate.evaluate(ground_truth, ground_truth, type_hierarchy, max_depth)"
   ]
  },
  {
   "cell_type": "code",
   "execution_count": 171,
   "metadata": {
    "colab": {
     "base_uri": "https://localhost:8080/"
    },
    "id": "Z1kaXWtjqxKF",
    "outputId": "215349cf-5465-4c3b-89a7-5cd0d78f2b33"
   },
   "outputs": [
    {
     "name": "stdout",
     "output_type": "stream",
     "text": [
      "WARNING: no gold types given for question ID dbpedia_4760\n",
      "WARNING: no gold types given for question ID dbpedia_10539\n",
      "WARNING: no gold types given for question ID dbpedia_2916\n",
      "WARNING: no gold types given for question ID dbpedia_3649\n",
      "WARNING: no gold types given for question ID dbpedia_13722\n",
      "WARNING: no gold types given for question ID dbpedia_6100\n",
      "\n",
      "\n",
      "Evaluation results:\n",
      "-------------------\n",
      "Category prediction (based on 2445 questions)\n",
      "  Accuracy: 1.000\n",
      "Type ranking (based on 2439 questions)\n",
      "  NDCG@5:  0.095\n",
      "  NDCG@10: 0.088\n"
     ]
    }
   ],
   "source": [
    "# RF\n",
    "evaluate.evaluate(system_output, ground_truth, type_hierarchy, max_depth)"
   ]
  },
  {
   "cell_type": "code",
   "execution_count": 172,
   "metadata": {
    "colab": {
     "base_uri": "https://localhost:8080/"
    },
    "id": "NlJa63XcM1YR",
    "outputId": "2303ca1a-a076-44d5-e0fc-5cfcd436adef"
   },
   "outputs": [
    {
     "name": "stdout",
     "output_type": "stream",
     "text": [
      "WARNING: no gold types given for question ID dbpedia_4760\n",
      "WARNING: no gold types given for question ID dbpedia_10539\n",
      "WARNING: no gold types given for question ID dbpedia_2916\n",
      "WARNING: no gold types given for question ID dbpedia_3649\n",
      "WARNING: no gold types given for question ID dbpedia_13722\n",
      "WARNING: no gold types given for question ID dbpedia_6100\n",
      "\n",
      "\n",
      "Evaluation results:\n",
      "-------------------\n",
      "Category prediction (based on 2445 questions)\n",
      "  Accuracy: 1.000\n",
      "Type ranking (based on 2439 questions)\n",
      "  NDCG@5:  0.095\n",
      "  NDCG@10: 0.088\n"
     ]
    }
   ],
   "source": [
    "# RF\n",
    "evaluate.evaluate(system_output, ground_truth, type_hierarchy, max_depth)"
   ]
  },
  {
   "cell_type": "code",
   "execution_count": null,
   "metadata": {
    "id": "YsO-f1o_Acjr"
   },
   "outputs": [],
   "source": [
    "def to_list(t):\n",
    "    return [t]\n",
    "test_df.type = test_df.type.apply(to_list)"
   ]
  },
  {
   "cell_type": "code",
   "execution_count": null,
   "metadata": {
    "id": "6GINbUgCAcjr"
   },
   "outputs": [],
   "source": [
    "for i,row in test_res_df.iterrows():\n",
    "    index =np.where(test_df['id']==row['id'])\n",
    "    #print(row['id'])\n",
    "    test_df.iloc[index[0][0]]['type'] =  row['pred_types']"
   ]
  },
  {
   "cell_type": "code",
   "execution_count": null,
   "metadata": {
    "id": "Ng96LwnmAcjt"
   },
   "outputs": [],
   "source": []
  },
  {
   "cell_type": "code",
   "execution_count": null,
   "metadata": {
    "id": "0AFpcCJo97zk"
   },
   "outputs": [],
   "source": []
  }
 ],
 "metadata": {
  "accelerator": "GPU",
  "colab": {
   "collapsed_sections": [],
   "name": "RF_classifier_for_Specialization_refactor2.ipynb",
   "provenance": []
  },
  "kernelspec": {
   "display_name": "Python 3",
   "language": "python",
   "name": "python3"
  },
  "language_info": {
   "codemirror_mode": {
    "name": "ipython",
    "version": 3
   },
   "file_extension": ".py",
   "mimetype": "text/x-python",
   "name": "python",
   "nbconvert_exporter": "python",
   "pygments_lexer": "ipython3",
   "version": "3.7.6"
  }
 },
 "nbformat": 4,
 "nbformat_minor": 4
}
