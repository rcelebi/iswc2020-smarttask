{
  "nbformat": 4,
  "nbformat_minor": 0,
  "metadata": {
    "accelerator": "GPU",
    "colab": {
      "name": "TFIDF_type_pred-dbpedia_frequent_type.ipynb",
      "provenance": [],
      "collapsed_sections": [],
      "include_colab_link": true
    },
    "kernelspec": {
      "display_name": "Python 3",
      "language": "python",
      "name": "python3"
    },
    "language_info": {
      "codemirror_mode": {
        "name": "ipython",
        "version": 3
      },
      "file_extension": ".py",
      "mimetype": "text/x-python",
      "name": "python",
      "nbconvert_exporter": "python",
      "pygments_lexer": "ipython3",
      "version": "3.6.8"
    }
  },
  "cells": [
    {
      "cell_type": "markdown",
      "metadata": {
        "id": "view-in-github",
        "colab_type": "text"
      },
      "source": [
        "<a href=\"https://colab.research.google.com/github/rcelebi/iswc2020-smarttask/blob/master/TFIDF_type_pred_dbpedia_frequent_type.ipynb\" target=\"_parent\"><img src=\"https://colab.research.google.com/assets/colab-badge.svg\" alt=\"Open In Colab\"/></a>"
      ]
    },
    {
      "cell_type": "markdown",
      "metadata": {
        "id": "6Q89yZwuZNln"
      },
      "source": [
        "## Data"
      ]
    },
    {
      "cell_type": "code",
      "metadata": {
        "id": "WLBmztiQ7nSY",
        "colab": {
          "base_uri": "https://localhost:8080/"
        },
        "outputId": "48ccb616-1648-4f1d-83ca-b50bf4649196"
      },
      "source": [
        "from google.colab import drive\n",
        "drive.mount('/content/drive/')"
      ],
      "execution_count": 4,
      "outputs": [
        {
          "output_type": "stream",
          "text": [
            "Drive already mounted at /content/drive/; to attempt to forcibly remount, call drive.mount(\"/content/drive/\", force_remount=True).\n"
          ],
          "name": "stdout"
        }
      ]
    },
    {
      "cell_type": "code",
      "metadata": {
        "id": "R6GeRlxp74y4"
      },
      "source": [
        "import os\n",
        "path_to_ipynb = '/content/drive/My Drive/iswc-ammar/shervin'\n",
        "# change directory to where autoregq.py, src, and data are\n",
        "os.chdir(path_to_ipynb)"
      ],
      "execution_count": 5,
      "outputs": []
    },
    {
      "cell_type": "code",
      "metadata": {
        "id": "bUpUsiAoewcn"
      },
      "source": [
        "import pandas as pd\n",
        "import numpy as np\n",
        "dbpedia_df = pd.read_json('data/smarttask_dbpedia_train.json')"
      ],
      "execution_count": 6,
      "outputs": []
    },
    {
      "cell_type": "code",
      "metadata": {
        "id": "WBtytQ0p7SX8"
      },
      "source": [
        "test_df= pd.read_json('data/smarttask_dbpedia_test.json')"
      ],
      "execution_count": 7,
      "outputs": []
    },
    {
      "cell_type": "code",
      "metadata": {
        "id": "NrElntLz7SX_",
        "colab": {
          "base_uri": "https://localhost:8080/",
          "height": 202
        },
        "outputId": "4ea557cc-f04c-463c-8a9b-0365cdee4208"
      },
      "source": [
        "test_df.head()"
      ],
      "execution_count": 8,
      "outputs": [
        {
          "output_type": "execute_result",
          "data": {
            "text/html": [
              "<div>\n",
              "<style scoped>\n",
              "    .dataframe tbody tr th:only-of-type {\n",
              "        vertical-align: middle;\n",
              "    }\n",
              "\n",
              "    .dataframe tbody tr th {\n",
              "        vertical-align: top;\n",
              "    }\n",
              "\n",
              "    .dataframe thead th {\n",
              "        text-align: right;\n",
              "    }\n",
              "</style>\n",
              "<table border=\"1\" class=\"dataframe\">\n",
              "  <thead>\n",
              "    <tr style=\"text-align: right;\">\n",
              "      <th></th>\n",
              "      <th>id</th>\n",
              "      <th>question</th>\n",
              "      <th>category</th>\n",
              "      <th>type</th>\n",
              "    </tr>\n",
              "  </thead>\n",
              "  <tbody>\n",
              "    <tr>\n",
              "      <th>0</th>\n",
              "      <td>dbpedia_16015</td>\n",
              "      <td>How many ingredients are in the grain} ?</td>\n",
              "      <td>literal</td>\n",
              "      <td>[number]</td>\n",
              "    </tr>\n",
              "    <tr>\n",
              "      <th>1</th>\n",
              "      <td>dbpedia_3885</td>\n",
              "      <td>Is the case fatality rate of Fournier gangrene...</td>\n",
              "      <td>boolean</td>\n",
              "      <td>[boolean]</td>\n",
              "    </tr>\n",
              "    <tr>\n",
              "      <th>2</th>\n",
              "      <td>dbpedia_12907</td>\n",
              "      <td>Does the shelf life of spinach equal 8?</td>\n",
              "      <td>boolean</td>\n",
              "      <td>[boolean]</td>\n",
              "    </tr>\n",
              "    <tr>\n",
              "      <th>3</th>\n",
              "      <td>dbpedia_7955</td>\n",
              "      <td>What sound does a pig make in the French langu...</td>\n",
              "      <td>literal</td>\n",
              "      <td>[string]</td>\n",
              "    </tr>\n",
              "    <tr>\n",
              "      <th>4</th>\n",
              "      <td>dbpedia_2376</td>\n",
              "      <td>When was Fergie completed his record label in ...</td>\n",
              "      <td>literal</td>\n",
              "      <td>[date]</td>\n",
              "    </tr>\n",
              "  </tbody>\n",
              "</table>\n",
              "</div>"
            ],
            "text/plain": [
              "              id  ...       type\n",
              "0  dbpedia_16015  ...   [number]\n",
              "1   dbpedia_3885  ...  [boolean]\n",
              "2  dbpedia_12907  ...  [boolean]\n",
              "3   dbpedia_7955  ...   [string]\n",
              "4   dbpedia_2376  ...     [date]\n",
              "\n",
              "[5 rows x 4 columns]"
            ]
          },
          "metadata": {
            "tags": []
          },
          "execution_count": 8
        }
      ]
    },
    {
      "cell_type": "code",
      "metadata": {
        "id": "hLdG-MW37SYG"
      },
      "source": [
        "answer_types = {}\n",
        "for answers in dbpedia_df.type:\n",
        "    for a in answers:\n",
        "        if a in answer_types:\n",
        "            answer_types[a]+=1\n",
        "        else:\n",
        "            answer_types[a]=1\n",
        "\n",
        "def multitype_to_freqtype(type_list):\n",
        "    for t in sorted(sorted_types, key=lambda item: item[1]):\n",
        "        if sorted_types[t] < 1000: \n",
        "          if t in type_list:\n",
        "              return t\n",
        "\n",
        "    for t in sorted(sorted_types, key=lambda item: item[1]):\n",
        "          if t in type_list:\n",
        "              return t\n",
        "    \n",
        "\n",
        "def types_to_bottom_type(type_list):\n",
        "    if len(type_list) == 0:\n",
        "      return None \n",
        "    return type_list[0]\n",
        "\n",
        "\n",
        "def types_to_top_type(type_list):\n",
        "    if len(type_list) == 0:\n",
        "      return None \n",
        "    return type_list[-1]\n",
        "            \n",
        "answ_df =pd.DataFrame.from_dict(answer_types, orient='index', columns=['Freq'])\n",
        "sorted_types = answ_df.sort_values(by='Freq', ascending=False).to_dict()['Freq']\n",
        "\n",
        "dbpedia_df['frequent_type'] =dbpedia_df.type.apply(multitype_to_freqtype)\n",
        "dbpedia_df['bottom_level_type'] =dbpedia_df.type.apply(types_to_bottom_type)\n",
        "dbpedia_df['top_level_type'] =dbpedia_df.type.apply(types_to_top_type)"
      ],
      "execution_count": 9,
      "outputs": []
    },
    {
      "cell_type": "code",
      "metadata": {
        "id": "Rv6UO6412vGP"
      },
      "source": [
        "test_df['frequent_type'] =test_df.type.apply(multitype_to_freqtype)\n",
        "test_df['bottom_level_type'] =test_df.type.apply(types_to_bottom_type)\n",
        "test_df['top_level_type'] =test_df.type.apply(types_to_top_type)"
      ],
      "execution_count": 10,
      "outputs": []
    },
    {
      "cell_type": "code",
      "metadata": {
        "id": "WHTb6lB-GAsQ"
      },
      "source": [
        "dbpedia_df= dbpedia_df[dbpedia_df.category.notna()]\n",
        "test_df= test_df[test_df.category.notna()]"
      ],
      "execution_count": 11,
      "outputs": []
    },
    {
      "cell_type": "code",
      "metadata": {
        "id": "BWVt2DP27SYU"
      },
      "source": [
        "dbpedia_df= dbpedia_df[dbpedia_df['frequent_type'].notna()]\n",
        "test_df= test_df[test_df['frequent_type'].notna()]"
      ],
      "execution_count": 12,
      "outputs": []
    },
    {
      "cell_type": "code",
      "metadata": {
        "id": "PPP6ZtYLhnH3"
      },
      "source": [
        "dbpedia_df.dropna( subset=['question'], inplace=True)\n",
        "test_df.dropna( subset=['question'], inplace=True)"
      ],
      "execution_count": 13,
      "outputs": []
    },
    {
      "cell_type": "code",
      "metadata": {
        "id": "Z02pWhSPgSGj",
        "colab": {
          "base_uri": "https://localhost:8080/",
          "height": 479
        },
        "outputId": "5ec95781-e6fb-4327-9fdc-ee70ea1a0089"
      },
      "source": [
        "dbpedia_df.head()"
      ],
      "execution_count": 14,
      "outputs": [
        {
          "output_type": "execute_result",
          "data": {
            "text/html": [
              "<div>\n",
              "<style scoped>\n",
              "    .dataframe tbody tr th:only-of-type {\n",
              "        vertical-align: middle;\n",
              "    }\n",
              "\n",
              "    .dataframe tbody tr th {\n",
              "        vertical-align: top;\n",
              "    }\n",
              "\n",
              "    .dataframe thead th {\n",
              "        text-align: right;\n",
              "    }\n",
              "</style>\n",
              "<table border=\"1\" class=\"dataframe\">\n",
              "  <thead>\n",
              "    <tr style=\"text-align: right;\">\n",
              "      <th></th>\n",
              "      <th>id</th>\n",
              "      <th>question</th>\n",
              "      <th>category</th>\n",
              "      <th>type</th>\n",
              "      <th>frequent_type</th>\n",
              "      <th>bottom_level_type</th>\n",
              "      <th>top_level_type</th>\n",
              "    </tr>\n",
              "  </thead>\n",
              "  <tbody>\n",
              "    <tr>\n",
              "      <th>0</th>\n",
              "      <td>dbpedia_1177</td>\n",
              "      <td>Was Jacqueline Kennedy Onassis a follower of M...</td>\n",
              "      <td>boolean</td>\n",
              "      <td>[boolean]</td>\n",
              "      <td>boolean</td>\n",
              "      <td>boolean</td>\n",
              "      <td>boolean</td>\n",
              "    </tr>\n",
              "    <tr>\n",
              "      <th>1</th>\n",
              "      <td>dbpedia_14427</td>\n",
              "      <td>What is the name of the opera based on Twelfth...</td>\n",
              "      <td>resource</td>\n",
              "      <td>[dbo:Opera, dbo:MusicalWork, dbo:Work]</td>\n",
              "      <td>dbo:Work</td>\n",
              "      <td>dbo:Opera</td>\n",
              "      <td>dbo:Work</td>\n",
              "    </tr>\n",
              "    <tr>\n",
              "      <th>2</th>\n",
              "      <td>dbpedia_16615</td>\n",
              "      <td>When did Lena Horne receive the Grammy Award f...</td>\n",
              "      <td>literal</td>\n",
              "      <td>[date]</td>\n",
              "      <td>date</td>\n",
              "      <td>date</td>\n",
              "      <td>date</td>\n",
              "    </tr>\n",
              "    <tr>\n",
              "      <th>3</th>\n",
              "      <td>dbpedia_23480</td>\n",
              "      <td>Do Prince Harry and Prince William have the sa...</td>\n",
              "      <td>boolean</td>\n",
              "      <td>[boolean]</td>\n",
              "      <td>boolean</td>\n",
              "      <td>boolean</td>\n",
              "      <td>boolean</td>\n",
              "    </tr>\n",
              "    <tr>\n",
              "      <th>4</th>\n",
              "      <td>dbpedia_3681</td>\n",
              "      <td>What is the subsidiary company working for Leo...</td>\n",
              "      <td>resource</td>\n",
              "      <td>[dbo:EducationalInstitution, dbo:Organisation,...</td>\n",
              "      <td>dbo:EducationalInstitution</td>\n",
              "      <td>dbo:EducationalInstitution</td>\n",
              "      <td>dbo:Agent</td>\n",
              "    </tr>\n",
              "  </tbody>\n",
              "</table>\n",
              "</div>"
            ],
            "text/plain": [
              "              id  ... top_level_type\n",
              "0   dbpedia_1177  ...        boolean\n",
              "1  dbpedia_14427  ...       dbo:Work\n",
              "2  dbpedia_16615  ...           date\n",
              "3  dbpedia_23480  ...        boolean\n",
              "4   dbpedia_3681  ...      dbo:Agent\n",
              "\n",
              "[5 rows x 7 columns]"
            ]
          },
          "metadata": {
            "tags": []
          },
          "execution_count": 14
        }
      ]
    },
    {
      "cell_type": "code",
      "metadata": {
        "id": "mvoXvf7EEo5M"
      },
      "source": [
        "def extend_cat(row):\n",
        "  if row['category'] =='boolean':\n",
        "    return row['category']\n",
        "  elif row['category'] == 'literal':\n",
        "    return row['frequent_type']\n",
        "  else:\n",
        "    return row['category']\n"
      ],
      "execution_count": 15,
      "outputs": []
    },
    {
      "cell_type": "code",
      "metadata": {
        "id": "TYQgLu0Oew84"
      },
      "source": [
        "dbpedia_df['extended_cat'] = dbpedia_df.apply(extend_cat, axis=1)"
      ],
      "execution_count": 16,
      "outputs": []
    },
    {
      "cell_type": "code",
      "metadata": {
        "id": "-G-NCWVkZF2o"
      },
      "source": [
        "dbpedia_res_df = dbpedia_df[dbpedia_df.category=='resource']"
      ],
      "execution_count": 17,
      "outputs": []
    },
    {
      "cell_type": "code",
      "metadata": {
        "id": "btjxmoY2IIB7",
        "colab": {
          "base_uri": "https://localhost:8080/"
        },
        "outputId": "1fcf8273-45e0-4a2b-8c01-f0a50eecb71c"
      },
      "source": [
        "VALIDATION_SPLIT = 0.2\n",
        "indicies = np.arange(dbpedia_res_df.shape[0])\n",
        "np.random.shuffle(indicies)\n",
        "num_valid_samples = int(VALIDATION_SPLIT * dbpedia_res_df.shape[0])\n",
        "num_valid_samples"
      ],
      "execution_count": 18,
      "outputs": [
        {
          "output_type": "execute_result",
          "data": {
            "text/plain": [
              "1911"
            ]
          },
          "metadata": {
            "tags": []
          },
          "execution_count": 18
        }
      ]
    },
    {
      "cell_type": "code",
      "metadata": {
        "id": "ZDrkSlAx7SYg"
      },
      "source": [
        "num_test_samples=  int(num_valid_samples/2)"
      ],
      "execution_count": 19,
      "outputs": []
    },
    {
      "cell_type": "code",
      "metadata": {
        "id": "YAYxMSbLI-au"
      },
      "source": [
        "dbpedia_res_df=dbpedia_res_df.iloc[indicies]"
      ],
      "execution_count": 20,
      "outputs": []
    },
    {
      "cell_type": "code",
      "metadata": {
        "id": "cUbcdtQoIWPv",
        "colab": {
          "base_uri": "https://localhost:8080/",
          "height": 655
        },
        "outputId": "bc9a45ed-a170-4ece-8a39-59de75ae5239"
      },
      "source": [
        "train_df= dbpedia_res_df[:-num_valid_samples]\n",
        "train_df.head()"
      ],
      "execution_count": 21,
      "outputs": [
        {
          "output_type": "execute_result",
          "data": {
            "text/html": [
              "<div>\n",
              "<style scoped>\n",
              "    .dataframe tbody tr th:only-of-type {\n",
              "        vertical-align: middle;\n",
              "    }\n",
              "\n",
              "    .dataframe tbody tr th {\n",
              "        vertical-align: top;\n",
              "    }\n",
              "\n",
              "    .dataframe thead th {\n",
              "        text-align: right;\n",
              "    }\n",
              "</style>\n",
              "<table border=\"1\" class=\"dataframe\">\n",
              "  <thead>\n",
              "    <tr style=\"text-align: right;\">\n",
              "      <th></th>\n",
              "      <th>id</th>\n",
              "      <th>question</th>\n",
              "      <th>category</th>\n",
              "      <th>type</th>\n",
              "      <th>frequent_type</th>\n",
              "      <th>bottom_level_type</th>\n",
              "      <th>top_level_type</th>\n",
              "      <th>extended_cat</th>\n",
              "    </tr>\n",
              "  </thead>\n",
              "  <tbody>\n",
              "    <tr>\n",
              "      <th>15557</th>\n",
              "      <td>dbpedia_11753</td>\n",
              "      <td>Where does Thomas Jefferson's special people s...</td>\n",
              "      <td>resource</td>\n",
              "      <td>[dbo:Building, dbo:ArchitecturalStructure, dbo...</td>\n",
              "      <td>dbo:ArchitecturalStructure</td>\n",
              "      <td>dbo:Building</td>\n",
              "      <td>dbo:Location</td>\n",
              "      <td>resource</td>\n",
              "    </tr>\n",
              "    <tr>\n",
              "      <th>15040</th>\n",
              "      <td>dbpedia_8745</td>\n",
              "      <td>Mention the federative entity of Mexico respon...</td>\n",
              "      <td>resource</td>\n",
              "      <td>[dbo:City, dbo:Settlement, dbo:PopulatedPlace,...</td>\n",
              "      <td>dbo:Settlement</td>\n",
              "      <td>dbo:City</td>\n",
              "      <td>dbo:Location</td>\n",
              "      <td>resource</td>\n",
              "    </tr>\n",
              "    <tr>\n",
              "      <th>11744</th>\n",
              "      <td>dbpedia_10590</td>\n",
              "      <td>Who is the contestant of part of the series by...</td>\n",
              "      <td>resource</td>\n",
              "      <td>[dbo:Person, dbo:Agent]</td>\n",
              "      <td>dbo:Agent</td>\n",
              "      <td>dbo:Person</td>\n",
              "      <td>dbo:Agent</td>\n",
              "      <td>resource</td>\n",
              "    </tr>\n",
              "    <tr>\n",
              "      <th>10080</th>\n",
              "      <td>dbpedia_22442</td>\n",
              "      <td>Which sports are played in schools affiliated ...</td>\n",
              "      <td>resource</td>\n",
              "      <td>[dbo:Sport, dbo:Activity]</td>\n",
              "      <td>dbo:Activity</td>\n",
              "      <td>dbo:Sport</td>\n",
              "      <td>dbo:Activity</td>\n",
              "      <td>resource</td>\n",
              "    </tr>\n",
              "    <tr>\n",
              "      <th>9229</th>\n",
              "      <td>dbpedia_6107</td>\n",
              "      <td>Tell me studio album whose name has the word w...</td>\n",
              "      <td>resource</td>\n",
              "      <td>[dbo:Album, dbo:MusicalWork, dbo:Work]</td>\n",
              "      <td>dbo:Work</td>\n",
              "      <td>dbo:Album</td>\n",
              "      <td>dbo:Work</td>\n",
              "      <td>resource</td>\n",
              "    </tr>\n",
              "  </tbody>\n",
              "</table>\n",
              "</div>"
            ],
            "text/plain": [
              "                  id  ... extended_cat\n",
              "15557  dbpedia_11753  ...     resource\n",
              "15040   dbpedia_8745  ...     resource\n",
              "11744  dbpedia_10590  ...     resource\n",
              "10080  dbpedia_22442  ...     resource\n",
              "9229    dbpedia_6107  ...     resource\n",
              "\n",
              "[5 rows x 8 columns]"
            ]
          },
          "metadata": {
            "tags": []
          },
          "execution_count": 21
        }
      ]
    },
    {
      "cell_type": "code",
      "metadata": {
        "id": "jH_U7DpbJL_R",
        "colab": {
          "base_uri": "https://localhost:8080/",
          "height": 497
        },
        "outputId": "dfd1cf3a-62a6-4806-8ddf-da6f051fd432"
      },
      "source": [
        "valid_df= dbpedia_res_df[-num_valid_samples:]\n",
        "valid_df.head()"
      ],
      "execution_count": 22,
      "outputs": [
        {
          "output_type": "execute_result",
          "data": {
            "text/html": [
              "<div>\n",
              "<style scoped>\n",
              "    .dataframe tbody tr th:only-of-type {\n",
              "        vertical-align: middle;\n",
              "    }\n",
              "\n",
              "    .dataframe tbody tr th {\n",
              "        vertical-align: top;\n",
              "    }\n",
              "\n",
              "    .dataframe thead th {\n",
              "        text-align: right;\n",
              "    }\n",
              "</style>\n",
              "<table border=\"1\" class=\"dataframe\">\n",
              "  <thead>\n",
              "    <tr style=\"text-align: right;\">\n",
              "      <th></th>\n",
              "      <th>id</th>\n",
              "      <th>question</th>\n",
              "      <th>category</th>\n",
              "      <th>type</th>\n",
              "      <th>frequent_type</th>\n",
              "      <th>bottom_level_type</th>\n",
              "      <th>top_level_type</th>\n",
              "      <th>extended_cat</th>\n",
              "    </tr>\n",
              "  </thead>\n",
              "  <tbody>\n",
              "    <tr>\n",
              "      <th>1117</th>\n",
              "      <td>dbpedia_18221</td>\n",
              "      <td>Which company's division is Audi India? Correc...</td>\n",
              "      <td>resource</td>\n",
              "      <td>[dbo:Company, dbo:Organisation, dbo:Agent]</td>\n",
              "      <td>dbo:Company</td>\n",
              "      <td>dbo:Company</td>\n",
              "      <td>dbo:Agent</td>\n",
              "      <td>resource</td>\n",
              "    </tr>\n",
              "    <tr>\n",
              "      <th>3803</th>\n",
              "      <td>dbpedia_23544</td>\n",
              "      <td>Who is the president of Eritrea?</td>\n",
              "      <td>resource</td>\n",
              "      <td>[dbo:OfficeHolder, dbo:Person, dbo:Agent]</td>\n",
              "      <td>dbo:OfficeHolder</td>\n",
              "      <td>dbo:OfficeHolder</td>\n",
              "      <td>dbo:Agent</td>\n",
              "      <td>resource</td>\n",
              "    </tr>\n",
              "    <tr>\n",
              "      <th>5912</th>\n",
              "      <td>dbpedia_13588</td>\n",
              "      <td>What is the wiki article for a list of fairy t...</td>\n",
              "      <td>resource</td>\n",
              "      <td>[dbo:Media]</td>\n",
              "      <td>dbo:Media</td>\n",
              "      <td>dbo:Media</td>\n",
              "      <td>dbo:Media</td>\n",
              "      <td>resource</td>\n",
              "    </tr>\n",
              "    <tr>\n",
              "      <th>1528</th>\n",
              "      <td>dbpedia_5423</td>\n",
              "      <td>Which uncle did a tribute to Christ Church?</td>\n",
              "      <td>resource</td>\n",
              "      <td>[dbo:Person, dbo:Agent]</td>\n",
              "      <td>dbo:Agent</td>\n",
              "      <td>dbo:Person</td>\n",
              "      <td>dbo:Agent</td>\n",
              "      <td>resource</td>\n",
              "    </tr>\n",
              "    <tr>\n",
              "      <th>16019</th>\n",
              "      <td>dbpedia_1725</td>\n",
              "      <td>Where is Glasgow nearest body of water located...</td>\n",
              "      <td>resource</td>\n",
              "      <td>[dbo:River, dbo:Stream, dbo:BodyOfWater, dbo:N...</td>\n",
              "      <td>dbo:NaturalPlace</td>\n",
              "      <td>dbo:River</td>\n",
              "      <td>dbo:Location</td>\n",
              "      <td>resource</td>\n",
              "    </tr>\n",
              "  </tbody>\n",
              "</table>\n",
              "</div>"
            ],
            "text/plain": [
              "                  id  ... extended_cat\n",
              "1117   dbpedia_18221  ...     resource\n",
              "3803   dbpedia_23544  ...     resource\n",
              "5912   dbpedia_13588  ...     resource\n",
              "1528    dbpedia_5423  ...     resource\n",
              "16019   dbpedia_1725  ...     resource\n",
              "\n",
              "[5 rows x 8 columns]"
            ]
          },
          "metadata": {
            "tags": []
          },
          "execution_count": 22
        }
      ]
    },
    {
      "cell_type": "code",
      "metadata": {
        "id": "oVbH4yCZ7SYp",
        "colab": {
          "base_uri": "https://localhost:8080/"
        },
        "outputId": "648186b3-f3f8-428f-9903-11324ffbadbd"
      },
      "source": [
        "len(valid_df)"
      ],
      "execution_count": 23,
      "outputs": [
        {
          "output_type": "execute_result",
          "data": {
            "text/plain": [
              "1911"
            ]
          },
          "metadata": {
            "tags": []
          },
          "execution_count": 23
        }
      ]
    },
    {
      "cell_type": "code",
      "metadata": {
        "id": "t-mlCnDjtjFV"
      },
      "source": [
        "#valid_df.to_csv('/content/drive/My Drive/fastai-v3/data/smarttask/dbpedia_valid_gold.csv', index=False)"
      ],
      "execution_count": 24,
      "outputs": []
    },
    {
      "cell_type": "code",
      "metadata": {
        "id": "S7io8zkd7SYr"
      },
      "source": [
        "#test_df= dbpedia_df[-num_test_samples:]\n",
        "#test_df.head()"
      ],
      "execution_count": 25,
      "outputs": []
    },
    {
      "cell_type": "code",
      "metadata": {
        "id": "k-7EDQfKLSjC",
        "colab": {
          "base_uri": "https://localhost:8080/"
        },
        "outputId": "600de9e9-0681-4676-d166-ac54831ec48f"
      },
      "source": [
        "len(valid_df)"
      ],
      "execution_count": 26,
      "outputs": [
        {
          "output_type": "execute_result",
          "data": {
            "text/plain": [
              "1911"
            ]
          },
          "metadata": {
            "tags": []
          },
          "execution_count": 26
        }
      ]
    },
    {
      "cell_type": "markdown",
      "metadata": {
        "id": "-2iYXi-k7SZX"
      },
      "source": [
        "## Most frequent/generic type prediction"
      ]
    },
    {
      "cell_type": "code",
      "metadata": {
        "id": "DRPVfHb87SZa"
      },
      "source": [
        "target = 'frequent_type'\n"
      ],
      "execution_count": 27,
      "outputs": []
    },
    {
      "cell_type": "code",
      "metadata": {
        "id": "bgHEuW4yD6tZ",
        "colab": {
          "base_uri": "https://localhost:8080/"
        },
        "outputId": "6a517265-52e9-423c-a673-17d60a8acbb7"
      },
      "source": [
        "train_res_df= train_df[train_df.category =='resource']\n",
        "valid_res_df= valid_df[valid_df.category =='resource']\n",
        "test_res_df= test_df[test_df.category =='resource']\n",
        "len(train_res_df),len(valid_res_df),len(test_res_df)"
      ],
      "execution_count": 28,
      "outputs": [
        {
          "output_type": "execute_result",
          "data": {
            "text/plain": [
              "(7646, 1911, 2445)"
            ]
          },
          "metadata": {
            "tags": []
          },
          "execution_count": 28
        }
      ]
    },
    {
      "cell_type": "code",
      "metadata": {
        "colab": {
          "base_uri": "https://localhost:8080/"
        },
        "id": "IjghmXjpVNHL",
        "outputId": "5bd3436a-7262-4063-f054-36c2c179f246"
      },
      "source": [
        "all_res_df = train_res_df.append(valid_res_df).append(test_res_df) \n",
        "n_utypes = all_res_df[target].unique()\n",
        "print (len(n_utypes))"
      ],
      "execution_count": 29,
      "outputs": [
        {
          "output_type": "stream",
          "text": [
            "88\n"
          ],
          "name": "stdout"
        }
      ]
    },
    {
      "cell_type": "code",
      "metadata": {
        "id": "Gi1kRUIyEKre",
        "colab": {
          "base_uri": "https://localhost:8080/"
        },
        "outputId": "48070535-f011-470b-c7be-e131f507520b"
      },
      "source": [
        "len(train_res_df), len(valid_res_df)"
      ],
      "execution_count": 30,
      "outputs": [
        {
          "output_type": "execute_result",
          "data": {
            "text/plain": [
              "(7646, 1911)"
            ]
          },
          "metadata": {
            "tags": []
          },
          "execution_count": 30
        }
      ]
    },
    {
      "cell_type": "code",
      "metadata": {
        "id": "YVgGnGFsTdbm"
      },
      "source": [
        "type_hierarchy = {}\n",
        "to_upper_class = {}\n",
        "for i, row in dbpedia_res_df.type.iteritems():\n",
        "    #print (row)\n",
        "    types= list(row)\n",
        "    for i in range(len(types)-1):\n",
        "      parent = types[i]\n",
        "      child = types[i+1]\n",
        "      #print (parent, child) \n",
        "      if parent not in type_hierarchy:\n",
        "          type_hierarchy[parent] = [child]\n",
        "      else:\n",
        "          type_hierarchy[parent].append(child)\n",
        "          \n",
        "      if child not in to_upper_class:\n",
        "          to_upper_class[child] = parent"
      ],
      "execution_count": 31,
      "outputs": []
    },
    {
      "cell_type": "code",
      "metadata": {
        "id": "4Rlq1IJ6TSBU"
      },
      "source": [
        "def to_super_class(specific_type, type_with_less_freq):\n",
        "    if specific_type in type_with_less_freq:\n",
        "        if specific_type in to_upper_class:\n",
        "            #if to_upper_class[specific_type] == 'owl:Thing':\n",
        "            #   return specific_type\n",
        "            return to_upper_class[specific_type]\n",
        "    return specific_type\n",
        "\n",
        "def to_sub_class(specific_type, type_with_less_freq):\n",
        "    if specific_type in type_with_less_freq:\n",
        "        if specific_type in to_upper_class:\n",
        "            #if to_upper_class[specific_type] == 'owl:Thing':\n",
        "            #   return specific_type\n",
        "            return type_hierarchy[parent]\n",
        "    return specific_type\n",
        "\n",
        "def choose_freqent_types_balancing(specific_type, iters, min_freq):\n",
        "    for i in range(iters):\n",
        "        specific_type_freq = specific_type.value_counts()\n",
        "        type_with_less_freq = list(specific_type_freq[specific_type_freq < min_freq].keys())\n",
        "        specific_type = specific_type.apply(lambda x: to_super_class(x, type_with_less_freq) )\n",
        "    return specific_type\n",
        "\n",
        "def balance_types(specific_type, min_freq, max_freq):\n",
        "    # slipt to super-classes if number of \n",
        "    \n",
        "    specific_type_freq = specific_type.value_counts()\n",
        "    max_freq =  specific_type_freq.sum() * 2  / len(specific_type_freq)\n",
        "    type_with_most_freq = list(specific_type_freq[specific_type_freq > max_freq].keys())\n",
        "    type_with_less_freq = list(specific_type_freq[specific_type_freq < min_freq].keys())\n",
        "    \n",
        "    specific_type = specific_type.apply(lambda x: to_super_class(x, type_with_less_freq) )\n",
        "\n",
        "\n",
        "def choose_freqent_types_balancing(specific_type, iters, min_freq):\n",
        "    for i in range(iters):\n",
        "        specific_type_freq = specific_type.value_counts()\n",
        "        type_with_less_freq = list(specific_type_freq[specific_type_freq < min_freq].keys())\n",
        "        specific_type = specific_type.apply(lambda x: to_super_class(x, type_with_less_freq) )\n",
        "    return specific_type  "
      ],
      "execution_count": 32,
      "outputs": []
    },
    {
      "cell_type": "code",
      "metadata": {
        "id": "O70gxDq8TnK6"
      },
      "source": [
        "#train_res_df['frequent_type'] =choose_freqent_types_balancing(train_res_df['frequent_type'], 50, 200)"
      ],
      "execution_count": 33,
      "outputs": []
    },
    {
      "cell_type": "markdown",
      "metadata": {
        "id": "77geMBtPOx3q"
      },
      "source": [
        "### TF-IDF Text Classifier\n"
      ]
    },
    {
      "cell_type": "code",
      "metadata": {
        "colab": {
          "base_uri": "https://localhost:8080/"
        },
        "id": "hx9ZW-5eQhwW",
        "outputId": "4e2eeb78-901e-493e-815f-2ca11deaee64"
      },
      "source": [
        "label_dict = {}\n",
        "for index, possible_label in enumerate(sorted(all_res_df[target].unique())):\n",
        "    label_dict[possible_label] = index\n",
        "label_dict\n"
      ],
      "execution_count": 34,
      "outputs": [
        {
          "output_type": "execute_result",
          "data": {
            "text/plain": [
              "{'dbo:Activity': 0,\n",
              " 'dbo:AdministrativeRegion': 1,\n",
              " 'dbo:Agent': 2,\n",
              " 'dbo:AnatomicalStructure': 3,\n",
              " 'dbo:Architect': 4,\n",
              " 'dbo:ArchitecturalStructure': 5,\n",
              " 'dbo:Artist': 6,\n",
              " 'dbo:Astronaut': 7,\n",
              " 'dbo:Athlete': 8,\n",
              " 'dbo:Award': 9,\n",
              " 'dbo:Band': 10,\n",
              " 'dbo:BaseballTeam': 11,\n",
              " 'dbo:BeautyQueen': 12,\n",
              " 'dbo:Biomolecule': 13,\n",
              " 'dbo:Broadcaster': 14,\n",
              " 'dbo:Case': 15,\n",
              " 'dbo:CelestialBody': 16,\n",
              " 'dbo:Cemetery': 17,\n",
              " 'dbo:ChemicalSubstance': 18,\n",
              " 'dbo:City': 19,\n",
              " 'dbo:Cleric': 20,\n",
              " 'dbo:CollegeCoach': 21,\n",
              " 'dbo:Company': 22,\n",
              " 'dbo:Country': 23,\n",
              " 'dbo:Currency': 24,\n",
              " 'dbo:Deity': 25,\n",
              " 'dbo:Device': 26,\n",
              " 'dbo:Disease': 27,\n",
              " 'dbo:EducationalInstitution': 28,\n",
              " 'dbo:EthnicGroup': 29,\n",
              " 'dbo:Event': 30,\n",
              " 'dbo:Family': 31,\n",
              " 'dbo:FictionalCharacter': 32,\n",
              " 'dbo:FigureSkater': 33,\n",
              " 'dbo:Flag': 34,\n",
              " 'dbo:Food': 35,\n",
              " 'dbo:GovernmentAgency': 36,\n",
              " 'dbo:Holiday': 37,\n",
              " 'dbo:HorseRace': 38,\n",
              " 'dbo:Island': 39,\n",
              " 'dbo:Language': 40,\n",
              " 'dbo:Legislature': 41,\n",
              " 'dbo:MeanOfTransportation': 42,\n",
              " 'dbo:Media': 43,\n",
              " 'dbo:MedicalSpecialty': 44,\n",
              " 'dbo:MilitaryPerson': 45,\n",
              " 'dbo:MilitaryUnit': 46,\n",
              " 'dbo:Monarch': 47,\n",
              " 'dbo:MountainRange': 48,\n",
              " 'dbo:Museum': 49,\n",
              " 'dbo:MusicGenre': 50,\n",
              " 'dbo:MusicalArtist': 51,\n",
              " 'dbo:Name': 52,\n",
              " 'dbo:NaturalPlace': 53,\n",
              " 'dbo:Noble': 54,\n",
              " 'dbo:Non-ProfitOrganisation': 55,\n",
              " 'dbo:OfficeHolder': 56,\n",
              " 'dbo:Parliament': 57,\n",
              " 'dbo:Person': 58,\n",
              " 'dbo:PersonFunction': 59,\n",
              " 'dbo:Philosopher': 60,\n",
              " 'dbo:Place': 61,\n",
              " 'dbo:PlayboyPlaymate': 62,\n",
              " 'dbo:PoliticalParty': 63,\n",
              " 'dbo:Politician': 64,\n",
              " 'dbo:ProtectedArea': 65,\n",
              " 'dbo:PublicService': 66,\n",
              " 'dbo:RecordLabel': 67,\n",
              " 'dbo:Region': 68,\n",
              " 'dbo:River': 69,\n",
              " 'dbo:Royalty': 70,\n",
              " 'dbo:Scientist': 71,\n",
              " 'dbo:Settlement': 72,\n",
              " 'dbo:SoccerClub': 73,\n",
              " 'dbo:SoccerPlayer': 74,\n",
              " 'dbo:Species': 75,\n",
              " 'dbo:SportsLeague': 76,\n",
              " 'dbo:SportsManager': 77,\n",
              " 'dbo:SportsTeam': 78,\n",
              " 'dbo:State': 79,\n",
              " 'dbo:Street': 80,\n",
              " 'dbo:TimePeriod': 81,\n",
              " 'dbo:TopicalConcept': 82,\n",
              " 'dbo:University': 83,\n",
              " 'dbo:WineRegion': 84,\n",
              " 'dbo:Work': 85,\n",
              " 'dbo:WorldHeritageSite': 86,\n",
              " 'dbo:Writer': 87}"
            ]
          },
          "metadata": {
            "tags": []
          },
          "execution_count": 34
        }
      ]
    },
    {
      "cell_type": "code",
      "metadata": {
        "id": "qaIxDKPfP4Gb"
      },
      "source": [
        "labels_train = train_res_df[target].replace(label_dict).values\n",
        "\n",
        "labels_val = valid_res_df[target].replace(label_dict).values\n"
      ],
      "execution_count": 37,
      "outputs": []
    },
    {
      "cell_type": "code",
      "metadata": {
        "id": "U6ezgcRRSYqu"
      },
      "source": [
        "labels_test = test_res_df[target].replace(label_dict).values"
      ],
      "execution_count": 35,
      "outputs": []
    },
    {
      "cell_type": "code",
      "metadata": {
        "id": "6pq1rMXUcPPf"
      },
      "source": [
        "from sklearn import tree, ensemble\n",
        "from sklearn.pipeline import Pipeline"
      ],
      "execution_count": 36,
      "outputs": []
    },
    {
      "cell_type": "code",
      "metadata": {
        "id": "6bbIEVuScdwl"
      },
      "source": [
        "from sklearn.feature_extraction.text import CountVectorizer\n",
        "from sklearn.feature_extraction.text import TfidfTransformer\n",
        "from sklearn.tree import DecisionTreeClassifier\n"
      ],
      "execution_count": 38,
      "outputs": []
    },
    {
      "cell_type": "code",
      "metadata": {
        "id": "vIrFIfR-cjMt"
      },
      "source": [
        "pipeline = Pipeline([\n",
        "    ('vect', CountVectorizer()),\n",
        "    ('tfidf', TfidfTransformer()),\n",
        "    ('clf', DecisionTreeClassifier()),\n",
        "])"
      ],
      "execution_count": 39,
      "outputs": []
    },
    {
      "cell_type": "code",
      "metadata": {
        "colab": {
          "base_uri": "https://localhost:8080/"
        },
        "id": "XTlZB6jkclfx",
        "outputId": "fd7c9f38-5232-4961-92d8-4778a1abb126"
      },
      "source": [
        "pipeline.fit(train_res_df['question'], labels_train)"
      ],
      "execution_count": 40,
      "outputs": [
        {
          "output_type": "execute_result",
          "data": {
            "text/plain": [
              "Pipeline(memory=None,\n",
              "         steps=[('vect',\n",
              "                 CountVectorizer(analyzer='word', binary=False,\n",
              "                                 decode_error='strict',\n",
              "                                 dtype=<class 'numpy.int64'>, encoding='utf-8',\n",
              "                                 input='content', lowercase=True, max_df=1.0,\n",
              "                                 max_features=None, min_df=1,\n",
              "                                 ngram_range=(1, 1), preprocessor=None,\n",
              "                                 stop_words=None, strip_accents=None,\n",
              "                                 token_pattern='(?u)\\\\b\\\\w\\\\w+\\\\b',\n",
              "                                 tokenizer=None, vocabulary=Non...\n",
              "                                  sublinear_tf=False, use_idf=True)),\n",
              "                ('clf',\n",
              "                 DecisionTreeClassifier(ccp_alpha=0.0, class_weight=None,\n",
              "                                        criterion='gini', max_depth=None,\n",
              "                                        max_features=None, max_leaf_nodes=None,\n",
              "                                        min_impurity_decrease=0.0,\n",
              "                                        min_impurity_split=None,\n",
              "                                        min_samples_leaf=1, min_samples_split=2,\n",
              "                                        min_weight_fraction_leaf=0.0,\n",
              "                                        presort='deprecated', random_state=None,\n",
              "                                        splitter='best'))],\n",
              "         verbose=False)"
            ]
          },
          "metadata": {
            "tags": []
          },
          "execution_count": 40
        }
      ]
    },
    {
      "cell_type": "code",
      "metadata": {
        "colab": {
          "base_uri": "https://localhost:8080/"
        },
        "id": "OF1xOXTKc3ZE",
        "outputId": "bb9762d5-9729-4213-eeb9-f44e2fc604a1"
      },
      "source": [
        "pipeline.score(valid_res_df['question'], labels_val)"
      ],
      "execution_count": 43,
      "outputs": [
        {
          "output_type": "execute_result",
          "data": {
            "text/plain": [
              "0.47514390371533227"
            ]
          },
          "metadata": {
            "tags": []
          },
          "execution_count": 43
        }
      ]
    },
    {
      "cell_type": "code",
      "metadata": {
        "colab": {
          "base_uri": "https://localhost:8080/"
        },
        "id": "NrOtSNGmdBde",
        "outputId": "c054837f-dad6-4fff-9d92-80b7b10e97b1"
      },
      "source": [
        "pipeline.score(test_res_df['question'], labels_test)"
      ],
      "execution_count": 44,
      "outputs": [
        {
          "output_type": "execute_result",
          "data": {
            "text/plain": [
              "0.4560327198364008"
            ]
          },
          "metadata": {
            "tags": []
          },
          "execution_count": 44
        }
      ]
    },
    {
      "cell_type": "markdown",
      "metadata": {
        "id": "lE0dm7i7duAZ"
      },
      "source": [
        "## RandomForest Classifier"
      ]
    },
    {
      "cell_type": "code",
      "metadata": {
        "id": "9WffC0go9Rq-"
      },
      "source": [
        "pipeline1 = Pipeline([\n",
        "    ('vect', CountVectorizer()),\n",
        "    ('tfidf', TfidfTransformer()),\n",
        "    ('clf', ensemble.RandomForestClassifier(n_estimators=200)),\n",
        "])"
      ],
      "execution_count": 49,
      "outputs": []
    },
    {
      "cell_type": "code",
      "metadata": {
        "colab": {
          "base_uri": "https://localhost:8080/"
        },
        "id": "bChC76sBddWn",
        "outputId": "6f0278dc-d7ae-4266-f797-dd6902275856"
      },
      "source": [
        "pipeline1.fit(train_res_df['question'], labels_train)"
      ],
      "execution_count": 50,
      "outputs": [
        {
          "output_type": "execute_result",
          "data": {
            "text/plain": [
              "Pipeline(memory=None,\n",
              "         steps=[('vect',\n",
              "                 CountVectorizer(analyzer='word', binary=False,\n",
              "                                 decode_error='strict',\n",
              "                                 dtype=<class 'numpy.int64'>, encoding='utf-8',\n",
              "                                 input='content', lowercase=True, max_df=1.0,\n",
              "                                 max_features=None, min_df=1,\n",
              "                                 ngram_range=(1, 1), preprocessor=None,\n",
              "                                 stop_words=None, strip_accents=None,\n",
              "                                 token_pattern='(?u)\\\\b\\\\w\\\\w+\\\\b',\n",
              "                                 tokenizer=None, vocabulary=Non...\n",
              "                 RandomForestClassifier(bootstrap=True, ccp_alpha=0.0,\n",
              "                                        class_weight=None, criterion='gini',\n",
              "                                        max_depth=None, max_features='auto',\n",
              "                                        max_leaf_nodes=None, max_samples=None,\n",
              "                                        min_impurity_decrease=0.0,\n",
              "                                        min_impurity_split=None,\n",
              "                                        min_samples_leaf=1, min_samples_split=2,\n",
              "                                        min_weight_fraction_leaf=0.0,\n",
              "                                        n_estimators=200, n_jobs=None,\n",
              "                                        oob_score=False, random_state=None,\n",
              "                                        verbose=0, warm_start=False))],\n",
              "         verbose=False)"
            ]
          },
          "metadata": {
            "tags": []
          },
          "execution_count": 50
        }
      ]
    },
    {
      "cell_type": "code",
      "metadata": {
        "colab": {
          "base_uri": "https://localhost:8080/"
        },
        "id": "o1DvyrUYdfwF",
        "outputId": "37039ca2-4890-444f-b4c4-adc61e8f0289"
      },
      "source": [
        "pipeline1.score(valid_res_df['question'], labels_val)"
      ],
      "execution_count": 51,
      "outputs": [
        {
          "output_type": "execute_result",
          "data": {
            "text/plain": [
              "0.564625850340136"
            ]
          },
          "metadata": {
            "tags": []
          },
          "execution_count": 51
        }
      ]
    },
    {
      "cell_type": "code",
      "metadata": {
        "colab": {
          "base_uri": "https://localhost:8080/"
        },
        "id": "SAnMsi3edoMO",
        "outputId": "b0090d3b-5fda-47bc-e86b-37103dfc477b"
      },
      "source": [
        "pipeline1.score(test_res_df['question'], labels_test)"
      ],
      "execution_count": 52,
      "outputs": [
        {
          "output_type": "execute_result",
          "data": {
            "text/plain": [
              "0.5488752556237219"
            ]
          },
          "metadata": {
            "tags": []
          },
          "execution_count": 52
        }
      ]
    },
    {
      "cell_type": "code",
      "metadata": {
        "id": "Kud08oWFdr4H"
      },
      "source": [
        ""
      ],
      "execution_count": null,
      "outputs": []
    },
    {
      "cell_type": "markdown",
      "metadata": {
        "id": "BoptWPsYfT0N"
      },
      "source": [
        "## SVM Classifier"
      ]
    },
    {
      "cell_type": "code",
      "metadata": {
        "id": "sRgSxcNYfQ3s"
      },
      "source": [
        "from sklearn.svm import LinearSVC"
      ],
      "execution_count": 53,
      "outputs": []
    },
    {
      "cell_type": "code",
      "metadata": {
        "id": "OySELq1QfRdr"
      },
      "source": [
        "pipeline2 = Pipeline([\n",
        "    ('vect', CountVectorizer()),\n",
        "    ('tfidf', TfidfTransformer()),\n",
        "    ('clf', LinearSVC()),\n",
        "])"
      ],
      "execution_count": 54,
      "outputs": []
    },
    {
      "cell_type": "code",
      "metadata": {
        "colab": {
          "base_uri": "https://localhost:8080/"
        },
        "id": "D3NlZgbCfvP8",
        "outputId": "81e5030a-6cd0-47b3-ac8d-4ecbeebaf6a8"
      },
      "source": [
        "pipeline2.fit(train_res_df['question'], labels_train)"
      ],
      "execution_count": 56,
      "outputs": [
        {
          "output_type": "execute_result",
          "data": {
            "text/plain": [
              "Pipeline(memory=None,\n",
              "         steps=[('vect',\n",
              "                 CountVectorizer(analyzer='word', binary=False,\n",
              "                                 decode_error='strict',\n",
              "                                 dtype=<class 'numpy.int64'>, encoding='utf-8',\n",
              "                                 input='content', lowercase=True, max_df=1.0,\n",
              "                                 max_features=None, min_df=1,\n",
              "                                 ngram_range=(1, 1), preprocessor=None,\n",
              "                                 stop_words=None, strip_accents=None,\n",
              "                                 token_pattern='(?u)\\\\b\\\\w\\\\w+\\\\b',\n",
              "                                 tokenizer=None, vocabulary=None)),\n",
              "                ('tfidf',\n",
              "                 TfidfTransformer(norm='l2', smooth_idf=True,\n",
              "                                  sublinear_tf=False, use_idf=True)),\n",
              "                ('clf',\n",
              "                 LinearSVC(C=1.0, class_weight=None, dual=True,\n",
              "                           fit_intercept=True, intercept_scaling=1,\n",
              "                           loss='squared_hinge', max_iter=1000,\n",
              "                           multi_class='ovr', penalty='l2', random_state=None,\n",
              "                           tol=0.0001, verbose=0))],\n",
              "         verbose=False)"
            ]
          },
          "metadata": {
            "tags": []
          },
          "execution_count": 56
        }
      ]
    },
    {
      "cell_type": "code",
      "metadata": {
        "colab": {
          "base_uri": "https://localhost:8080/"
        },
        "id": "Cp88s2zUfxPL",
        "outputId": "615bf6be-20a3-43da-be51-c78565997e2c"
      },
      "source": [
        "pipeline2.score(valid_res_df['question'], labels_val)"
      ],
      "execution_count": 57,
      "outputs": [
        {
          "output_type": "execute_result",
          "data": {
            "text/plain": [
              "0.6755625327053898"
            ]
          },
          "metadata": {
            "tags": []
          },
          "execution_count": 57
        }
      ]
    },
    {
      "cell_type": "code",
      "metadata": {
        "colab": {
          "base_uri": "https://localhost:8080/"
        },
        "id": "HJ4fdExxf2MF",
        "outputId": "750861aa-f5d2-4805-f969-b263eb136357"
      },
      "source": [
        "pipeline2.score(test_res_df['question'], labels_test)"
      ],
      "execution_count": 58,
      "outputs": [
        {
          "output_type": "execute_result",
          "data": {
            "text/plain": [
              "0.6768916155419223"
            ]
          },
          "metadata": {
            "tags": []
          },
          "execution_count": 58
        }
      ]
    },
    {
      "cell_type": "code",
      "metadata": {
        "id": "EoCahx2ff63p"
      },
      "source": [
        ""
      ],
      "execution_count": null,
      "outputs": []
    }
  ]
}