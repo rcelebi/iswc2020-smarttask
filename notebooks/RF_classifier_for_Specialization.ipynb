{
 "cells": [
  {
   "cell_type": "code",
   "execution_count": 1,
   "metadata": {},
   "outputs": [
    {
     "name": "stdout",
     "output_type": "stream",
     "text": [
      "Requirement already satisfied: nltk in /opt/conda/lib/python3.7/site-packages (3.5)\n",
      "Requirement already satisfied: tqdm in /opt/conda/lib/python3.7/site-packages (from nltk) (4.45.0)\n",
      "Requirement already satisfied: click in /opt/conda/lib/python3.7/site-packages (from nltk) (7.1.2)\n",
      "Requirement already satisfied: regex in /opt/conda/lib/python3.7/site-packages (from nltk) (2020.6.8)\n",
      "Requirement already satisfied: joblib in /opt/conda/lib/python3.7/site-packages (from nltk) (0.15.1)\n",
      "\u001b[33mWARNING: You are using pip version 20.1.1; however, version 20.2.3 is available.\n",
      "You should consider upgrading via the '/opt/conda/bin/python3.7 -m pip install --upgrade pip' command.\u001b[0m\n"
     ]
    }
   ],
   "source": [
    "!pip install nltk --user"
   ]
  },
  {
   "cell_type": "code",
   "execution_count": 2,
   "metadata": {},
   "outputs": [
    {
     "name": "stdout",
     "output_type": "stream",
     "text": [
      "Requirement already satisfied: wikipedia2vec in /opt/conda/lib/python3.7/site-packages (1.0.4)\n",
      "Requirement already satisfied: lmdb in /opt/conda/lib/python3.7/site-packages (from wikipedia2vec) (0.98)\n",
      "Requirement already satisfied: click in /opt/conda/lib/python3.7/site-packages (from wikipedia2vec) (7.1.2)\n",
      "Requirement already satisfied: numpy in /opt/conda/lib/python3.7/site-packages (from wikipedia2vec) (1.18.4)\n",
      "Requirement already satisfied: marisa-trie in /opt/conda/lib/python3.7/site-packages (from wikipedia2vec) (0.7.5)\n",
      "Requirement already satisfied: scipy in /opt/conda/lib/python3.7/site-packages (from wikipedia2vec) (1.4.1)\n",
      "Requirement already satisfied: jieba in /opt/conda/lib/python3.7/site-packages (from wikipedia2vec) (0.42.1)\n",
      "Requirement already satisfied: mwparserfromhell in /opt/conda/lib/python3.7/site-packages (from wikipedia2vec) (0.5.4)\n",
      "Requirement already satisfied: joblib in /opt/conda/lib/python3.7/site-packages (from wikipedia2vec) (0.15.1)\n",
      "Requirement already satisfied: tqdm in /opt/conda/lib/python3.7/site-packages (from wikipedia2vec) (4.45.0)\n",
      "Requirement already satisfied: six in /opt/conda/lib/python3.7/site-packages (from wikipedia2vec) (1.14.0)\n",
      "\u001b[33mWARNING: You are using pip version 20.1.1; however, version 20.2.3 is available.\n",
      "You should consider upgrading via the '/opt/conda/bin/python3.7 -m pip install --upgrade pip' command.\u001b[0m\n"
     ]
    }
   ],
   "source": [
    "!pip install wikipedia2vec"
   ]
  },
  {
   "cell_type": "code",
   "execution_count": 531,
   "metadata": {},
   "outputs": [
    {
     "name": "stdout",
     "output_type": "stream",
     "text": [
      "Requirement already satisfied: sentence-transformers in /opt/conda/lib/python3.7/site-packages (0.3.6)\n",
      "Requirement already satisfied: tqdm in /opt/conda/lib/python3.7/site-packages (from sentence-transformers) (4.45.0)\n",
      "Requirement already satisfied: nltk in /opt/conda/lib/python3.7/site-packages (from sentence-transformers) (3.5)\n",
      "Requirement already satisfied: transformers<3.2.0,>=3.1.0 in /opt/conda/lib/python3.7/site-packages (from sentence-transformers) (3.1.0)\n",
      "Requirement already satisfied: numpy in /opt/conda/lib/python3.7/site-packages (from sentence-transformers) (1.18.4)\n",
      "Requirement already satisfied: scikit-learn in /opt/conda/lib/python3.7/site-packages (from sentence-transformers) (0.22.2.post1)\n",
      "Requirement already satisfied: torch>=1.2.0 in /opt/conda/lib/python3.7/site-packages (from sentence-transformers) (1.5.1)\n",
      "Requirement already satisfied: scipy in /opt/conda/lib/python3.7/site-packages (from sentence-transformers) (1.4.1)\n",
      "Requirement already satisfied: click in /opt/conda/lib/python3.7/site-packages (from nltk->sentence-transformers) (7.1.2)\n",
      "Requirement already satisfied: regex in /opt/conda/lib/python3.7/site-packages (from nltk->sentence-transformers) (2020.6.8)\n",
      "Requirement already satisfied: joblib in /opt/conda/lib/python3.7/site-packages (from nltk->sentence-transformers) (0.15.1)\n",
      "Requirement already satisfied: sentencepiece!=0.1.92 in /opt/conda/lib/python3.7/site-packages (from transformers<3.2.0,>=3.1.0->sentence-transformers) (0.1.91)\n",
      "Requirement already satisfied: packaging in /opt/conda/lib/python3.7/site-packages (from transformers<3.2.0,>=3.1.0->sentence-transformers) (20.4)\n",
      "Requirement already satisfied: sacremoses in /opt/conda/lib/python3.7/site-packages (from transformers<3.2.0,>=3.1.0->sentence-transformers) (0.0.43)\n",
      "Requirement already satisfied: tokenizers==0.8.1.rc2 in /opt/conda/lib/python3.7/site-packages (from transformers<3.2.0,>=3.1.0->sentence-transformers) (0.8.1rc2)\n",
      "Requirement already satisfied: filelock in /opt/conda/lib/python3.7/site-packages (from transformers<3.2.0,>=3.1.0->sentence-transformers) (3.0.12)\n",
      "Requirement already satisfied: requests in /opt/conda/lib/python3.7/site-packages (from transformers<3.2.0,>=3.1.0->sentence-transformers) (2.23.0)\n",
      "Requirement already satisfied: future in /opt/conda/lib/python3.7/site-packages (from torch>=1.2.0->sentence-transformers) (0.18.2)\n",
      "Requirement already satisfied: pyparsing>=2.0.2 in /opt/conda/lib/python3.7/site-packages (from packaging->transformers<3.2.0,>=3.1.0->sentence-transformers) (2.4.7)\n",
      "Requirement already satisfied: six in /opt/conda/lib/python3.7/site-packages (from packaging->transformers<3.2.0,>=3.1.0->sentence-transformers) (1.14.0)\n",
      "Requirement already satisfied: urllib3!=1.25.0,!=1.25.1,<1.26,>=1.21.1 in /opt/conda/lib/python3.7/site-packages (from requests->transformers<3.2.0,>=3.1.0->sentence-transformers) (1.25.9)\n",
      "Requirement already satisfied: idna<3,>=2.5 in /opt/conda/lib/python3.7/site-packages (from requests->transformers<3.2.0,>=3.1.0->sentence-transformers) (2.9)\n",
      "Requirement already satisfied: certifi>=2017.4.17 in /opt/conda/lib/python3.7/site-packages (from requests->transformers<3.2.0,>=3.1.0->sentence-transformers) (2020.4.5.1)\n",
      "Requirement already satisfied: chardet<4,>=3.0.2 in /opt/conda/lib/python3.7/site-packages (from requests->transformers<3.2.0,>=3.1.0->sentence-transformers) (3.0.4)\n",
      "\u001b[33mWARNING: You are using pip version 20.1.1; however, version 20.2.3 is available.\n",
      "You should consider upgrading via the '/opt/conda/bin/python3.7 -m pip install --upgrade pip' command.\u001b[0m\n"
     ]
    }
   ],
   "source": [
    "!pip install sentence-transformers"
   ]
  },
  {
   "cell_type": "code",
   "execution_count": null,
   "metadata": {},
   "outputs": [],
   "source": []
  },
  {
   "cell_type": "code",
   "execution_count": 256,
   "metadata": {},
   "outputs": [],
   "source": [
    "import pandas as pd\n",
    "import gensim\n",
    "import numpy as np\n",
    "import random\n",
    "import json"
   ]
  },
  {
   "cell_type": "code",
   "execution_count": 17,
   "metadata": {},
   "outputs": [],
   "source": [
    "from src.utils import *"
   ]
  },
  {
   "cell_type": "code",
   "execution_count": 5,
   "metadata": {},
   "outputs": [],
   "source": [
    "from wikipedia2vec import Wikipedia2Vec"
   ]
  },
  {
   "cell_type": "code",
   "execution_count": 6,
   "metadata": {},
   "outputs": [],
   "source": [
    "#load wiki2vec model\n",
    "wiki2vec = Wikipedia2Vec.load('/home/jovyan/work/ISWC_challenge/ISWC_challenge_2020/enwiki_20180420_100d.pkl')\n"
   ]
  },
  {
   "cell_type": "code",
   "execution_count": 7,
   "metadata": {},
   "outputs": [
    {
     "data": {
      "text/plain": [
       "<Entity Charles Plosser>"
      ]
     },
     "execution_count": 7,
     "metadata": {},
     "output_type": "execute_result"
    }
   ],
   "source": [
    "#test the model \n",
    "wiki2vec.get_entity('Charles Plosser')"
   ]
  },
  {
   "cell_type": "code",
   "execution_count": 57,
   "metadata": {},
   "outputs": [],
   "source": [
    "from gensim.test.utils import get_tmpfile\n",
    "from gensim.models import KeyedVectors"
   ]
  },
  {
   "cell_type": "code",
   "execution_count": 132,
   "metadata": {},
   "outputs": [],
   "source": [
    "fname = \"../sg200_dbpedia_500_8_df_vectors.kv\"\n",
    "word_vectors = KeyedVectors.load(fname, mmap='r')"
   ]
  },
  {
   "cell_type": "markdown",
   "metadata": {},
   "source": [
    "# Bert Sentence transformer"
   ]
  },
  {
   "cell_type": "code",
   "execution_count": 552,
   "metadata": {},
   "outputs": [
    {
     "name": "stderr",
     "output_type": "stream",
     "text": [
      "100%|██████████| 1.31G/1.31G [00:27<00:00, 47.1MB/s]\n"
     ]
    }
   ],
   "source": [
    "from sentence_transformers import SentenceTransformer\n",
    "#https://github.com/UKPLab/sentence-transformers/blob/master/docs/pretrained-models/sts-models.md\n",
    "sbert_model = SentenceTransformer('roberta-large-nli-stsb-mean-tokens')"
   ]
  },
  {
   "cell_type": "code",
   "execution_count": 555,
   "metadata": {},
   "outputs": [],
   "source": [
    "sentence_embeddings = sbert_model.encode(dbpedia_res_df.question.values)"
   ]
  },
  {
   "cell_type": "code",
   "execution_count": 710,
   "metadata": {},
   "outputs": [],
   "source": [
    "sentence_embeddings_test = sbert_model.encode(db_valid_res_df.question.values)"
   ]
  },
  {
   "cell_type": "code",
   "execution_count": 556,
   "metadata": {},
   "outputs": [],
   "source": [
    "sbert_model_dict = dict(zip(dbpedia_res_df['id'].values, sentence_embeddings))"
   ]
  },
  {
   "cell_type": "code",
   "execution_count": 715,
   "metadata": {},
   "outputs": [],
   "source": [
    "i=0\n",
    "for _, row in db_valid_res_df.iterrows():\n",
    "    #print (i, row['id'])\n",
    "    sbert_model_dict[row['id']] = sentence_embeddings_test[i]\n",
    "    i+=1"
   ]
  },
  {
   "cell_type": "code",
   "execution_count": 718,
   "metadata": {},
   "outputs": [
    {
     "data": {
      "text/plain": [
       "array([ 0.31640434, -0.22959746,  1.0246403 , ..., -0.17713213,\n",
       "       -1.6717718 ,  0.66568244], dtype=float32)"
      ]
     },
     "execution_count": 718,
     "metadata": {},
     "output_type": "execute_result"
    }
   ],
   "source": [
    "sbert_model_dict['dbpedia_7955']"
   ]
  },
  {
   "cell_type": "code",
   "execution_count": null,
   "metadata": {},
   "outputs": [],
   "source": []
  },
  {
   "cell_type": "code",
   "execution_count": 711,
   "metadata": {},
   "outputs": [
    {
     "data": {
      "text/html": [
       "<div>\n",
       "<style scoped>\n",
       "    .dataframe tbody tr th:only-of-type {\n",
       "        vertical-align: middle;\n",
       "    }\n",
       "\n",
       "    .dataframe tbody tr th {\n",
       "        vertical-align: top;\n",
       "    }\n",
       "\n",
       "    .dataframe thead th {\n",
       "        text-align: right;\n",
       "    }\n",
       "</style>\n",
       "<table border=\"1\" class=\"dataframe\">\n",
       "  <thead>\n",
       "    <tr style=\"text-align: right;\">\n",
       "      <th></th>\n",
       "      <th>id</th>\n",
       "      <th>question</th>\n",
       "      <th>category</th>\n",
       "      <th>type</th>\n",
       "      <th>general_type</th>\n",
       "      <th>tokens</th>\n",
       "    </tr>\n",
       "  </thead>\n",
       "  <tbody>\n",
       "    <tr>\n",
       "      <th>3</th>\n",
       "      <td>dbpedia_7955</td>\n",
       "      <td>What sound does a pig make in the French langu...</td>\n",
       "      <td>resource</td>\n",
       "      <td>dbo:Media</td>\n",
       "      <td>dbo:Media</td>\n",
       "      <td>make|pig|sound|French language</td>\n",
       "    </tr>\n",
       "    <tr>\n",
       "      <th>6</th>\n",
       "      <td>dbpedia_22599</td>\n",
       "      <td>Where did the war take place where one of the ...</td>\n",
       "      <td>resource</td>\n",
       "      <td>dbo:Place</td>\n",
       "      <td>dbo:Place</td>\n",
       "      <td>place|commander|war|take|one</td>\n",
       "    </tr>\n",
       "    <tr>\n",
       "      <th>9</th>\n",
       "      <td>dbpedia_19677</td>\n",
       "      <td>Which mountains are contained in Inyo National...</td>\n",
       "      <td>resource</td>\n",
       "      <td>dbo:Place</td>\n",
       "      <td>dbo:Place</td>\n",
       "      <td>mountains|Forest|contained</td>\n",
       "    </tr>\n",
       "    <tr>\n",
       "      <th>11</th>\n",
       "      <td>dbpedia_11163</td>\n",
       "      <td>What is the seat of Frankfurter Allgemeine Zei...</td>\n",
       "      <td>resource</td>\n",
       "      <td>dbo:Place</td>\n",
       "      <td>dbo:Place</td>\n",
       "      <td>seat|adjacent|Frankfurter Allgemeine Zeitung|,</td>\n",
       "    </tr>\n",
       "    <tr>\n",
       "      <th>16</th>\n",
       "      <td>dbpedia_18792</td>\n",
       "      <td>What did the people buried in Toronto die of?</td>\n",
       "      <td>resource</td>\n",
       "      <td>dbo:Agent</td>\n",
       "      <td>dbo:Agent</td>\n",
       "      <td>people|Toronto|die|buried</td>\n",
       "    </tr>\n",
       "  </tbody>\n",
       "</table>\n",
       "</div>"
      ],
      "text/plain": [
       "               id                                           question  \\\n",
       "3    dbpedia_7955  What sound does a pig make in the French langu...   \n",
       "6   dbpedia_22599  Where did the war take place where one of the ...   \n",
       "9   dbpedia_19677  Which mountains are contained in Inyo National...   \n",
       "11  dbpedia_11163  What is the seat of Frankfurter Allgemeine Zei...   \n",
       "16  dbpedia_18792      What did the people buried in Toronto die of?   \n",
       "\n",
       "    category       type general_type  \\\n",
       "3   resource  dbo:Media    dbo:Media   \n",
       "6   resource  dbo:Place    dbo:Place   \n",
       "9   resource  dbo:Place    dbo:Place   \n",
       "11  resource  dbo:Place    dbo:Place   \n",
       "16  resource  dbo:Agent    dbo:Agent   \n",
       "\n",
       "                                            tokens  \n",
       "3                   make|pig|sound|French language  \n",
       "6                     place|commander|war|take|one  \n",
       "9                       mountains|Forest|contained  \n",
       "11  seat|adjacent|Frankfurter Allgemeine Zeitung|,  \n",
       "16                       people|Toronto|die|buried  "
      ]
     },
     "execution_count": 711,
     "metadata": {},
     "output_type": "execute_result"
    }
   ],
   "source": [
    "db_valid_res_df.head()"
   ]
  },
  {
   "cell_type": "code",
   "execution_count": 559,
   "metadata": {},
   "outputs": [
    {
     "data": {
      "text/plain": [
       "(1024,)"
      ]
     },
     "execution_count": 559,
     "metadata": {},
     "output_type": "execute_result"
    }
   ],
   "source": [
    "sbert_model_dict['dbpedia_15818'].shape"
   ]
  },
  {
   "cell_type": "code",
   "execution_count": 726,
   "metadata": {},
   "outputs": [],
   "source": [
    "text = \"What sound does a pig make in the French language?\"\n",
    "query_vec = sbert_model.encode([text])[0]"
   ]
  },
  {
   "cell_type": "code",
   "execution_count": 727,
   "metadata": {},
   "outputs": [
    {
     "data": {
      "text/plain": [
       "1024"
      ]
     },
     "execution_count": 727,
     "metadata": {},
     "output_type": "execute_result"
    }
   ],
   "source": [
    "len(query_vec)"
   ]
  },
  {
   "cell_type": "code",
   "execution_count": 724,
   "metadata": {},
   "outputs": [],
   "source": [
    "def cosine(u, v):\n",
    "    return np.dot(u, v) / (np.linalg.norm(u) * np.linalg.norm(v))"
   ]
  },
  {
   "cell_type": "code",
   "execution_count": 729,
   "metadata": {},
   "outputs": [
    {
     "name": "stdout",
     "output_type": "stream",
     "text": [
      "1.0000001\n"
     ]
    }
   ],
   "source": [
    "from sklearn.metrics.pairwise import cosine_similarity\n",
    "sim = cosine(query_vec, sbert_model_dict['dbpedia_7955'])\n",
    "print (sim)\n",
    "#cosine_similarity(query_vec.shape(1,-1), sbert_model_dict['dbpedia_15818'])"
   ]
  },
  {
   "cell_type": "markdown",
   "metadata": {},
   "source": [
    "# Generate word2vec embedding using dbpedia taxonomy"
   ]
  },
  {
   "cell_type": "code",
   "execution_count": 8,
   "metadata": {},
   "outputs": [],
   "source": [
    "dbpedia_types = pd.read_csv('datasets/dbpedia_types.tsv', sep='\\t')"
   ]
  },
  {
   "cell_type": "code",
   "execution_count": 9,
   "metadata": {},
   "outputs": [
    {
     "data": {
      "text/html": [
       "<div>\n",
       "<style scoped>\n",
       "    .dataframe tbody tr th:only-of-type {\n",
       "        vertical-align: middle;\n",
       "    }\n",
       "\n",
       "    .dataframe tbody tr th {\n",
       "        vertical-align: top;\n",
       "    }\n",
       "\n",
       "    .dataframe thead th {\n",
       "        text-align: right;\n",
       "    }\n",
       "</style>\n",
       "<table border=\"1\" class=\"dataframe\">\n",
       "  <thead>\n",
       "    <tr style=\"text-align: right;\">\n",
       "      <th></th>\n",
       "      <th>Type</th>\n",
       "      <th>Depth</th>\n",
       "      <th>Parent</th>\n",
       "    </tr>\n",
       "  </thead>\n",
       "  <tbody>\n",
       "    <tr>\n",
       "      <th>0</th>\n",
       "      <td>dbo:BasketballLeague</td>\n",
       "      <td>4</td>\n",
       "      <td>dbo:SportsLeague</td>\n",
       "    </tr>\n",
       "    <tr>\n",
       "      <th>1</th>\n",
       "      <td>dbo:NaturalEvent</td>\n",
       "      <td>2</td>\n",
       "      <td>dbo:Event</td>\n",
       "    </tr>\n",
       "    <tr>\n",
       "      <th>2</th>\n",
       "      <td>dbo:Province</td>\n",
       "      <td>6</td>\n",
       "      <td>dbo:GovernmentalAdministrativeRegion</td>\n",
       "    </tr>\n",
       "    <tr>\n",
       "      <th>3</th>\n",
       "      <td>dbo:LunarCrater</td>\n",
       "      <td>4</td>\n",
       "      <td>dbo:Crater</td>\n",
       "    </tr>\n",
       "    <tr>\n",
       "      <th>4</th>\n",
       "      <td>dbo:MotorsportSeason</td>\n",
       "      <td>2</td>\n",
       "      <td>dbo:SportsSeason</td>\n",
       "    </tr>\n",
       "  </tbody>\n",
       "</table>\n",
       "</div>"
      ],
      "text/plain": [
       "                   Type  Depth                                Parent\n",
       "0  dbo:BasketballLeague      4                      dbo:SportsLeague\n",
       "1      dbo:NaturalEvent      2                             dbo:Event\n",
       "2          dbo:Province      6  dbo:GovernmentalAdministrativeRegion\n",
       "3       dbo:LunarCrater      4                            dbo:Crater\n",
       "4  dbo:MotorsportSeason      2                      dbo:SportsSeason"
      ]
     },
     "execution_count": 9,
     "metadata": {},
     "output_type": "execute_result"
    }
   ],
   "source": [
    "dbpedia_types.head()"
   ]
  },
  {
   "cell_type": "code",
   "execution_count": 10,
   "metadata": {},
   "outputs": [],
   "source": [
    "type_hierarchy = {}\n",
    "to_upper_class = {}\n",
    "for i, row in dbpedia_types.iterrows():\n",
    "    if row['Parent'] not in type_hierarchy:\n",
    "        type_hierarchy[row['Parent']] = [row['Type']]\n",
    "    else:\n",
    "        type_hierarchy[row['Parent']].append(row['Type'])\n",
    "        \n",
    "    if row['Type'] not in to_upper_class:\n",
    "        to_upper_class[row['Type']] = row['Parent']"
   ]
  },
  {
   "cell_type": "code",
   "execution_count": 224,
   "metadata": {},
   "outputs": [],
   "source": [
    "# import DBPedia class hierarchy\n",
    "def import_db_hry(concepts_df):\n",
    "    grouped= concepts_df.groupby('Parent')\n",
    "    sequence = []\n",
    "    for name, group in grouped:\n",
    "        path = group['Type'].tolist()\n",
    "        #print (name, path)\n",
    "        sequence.append(path + [name])\n",
    "        sequence.append(path)\n",
    "    return sequence"
   ]
  },
  {
   "cell_type": "code",
   "execution_count": 225,
   "metadata": {},
   "outputs": [],
   "source": [
    "sequence = import_db_hry(dbpedia_types)"
   ]
  },
  {
   "cell_type": "code",
   "execution_count": 227,
   "metadata": {},
   "outputs": [],
   "source": [
    "type_list = dbpedia_df[dbpedia_df.category == 'resource'].type.values"
   ]
  },
  {
   "cell_type": "code",
   "execution_count": 228,
   "metadata": {},
   "outputs": [],
   "source": [
    "for s in type_list.tolist():\n",
    "    sequence.append(s)"
   ]
  },
  {
   "cell_type": "code",
   "execution_count": 229,
   "metadata": {},
   "outputs": [],
   "source": [
    "# train Word2Vec model for DBPedia class hierarchy\n",
    "model= gensim.models.Word2Vec(size=100,min_count=0, window=5, sg=1, iter=5,cbow_mean=1)\n",
    "model.build_vocab(sequence)"
   ]
  },
  {
   "cell_type": "code",
   "execution_count": 230,
   "metadata": {},
   "outputs": [
    {
     "data": {
      "text/plain": [
       "(56433, 147445)"
      ]
     },
     "execution_count": 230,
     "metadata": {},
     "output_type": "execute_result"
    }
   ],
   "source": [
    "model.train(sequence, total_examples=model.corpus_count, epochs=5)"
   ]
  },
  {
   "cell_type": "code",
   "execution_count": 231,
   "metadata": {},
   "outputs": [
    {
     "data": {
      "text/plain": [
       "[('dbo:State', 0.9955023527145386),\n",
       " ('dbo:Place', 0.9952625036239624),\n",
       " ('dbo:Country', 0.9935683012008667),\n",
       " ('dbo:City', 0.9892219305038452),\n",
       " ('dbo:PopulatedPlace', 0.9856275916099548)]"
      ]
     },
     "execution_count": 231,
     "metadata": {},
     "output_type": "execute_result"
    }
   ],
   "source": [
    "model.wv.most_similar('dbo:Location',topn=5)"
   ]
  },
  {
   "cell_type": "markdown",
   "metadata": {},
   "source": [
    "# Pre-processing on dataframe"
   ]
  },
  {
   "cell_type": "code",
   "execution_count": 11,
   "metadata": {},
   "outputs": [],
   "source": [
    "dbpedia_df = pd.read_json('datasets/DBpedia/smarttask_dbpedia_train.json')"
   ]
  },
  {
   "cell_type": "code",
   "execution_count": 12,
   "metadata": {},
   "outputs": [
    {
     "data": {
      "text/html": [
       "<div>\n",
       "<style scoped>\n",
       "    .dataframe tbody tr th:only-of-type {\n",
       "        vertical-align: middle;\n",
       "    }\n",
       "\n",
       "    .dataframe tbody tr th {\n",
       "        vertical-align: top;\n",
       "    }\n",
       "\n",
       "    .dataframe thead th {\n",
       "        text-align: right;\n",
       "    }\n",
       "</style>\n",
       "<table border=\"1\" class=\"dataframe\">\n",
       "  <thead>\n",
       "    <tr style=\"text-align: right;\">\n",
       "      <th></th>\n",
       "      <th>id</th>\n",
       "      <th>question</th>\n",
       "      <th>category</th>\n",
       "      <th>type</th>\n",
       "    </tr>\n",
       "  </thead>\n",
       "  <tbody>\n",
       "    <tr>\n",
       "      <th>0</th>\n",
       "      <td>dbpedia_1177</td>\n",
       "      <td>Was Jacqueline Kennedy Onassis a follower of M...</td>\n",
       "      <td>boolean</td>\n",
       "      <td>[boolean]</td>\n",
       "    </tr>\n",
       "    <tr>\n",
       "      <th>1</th>\n",
       "      <td>dbpedia_14427</td>\n",
       "      <td>What is the name of the opera based on Twelfth...</td>\n",
       "      <td>resource</td>\n",
       "      <td>[dbo:Opera, dbo:MusicalWork, dbo:Work]</td>\n",
       "    </tr>\n",
       "    <tr>\n",
       "      <th>2</th>\n",
       "      <td>dbpedia_16615</td>\n",
       "      <td>When did Lena Horne receive the Grammy Award f...</td>\n",
       "      <td>literal</td>\n",
       "      <td>[date]</td>\n",
       "    </tr>\n",
       "    <tr>\n",
       "      <th>3</th>\n",
       "      <td>dbpedia_23480</td>\n",
       "      <td>Do Prince Harry and Prince William have the sa...</td>\n",
       "      <td>boolean</td>\n",
       "      <td>[boolean]</td>\n",
       "    </tr>\n",
       "    <tr>\n",
       "      <th>4</th>\n",
       "      <td>dbpedia_3681</td>\n",
       "      <td>What is the subsidiary company working for Leo...</td>\n",
       "      <td>resource</td>\n",
       "      <td>[dbo:EducationalInstitution, dbo:Organisation,...</td>\n",
       "    </tr>\n",
       "  </tbody>\n",
       "</table>\n",
       "</div>"
      ],
      "text/plain": [
       "              id                                           question  category  \\\n",
       "0   dbpedia_1177  Was Jacqueline Kennedy Onassis a follower of M...   boolean   \n",
       "1  dbpedia_14427  What is the name of the opera based on Twelfth...  resource   \n",
       "2  dbpedia_16615  When did Lena Horne receive the Grammy Award f...   literal   \n",
       "3  dbpedia_23480  Do Prince Harry and Prince William have the sa...   boolean   \n",
       "4   dbpedia_3681  What is the subsidiary company working for Leo...  resource   \n",
       "\n",
       "                                                type  \n",
       "0                                          [boolean]  \n",
       "1             [dbo:Opera, dbo:MusicalWork, dbo:Work]  \n",
       "2                                             [date]  \n",
       "3                                          [boolean]  \n",
       "4  [dbo:EducationalInstitution, dbo:Organisation,...  "
      ]
     },
     "execution_count": 12,
     "metadata": {},
     "output_type": "execute_result"
    }
   ],
   "source": [
    "dbpedia_df.head()"
   ]
  },
  {
   "cell_type": "code",
   "execution_count": 382,
   "metadata": {},
   "outputs": [],
   "source": [
    "answer_types = {}\n",
    "for answers in dbpedia_df.type:\n",
    "    for a in answers:\n",
    "        if a in answer_types:\n",
    "            answer_types[a]+=1\n",
    "        else:\n",
    "            answer_types[a]=1\n",
    "\n",
    "def multitype_to_freqtype(type_list):\n",
    "    for t in sorted_types:\n",
    "        if t in type_list:\n",
    "            return t\n",
    "\n",
    "def types_to_spec_type(type_list):\n",
    "    if len(type_list) == 0:\n",
    "      return None \n",
    "    return type_list[0]\n",
    "            \n",
    "answ_df =pd.DataFrame.from_dict(answer_types, orient='index', columns=['Freq'])\n",
    "sorted_types = answ_df.sort_values(by='Freq', ascending=False).index\n",
    "dbpedia_df['general_type'] =dbpedia_df.type.apply(multitype_to_freqtype)\n",
    "dbpedia_df['specific_type'] =dbpedia_df.type.apply(types_to_spec_type)"
   ]
  },
  {
   "cell_type": "code",
   "execution_count": 383,
   "metadata": {},
   "outputs": [],
   "source": [
    "# frequencies of types as dictionary\n",
    "answ_type_freq = answ_df.to_dict()['Freq']"
   ]
  },
  {
   "cell_type": "code",
   "execution_count": 384,
   "metadata": {},
   "outputs": [],
   "source": [
    "# cleaning DBpedia dataset\n",
    "dbpedia_df= dbpedia_df[dbpedia_df.category.notna()]\n",
    "dbpedia_df= dbpedia_df[dbpedia_df['general_type'].notna()]\n",
    "dbpedia_df.dropna( subset=['question'], inplace=True)"
   ]
  },
  {
   "cell_type": "code",
   "execution_count": 385,
   "metadata": {},
   "outputs": [
    {
     "name": "stderr",
     "output_type": "stream",
     "text": [
      "[nltk_data] Downloading package stopwords to /home/jovyan/nltk_data...\n",
      "[nltk_data]   Package stopwords is already up-to-date!\n",
      "[nltk_data] Downloading package punkt to /home/jovyan/nltk_data...\n",
      "[nltk_data]   Package punkt is already up-to-date!\n"
     ]
    },
    {
     "data": {
      "text/plain": [
       "<module 'src.utils' from '/home/jovyan/work/ISWC_challenge/ISWC_challenge_2020/smart-dataset/src/utils.py'>"
      ]
     },
     "execution_count": 385,
     "metadata": {},
     "output_type": "execute_result"
    }
   ],
   "source": [
    "import importlib\n",
    "#import the module here, so that it can be reloaded.\n",
    "import src.utils as utils\n",
    "importlib.reload(utils)"
   ]
  },
  {
   "cell_type": "code",
   "execution_count": 386,
   "metadata": {},
   "outputs": [],
   "source": [
    "#tokinize using wiki2vec (words or entities)\n",
    "dbpedia_df['tokens'] = dbpedia_df.question.apply(lambda text: utils.tokenized_sentence(wiki2vec,text))"
   ]
  },
  {
   "cell_type": "code",
   "execution_count": 387,
   "metadata": {},
   "outputs": [
    {
     "data": {
      "text/html": [
       "<div>\n",
       "<style scoped>\n",
       "    .dataframe tbody tr th:only-of-type {\n",
       "        vertical-align: middle;\n",
       "    }\n",
       "\n",
       "    .dataframe tbody tr th {\n",
       "        vertical-align: top;\n",
       "    }\n",
       "\n",
       "    .dataframe thead th {\n",
       "        text-align: right;\n",
       "    }\n",
       "</style>\n",
       "<table border=\"1\" class=\"dataframe\">\n",
       "  <thead>\n",
       "    <tr style=\"text-align: right;\">\n",
       "      <th></th>\n",
       "      <th>id</th>\n",
       "      <th>question</th>\n",
       "      <th>category</th>\n",
       "      <th>type</th>\n",
       "      <th>general_type</th>\n",
       "      <th>specific_type</th>\n",
       "      <th>tokens</th>\n",
       "    </tr>\n",
       "  </thead>\n",
       "  <tbody>\n",
       "    <tr>\n",
       "      <th>0</th>\n",
       "      <td>dbpedia_1177</td>\n",
       "      <td>Was Jacqueline Kennedy Onassis a follower of M...</td>\n",
       "      <td>boolean</td>\n",
       "      <td>[boolean]</td>\n",
       "      <td>boolean</td>\n",
       "      <td>boolean</td>\n",
       "      <td>Melkite Greek Catholic|follower</td>\n",
       "    </tr>\n",
       "    <tr>\n",
       "      <th>1</th>\n",
       "      <td>dbpedia_14427</td>\n",
       "      <td>What is the name of the opera based on Twelfth...</td>\n",
       "      <td>resource</td>\n",
       "      <td>[dbo:Opera, dbo:MusicalWork, dbo:Work]</td>\n",
       "      <td>dbo:Work</td>\n",
       "      <td>dbo:Opera</td>\n",
       "      <td>based|Twelfth Night|opera|name</td>\n",
       "    </tr>\n",
       "    <tr>\n",
       "      <th>2</th>\n",
       "      <td>dbpedia_16615</td>\n",
       "      <td>When did Lena Horne receive the Grammy Award f...</td>\n",
       "      <td>literal</td>\n",
       "      <td>[date]</td>\n",
       "      <td>date</td>\n",
       "      <td>date</td>\n",
       "      <td>Vocal|Grammy Award|receive|Jazz|Lena Horne</td>\n",
       "    </tr>\n",
       "    <tr>\n",
       "      <th>3</th>\n",
       "      <td>dbpedia_23480</td>\n",
       "      <td>Do Prince Harry and Prince William have the sa...</td>\n",
       "      <td>boolean</td>\n",
       "      <td>[boolean]</td>\n",
       "      <td>boolean</td>\n",
       "      <td>boolean</td>\n",
       "      <td>Prince William|Prince Harry</td>\n",
       "    </tr>\n",
       "    <tr>\n",
       "      <th>4</th>\n",
       "      <td>dbpedia_3681</td>\n",
       "      <td>What is the subsidiary company working for Leo...</td>\n",
       "      <td>resource</td>\n",
       "      <td>[dbo:EducationalInstitution, dbo:Organisation,...</td>\n",
       "      <td>dbo:Agent</td>\n",
       "      <td>dbo:EducationalInstitution</td>\n",
       "      <td>company|Leonard Maltin|subsidiary|working</td>\n",
       "    </tr>\n",
       "  </tbody>\n",
       "</table>\n",
       "</div>"
      ],
      "text/plain": [
       "              id                                           question  category  \\\n",
       "0   dbpedia_1177  Was Jacqueline Kennedy Onassis a follower of M...   boolean   \n",
       "1  dbpedia_14427  What is the name of the opera based on Twelfth...  resource   \n",
       "2  dbpedia_16615  When did Lena Horne receive the Grammy Award f...   literal   \n",
       "3  dbpedia_23480  Do Prince Harry and Prince William have the sa...   boolean   \n",
       "4   dbpedia_3681  What is the subsidiary company working for Leo...  resource   \n",
       "\n",
       "                                                type general_type  \\\n",
       "0                                          [boolean]      boolean   \n",
       "1             [dbo:Opera, dbo:MusicalWork, dbo:Work]     dbo:Work   \n",
       "2                                             [date]         date   \n",
       "3                                          [boolean]      boolean   \n",
       "4  [dbo:EducationalInstitution, dbo:Organisation,...    dbo:Agent   \n",
       "\n",
       "                specific_type                                      tokens  \n",
       "0                     boolean             Melkite Greek Catholic|follower  \n",
       "1                   dbo:Opera              based|Twelfth Night|opera|name  \n",
       "2                        date  Vocal|Grammy Award|receive|Jazz|Lena Horne  \n",
       "3                     boolean                 Prince William|Prince Harry  \n",
       "4  dbo:EducationalInstitution   company|Leonard Maltin|subsidiary|working  "
      ]
     },
     "execution_count": 387,
     "metadata": {},
     "output_type": "execute_result"
    }
   ],
   "source": [
    "dbpedia_df.head()"
   ]
  },
  {
   "cell_type": "code",
   "execution_count": 388,
   "metadata": {},
   "outputs": [],
   "source": [
    "# only choose sample with 'resource' category\n",
    "dbpedia_res_df = dbpedia_df[dbpedia_df.category == 'resource']"
   ]
  },
  {
   "cell_type": "code",
   "execution_count": 423,
   "metadata": {},
   "outputs": [
    {
     "data": {
      "text/plain": [
       "dbo:Person            2137\n",
       "dbo:Country            716\n",
       "dbo:City               671\n",
       "dbo:Company            378\n",
       "dbo:Award              338\n",
       "                      ... \n",
       "dbo:PersonFunction       1\n",
       "dbo:TopicalConcept       1\n",
       "dbo:Holiday              1\n",
       "dbo:Biomolecule          1\n",
       "dbo:Flag                 1\n",
       "Name: specific_type, Length: 133, dtype: int64"
      ]
     },
     "execution_count": 423,
     "metadata": {},
     "output_type": "execute_result"
    }
   ],
   "source": [
    "dbpedia_res_df['specific_type'].value_counts()"
   ]
  },
  {
   "cell_type": "code",
   "execution_count": 433,
   "metadata": {},
   "outputs": [],
   "source": [
    "def to_super_class(specific_type, type_with_less_freq):\n",
    "    if specific_type in type_with_less_freq:\n",
    "        if specific_type in to_upper_class:\n",
    "            #if to_upper_class[specific_type] == 'owl:Thing':\n",
    "            #   return specific_type\n",
    "            return to_upper_class[specific_type]\n",
    "    return specific_type\n",
    "\n",
    "def choose_freqent_types_balancing(specific_type, iters, min_freq):\n",
    "    for i in range(iters):\n",
    "        specific_type_freq = specific_type.value_counts()\n",
    "        type_with_less_freq = list(specific_type_freq[specific_type_freq < min_freq].keys())\n",
    "        specific_type = specific_type.apply(lambda x: to_super_class(x, type_with_less_freq) )\n",
    "    return specific_type"
   ]
  },
  {
   "cell_type": "code",
   "execution_count": 434,
   "metadata": {},
   "outputs": [
    {
     "data": {
      "text/plain": [
       "dbo:ChemicalSubstance    7\n",
       "dbo:TimePeriod           6\n",
       "dbo:Agent                4\n",
       "dbo:Device               3\n",
       "dbo:PublicService        1\n",
       "dbo:PersonFunction       1\n",
       "dbo:TopicalConcept       1\n",
       "dbo:Holiday              1\n",
       "dbo:Biomolecule          1\n",
       "dbo:Flag                 1\n",
       "Name: specific_type, dtype: int64"
      ]
     },
     "execution_count": 434,
     "metadata": {},
     "output_type": "execute_result"
    }
   ],
   "source": [
    "x.value_counts()[-10:]"
   ]
  },
  {
   "cell_type": "code",
   "execution_count": 435,
   "metadata": {},
   "outputs": [
    {
     "data": {
      "text/plain": [
       "dbo:RailwayStation    11\n",
       "dbo:Currency          11\n",
       "dbo:Food              11\n",
       "dbo:Language          11\n",
       "dbo:MountainRange     11\n",
       "dbo:Astronaut         11\n",
       "dbo:Library           10\n",
       "dbo:NobleFamily       10\n",
       "dbo:Region            10\n",
       "dbo:NationalAnthem    10\n",
       "Name: specific_type, dtype: int64"
      ]
     },
     "execution_count": 435,
     "metadata": {},
     "output_type": "execute_result"
    }
   ],
   "source": [
    "x =choose_freqent_types_balancing(dbpedia_res_df['specific_type'], 6, 10)\n",
    "x.value_counts()[-10:]"
   ]
  },
  {
   "cell_type": "code",
   "execution_count": 436,
   "metadata": {},
   "outputs": [],
   "source": [
    "dbpedia_res_df['specific_type'] =choose_freqent_types_balancing(dbpedia_res_df['specific_type'], 6, 10)"
   ]
  },
  {
   "cell_type": "code",
   "execution_count": 437,
   "metadata": {},
   "outputs": [],
   "source": [
    "answ_type_freq = x.value_counts().to_dict()"
   ]
  },
  {
   "cell_type": "code",
   "execution_count": 438,
   "metadata": {},
   "outputs": [
    {
     "data": {
      "text/plain": [
       "123"
      ]
     },
     "execution_count": 438,
     "metadata": {},
     "output_type": "execute_result"
    }
   ],
   "source": [
    "len(answ_type_freq)"
   ]
  },
  {
   "cell_type": "code",
   "execution_count": 439,
   "metadata": {},
   "outputs": [],
   "source": [
    "\n",
    "def get_candidates(gen_type, types):\n",
    "    if gen_type in type_gen2sep:\n",
    "        cand_types = type_gen2sep[gen_type]\n",
    "        cand_types =  list(set(cand_types).difference(types))\n",
    "        return cand_types\n",
    "    return []\n",
    "\n",
    "\n",
    "def roulette_select(population, fitnesses, num):\n",
    "    \"\"\" Roulette selection, implemented according to:\n",
    "        <http://stackoverflow.com/questions/177271/roulette\n",
    "        -selection-in-genetic-algorithms/177278#177278>\n",
    "    \"\"\"\n",
    "    total_fitness = float(sum(fitnesses))\n",
    "    rel_fitness = [f/total_fitness for f in fitnesses]\n",
    "    # Generate probability intervals for each individual\n",
    "    probs = [sum(rel_fitness[:i+1]) for i in range(len(rel_fitness))]\n",
    "    # Draw new population\n",
    "    new_population = []\n",
    "    n=0\n",
    "    while n <= num:\n",
    "        r = random.random()\n",
    "        for (i, individual) in enumerate(population):\n",
    "            if r <= probs[i]:\n",
    "                if individual not in new_population:\n",
    "                    new_population.append(individual)\n",
    "                    n+=1    \n",
    "                break\n",
    "    return new_population\n",
    "\n",
    "def negative_sample(row, num=5):\n",
    "    #print (row['question'], row['general_type'], row['type'])\n",
    "    types = row['type']\n",
    "    gen_type = row['general_type'] \n",
    "    cand_types= get_candidates(gen_type, types)\n",
    "    #print (cand_types)\n",
    "    freqs = [ answ_type_freq[c]  for c in set(cand_types)]\n",
    "    #print (freqs)\n",
    "    if len (cand_types) > 0:\n",
    "        if  len (cand_types) > 10:\n",
    "            return roulette_select(cand_types, freqs, num)\n",
    "        else:\n",
    "            return random.choices(cand_types, weights=freqs, k=num)\n",
    "    else:\n",
    "        return random.choices(['owl:Thing'], k=num) \n",
    "    #print ('cand_types', cand_types)\n",
    "    return random.choices(['owl:Thing'], k=num) "
   ]
  },
  {
   "cell_type": "code",
   "execution_count": 440,
   "metadata": {},
   "outputs": [],
   "source": [
    "# mapping from general type to a list of specific type \n",
    "type_gen2sep= dbpedia_res_df.groupby(by='general_type')['specific_type'].apply(list)\n"
   ]
  },
  {
   "cell_type": "code",
   "execution_count": 441,
   "metadata": {},
   "outputs": [
    {
     "data": {
      "text/plain": [
       "('dbo:Agent',\n",
       " ['dbo:Person',\n",
       "  'dbo:Non-ProfitOrganisation',\n",
       "  'dbo:Company',\n",
       "  'dbo:Band',\n",
       "  'dbo:BaseballTeam',\n",
       "  'dbo:RecordLabel'])"
      ]
     },
     "execution_count": 441,
     "metadata": {},
     "output_type": "execute_result"
    }
   ],
   "source": [
    "row= dbpedia_res_df.iloc[10]\n",
    "row['general_type'], negative_sample(row)"
   ]
  },
  {
   "cell_type": "code",
   "execution_count": 442,
   "metadata": {},
   "outputs": [],
   "source": [
    "dbpedia_res_df['neg_spec_types']= dbpedia_res_df.apply(negative_sample,axis=1)"
   ]
  },
  {
   "cell_type": "code",
   "execution_count": 622,
   "metadata": {},
   "outputs": [],
   "source": [
    " typearray = np.asanyarray( dbpedia_res_df.neg_spec_types.values)"
   ]
  },
  {
   "cell_type": "code",
   "execution_count": 625,
   "metadata": {},
   "outputs": [],
   "source": [
    "freq_neg = dict()\n",
    "for i, ts in dbpedia_res_df['neg_spec_types'].iteritems(): \n",
    "    for t in ts:\n",
    "        if t in freq_neg:\n",
    "            freq_neg[t] +=1\n",
    "        else:\n",
    "            freq_neg[t]=1\n",
    "        "
   ]
  },
  {
   "cell_type": "code",
   "execution_count": null,
   "metadata": {},
   "outputs": [],
   "source": []
  },
  {
   "cell_type": "code",
   "execution_count": 630,
   "metadata": {},
   "outputs": [
    {
     "data": {
      "text/plain": [
       "<matplotlib.axes._subplots.AxesSubplot at 0x7f6c96ade990>"
      ]
     },
     "execution_count": 630,
     "metadata": {},
     "output_type": "execute_result"
    },
    {
     "data": {
      "image/png": "[encoded data removed]",
      "text/plain": [
       "<Figure size 432x288 with 1 Axes>"
      ]
     },
     "metadata": {
      "needs_background": "light"
     },
     "output_type": "display_data"
    }
   ],
   "source": [
    "dbpedia_res_df['specific_type'].value_counts()[:20].plot(kind='bar')"
   ]
  },
  {
   "cell_type": "code",
   "execution_count": 642,
   "metadata": {},
   "outputs": [
    {
     "data": {
      "text/plain": [
       "<matplotlib.axes._subplots.AxesSubplot at 0x7f6c91c404d0>"
      ]
     },
     "execution_count": 642,
     "metadata": {},
     "output_type": "execute_result"
    },
    {
     "data": {
      "image/png": "[encoded data removed]",
      "text/plain": [
       "<Figure size 432x288 with 1 Axes>"
      ]
     },
     "metadata": {
      "needs_background": "light"
     },
     "output_type": "display_data"
    }
   ],
   "source": [
    "\n",
    "frq_df = pd.DataFrame.from_dict(freq_neg, orient='index', columns=['Freq'])\n",
    "frq_df.head()\n",
    "frq_df.sort_values(by='Freq')[-20:].plot(kind='bar')"
   ]
  },
  {
   "cell_type": "code",
   "execution_count": 444,
   "metadata": {},
   "outputs": [
    {
     "name": "stdout",
     "output_type": "stream",
     "text": [
      "(7646, 8) (1911, 8)\n"
     ]
    }
   ],
   "source": [
    "VALIDATION_SPLIT = 0.2\n",
    "indicies = np.arange(dbpedia_res_df.shape[0])\n",
    "np.random.shuffle(indicies)\n",
    "num_valid_samples = int(VALIDATION_SPLIT * dbpedia_res_df.shape[0])\n",
    "num_valid_samples\n",
    "\n",
    "dbpedia_res_df=dbpedia_res_df.iloc[indicies]\n",
    "train_df= dbpedia_res_df[:-num_valid_samples]\n",
    "\n",
    "valid_df= dbpedia_res_df[-num_valid_samples:]\n",
    "print (train_df.shape, valid_df.shape)"
   ]
  },
  {
   "cell_type": "code",
   "execution_count": 445,
   "metadata": {},
   "outputs": [],
   "source": [
    "# take elemet-wise avegare of embedding \n",
    "def avg_embedding(tokens, emb_size=100): \n",
    "    embedding_matrix = np.zeros(emb_size)\n",
    "    for i, word in enumerate(tokens):\n",
    "        if wiki2vec.get_word(word):\n",
    "            embedding_vector = wiki2vec.get_word_vector(word)\n",
    "            embedding_matrix += embedding_vector\n",
    "        if wiki2vec.get_entity(word):\n",
    "            embedding_vector = wiki2vec.get_entity_vector(word)\n",
    "            embedding_matrix += embedding_vector\n",
    "    #print (i+1)\n",
    "    return embedding_matrix/float(i+1)\n",
    "\n",
    "# dbpedia embedding \n",
    "\n",
    "def avg_embedding_db(entities, emb_size=100): \n",
    "    embedding_matrix = np.zeros(emb_size)\n",
    "    i=0\n",
    "    for i, ent in enumerate(entities):\n",
    "        #print (ent)\n",
    "        if ent in word_vectors.vocab:\n",
    "            embedding_vector = word_vectors[ent]\n",
    "            embedding_matrix += embedding_vector\n",
    "    #print (i+1)\n",
    "    return embedding_matrix/float(i+1)\n",
    "\n",
    "def avg_neg_embedding_old(tokens, emb_size=100): \n",
    "    embedding_matrix = np.zeros(emb_size)\n",
    "    for i, word in enumerate(tokens):\n",
    "        if wiki2vec.get_word(word):\n",
    "            i = random.randint(1,4)\n",
    "            r=wiki2vec.most_similar(wiki2vec.get_word(word),5)\n",
    "            embedding_vector = wiki2vec.get_vector(r[i][0])\n",
    "            embedding_matrix += embedding_vector\n",
    "        if wiki2vec.get_entity(word):\n",
    "            i = random.randint(1,4)\n",
    "            r=wiki2vec.most_similar(wiki2vec.get_entity(word),5)\n",
    "            embedding_vector = wiki2vec.get_vector(r[i][0])\n",
    "            embedding_matrix += embedding_vector\n",
    "    #print (i+1)\n",
    "    return embedding_matrix/float(i+1)\n",
    "\n",
    "def avg_neg_embedding(tokens, emb_size=100): \n",
    "    vec =avg_embedding(random.choices(tokens, k=1), emb_size=100)\n",
    "    return vec\n",
    "\n",
    "def embedding_(entity):\n",
    "    #print ('entity',entity)\n",
    "    #entity= entity.replace('dbo:','http://dbpedia.org/ontology/') \n",
    "    #entity = entity.replace('owl:','http://www.w3.org/2002/07/owl#')\n",
    "    return word_vectors[map_to_db_entity(t)]\n",
    "\n",
    "def embedding(entity):\n",
    "  #print ('entity',entity)\n",
    "    return model.wv[entity]"
   ]
  },
  {
   "cell_type": "code",
   "execution_count": 588,
   "metadata": {},
   "outputs": [],
   "source": [
    "# combine embeddings for tokens of question, general and spcific answer type \n",
    "def getCombinedEmbedding(db_id, gen_type, specific_type, tokens):\n",
    "    #average embedding of specific and generic types\n",
    "    avg_emb = np.add(embedding(gen_type), embedding(specific_type))  / 2.0\n",
    "    #avg_emb = embedding(specific_type)\n",
    "    # average embedding of questions's token\n",
    "    text_vec = avg_embedding(tokens.split('|'), emb_size=100)\n",
    "    ques_vec = sbert_model_dict[db_id]\n",
    "    #ent_vec = avg_embedding_db(id2uris[db_id], emb_size=200)\n",
    "    return np.concatenate([avg_emb.reshape(1,-1),text_vec, ques_vec], axis=None)\n",
    "\n",
    "# for multiple types\n",
    "def getCombinedEmbeddings(gen_type, specific_type, tokens):\n",
    "    #sub_emb = np.add(embedding(gen_type), embedding(specific_type))  / 2.0\n",
    "    sub_emb = np.zeros(100)\n",
    "    if type(specific_type) == list:\n",
    "        for s  in specific_type:\n",
    "            sub_emb = np.add(sub_emb, embedding(s))\n",
    "        if len(specific_type) == 0:\n",
    "            print ('zero',specific_type)\n",
    "        sub_emb  = sub_emb/float(len(specific_type))\n",
    "    else:\n",
    "        #print (specific_type)\n",
    "        sub_emb =  embedding(specific_type)\n",
    "    text_vec= avg_embedding(question, emb_size=100)\n",
    "    return np.concatenate([sub_emb.reshape(1,-1),text_vec], axis=None)"
   ]
  },
  {
   "cell_type": "code",
   "execution_count": 573,
   "metadata": {},
   "outputs": [],
   "source": [
    "def createCombinedEmbedding(row):\n",
    "    return getCombinedEmbedding(row['id'], row['general_type'],row['specific_type'], row['tokens'])\n",
    "\n",
    "def createNegCombinedEmbedding(row, i):\n",
    "    #print (row['general_type'], row['neg_spec_types'])\n",
    "    return getCombinedEmbedding(row['id'], row['general_type'],row['neg_spec_types'][i], row['tokens'] )"
   ]
  },
  {
   "cell_type": "code",
   "execution_count": 562,
   "metadata": {},
   "outputs": [
    {
     "name": "stdout",
     "output_type": "stream",
     "text": [
      "id                                                    dbpedia_15818\n",
      "question          Who is the governor of the basin countries by ...\n",
      "category                                                   resource\n",
      "type                                        [dbo:Person, dbo:Agent]\n",
      "general_type                                              dbo:Agent\n",
      "specific_type                                            dbo:Person\n",
      "tokens                          countries|Lake Tahoe|governor|basin\n",
      "neg_spec_types    [dbo:University, dbo:Band, dbo:PoliticalParty,...\n",
      "Name: 14671, dtype: object\n"
     ]
    }
   ],
   "source": [
    "row = train_df.iloc[0]\n",
    "print (row)\n",
    "concat_vec = createCombinedEmbedding(row)"
   ]
  },
  {
   "cell_type": "code",
   "execution_count": 564,
   "metadata": {},
   "outputs": [
    {
     "data": {
      "text/plain": [
       "(1224,)"
      ]
     },
     "execution_count": 564,
     "metadata": {},
     "output_type": "execute_result"
    }
   ],
   "source": [
    "concat_vec.shape"
   ]
  },
  {
   "cell_type": "code",
   "execution_count": 565,
   "metadata": {},
   "outputs": [],
   "source": [
    "def createFeatureMatrix(train_df, valid_df):\n",
    "    train_feat= train_df.apply(createCombinedEmbedding, axis=1)\n",
    "    train_neg_mat = np.empty(shape=(0, 1224))\n",
    "    \n",
    "    for i in range(5):   \n",
    "        train_feat_neg = train_df.apply(lambda row: createNegCombinedEmbedding(row, i), axis=1)\n",
    "        train_neg_mat = np.vstack([train_neg_mat, np.stack( train_feat_neg.values)])\n",
    "    \n",
    "    train_mat = np.vstack([np.stack( train_feat.values), train_neg_mat ])\n",
    "    num_pos= int(train_mat.shape[0]/6)\n",
    "    y= np.zeros(shape=(train_mat.shape[0],1))\n",
    "    y[:num_pos] = 1\n",
    "    \n",
    "    valid_feat= valid_df.apply(createCombinedEmbedding, axis=1)\n",
    "    valid_neg_mat = np.empty(shape=(0, 1224))\n",
    "    for i in range(5):   \n",
    "        valid_feat_neg = valid_df.apply(lambda row: createNegCombinedEmbedding(row, i), axis=1)\n",
    "        valid_neg_mat = np.vstack([valid_neg_mat, np.stack( valid_feat_neg.values)])\n",
    "    \n",
    "    valid_mat = np.vstack([np.stack( valid_feat.values), valid_neg_mat ])\n",
    "    num_pos_val = int(valid_mat.shape[0]/6)\n",
    "    y_val= np.zeros(shape=(valid_mat.shape[0],1))\n",
    "    y_val[:num_pos_val] = 1\n",
    "    return train_mat,y, valid_mat, y_val"
   ]
  },
  {
   "cell_type": "code",
   "execution_count": 566,
   "metadata": {},
   "outputs": [
    {
     "data": {
      "text/plain": [
       "(7646, 1911)"
      ]
     },
     "execution_count": 566,
     "metadata": {},
     "output_type": "execute_result"
    }
   ],
   "source": [
    "len(train_df), len(valid_df)"
   ]
  },
  {
   "cell_type": "code",
   "execution_count": 589,
   "metadata": {},
   "outputs": [],
   "source": [
    "X, y, X_val, y_val = createFeatureMatrix(train_df, valid_df)"
   ]
  },
  {
   "cell_type": "code",
   "execution_count": 590,
   "metadata": {},
   "outputs": [],
   "source": [
    "from sklearn.ensemble import RandomForestClassifier"
   ]
  },
  {
   "cell_type": "code",
   "execution_count": 591,
   "metadata": {},
   "outputs": [
    {
     "data": {
      "text/plain": [
       "RandomForestClassifier(bootstrap=True, ccp_alpha=0.0, class_weight=None,\n",
       "                       criterion='gini', max_depth=10, max_features='auto',\n",
       "                       max_leaf_nodes=None, max_samples=None,\n",
       "                       min_impurity_decrease=0.0, min_impurity_split=None,\n",
       "                       min_samples_leaf=1, min_samples_split=2,\n",
       "                       min_weight_fraction_leaf=0.0, n_estimators=200,\n",
       "                       n_jobs=None, oob_score=False, random_state=None,\n",
       "                       verbose=0, warm_start=False)"
      ]
     },
     "execution_count": 591,
     "metadata": {},
     "output_type": "execute_result"
    }
   ],
   "source": [
    "#train RF calssifier\n",
    "rf =RandomForestClassifier(n_estimators=200,max_depth=10)\n",
    "rf.fit(X, y.ravel())"
   ]
  },
  {
   "cell_type": "code",
   "execution_count": 592,
   "metadata": {},
   "outputs": [],
   "source": [
    "y_pred= rf.predict(X_val)"
   ]
  },
  {
   "cell_type": "code",
   "execution_count": 593,
   "metadata": {},
   "outputs": [
    {
     "data": {
      "text/plain": [
       "0.9028431885574743"
      ]
     },
     "execution_count": 593,
     "metadata": {},
     "output_type": "execute_result"
    }
   ],
   "source": [
    "np.sum(y_pred.reshape(-1,1) ==y_val)/y_val.shape[0]"
   ]
  },
  {
   "cell_type": "code",
   "execution_count": 574,
   "metadata": {},
   "outputs": [],
   "source": [
    "def get_best_type(row, clf, thers=0.1):\n",
    "    #print (row['question'], row['general_type'], row['type'])\n",
    "    gen_type = row['general_type']\n",
    "    cand_list = get_candidates(gen_type, [gen_type])\n",
    "    #cand_list = train_df.specific_type.unique()\n",
    "    if len(cand_list) == 0: return [gen_type]\n",
    "    \n",
    "    c_mat = []\n",
    "    cand_list= np.array(list(cand_list))\n",
    "    for c in cand_list:\n",
    "        c_mat.append( getCombinedEmbedding(row['id'], row['general_type'], c, row['tokens'] ))\n",
    "    probs =clf.predict_proba(c_mat)\n",
    "    #print (cand_list, probs)\n",
    "    best = []\n",
    "    #best = np.argsort(probs[:,1])\n",
    "    for i,p in enumerate(probs[:,1]):\n",
    "        if p >= thers:\n",
    "            best.append(cand_list[i])\n",
    "    #print(best)\n",
    "   \n",
    "    #print (cand_list[best][-2:], probs[best][-2:])\n",
    "    return [gen_type]+ best"
   ]
  },
  {
   "cell_type": "code",
   "execution_count": 595,
   "metadata": {},
   "outputs": [
    {
     "data": {
      "text/plain": [
       "id                                                    dbpedia_22682\n",
       "question          Which serving railway line of the Daund Juncti...\n",
       "category                                                   resource\n",
       "type              [dbo:City, dbo:Settlement, dbo:PopulatedPlace,...\n",
       "general_type                                              dbo:Place\n",
       "specific_type                                              dbo:City\n",
       "tokens                home|railway|station|Daund Junction|port|line\n",
       "neg_spec_types    [dbo:Museum, dbo:Island, dbo:Asteroid, dbo:His...\n",
       "Name: 2518, dtype: object"
      ]
     },
     "execution_count": 595,
     "metadata": {},
     "output_type": "execute_result"
    }
   ],
   "source": [
    "valid_df.iloc[2]"
   ]
  },
  {
   "cell_type": "code",
   "execution_count": 644,
   "metadata": {},
   "outputs": [
    {
     "data": {
      "text/plain": [
       "['dbo:Place',\n",
       " 'dbo:Building',\n",
       " 'dbo:PopulatedPlace',\n",
       " 'dbo:Settlement',\n",
       " 'dbo:Country',\n",
       " 'dbo:State',\n",
       " 'dbo:City']"
      ]
     },
     "execution_count": 644,
     "metadata": {},
     "output_type": "execute_result"
    }
   ],
   "source": [
    "get_best_type(valid_df.iloc[2], rf)"
   ]
  },
  {
   "cell_type": "code",
   "execution_count": 643,
   "metadata": {},
   "outputs": [
    {
     "name": "stdout",
     "output_type": "stream",
     "text": [
      "id                                                    dbpedia_17693\n",
      "question          Who is the discoverer of radiocarbon dating an...\n",
      "category                                                   resource\n",
      "type                                        [dbo:Person, dbo:Agent]\n",
      "general_type                                              dbo:Agent\n",
      "specific_type                                            dbo:Person\n",
      "tokens            Heidelberg|Humanities|Sciences|discoverer|dati...\n",
      "neg_spec_types    [dbo:University, dbo:SoccerPlayer, dbo:Company...\n",
      "Name: 13609, dtype: object\n"
     ]
    },
    {
     "data": {
      "text/plain": [
       "['dbo:Agent',\n",
       " 'dbo:Athlete',\n",
       " 'dbo:Organisation',\n",
       " 'dbo:EducationalInstitution',\n",
       " 'dbo:Person',\n",
       " 'dbo:Company']"
      ]
     },
     "execution_count": 643,
     "metadata": {},
     "output_type": "execute_result"
    }
   ],
   "source": [
    "row =valid_df.iloc[241] \n",
    "print (row)\n",
    "get_best_type(row, rf)"
   ]
  },
  {
   "cell_type": "code",
   "execution_count": 597,
   "metadata": {},
   "outputs": [
    {
     "name": "stdout",
     "output_type": "stream",
     "text": [
      "id                                                    dbpedia_15075\n",
      "question          Name the occupational carcinogen causing Chlor...\n",
      "category                                                   resource\n",
      "type                  [dbo:ChemicalCompound, dbo:ChemicalSubstance]\n",
      "general_type                                  dbo:ChemicalSubstance\n",
      "specific_type                                  dbo:ChemicalCompound\n",
      "tokens            molar|Name|standard|entropy|highest|Chlorometh...\n",
      "neg_spec_types    [owl:Thing, owl:Thing, owl:Thing, owl:Thing, o...\n",
      "Name: 13086, dtype: object\n"
     ]
    },
    {
     "data": {
      "text/plain": [
       "['dbo:ChemicalSubstance', 'dbo:ChemicalCompound']"
      ]
     },
     "execution_count": 597,
     "metadata": {},
     "output_type": "execute_result"
    }
   ],
   "source": [
    "row =valid_df.iloc[19] \n",
    "print (row)\n",
    "get_best_type(row, rf)\n"
   ]
  },
  {
   "cell_type": "code",
   "execution_count": 598,
   "metadata": {},
   "outputs": [
    {
     "name": "stdout",
     "output_type": "stream",
     "text": [
      "id                                                     dbpedia_1369\n",
      "question          Who is ideology of member of party of Michel P...\n",
      "category                                                   resource\n",
      "type                             [dbo:Ideology, dbo:TopicalConcept]\n",
      "general_type                                     dbo:TopicalConcept\n",
      "specific_type                                          dbo:Ideology\n",
      "tokens                                        ideology|party|member\n",
      "neg_spec_types    [dbo:AcademicSubject, dbo:Taxon, dbo:Taxon, ow...\n",
      "Name: 656, dtype: object\n"
     ]
    },
    {
     "data": {
      "text/plain": [
       "['dbo:TopicalConcept',\n",
       " 'dbo:Ideology',\n",
       " 'dbo:AcademicSubject',\n",
       " 'dbo:Taxon',\n",
       " 'dbo:MusicGenre']"
      ]
     },
     "execution_count": 598,
     "metadata": {},
     "output_type": "execute_result"
    }
   ],
   "source": [
    "row =valid_df.iloc[209] \n",
    "print (row)\n",
    "get_best_type(row, rf)"
   ]
  },
  {
   "cell_type": "code",
   "execution_count": 599,
   "metadata": {},
   "outputs": [
    {
     "name": "stdout",
     "output_type": "stream",
     "text": [
      "id                                                    dbpedia_15534\n",
      "question          WHO IS THE MEMBER OF THE PARTY THAT PHILIP ROT...\n",
      "category                                                   resource\n",
      "type              [dbo:PoliticalParty, dbo:Organisation, dbo:Agent]\n",
      "general_type                                              dbo:Agent\n",
      "specific_type                                    dbo:PoliticalParty\n",
      "tokens                                                          WHO\n",
      "neg_spec_types    [dbo:Person, dbo:OfficeHolder, dbo:Scientist, ...\n",
      "Name: 6896, dtype: object\n"
     ]
    },
    {
     "data": {
      "text/plain": [
       "['dbo:Agent',\n",
       " 'dbo:Athlete',\n",
       " 'dbo:Organisation',\n",
       " 'dbo:EducationalInstitution',\n",
       " 'dbo:Person']"
      ]
     },
     "execution_count": 599,
     "metadata": {},
     "output_type": "execute_result"
    }
   ],
   "source": [
    "row =valid_df.iloc[210] \n",
    "print (row)\n",
    "get_best_type(row, rf)"
   ]
  },
  {
   "cell_type": "code",
   "execution_count": 661,
   "metadata": {},
   "outputs": [
    {
     "name": "stdout",
     "output_type": "stream",
     "text": [
      "id                                                    dbpedia_18462\n",
      "question           Who is the film director of Alice's Wonderland ?\n",
      "category                                                   resource\n",
      "type                                        [dbo:Person, dbo:Agent]\n",
      "general_type                                              dbo:Agent\n",
      "specific_type                                            dbo:Person\n",
      "tokens                                                director|film\n",
      "neg_spec_types    [dbo:MusicalArtist, dbo:Deity, dbo:PoliticalPa...\n",
      "Name: 9545, dtype: object\n"
     ]
    },
    {
     "data": {
      "text/plain": [
       "['dbo:Agent',\n",
       " 'dbo:University',\n",
       " 'dbo:Organisation',\n",
       " 'dbo:EducationalInstitution',\n",
       " 'dbo:Person',\n",
       " 'dbo:Company']"
      ]
     },
     "execution_count": 661,
     "metadata": {},
     "output_type": "execute_result"
    }
   ],
   "source": [
    "row =valid_df.iloc[217] \n",
    "print (row)\n",
    "get_best_type(row, rf)\n"
   ]
  },
  {
   "cell_type": "code",
   "execution_count": 660,
   "metadata": {},
   "outputs": [
    {
     "name": "stdout",
     "output_type": "stream",
     "text": [
      "id                                                    dbpedia_17655\n",
      "question           What town is the birthplace of Joseph Greenberg?\n",
      "category                                                   resource\n",
      "type              [dbo:City, dbo:Settlement, dbo:PopulatedPlace,...\n",
      "general_type                                              dbo:Place\n",
      "specific_type                                              dbo:City\n",
      "tokens                             town|birthplace|Joseph Greenberg\n",
      "neg_spec_types    [dbo:HistoricalRegion, dbo:Church, dbo:Airport...\n",
      "Name: 16369, dtype: object\n"
     ]
    },
    {
     "data": {
      "text/plain": [
       "['dbo:Place',\n",
       " 'dbo:Building',\n",
       " 'dbo:PopulatedPlace',\n",
       " 'dbo:Settlement',\n",
       " 'dbo:Country',\n",
       " 'dbo:State',\n",
       " 'dbo:Town',\n",
       " 'dbo:City']"
      ]
     },
     "execution_count": 660,
     "metadata": {},
     "output_type": "execute_result"
    }
   ],
   "source": [
    "row =valid_df.iloc[235] \n",
    "print (row)\n",
    "get_best_type(row, rf)"
   ]
  },
  {
   "cell_type": "code",
   "execution_count": 659,
   "metadata": {},
   "outputs": [
    {
     "data": {
      "text/plain": [
       "0.32409629175202237"
      ]
     },
     "execution_count": 659,
     "metadata": {},
     "output_type": "execute_result"
    }
   ],
   "source": [
    "rf.feature_importances_[100:].sum()"
   ]
  },
  {
   "cell_type": "markdown",
   "metadata": {},
   "source": [
    "# Prediction "
   ]
  },
  {
   "cell_type": "code",
   "execution_count": 736,
   "metadata": {},
   "outputs": [],
   "source": [
    "db_valid_df =pd.read_csv('datasets/dbpedia_test_predictions.csv')"
   ]
  },
  {
   "cell_type": "code",
   "execution_count": 737,
   "metadata": {},
   "outputs": [
    {
     "data": {
      "text/html": [
       "<div>\n",
       "<style scoped>\n",
       "    .dataframe tbody tr th:only-of-type {\n",
       "        vertical-align: middle;\n",
       "    }\n",
       "\n",
       "    .dataframe tbody tr th {\n",
       "        vertical-align: top;\n",
       "    }\n",
       "\n",
       "    .dataframe thead th {\n",
       "        text-align: right;\n",
       "    }\n",
       "</style>\n",
       "<table border=\"1\" class=\"dataframe\">\n",
       "  <thead>\n",
       "    <tr style=\"text-align: right;\">\n",
       "      <th></th>\n",
       "      <th>id</th>\n",
       "      <th>question</th>\n",
       "      <th>category</th>\n",
       "      <th>type</th>\n",
       "    </tr>\n",
       "  </thead>\n",
       "  <tbody>\n",
       "    <tr>\n",
       "      <th>0</th>\n",
       "      <td>dbpedia_16015</td>\n",
       "      <td>How many ingredients are in the grain} ?</td>\n",
       "      <td>literal</td>\n",
       "      <td>number</td>\n",
       "    </tr>\n",
       "    <tr>\n",
       "      <th>1</th>\n",
       "      <td>dbpedia_3885</td>\n",
       "      <td>Is the case fatality rate of Fournier gangrene...</td>\n",
       "      <td>boolean</td>\n",
       "      <td>boolean</td>\n",
       "    </tr>\n",
       "    <tr>\n",
       "      <th>2</th>\n",
       "      <td>dbpedia_12907</td>\n",
       "      <td>Does the shelf life of spinach equal 8?</td>\n",
       "      <td>boolean</td>\n",
       "      <td>boolean</td>\n",
       "    </tr>\n",
       "    <tr>\n",
       "      <th>3</th>\n",
       "      <td>dbpedia_7955</td>\n",
       "      <td>What sound does a pig make in the French langu...</td>\n",
       "      <td>resource</td>\n",
       "      <td>dbo:Media</td>\n",
       "    </tr>\n",
       "    <tr>\n",
       "      <th>4</th>\n",
       "      <td>dbpedia_2376</td>\n",
       "      <td>When was Fergie completed his record label in ...</td>\n",
       "      <td>literal</td>\n",
       "      <td>date</td>\n",
       "    </tr>\n",
       "  </tbody>\n",
       "</table>\n",
       "</div>"
      ],
      "text/plain": [
       "              id                                           question  category  \\\n",
       "0  dbpedia_16015           How many ingredients are in the grain} ?   literal   \n",
       "1   dbpedia_3885  Is the case fatality rate of Fournier gangrene...   boolean   \n",
       "2  dbpedia_12907            Does the shelf life of spinach equal 8?   boolean   \n",
       "3   dbpedia_7955  What sound does a pig make in the French langu...  resource   \n",
       "4   dbpedia_2376  When was Fergie completed his record label in ...   literal   \n",
       "\n",
       "        type  \n",
       "0     number  \n",
       "1    boolean  \n",
       "2    boolean  \n",
       "3  dbo:Media  \n",
       "4       date  "
      ]
     },
     "execution_count": 737,
     "metadata": {},
     "output_type": "execute_result"
    }
   ],
   "source": [
    "db_valid_df.head()"
   ]
  },
  {
   "cell_type": "code",
   "execution_count": null,
   "metadata": {},
   "outputs": [],
   "source": []
  },
  {
   "cell_type": "code",
   "execution_count": 703,
   "metadata": {},
   "outputs": [],
   "source": [
    "db_valid_res_df =db_valid_df[db_valid_df.category == 'resource']"
   ]
  },
  {
   "cell_type": "code",
   "execution_count": 704,
   "metadata": {},
   "outputs": [
    {
     "name": "stderr",
     "output_type": "stream",
     "text": [
      "/opt/conda/lib/python3.7/site-packages/ipykernel_launcher.py:2: SettingWithCopyWarning: \n",
      "A value is trying to be set on a copy of a slice from a DataFrame.\n",
      "Try using .loc[row_indexer,col_indexer] = value instead\n",
      "\n",
      "See the caveats in the documentation: https://pandas.pydata.org/pandas-docs/stable/user_guide/indexing.html#returning-a-view-versus-a-copy\n",
      "  \n"
     ]
    }
   ],
   "source": [
    "#db_valid_res_df =db_valid_res_df[db_valid_res_df['type'] !='resource']\n",
    "db_valid_res_df['general_type'] = db_valid_res_df.type.apply(multitype_to_freqtype)"
   ]
  },
  {
   "cell_type": "code",
   "execution_count": 705,
   "metadata": {},
   "outputs": [
    {
     "data": {
      "text/html": [
       "<div>\n",
       "<style scoped>\n",
       "    .dataframe tbody tr th:only-of-type {\n",
       "        vertical-align: middle;\n",
       "    }\n",
       "\n",
       "    .dataframe tbody tr th {\n",
       "        vertical-align: top;\n",
       "    }\n",
       "\n",
       "    .dataframe thead th {\n",
       "        text-align: right;\n",
       "    }\n",
       "</style>\n",
       "<table border=\"1\" class=\"dataframe\">\n",
       "  <thead>\n",
       "    <tr style=\"text-align: right;\">\n",
       "      <th></th>\n",
       "      <th>id</th>\n",
       "      <th>question</th>\n",
       "      <th>category</th>\n",
       "      <th>type</th>\n",
       "      <th>general_type</th>\n",
       "    </tr>\n",
       "  </thead>\n",
       "  <tbody>\n",
       "    <tr>\n",
       "      <th>3</th>\n",
       "      <td>dbpedia_7955</td>\n",
       "      <td>What sound does a pig make in the French langu...</td>\n",
       "      <td>resource</td>\n",
       "      <td>dbo:Media</td>\n",
       "      <td>dbo:Media</td>\n",
       "    </tr>\n",
       "    <tr>\n",
       "      <th>6</th>\n",
       "      <td>dbpedia_22599</td>\n",
       "      <td>Where did the war take place where one of the ...</td>\n",
       "      <td>resource</td>\n",
       "      <td>dbo:Place</td>\n",
       "      <td>dbo:Place</td>\n",
       "    </tr>\n",
       "    <tr>\n",
       "      <th>9</th>\n",
       "      <td>dbpedia_19677</td>\n",
       "      <td>Which mountains are contained in Inyo National...</td>\n",
       "      <td>resource</td>\n",
       "      <td>dbo:Place</td>\n",
       "      <td>dbo:Place</td>\n",
       "    </tr>\n",
       "    <tr>\n",
       "      <th>11</th>\n",
       "      <td>dbpedia_11163</td>\n",
       "      <td>What is the seat of Frankfurter Allgemeine Zei...</td>\n",
       "      <td>resource</td>\n",
       "      <td>dbo:Place</td>\n",
       "      <td>dbo:Place</td>\n",
       "    </tr>\n",
       "    <tr>\n",
       "      <th>16</th>\n",
       "      <td>dbpedia_18792</td>\n",
       "      <td>What did the people buried in Toronto die of?</td>\n",
       "      <td>resource</td>\n",
       "      <td>dbo:Agent</td>\n",
       "      <td>dbo:Agent</td>\n",
       "    </tr>\n",
       "  </tbody>\n",
       "</table>\n",
       "</div>"
      ],
      "text/plain": [
       "               id                                           question  \\\n",
       "3    dbpedia_7955  What sound does a pig make in the French langu...   \n",
       "6   dbpedia_22599  Where did the war take place where one of the ...   \n",
       "9   dbpedia_19677  Which mountains are contained in Inyo National...   \n",
       "11  dbpedia_11163  What is the seat of Frankfurter Allgemeine Zei...   \n",
       "16  dbpedia_18792      What did the people buried in Toronto die of?   \n",
       "\n",
       "    category       type general_type  \n",
       "3   resource  dbo:Media    dbo:Media  \n",
       "6   resource  dbo:Place    dbo:Place  \n",
       "9   resource  dbo:Place    dbo:Place  \n",
       "11  resource  dbo:Place    dbo:Place  \n",
       "16  resource  dbo:Agent    dbo:Agent  "
      ]
     },
     "execution_count": 705,
     "metadata": {},
     "output_type": "execute_result"
    }
   ],
   "source": [
    "db_valid_res_df.head()"
   ]
  },
  {
   "cell_type": "code",
   "execution_count": 706,
   "metadata": {},
   "outputs": [],
   "source": [
    "db_valid_res_df = db_valid_res_df[db_valid_res_df.question.notna()]"
   ]
  },
  {
   "cell_type": "code",
   "execution_count": 707,
   "metadata": {},
   "outputs": [
    {
     "data": {
      "text/html": [
       "<div>\n",
       "<style scoped>\n",
       "    .dataframe tbody tr th:only-of-type {\n",
       "        vertical-align: middle;\n",
       "    }\n",
       "\n",
       "    .dataframe tbody tr th {\n",
       "        vertical-align: top;\n",
       "    }\n",
       "\n",
       "    .dataframe thead th {\n",
       "        text-align: right;\n",
       "    }\n",
       "</style>\n",
       "<table border=\"1\" class=\"dataframe\">\n",
       "  <thead>\n",
       "    <tr style=\"text-align: right;\">\n",
       "      <th></th>\n",
       "      <th>id</th>\n",
       "      <th>question</th>\n",
       "      <th>category</th>\n",
       "      <th>type</th>\n",
       "      <th>general_type</th>\n",
       "    </tr>\n",
       "  </thead>\n",
       "  <tbody>\n",
       "    <tr>\n",
       "      <th>3317</th>\n",
       "      <td>dbpedia_11238</td>\n",
       "      <td>What are the participants of the cause of weat...</td>\n",
       "      <td>resource</td>\n",
       "      <td>dbo:Disease</td>\n",
       "      <td>dbo:Disease</td>\n",
       "    </tr>\n",
       "    <tr>\n",
       "      <th>22</th>\n",
       "      <td>dbpedia_17589</td>\n",
       "      <td>What is Janet Jackson's genre?</td>\n",
       "      <td>resource</td>\n",
       "      <td>dbo:TopicalConcept</td>\n",
       "      <td>dbo:TopicalConcept</td>\n",
       "    </tr>\n",
       "    <tr>\n",
       "      <th>4335</th>\n",
       "      <td>dbpedia_16922</td>\n",
       "      <td>Who is the sibling of Claudius?</td>\n",
       "      <td>resource</td>\n",
       "      <td>dbo:Agent</td>\n",
       "      <td>dbo:Agent</td>\n",
       "    </tr>\n",
       "    <tr>\n",
       "      <th>1499</th>\n",
       "      <td>dbpedia_266</td>\n",
       "      <td>What is the genetic association of major depre...</td>\n",
       "      <td>resource</td>\n",
       "      <td>dbo:Biomolecule</td>\n",
       "      <td>dbo:Biomolecule</td>\n",
       "    </tr>\n",
       "    <tr>\n",
       "      <th>2669</th>\n",
       "      <td>dbpedia_2018</td>\n",
       "      <td>What is wikibase:geoLatitude ?min that comes f...</td>\n",
       "      <td>resource</td>\n",
       "      <td>dbo:Agent</td>\n",
       "      <td>dbo:Agent</td>\n",
       "    </tr>\n",
       "  </tbody>\n",
       "</table>\n",
       "</div>"
      ],
      "text/plain": [
       "                 id                                           question  \\\n",
       "3317  dbpedia_11238  What are the participants of the cause of weat...   \n",
       "22    dbpedia_17589                     What is Janet Jackson's genre?   \n",
       "4335  dbpedia_16922                    Who is the sibling of Claudius?   \n",
       "1499    dbpedia_266  What is the genetic association of major depre...   \n",
       "2669   dbpedia_2018  What is wikibase:geoLatitude ?min that comes f...   \n",
       "\n",
       "      category                type        general_type  \n",
       "3317  resource         dbo:Disease         dbo:Disease  \n",
       "22    resource  dbo:TopicalConcept  dbo:TopicalConcept  \n",
       "4335  resource           dbo:Agent           dbo:Agent  \n",
       "1499  resource     dbo:Biomolecule     dbo:Biomolecule  \n",
       "2669  resource           dbo:Agent           dbo:Agent  "
      ]
     },
     "execution_count": 707,
     "metadata": {},
     "output_type": "execute_result"
    }
   ],
   "source": [
    "db_valid_res_df.sample(5)"
   ]
  },
  {
   "cell_type": "code",
   "execution_count": 708,
   "metadata": {},
   "outputs": [],
   "source": [
    "db_valid_res_df['tokens'] = db_valid_res_df.question.apply(lambda text: utils.tokenized_sentence(wiki2vec, text))"
   ]
  },
  {
   "cell_type": "code",
   "execution_count": 730,
   "metadata": {},
   "outputs": [
    {
     "name": "stdout",
     "output_type": "stream",
     "text": [
      "id                                                  dbpedia_20611\n",
      "question        What is the name of the information appliance ...\n",
      "category                                                 resource\n",
      "type                                                     dbo:Name\n",
      "general_type                                             dbo:Name\n",
      "tokens          predecessor|whose|name|PlayStation 2|informati...\n",
      "Name: 394, dtype: object\n"
     ]
    },
    {
     "data": {
      "text/plain": [
       "['dbo:Name', 'dbo:GivenName']"
      ]
     },
     "execution_count": 730,
     "metadata": {},
     "output_type": "execute_result"
    }
   ],
   "source": [
    "row =db_valid_res_df.iloc[235] \n",
    "print (row)\n",
    "get_best_type(row, rf)"
   ]
  },
  {
   "cell_type": "code",
   "execution_count": 731,
   "metadata": {},
   "outputs": [],
   "source": [
    "db_valid_res_df['pred_types']= db_valid_res_df.apply(lambda x: get_best_type(x, rf), axis=1)"
   ]
  },
  {
   "cell_type": "code",
   "execution_count": 732,
   "metadata": {},
   "outputs": [
    {
     "data": {
      "text/html": [
       "<div>\n",
       "<style scoped>\n",
       "    .dataframe tbody tr th:only-of-type {\n",
       "        vertical-align: middle;\n",
       "    }\n",
       "\n",
       "    .dataframe tbody tr th {\n",
       "        vertical-align: top;\n",
       "    }\n",
       "\n",
       "    .dataframe thead th {\n",
       "        text-align: right;\n",
       "    }\n",
       "</style>\n",
       "<table border=\"1\" class=\"dataframe\">\n",
       "  <thead>\n",
       "    <tr style=\"text-align: right;\">\n",
       "      <th></th>\n",
       "      <th>id</th>\n",
       "      <th>question</th>\n",
       "      <th>category</th>\n",
       "      <th>type</th>\n",
       "      <th>general_type</th>\n",
       "      <th>tokens</th>\n",
       "      <th>pred_types</th>\n",
       "    </tr>\n",
       "  </thead>\n",
       "  <tbody>\n",
       "    <tr>\n",
       "      <th>494</th>\n",
       "      <td>dbpedia_9173</td>\n",
       "      <td>What is the birth place of Blackbeard, that is...</td>\n",
       "      <td>resource</td>\n",
       "      <td>dbo:Place</td>\n",
       "      <td>dbo:Place</td>\n",
       "      <td>place|Blackbeard|,|region|birth</td>\n",
       "      <td>[dbo:Place, dbo:Building, dbo:Island, dbo:Popu...</td>\n",
       "    </tr>\n",
       "    <tr>\n",
       "      <th>4000</th>\n",
       "      <td>dbpedia_12606</td>\n",
       "      <td>What are the lawn game which start with the le...</td>\n",
       "      <td>resource</td>\n",
       "      <td>dbo:Work</td>\n",
       "      <td>dbo:Work</td>\n",
       "      <td>game|letter|start|T|lawn</td>\n",
       "      <td>[dbo:Work, dbo:Software, dbo:VideoGame, dbo:Ne...</td>\n",
       "    </tr>\n",
       "    <tr>\n",
       "      <th>2855</th>\n",
       "      <td>dbpedia_6382</td>\n",
       "      <td>Where is the business headquarters location in...</td>\n",
       "      <td>resource</td>\n",
       "      <td>dbo:Agent</td>\n",
       "      <td>dbo:Agent</td>\n",
       "      <td>business|headquarters|location</td>\n",
       "      <td>[dbo:Agent, dbo:University, dbo:Organisation, ...</td>\n",
       "    </tr>\n",
       "    <tr>\n",
       "      <th>2958</th>\n",
       "      <td>dbpedia_5095</td>\n",
       "      <td>Which business is owned by the Empire State Bu...</td>\n",
       "      <td>resource</td>\n",
       "      <td>dbo:Place</td>\n",
       "      <td>dbo:Place</td>\n",
       "      <td>business|Empire State Building|owned</td>\n",
       "      <td>[dbo:Place, dbo:Building, dbo:PopulatedPlace, ...</td>\n",
       "    </tr>\n",
       "    <tr>\n",
       "      <th>938</th>\n",
       "      <td>dbpedia_15111</td>\n",
       "      <td>What is the name of the book classified in enc...</td>\n",
       "      <td>resource</td>\n",
       "      <td>dbo:Work</td>\n",
       "      <td>dbo:Work</td>\n",
       "      <td>book|encyclopedia|name|classified</td>\n",
       "      <td>[dbo:Work, dbo:Software, dbo:VideoGame, dbo:Ne...</td>\n",
       "    </tr>\n",
       "  </tbody>\n",
       "</table>\n",
       "</div>"
      ],
      "text/plain": [
       "                 id                                           question  \\\n",
       "494    dbpedia_9173  What is the birth place of Blackbeard, that is...   \n",
       "4000  dbpedia_12606  What are the lawn game which start with the le...   \n",
       "2855   dbpedia_6382  Where is the business headquarters location in...   \n",
       "2958   dbpedia_5095  Which business is owned by the Empire State Bu...   \n",
       "938   dbpedia_15111  What is the name of the book classified in enc...   \n",
       "\n",
       "      category       type general_type                                tokens  \\\n",
       "494   resource  dbo:Place    dbo:Place       place|Blackbeard|,|region|birth   \n",
       "4000  resource   dbo:Work     dbo:Work              game|letter|start|T|lawn   \n",
       "2855  resource  dbo:Agent    dbo:Agent        business|headquarters|location   \n",
       "2958  resource  dbo:Place    dbo:Place  business|Empire State Building|owned   \n",
       "938   resource   dbo:Work     dbo:Work     book|encyclopedia|name|classified   \n",
       "\n",
       "                                             pred_types  \n",
       "494   [dbo:Place, dbo:Building, dbo:Island, dbo:Popu...  \n",
       "4000  [dbo:Work, dbo:Software, dbo:VideoGame, dbo:Ne...  \n",
       "2855  [dbo:Agent, dbo:University, dbo:Organisation, ...  \n",
       "2958  [dbo:Place, dbo:Building, dbo:PopulatedPlace, ...  \n",
       "938   [dbo:Work, dbo:Software, dbo:VideoGame, dbo:Ne...  "
      ]
     },
     "execution_count": 732,
     "metadata": {},
     "output_type": "execute_result"
    }
   ],
   "source": [
    "db_valid_res_df.sample(5)"
   ]
  },
  {
   "cell_type": "code",
   "execution_count": 738,
   "metadata": {},
   "outputs": [],
   "source": [
    "def to_list(t):\n",
    "    return [t]\n",
    "db_valid_df.type = db_valid_df.type.apply(to_list)"
   ]
  },
  {
   "cell_type": "code",
   "execution_count": 739,
   "metadata": {},
   "outputs": [],
   "source": [
    "for i,row in db_valid_res_df.iterrows():\n",
    "    index =np.where(db_valid_df['id']==row['id'])\n",
    "    #print(row['id'])\n",
    "    db_valid_df.iloc[index[0][0]]['type'] =  row['pred_types']"
   ]
  },
  {
   "cell_type": "code",
   "execution_count": 741,
   "metadata": {},
   "outputs": [
    {
     "data": {
      "text/html": [
       "<div>\n",
       "<style scoped>\n",
       "    .dataframe tbody tr th:only-of-type {\n",
       "        vertical-align: middle;\n",
       "    }\n",
       "\n",
       "    .dataframe tbody tr th {\n",
       "        vertical-align: top;\n",
       "    }\n",
       "\n",
       "    .dataframe thead th {\n",
       "        text-align: right;\n",
       "    }\n",
       "</style>\n",
       "<table border=\"1\" class=\"dataframe\">\n",
       "  <thead>\n",
       "    <tr style=\"text-align: right;\">\n",
       "      <th></th>\n",
       "      <th>id</th>\n",
       "      <th>question</th>\n",
       "      <th>category</th>\n",
       "      <th>type</th>\n",
       "    </tr>\n",
       "  </thead>\n",
       "  <tbody>\n",
       "    <tr>\n",
       "      <th>1051</th>\n",
       "      <td>dbpedia_14345</td>\n",
       "      <td>How many film editors worked for Star Wars Epi...</td>\n",
       "      <td>literal</td>\n",
       "      <td>[number]</td>\n",
       "    </tr>\n",
       "    <tr>\n",
       "      <th>2309</th>\n",
       "      <td>dbpedia_23298</td>\n",
       "      <td>Give me a list of all lakes in Denmark.</td>\n",
       "      <td>resource</td>\n",
       "      <td>[dbo:Place, dbo:Building, dbo:Island, dbo:Infr...</td>\n",
       "    </tr>\n",
       "    <tr>\n",
       "      <th>592</th>\n",
       "      <td>dbpedia_20539</td>\n",
       "      <td>How many rivers are crossed by different Box G...</td>\n",
       "      <td>literal</td>\n",
       "      <td>[number]</td>\n",
       "    </tr>\n",
       "    <tr>\n",
       "      <th>3280</th>\n",
       "      <td>dbpedia_8008</td>\n",
       "      <td>Is the median income of Slovenia equal to 25085?</td>\n",
       "      <td>boolean</td>\n",
       "      <td>[boolean]</td>\n",
       "    </tr>\n",
       "    <tr>\n",
       "      <th>2788</th>\n",
       "      <td>dbpedia_16553</td>\n",
       "      <td>Purdue University is the parent organization o...</td>\n",
       "      <td>resource</td>\n",
       "      <td>[dbo:Agent, dbo:Athlete, dbo:University, dbo:O...</td>\n",
       "    </tr>\n",
       "    <tr>\n",
       "      <th>324</th>\n",
       "      <td>dbpedia_14072</td>\n",
       "      <td>Who is the director that worked for Peter Godd...</td>\n",
       "      <td>resource</td>\n",
       "      <td>[dbo:Agent, dbo:Organisation, dbo:EducationalI...</td>\n",
       "    </tr>\n",
       "    <tr>\n",
       "      <th>3546</th>\n",
       "      <td>dbpedia_10779</td>\n",
       "      <td>IS THE NUMBER OF ELEVATORS OF THE HOTEL UKRAYI...</td>\n",
       "      <td>boolean</td>\n",
       "      <td>[boolean]</td>\n",
       "    </tr>\n",
       "    <tr>\n",
       "      <th>505</th>\n",
       "      <td>dbpedia_11862</td>\n",
       "      <td>Does the number of out-of-school children on E...</td>\n",
       "      <td>boolean</td>\n",
       "      <td>[boolean]</td>\n",
       "    </tr>\n",
       "    <tr>\n",
       "      <th>2585</th>\n",
       "      <td>dbpedia_11484</td>\n",
       "      <td>How many editions of Tom Clancy's Ghost Recon ...</td>\n",
       "      <td>literal</td>\n",
       "      <td>[number]</td>\n",
       "    </tr>\n",
       "    <tr>\n",
       "      <th>3746</th>\n",
       "      <td>dbpedia_10310</td>\n",
       "      <td>What city does the show \"Friends\" take place in?</td>\n",
       "      <td>resource</td>\n",
       "      <td>[dbo:Place, dbo:Building, dbo:PopulatedPlace, ...</td>\n",
       "    </tr>\n",
       "  </tbody>\n",
       "</table>\n",
       "</div>"
      ],
      "text/plain": [
       "                 id                                           question  \\\n",
       "1051  dbpedia_14345  How many film editors worked for Star Wars Epi...   \n",
       "2309  dbpedia_23298            Give me a list of all lakes in Denmark.   \n",
       "592   dbpedia_20539  How many rivers are crossed by different Box G...   \n",
       "3280   dbpedia_8008   Is the median income of Slovenia equal to 25085?   \n",
       "2788  dbpedia_16553  Purdue University is the parent organization o...   \n",
       "324   dbpedia_14072  Who is the director that worked for Peter Godd...   \n",
       "3546  dbpedia_10779  IS THE NUMBER OF ELEVATORS OF THE HOTEL UKRAYI...   \n",
       "505   dbpedia_11862  Does the number of out-of-school children on E...   \n",
       "2585  dbpedia_11484  How many editions of Tom Clancy's Ghost Recon ...   \n",
       "3746  dbpedia_10310   What city does the show \"Friends\" take place in?   \n",
       "\n",
       "      category                                               type  \n",
       "1051   literal                                           [number]  \n",
       "2309  resource  [dbo:Place, dbo:Building, dbo:Island, dbo:Infr...  \n",
       "592    literal                                           [number]  \n",
       "3280   boolean                                          [boolean]  \n",
       "2788  resource  [dbo:Agent, dbo:Athlete, dbo:University, dbo:O...  \n",
       "324   resource  [dbo:Agent, dbo:Organisation, dbo:EducationalI...  \n",
       "3546   boolean                                          [boolean]  \n",
       "505    boolean                                          [boolean]  \n",
       "2585   literal                                           [number]  \n",
       "3746  resource  [dbo:Place, dbo:Building, dbo:PopulatedPlace, ...  "
      ]
     },
     "execution_count": 741,
     "metadata": {},
     "output_type": "execute_result"
    }
   ],
   "source": [
    "db_valid_df.sample(10)"
   ]
  },
  {
   "cell_type": "code",
   "execution_count": 742,
   "metadata": {},
   "outputs": [],
   "source": [
    "db_valid_df[['id','category','type','question']].to_json('datasets/dbpedia_test_specific_predictions.json', orient='records')"
   ]
  },
  {
   "cell_type": "code",
   "execution_count": 686,
   "metadata": {},
   "outputs": [],
   "source": [
    "db_test_pred_df =pd.read_csv('datasets/dbpedia_test_predictions.csv')"
   ]
  },
  {
   "cell_type": "code",
   "execution_count": 687,
   "metadata": {},
   "outputs": [
    {
     "data": {
      "text/html": [
       "<div>\n",
       "<style scoped>\n",
       "    .dataframe tbody tr th:only-of-type {\n",
       "        vertical-align: middle;\n",
       "    }\n",
       "\n",
       "    .dataframe tbody tr th {\n",
       "        vertical-align: top;\n",
       "    }\n",
       "\n",
       "    .dataframe thead th {\n",
       "        text-align: right;\n",
       "    }\n",
       "</style>\n",
       "<table border=\"1\" class=\"dataframe\">\n",
       "  <thead>\n",
       "    <tr style=\"text-align: right;\">\n",
       "      <th></th>\n",
       "      <th>id</th>\n",
       "      <th>question</th>\n",
       "      <th>category</th>\n",
       "      <th>type</th>\n",
       "    </tr>\n",
       "  </thead>\n",
       "  <tbody>\n",
       "    <tr>\n",
       "      <th>0</th>\n",
       "      <td>dbpedia_16015</td>\n",
       "      <td>How many ingredients are in the grain} ?</td>\n",
       "      <td>literal</td>\n",
       "      <td>number</td>\n",
       "    </tr>\n",
       "    <tr>\n",
       "      <th>1</th>\n",
       "      <td>dbpedia_3885</td>\n",
       "      <td>Is the case fatality rate of Fournier gangrene...</td>\n",
       "      <td>boolean</td>\n",
       "      <td>boolean</td>\n",
       "    </tr>\n",
       "    <tr>\n",
       "      <th>2</th>\n",
       "      <td>dbpedia_12907</td>\n",
       "      <td>Does the shelf life of spinach equal 8?</td>\n",
       "      <td>boolean</td>\n",
       "      <td>boolean</td>\n",
       "    </tr>\n",
       "    <tr>\n",
       "      <th>3</th>\n",
       "      <td>dbpedia_7955</td>\n",
       "      <td>What sound does a pig make in the French langu...</td>\n",
       "      <td>resource</td>\n",
       "      <td>dbo:Media</td>\n",
       "    </tr>\n",
       "    <tr>\n",
       "      <th>4</th>\n",
       "      <td>dbpedia_2376</td>\n",
       "      <td>When was Fergie completed his record label in ...</td>\n",
       "      <td>literal</td>\n",
       "      <td>date</td>\n",
       "    </tr>\n",
       "  </tbody>\n",
       "</table>\n",
       "</div>"
      ],
      "text/plain": [
       "              id                                           question  category  \\\n",
       "0  dbpedia_16015           How many ingredients are in the grain} ?   literal   \n",
       "1   dbpedia_3885  Is the case fatality rate of Fournier gangrene...   boolean   \n",
       "2  dbpedia_12907            Does the shelf life of spinach equal 8?   boolean   \n",
       "3   dbpedia_7955  What sound does a pig make in the French langu...  resource   \n",
       "4   dbpedia_2376  When was Fergie completed his record label in ...   literal   \n",
       "\n",
       "        type  \n",
       "0     number  \n",
       "1    boolean  \n",
       "2    boolean  \n",
       "3  dbo:Media  \n",
       "4       date  "
      ]
     },
     "execution_count": 687,
     "metadata": {},
     "output_type": "execute_result"
    }
   ],
   "source": [
    "db_test_pred_df.head()"
   ]
  },
  {
   "cell_type": "code",
   "execution_count": 648,
   "metadata": {},
   "outputs": [],
   "source": [
    "def to_list(t):\n",
    "    return [t]\n",
    "db_test_pred_df.type = db_test_pred_df.type.apply(to_list)"
   ]
  },
  {
   "cell_type": "code",
   "execution_count": 649,
   "metadata": {},
   "outputs": [
    {
     "data": {
      "text/html": [
       "<div>\n",
       "<style scoped>\n",
       "    .dataframe tbody tr th:only-of-type {\n",
       "        vertical-align: middle;\n",
       "    }\n",
       "\n",
       "    .dataframe tbody tr th {\n",
       "        vertical-align: top;\n",
       "    }\n",
       "\n",
       "    .dataframe thead th {\n",
       "        text-align: right;\n",
       "    }\n",
       "</style>\n",
       "<table border=\"1\" class=\"dataframe\">\n",
       "  <thead>\n",
       "    <tr style=\"text-align: right;\">\n",
       "      <th></th>\n",
       "      <th>id</th>\n",
       "      <th>question</th>\n",
       "      <th>category</th>\n",
       "      <th>type</th>\n",
       "    </tr>\n",
       "  </thead>\n",
       "  <tbody>\n",
       "    <tr>\n",
       "      <th>0</th>\n",
       "      <td>dbpedia_16015</td>\n",
       "      <td>How many ingredients are in the grain} ?</td>\n",
       "      <td>literal</td>\n",
       "      <td>[number]</td>\n",
       "    </tr>\n",
       "    <tr>\n",
       "      <th>1</th>\n",
       "      <td>dbpedia_3885</td>\n",
       "      <td>Is the case fatality rate of Fournier gangrene...</td>\n",
       "      <td>boolean</td>\n",
       "      <td>[boolean]</td>\n",
       "    </tr>\n",
       "    <tr>\n",
       "      <th>2</th>\n",
       "      <td>dbpedia_12907</td>\n",
       "      <td>Does the shelf life of spinach equal 8?</td>\n",
       "      <td>boolean</td>\n",
       "      <td>[boolean]</td>\n",
       "    </tr>\n",
       "    <tr>\n",
       "      <th>3</th>\n",
       "      <td>dbpedia_7955</td>\n",
       "      <td>What sound does a pig make in the French langu...</td>\n",
       "      <td>resource</td>\n",
       "      <td>[dbo:Media]</td>\n",
       "    </tr>\n",
       "    <tr>\n",
       "      <th>4</th>\n",
       "      <td>dbpedia_2376</td>\n",
       "      <td>When was Fergie completed his record label in ...</td>\n",
       "      <td>literal</td>\n",
       "      <td>[date]</td>\n",
       "    </tr>\n",
       "  </tbody>\n",
       "</table>\n",
       "</div>"
      ],
      "text/plain": [
       "              id                                           question  category  \\\n",
       "0  dbpedia_16015           How many ingredients are in the grain} ?   literal   \n",
       "1   dbpedia_3885  Is the case fatality rate of Fournier gangrene...   boolean   \n",
       "2  dbpedia_12907            Does the shelf life of spinach equal 8?   boolean   \n",
       "3   dbpedia_7955  What sound does a pig make in the French langu...  resource   \n",
       "4   dbpedia_2376  When was Fergie completed his record label in ...   literal   \n",
       "\n",
       "          type  \n",
       "0     [number]  \n",
       "1    [boolean]  \n",
       "2    [boolean]  \n",
       "3  [dbo:Media]  \n",
       "4       [date]  "
      ]
     },
     "execution_count": 649,
     "metadata": {},
     "output_type": "execute_result"
    }
   ],
   "source": [
    "db_test_pred_df.head()"
   ]
  },
  {
   "cell_type": "code",
   "execution_count": 650,
   "metadata": {},
   "outputs": [],
   "source": [
    "db_test_pred_df[['id','category','type','question']].to_json('datasets/dbpedia_test_predictions_generic_type.json', orient='records')"
   ]
  },
  {
   "cell_type": "code",
   "execution_count": 652,
   "metadata": {},
   "outputs": [
    {
     "data": {
      "text/html": [
       "<div>\n",
       "<style scoped>\n",
       "    .dataframe tbody tr th:only-of-type {\n",
       "        vertical-align: middle;\n",
       "    }\n",
       "\n",
       "    .dataframe tbody tr th {\n",
       "        vertical-align: top;\n",
       "    }\n",
       "\n",
       "    .dataframe thead th {\n",
       "        text-align: right;\n",
       "    }\n",
       "</style>\n",
       "<table border=\"1\" class=\"dataframe\">\n",
       "  <thead>\n",
       "    <tr style=\"text-align: right;\">\n",
       "      <th></th>\n",
       "      <th>id</th>\n",
       "      <th>question</th>\n",
       "      <th>category</th>\n",
       "      <th>type</th>\n",
       "    </tr>\n",
       "  </thead>\n",
       "  <tbody>\n",
       "    <tr>\n",
       "      <th>4376</th>\n",
       "      <td>dbpedia_8479</td>\n",
       "      <td>What is the name of a sibling duo that starts ...</td>\n",
       "      <td>resource</td>\n",
       "      <td>[dbo:Agent]</td>\n",
       "    </tr>\n",
       "    <tr>\n",
       "      <th>4377</th>\n",
       "      <td>dbpedia_17452</td>\n",
       "      <td>When was Nancy Reagan married to Ronald Reagan?</td>\n",
       "      <td>literal</td>\n",
       "      <td>[date]</td>\n",
       "    </tr>\n",
       "    <tr>\n",
       "      <th>4378</th>\n",
       "      <td>dbpedia_4571</td>\n",
       "      <td>What is the location of Edmonton</td>\n",
       "      <td>resource</td>\n",
       "      <td>[dbo:Place]</td>\n",
       "    </tr>\n",
       "    <tr>\n",
       "      <th>4379</th>\n",
       "      <td>dbpedia_21070</td>\n",
       "      <td>In which department does Raymond Baldwin work?</td>\n",
       "      <td>resource</td>\n",
       "      <td>[dbo:Agent]</td>\n",
       "    </tr>\n",
       "    <tr>\n",
       "      <th>4380</th>\n",
       "      <td>dbpedia_6276</td>\n",
       "      <td>What is Actorenregister ID for Utrecht Univers...</td>\n",
       "      <td>literal</td>\n",
       "      <td>[string]</td>\n",
       "    </tr>\n",
       "  </tbody>\n",
       "</table>\n",
       "</div>"
      ],
      "text/plain": [
       "                 id                                           question  \\\n",
       "4376   dbpedia_8479  What is the name of a sibling duo that starts ...   \n",
       "4377  dbpedia_17452    When was Nancy Reagan married to Ronald Reagan?   \n",
       "4378   dbpedia_4571                   What is the location of Edmonton   \n",
       "4379  dbpedia_21070     In which department does Raymond Baldwin work?   \n",
       "4380   dbpedia_6276  What is Actorenregister ID for Utrecht Univers...   \n",
       "\n",
       "      category         type  \n",
       "4376  resource  [dbo:Agent]  \n",
       "4377   literal       [date]  \n",
       "4378  resource  [dbo:Place]  \n",
       "4379  resource  [dbo:Agent]  \n",
       "4380   literal     [string]  "
      ]
     },
     "execution_count": 652,
     "metadata": {},
     "output_type": "execute_result"
    }
   ],
   "source": [
    "db_test_pred_df.tail()"
   ]
  },
  {
   "cell_type": "code",
   "execution_count": 653,
   "metadata": {},
   "outputs": [
    {
     "data": {
      "text/plain": [
       "4381"
      ]
     },
     "execution_count": 653,
     "metadata": {},
     "output_type": "execute_result"
    }
   ],
   "source": [
    "len(db_test_pred_df)"
   ]
  },
  {
   "cell_type": "code",
   "execution_count": null,
   "metadata": {},
   "outputs": [],
   "source": []
  }
 ],
 "metadata": {
  "kernelspec": {
   "display_name": "Python 3",
   "language": "python",
   "name": "python3"
  },
  "language_info": {
   "codemirror_mode": {
    "name": "ipython",
    "version": 3
   },
   "file_extension": ".py",
   "mimetype": "text/x-python",
   "name": "python",
   "nbconvert_exporter": "python",
   "pygments_lexer": "ipython3",
   "version": "3.7.6"
  }
 },
 "nbformat": 4,
 "nbformat_minor": 4
}
