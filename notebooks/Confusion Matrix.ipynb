{
 "cells": [
  {
   "cell_type": "code",
   "execution_count": 1,
   "metadata": {},
   "outputs": [
    {
     "name": "stdout",
     "output_type": "stream",
     "text": [
      "Requirement already satisfied: pycm in /Users/remzicelebi/opt/anaconda3/lib/python3.8/site-packages (3.0)\n",
      "Requirement already satisfied: numpy>=1.9.0 in /Users/remzicelebi/opt/anaconda3/lib/python3.8/site-packages (from pycm) (1.16.1)\n",
      "Requirement already satisfied: art>=1.8 in /Users/remzicelebi/opt/anaconda3/lib/python3.8/site-packages (from pycm) (4.9)\n"
     ]
    }
   ],
   "source": [
    "!pip install pycm\n"
   ]
  },
  {
   "cell_type": "code",
   "execution_count": 2,
   "metadata": {},
   "outputs": [],
   "source": [
    "from pycm import *\n",
    "import seaborn as sns\n",
    "import matplotlib.pyplot as plt"
   ]
  },
  {
   "cell_type": "code",
   "execution_count": 3,
   "metadata": {},
   "outputs": [],
   "source": [
    "import pandas as pd"
   ]
  },
  {
   "cell_type": "code",
   "execution_count": 10,
   "metadata": {},
   "outputs": [
    {
     "data": {
      "text/html": [
       "<div>\n",
       "<style scoped>\n",
       "    .dataframe tbody tr th:only-of-type {\n",
       "        vertical-align: middle;\n",
       "    }\n",
       "\n",
       "    .dataframe tbody tr th {\n",
       "        vertical-align: top;\n",
       "    }\n",
       "\n",
       "    .dataframe thead th {\n",
       "        text-align: right;\n",
       "    }\n",
       "</style>\n",
       "<table border=\"1\" class=\"dataframe\">\n",
       "  <thead>\n",
       "    <tr style=\"text-align: right;\">\n",
       "      <th></th>\n",
       "      <th>id</th>\n",
       "      <th>question</th>\n",
       "      <th>category</th>\n",
       "      <th>type</th>\n",
       "      <th>single_type</th>\n",
       "      <th>specific_type</th>\n",
       "      <th>extended_cat</th>\n",
       "      <th>cat_pred</th>\n",
       "      <th>type_pred</th>\n",
       "    </tr>\n",
       "  </thead>\n",
       "  <tbody>\n",
       "    <tr>\n",
       "      <th>0</th>\n",
       "      <td>dbpedia_11965</td>\n",
       "      <td>who member  of played by of The Blue Ridge Ran...</td>\n",
       "      <td>resource</td>\n",
       "      <td>['dbo:Band', 'dbo:Group', 'dbo:Organisation', ...</td>\n",
       "      <td>dbo:Agent</td>\n",
       "      <td>dbo:Band</td>\n",
       "      <td>resource</td>\n",
       "      <td>resource</td>\n",
       "      <td>dbo:Agent</td>\n",
       "    </tr>\n",
       "    <tr>\n",
       "      <th>1</th>\n",
       "      <td>dbpedia_13067</td>\n",
       "      <td>What is the Class IIIA combustible liquid with...</td>\n",
       "      <td>resource</td>\n",
       "      <td>['dbo:ChemicalCompound', 'dbo:ChemicalSubstance']</td>\n",
       "      <td>dbo:ChemicalSubstance</td>\n",
       "      <td>dbo:ChemicalCompound</td>\n",
       "      <td>resource</td>\n",
       "      <td>resource</td>\n",
       "      <td>dbo:ChemicalSubstance</td>\n",
       "    </tr>\n",
       "    <tr>\n",
       "      <th>2</th>\n",
       "      <td>dbpedia_5514</td>\n",
       "      <td>What is the age of the oldest person to have a...</td>\n",
       "      <td>resource</td>\n",
       "      <td>['dbo:Award']</td>\n",
       "      <td>dbo:Award</td>\n",
       "      <td>dbo:Award</td>\n",
       "      <td>resource</td>\n",
       "      <td>number</td>\n",
       "      <td>dbo:Place</td>\n",
       "    </tr>\n",
       "    <tr>\n",
       "      <th>3</th>\n",
       "      <td>dbpedia_20642</td>\n",
       "      <td>Who are some US colonels?</td>\n",
       "      <td>resource</td>\n",
       "      <td>['dbo:MilitaryPerson', 'dbo:Person', 'dbo:Agent']</td>\n",
       "      <td>dbo:Agent</td>\n",
       "      <td>dbo:MilitaryPerson</td>\n",
       "      <td>resource</td>\n",
       "      <td>resource</td>\n",
       "      <td>dbo:Agent</td>\n",
       "    </tr>\n",
       "    <tr>\n",
       "      <th>4</th>\n",
       "      <td>dbpedia_20171</td>\n",
       "      <td>Who preceded Lucius Crus as an office holder?</td>\n",
       "      <td>resource</td>\n",
       "      <td>['dbo:OfficeHolder', 'dbo:Person', 'dbo:Agent']</td>\n",
       "      <td>dbo:Agent</td>\n",
       "      <td>dbo:OfficeHolder</td>\n",
       "      <td>resource</td>\n",
       "      <td>resource</td>\n",
       "      <td>dbo:Agent</td>\n",
       "    </tr>\n",
       "  </tbody>\n",
       "</table>\n",
       "</div>"
      ],
      "text/plain": [
       "              id                                           question  category  \\\n",
       "0  dbpedia_11965  who member  of played by of The Blue Ridge Ran...  resource   \n",
       "1  dbpedia_13067  What is the Class IIIA combustible liquid with...  resource   \n",
       "2   dbpedia_5514  What is the age of the oldest person to have a...  resource   \n",
       "3  dbpedia_20642                          Who are some US colonels?  resource   \n",
       "4  dbpedia_20171      Who preceded Lucius Crus as an office holder?  resource   \n",
       "\n",
       "                                                type            single_type  \\\n",
       "0  ['dbo:Band', 'dbo:Group', 'dbo:Organisation', ...              dbo:Agent   \n",
       "1  ['dbo:ChemicalCompound', 'dbo:ChemicalSubstance']  dbo:ChemicalSubstance   \n",
       "2                                      ['dbo:Award']              dbo:Award   \n",
       "3  ['dbo:MilitaryPerson', 'dbo:Person', 'dbo:Agent']              dbo:Agent   \n",
       "4    ['dbo:OfficeHolder', 'dbo:Person', 'dbo:Agent']              dbo:Agent   \n",
       "\n",
       "          specific_type extended_cat  cat_pred              type_pred  \n",
       "0              dbo:Band     resource  resource              dbo:Agent  \n",
       "1  dbo:ChemicalCompound     resource  resource  dbo:ChemicalSubstance  \n",
       "2             dbo:Award     resource    number              dbo:Place  \n",
       "3    dbo:MilitaryPerson     resource  resource              dbo:Agent  \n",
       "4      dbo:OfficeHolder     resource  resource              dbo:Agent  "
      ]
     },
     "execution_count": 10,
     "metadata": {},
     "output_type": "execute_result"
    }
   ],
   "source": [
    "valid_res_df= pd.read_csv('datasets/dbpedia_valid_type_predictions.csv')\n",
    "valid_res_df.head()"
   ]
  },
  {
   "cell_type": "code",
   "execution_count": 11,
   "metadata": {},
   "outputs": [],
   "source": [
    "y_actu= valid_res_df.single_type.to_list()\n",
    "y_pred= valid_res_df.type_pred.to_list()\n",
    "cm = ConfusionMatrix(y_actu, y_pred)"
   ]
  },
  {
   "cell_type": "code",
   "execution_count": 12,
   "metadata": {},
   "outputs": [
    {
     "name": "stderr",
     "output_type": "stream",
     "text": [
      "<ipython-input-12-37add1938c2e>:12: UserWarning: Matplotlib is currently using agg, which is a non-GUI backend, so cannot show the figure.\n",
      "  plt.show()\n"
     ]
    }
   ],
   "source": [
    "import matplotlib\n",
    "matplotlib.use('Agg')\n",
    "import matplotlib.pyplot as plt\n",
    "matplotlib.style.use('ggplot')\n",
    "import seaborn as sns\n",
    "sns.set()\n",
    "fig, ax = plt.subplots(figsize=(10,10))\n",
    "ax= sns.heatmap(pd.DataFrame(cm.table), annot=True, annot_kws={\"size\": 9}, fmt='d', cmap=\"Blues\")\n",
    "#plt.xlabel('Experts'); plt.ylabel('Workers');\n",
    "ax.set_xlabel('Actual');ax.set_ylabel('Predicted'); \n",
    "plt.tight_layout()\n",
    "plt.show()\n",
    "#ax.get_figure().savefig('worker_vs_expert.png', dpi=200)"
   ]
  },
  {
   "cell_type": "code",
   "execution_count": 13,
   "metadata": {},
   "outputs": [],
   "source": [
    "ax.get_figure().savefig('figures/confusion_matrix.png', dpi=200)"
   ]
  },
  {
   "cell_type": "code",
   "execution_count": null,
   "metadata": {},
   "outputs": [],
   "source": []
  }
 ],
 "metadata": {
  "kernelspec": {
   "display_name": "Python 3",
   "language": "python",
   "name": "python3"
  },
  "language_info": {
   "codemirror_mode": {
    "name": "ipython",
    "version": 3
   },
   "file_extension": ".py",
   "mimetype": "text/x-python",
   "name": "python",
   "nbconvert_exporter": "python",
   "pygments_lexer": "ipython3",
   "version": "3.8.3"
  }
 },
 "nbformat": 4,
 "nbformat_minor": 4
}
