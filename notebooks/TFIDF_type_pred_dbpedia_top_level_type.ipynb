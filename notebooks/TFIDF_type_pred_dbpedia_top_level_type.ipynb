{
  "nbformat": 4,
  "nbformat_minor": 0,
  "metadata": {
    "colab": {
      "name": "TFIDF_type_pred-dbpedia_top_level_type.ipynb",
      "provenance": [],
      "collapsed_sections": [],
      "include_colab_link": true
    },
    "kernelspec": {
      "display_name": "Python 3",
      "language": "python",
      "name": "python3"
    },
    "language_info": {
      "codemirror_mode": {
        "name": "ipython",
        "version": 3
      },
      "file_extension": ".py",
      "mimetype": "text/x-python",
      "name": "python",
      "nbconvert_exporter": "python",
      "pygments_lexer": "ipython3",
      "version": "3.6.8"
    }
  },
  "cells": [
    {
      "cell_type": "markdown",
      "metadata": {
        "id": "view-in-github",
        "colab_type": "text"
      },
      "source": [
        "<a href=\"https://colab.research.google.com/github/rcelebi/iswc2020-smarttask/blob/master/TFIDF_type_pred_dbpedia_top_level_type.ipynb\" target=\"_parent\"><img src=\"https://colab.research.google.com/assets/colab-badge.svg\" alt=\"Open In Colab\"/></a>"
      ]
    },
    {
      "cell_type": "markdown",
      "metadata": {
        "id": "6Q89yZwuZNln"
      },
      "source": [
        "## Data"
      ]
    },
    {
      "cell_type": "code",
      "metadata": {
        "id": "WLBmztiQ7nSY",
        "colab": {
          "base_uri": "https://localhost:8080/"
        },
        "outputId": "122a022d-df7a-4366-c9fc-b7a41e31420f"
      },
      "source": [
        "from google.colab import drive\n",
        "drive.mount('/content/drive/')"
      ],
      "execution_count": 1,
      "outputs": [
        {
          "output_type": "stream",
          "text": [
            "Mounted at /content/drive/\n"
          ],
          "name": "stdout"
        }
      ]
    },
    {
      "cell_type": "code",
      "metadata": {
        "id": "R6GeRlxp74y4"
      },
      "source": [
        "import os\n",
        "path_to_ipynb = '/content/drive/My Drive/iswc-ammar/shervin'\n",
        "# change directory to where autoregq.py, src, and data are\n",
        "os.chdir(path_to_ipynb)"
      ],
      "execution_count": 2,
      "outputs": []
    },
    {
      "cell_type": "code",
      "metadata": {
        "id": "bUpUsiAoewcn"
      },
      "source": [
        "import pandas as pd\n",
        "import numpy as np\n",
        "dbpedia_df = pd.read_json('data/smarttask_dbpedia_train.json')"
      ],
      "execution_count": 3,
      "outputs": []
    },
    {
      "cell_type": "code",
      "metadata": {
        "id": "WBtytQ0p7SX8"
      },
      "source": [
        "test_df= pd.read_json('data/smarttask_dbpedia_test.json')"
      ],
      "execution_count": 4,
      "outputs": []
    },
    {
      "cell_type": "code",
      "metadata": {
        "id": "NrElntLz7SX_",
        "colab": {
          "base_uri": "https://localhost:8080/",
          "height": 202
        },
        "outputId": "19f13389-0e25-4c80-8300-03ccad746434"
      },
      "source": [
        "test_df.head()"
      ],
      "execution_count": 5,
      "outputs": [
        {
          "output_type": "execute_result",
          "data": {
            "text/html": [
              "<div>\n",
              "<style scoped>\n",
              "    .dataframe tbody tr th:only-of-type {\n",
              "        vertical-align: middle;\n",
              "    }\n",
              "\n",
              "    .dataframe tbody tr th {\n",
              "        vertical-align: top;\n",
              "    }\n",
              "\n",
              "    .dataframe thead th {\n",
              "        text-align: right;\n",
              "    }\n",
              "</style>\n",
              "<table border=\"1\" class=\"dataframe\">\n",
              "  <thead>\n",
              "    <tr style=\"text-align: right;\">\n",
              "      <th></th>\n",
              "      <th>id</th>\n",
              "      <th>question</th>\n",
              "      <th>category</th>\n",
              "      <th>type</th>\n",
              "    </tr>\n",
              "  </thead>\n",
              "  <tbody>\n",
              "    <tr>\n",
              "      <th>0</th>\n",
              "      <td>dbpedia_16015</td>\n",
              "      <td>How many ingredients are in the grain} ?</td>\n",
              "      <td>literal</td>\n",
              "      <td>[number]</td>\n",
              "    </tr>\n",
              "    <tr>\n",
              "      <th>1</th>\n",
              "      <td>dbpedia_3885</td>\n",
              "      <td>Is the case fatality rate of Fournier gangrene...</td>\n",
              "      <td>boolean</td>\n",
              "      <td>[boolean]</td>\n",
              "    </tr>\n",
              "    <tr>\n",
              "      <th>2</th>\n",
              "      <td>dbpedia_12907</td>\n",
              "      <td>Does the shelf life of spinach equal 8?</td>\n",
              "      <td>boolean</td>\n",
              "      <td>[boolean]</td>\n",
              "    </tr>\n",
              "    <tr>\n",
              "      <th>3</th>\n",
              "      <td>dbpedia_7955</td>\n",
              "      <td>What sound does a pig make in the French langu...</td>\n",
              "      <td>literal</td>\n",
              "      <td>[string]</td>\n",
              "    </tr>\n",
              "    <tr>\n",
              "      <th>4</th>\n",
              "      <td>dbpedia_2376</td>\n",
              "      <td>When was Fergie completed his record label in ...</td>\n",
              "      <td>literal</td>\n",
              "      <td>[date]</td>\n",
              "    </tr>\n",
              "  </tbody>\n",
              "</table>\n",
              "</div>"
            ],
            "text/plain": [
              "              id  ...       type\n",
              "0  dbpedia_16015  ...   [number]\n",
              "1   dbpedia_3885  ...  [boolean]\n",
              "2  dbpedia_12907  ...  [boolean]\n",
              "3   dbpedia_7955  ...   [string]\n",
              "4   dbpedia_2376  ...     [date]\n",
              "\n",
              "[5 rows x 4 columns]"
            ]
          },
          "metadata": {
            "tags": []
          },
          "execution_count": 5
        }
      ]
    },
    {
      "cell_type": "code",
      "metadata": {
        "id": "hLdG-MW37SYG"
      },
      "source": [
        "answer_types = {}\n",
        "for answers in dbpedia_df.type:\n",
        "    for a in answers:\n",
        "        if a in answer_types:\n",
        "            answer_types[a]+=1\n",
        "        else:\n",
        "            answer_types[a]=1\n",
        "\n",
        "def multitype_to_freqtype(type_list):\n",
        "    for t in sorted(sorted_types, key=lambda item: item[1]):\n",
        "        if sorted_types[t] < 1000: \n",
        "          if t in type_list:\n",
        "              return t\n",
        "\n",
        "    for t in sorted(sorted_types, key=lambda item: item[1]):\n",
        "          if t in type_list:\n",
        "              return t\n",
        "    \n",
        "\n",
        "def types_to_bottom_type(type_list):\n",
        "    if len(type_list) == 0:\n",
        "      return None \n",
        "    return type_list[0]\n",
        "\n",
        "\n",
        "def types_to_top_type(type_list):\n",
        "    if len(type_list) == 0:\n",
        "      return None \n",
        "    return type_list[-1]\n",
        "            \n",
        "answ_df =pd.DataFrame.from_dict(answer_types, orient='index', columns=['Freq'])\n",
        "sorted_types = answ_df.sort_values(by='Freq', ascending=False).to_dict()['Freq']\n",
        "\n",
        "dbpedia_df['frequent_type'] =dbpedia_df.type.apply(multitype_to_freqtype)\n",
        "dbpedia_df['bottom_level_type'] =dbpedia_df.type.apply(types_to_bottom_type)\n",
        "dbpedia_df['top_level_type'] =dbpedia_df.type.apply(types_to_top_type)"
      ],
      "execution_count": 6,
      "outputs": []
    },
    {
      "cell_type": "code",
      "metadata": {
        "id": "Rv6UO6412vGP"
      },
      "source": [
        "test_df['frequent_type'] =test_df.type.apply(multitype_to_freqtype)\n",
        "test_df['bottom_level_type'] =test_df.type.apply(types_to_bottom_type)\n",
        "test_df['top_level_type'] =test_df.type.apply(types_to_top_type)"
      ],
      "execution_count": 7,
      "outputs": []
    },
    {
      "cell_type": "code",
      "metadata": {
        "id": "WHTb6lB-GAsQ"
      },
      "source": [
        "dbpedia_df= dbpedia_df[dbpedia_df.category.notna()]\n",
        "test_df= test_df[test_df.category.notna()]"
      ],
      "execution_count": 8,
      "outputs": []
    },
    {
      "cell_type": "code",
      "metadata": {
        "id": "BWVt2DP27SYU"
      },
      "source": [
        "dbpedia_df= dbpedia_df[dbpedia_df['frequent_type'].notna()]\n",
        "test_df= test_df[test_df['frequent_type'].notna()]"
      ],
      "execution_count": 9,
      "outputs": []
    },
    {
      "cell_type": "code",
      "metadata": {
        "id": "PPP6ZtYLhnH3"
      },
      "source": [
        "dbpedia_df.dropna( subset=['question'], inplace=True)\n",
        "test_df.dropna( subset=['question'], inplace=True)"
      ],
      "execution_count": 10,
      "outputs": []
    },
    {
      "cell_type": "code",
      "metadata": {
        "id": "Z02pWhSPgSGj",
        "colab": {
          "base_uri": "https://localhost:8080/",
          "height": 479
        },
        "outputId": "368946a0-2788-4bc3-9e9d-a76442d334a7"
      },
      "source": [
        "dbpedia_df.head()"
      ],
      "execution_count": 11,
      "outputs": [
        {
          "output_type": "execute_result",
          "data": {
            "text/html": [
              "<div>\n",
              "<style scoped>\n",
              "    .dataframe tbody tr th:only-of-type {\n",
              "        vertical-align: middle;\n",
              "    }\n",
              "\n",
              "    .dataframe tbody tr th {\n",
              "        vertical-align: top;\n",
              "    }\n",
              "\n",
              "    .dataframe thead th {\n",
              "        text-align: right;\n",
              "    }\n",
              "</style>\n",
              "<table border=\"1\" class=\"dataframe\">\n",
              "  <thead>\n",
              "    <tr style=\"text-align: right;\">\n",
              "      <th></th>\n",
              "      <th>id</th>\n",
              "      <th>question</th>\n",
              "      <th>category</th>\n",
              "      <th>type</th>\n",
              "      <th>frequent_type</th>\n",
              "      <th>bottom_level_type</th>\n",
              "      <th>top_level_type</th>\n",
              "    </tr>\n",
              "  </thead>\n",
              "  <tbody>\n",
              "    <tr>\n",
              "      <th>0</th>\n",
              "      <td>dbpedia_1177</td>\n",
              "      <td>Was Jacqueline Kennedy Onassis a follower of M...</td>\n",
              "      <td>boolean</td>\n",
              "      <td>[boolean]</td>\n",
              "      <td>boolean</td>\n",
              "      <td>boolean</td>\n",
              "      <td>boolean</td>\n",
              "    </tr>\n",
              "    <tr>\n",
              "      <th>1</th>\n",
              "      <td>dbpedia_14427</td>\n",
              "      <td>What is the name of the opera based on Twelfth...</td>\n",
              "      <td>resource</td>\n",
              "      <td>[dbo:Opera, dbo:MusicalWork, dbo:Work]</td>\n",
              "      <td>dbo:Work</td>\n",
              "      <td>dbo:Opera</td>\n",
              "      <td>dbo:Work</td>\n",
              "    </tr>\n",
              "    <tr>\n",
              "      <th>2</th>\n",
              "      <td>dbpedia_16615</td>\n",
              "      <td>When did Lena Horne receive the Grammy Award f...</td>\n",
              "      <td>literal</td>\n",
              "      <td>[date]</td>\n",
              "      <td>date</td>\n",
              "      <td>date</td>\n",
              "      <td>date</td>\n",
              "    </tr>\n",
              "    <tr>\n",
              "      <th>3</th>\n",
              "      <td>dbpedia_23480</td>\n",
              "      <td>Do Prince Harry and Prince William have the sa...</td>\n",
              "      <td>boolean</td>\n",
              "      <td>[boolean]</td>\n",
              "      <td>boolean</td>\n",
              "      <td>boolean</td>\n",
              "      <td>boolean</td>\n",
              "    </tr>\n",
              "    <tr>\n",
              "      <th>4</th>\n",
              "      <td>dbpedia_3681</td>\n",
              "      <td>What is the subsidiary company working for Leo...</td>\n",
              "      <td>resource</td>\n",
              "      <td>[dbo:EducationalInstitution, dbo:Organisation,...</td>\n",
              "      <td>dbo:EducationalInstitution</td>\n",
              "      <td>dbo:EducationalInstitution</td>\n",
              "      <td>dbo:Agent</td>\n",
              "    </tr>\n",
              "  </tbody>\n",
              "</table>\n",
              "</div>"
            ],
            "text/plain": [
              "              id  ... top_level_type\n",
              "0   dbpedia_1177  ...        boolean\n",
              "1  dbpedia_14427  ...       dbo:Work\n",
              "2  dbpedia_16615  ...           date\n",
              "3  dbpedia_23480  ...        boolean\n",
              "4   dbpedia_3681  ...      dbo:Agent\n",
              "\n",
              "[5 rows x 7 columns]"
            ]
          },
          "metadata": {
            "tags": []
          },
          "execution_count": 11
        }
      ]
    },
    {
      "cell_type": "code",
      "metadata": {
        "id": "mvoXvf7EEo5M"
      },
      "source": [
        "def extend_cat(row):\n",
        "  if row['category'] =='boolean':\n",
        "    return row['category']\n",
        "  elif row['category'] == 'literal':\n",
        "    return row['frequent_type']\n",
        "  else:\n",
        "    return row['category']\n"
      ],
      "execution_count": 12,
      "outputs": []
    },
    {
      "cell_type": "code",
      "metadata": {
        "id": "TYQgLu0Oew84"
      },
      "source": [
        "dbpedia_df['extended_cat'] = dbpedia_df.apply(extend_cat, axis=1)"
      ],
      "execution_count": 13,
      "outputs": []
    },
    {
      "cell_type": "code",
      "metadata": {
        "id": "-G-NCWVkZF2o"
      },
      "source": [
        "dbpedia_res_df = dbpedia_df[dbpedia_df.category=='resource']"
      ],
      "execution_count": 14,
      "outputs": []
    },
    {
      "cell_type": "code",
      "metadata": {
        "id": "btjxmoY2IIB7",
        "colab": {
          "base_uri": "https://localhost:8080/"
        },
        "outputId": "0daff471-a7e8-4f1f-a615-ffbde2e97807"
      },
      "source": [
        "VALIDATION_SPLIT = 0.2\n",
        "indicies = np.arange(dbpedia_res_df.shape[0])\n",
        "np.random.shuffle(indicies)\n",
        "num_valid_samples = int(VALIDATION_SPLIT * dbpedia_res_df.shape[0])\n",
        "num_valid_samples"
      ],
      "execution_count": 15,
      "outputs": [
        {
          "output_type": "execute_result",
          "data": {
            "text/plain": [
              "1911"
            ]
          },
          "metadata": {
            "tags": []
          },
          "execution_count": 15
        }
      ]
    },
    {
      "cell_type": "code",
      "metadata": {
        "id": "ZDrkSlAx7SYg"
      },
      "source": [
        "num_test_samples=  int(num_valid_samples/2)"
      ],
      "execution_count": 16,
      "outputs": []
    },
    {
      "cell_type": "code",
      "metadata": {
        "id": "YAYxMSbLI-au"
      },
      "source": [
        "dbpedia_res_df=dbpedia_res_df.iloc[indicies]"
      ],
      "execution_count": 17,
      "outputs": []
    },
    {
      "cell_type": "code",
      "metadata": {
        "id": "cUbcdtQoIWPv",
        "colab": {
          "base_uri": "https://localhost:8080/",
          "height": 603
        },
        "outputId": "382b0ca8-17e6-4359-faf7-65d68731bb9c"
      },
      "source": [
        "train_df= dbpedia_res_df[:-num_valid_samples]\n",
        "train_df.head()"
      ],
      "execution_count": 18,
      "outputs": [
        {
          "output_type": "execute_result",
          "data": {
            "text/html": [
              "<div>\n",
              "<style scoped>\n",
              "    .dataframe tbody tr th:only-of-type {\n",
              "        vertical-align: middle;\n",
              "    }\n",
              "\n",
              "    .dataframe tbody tr th {\n",
              "        vertical-align: top;\n",
              "    }\n",
              "\n",
              "    .dataframe thead th {\n",
              "        text-align: right;\n",
              "    }\n",
              "</style>\n",
              "<table border=\"1\" class=\"dataframe\">\n",
              "  <thead>\n",
              "    <tr style=\"text-align: right;\">\n",
              "      <th></th>\n",
              "      <th>id</th>\n",
              "      <th>question</th>\n",
              "      <th>category</th>\n",
              "      <th>type</th>\n",
              "      <th>frequent_type</th>\n",
              "      <th>bottom_level_type</th>\n",
              "      <th>top_level_type</th>\n",
              "      <th>extended_cat</th>\n",
              "    </tr>\n",
              "  </thead>\n",
              "  <tbody>\n",
              "    <tr>\n",
              "      <th>11012</th>\n",
              "      <td>dbpedia_7271</td>\n",
              "      <td>What is the largest lake in Canada?</td>\n",
              "      <td>resource</td>\n",
              "      <td>[dbo:Lake, dbo:BodyOfWater, dbo:NaturalPlace, ...</td>\n",
              "      <td>dbo:NaturalPlace</td>\n",
              "      <td>dbo:Lake</td>\n",
              "      <td>dbo:Location</td>\n",
              "      <td>resource</td>\n",
              "    </tr>\n",
              "    <tr>\n",
              "      <th>16135</th>\n",
              "      <td>dbpedia_19025</td>\n",
              "      <td>Name the kingdom with currency Solidus (coin) ...</td>\n",
              "      <td>resource</td>\n",
              "      <td>[dbo:Country, dbo:PopulatedPlace, dbo:Place, d...</td>\n",
              "      <td>dbo:Country</td>\n",
              "      <td>dbo:Country</td>\n",
              "      <td>dbo:Location</td>\n",
              "      <td>resource</td>\n",
              "    </tr>\n",
              "    <tr>\n",
              "      <th>15884</th>\n",
              "      <td>dbpedia_8823</td>\n",
              "      <td>Who is the structural engineer for Burj al-Arab?</td>\n",
              "      <td>resource</td>\n",
              "      <td>[dbo:Company, dbo:Organisation, dbo:Agent]</td>\n",
              "      <td>dbo:Company</td>\n",
              "      <td>dbo:Company</td>\n",
              "      <td>dbo:Agent</td>\n",
              "      <td>resource</td>\n",
              "    </tr>\n",
              "    <tr>\n",
              "      <th>15814</th>\n",
              "      <td>dbpedia_7705</td>\n",
              "      <td>Who is the disciple of Louise Elisabeth Vigee ...</td>\n",
              "      <td>resource</td>\n",
              "      <td>[dbo:Person, dbo:Agent]</td>\n",
              "      <td>dbo:Agent</td>\n",
              "      <td>dbo:Person</td>\n",
              "      <td>dbo:Agent</td>\n",
              "      <td>resource</td>\n",
              "    </tr>\n",
              "    <tr>\n",
              "      <th>8782</th>\n",
              "      <td>dbpedia_20011</td>\n",
              "      <td>What are the television shows whose company is...</td>\n",
              "      <td>resource</td>\n",
              "      <td>[dbo:TelevisionShow, dbo:Work]</td>\n",
              "      <td>dbo:Work</td>\n",
              "      <td>dbo:TelevisionShow</td>\n",
              "      <td>dbo:Work</td>\n",
              "      <td>resource</td>\n",
              "    </tr>\n",
              "  </tbody>\n",
              "</table>\n",
              "</div>"
            ],
            "text/plain": [
              "                  id  ... extended_cat\n",
              "11012   dbpedia_7271  ...     resource\n",
              "16135  dbpedia_19025  ...     resource\n",
              "15884   dbpedia_8823  ...     resource\n",
              "15814   dbpedia_7705  ...     resource\n",
              "8782   dbpedia_20011  ...     resource\n",
              "\n",
              "[5 rows x 8 columns]"
            ]
          },
          "metadata": {
            "tags": []
          },
          "execution_count": 18
        }
      ]
    },
    {
      "cell_type": "code",
      "metadata": {
        "id": "jH_U7DpbJL_R",
        "colab": {
          "base_uri": "https://localhost:8080/",
          "height": 673
        },
        "outputId": "3c260eaf-0435-4c59-dec6-5c0b9551ebf5"
      },
      "source": [
        "valid_df= dbpedia_res_df[-num_valid_samples:]\n",
        "valid_df.head()"
      ],
      "execution_count": 19,
      "outputs": [
        {
          "output_type": "execute_result",
          "data": {
            "text/html": [
              "<div>\n",
              "<style scoped>\n",
              "    .dataframe tbody tr th:only-of-type {\n",
              "        vertical-align: middle;\n",
              "    }\n",
              "\n",
              "    .dataframe tbody tr th {\n",
              "        vertical-align: top;\n",
              "    }\n",
              "\n",
              "    .dataframe thead th {\n",
              "        text-align: right;\n",
              "    }\n",
              "</style>\n",
              "<table border=\"1\" class=\"dataframe\">\n",
              "  <thead>\n",
              "    <tr style=\"text-align: right;\">\n",
              "      <th></th>\n",
              "      <th>id</th>\n",
              "      <th>question</th>\n",
              "      <th>category</th>\n",
              "      <th>type</th>\n",
              "      <th>frequent_type</th>\n",
              "      <th>bottom_level_type</th>\n",
              "      <th>top_level_type</th>\n",
              "      <th>extended_cat</th>\n",
              "    </tr>\n",
              "  </thead>\n",
              "  <tbody>\n",
              "    <tr>\n",
              "      <th>10460</th>\n",
              "      <td>dbpedia_17532</td>\n",
              "      <td>Which {film genre} is {voiced by} of {Aestheti...</td>\n",
              "      <td>resource</td>\n",
              "      <td>[dbo:MusicGenre, dbo:Genre, dbo:TopicalConcept]</td>\n",
              "      <td>dbo:TopicalConcept</td>\n",
              "      <td>dbo:MusicGenre</td>\n",
              "      <td>dbo:TopicalConcept</td>\n",
              "      <td>resource</td>\n",
              "    </tr>\n",
              "    <tr>\n",
              "      <th>4377</th>\n",
              "      <td>dbpedia_22304</td>\n",
              "      <td>who are starring in the movies written by Mark...</td>\n",
              "      <td>resource</td>\n",
              "      <td>[dbo:Person, dbo:Agent]</td>\n",
              "      <td>dbo:Agent</td>\n",
              "      <td>dbo:Person</td>\n",
              "      <td>dbo:Agent</td>\n",
              "      <td>resource</td>\n",
              "    </tr>\n",
              "    <tr>\n",
              "      <th>13984</th>\n",
              "      <td>dbpedia_13887</td>\n",
              "      <td>Who is graduated from Georges Dumézil whose pa...</td>\n",
              "      <td>resource</td>\n",
              "      <td>[dbo:EducationalInstitution, dbo:Organisation,...</td>\n",
              "      <td>dbo:EducationalInstitution</td>\n",
              "      <td>dbo:EducationalInstitution</td>\n",
              "      <td>dbo:Agent</td>\n",
              "      <td>resource</td>\n",
              "    </tr>\n",
              "    <tr>\n",
              "      <th>8552</th>\n",
              "      <td>dbpedia_18564</td>\n",
              "      <td>Who all have appointed governess born in Magno...</td>\n",
              "      <td>resource</td>\n",
              "      <td>[dbo:OfficeHolder, dbo:Person, dbo:Agent]</td>\n",
              "      <td>dbo:OfficeHolder</td>\n",
              "      <td>dbo:OfficeHolder</td>\n",
              "      <td>dbo:Agent</td>\n",
              "      <td>resource</td>\n",
              "    </tr>\n",
              "    <tr>\n",
              "      <th>289</th>\n",
              "      <td>dbpedia_18673</td>\n",
              "      <td>To which company is Michael Dell a father comp...</td>\n",
              "      <td>resource</td>\n",
              "      <td>[dbo:Company, dbo:Organisation, dbo:Agent]</td>\n",
              "      <td>dbo:Company</td>\n",
              "      <td>dbo:Company</td>\n",
              "      <td>dbo:Agent</td>\n",
              "      <td>resource</td>\n",
              "    </tr>\n",
              "  </tbody>\n",
              "</table>\n",
              "</div>"
            ],
            "text/plain": [
              "                  id  ... extended_cat\n",
              "10460  dbpedia_17532  ...     resource\n",
              "4377   dbpedia_22304  ...     resource\n",
              "13984  dbpedia_13887  ...     resource\n",
              "8552   dbpedia_18564  ...     resource\n",
              "289    dbpedia_18673  ...     resource\n",
              "\n",
              "[5 rows x 8 columns]"
            ]
          },
          "metadata": {
            "tags": []
          },
          "execution_count": 19
        }
      ]
    },
    {
      "cell_type": "code",
      "metadata": {
        "id": "oVbH4yCZ7SYp",
        "colab": {
          "base_uri": "https://localhost:8080/"
        },
        "outputId": "99a55341-a292-41b9-9d91-ea93e8dd7c23"
      },
      "source": [
        "len(valid_df)"
      ],
      "execution_count": 20,
      "outputs": [
        {
          "output_type": "execute_result",
          "data": {
            "text/plain": [
              "1911"
            ]
          },
          "metadata": {
            "tags": []
          },
          "execution_count": 20
        }
      ]
    },
    {
      "cell_type": "code",
      "metadata": {
        "id": "t-mlCnDjtjFV"
      },
      "source": [
        "#valid_df.to_csv('/content/drive/My Drive/fastai-v3/data/smarttask/dbpedia_valid_gold.csv', index=False)"
      ],
      "execution_count": 21,
      "outputs": []
    },
    {
      "cell_type": "code",
      "metadata": {
        "id": "S7io8zkd7SYr"
      },
      "source": [
        "#test_df= dbpedia_df[-num_test_samples:]\n",
        "#test_df.head()"
      ],
      "execution_count": 22,
      "outputs": []
    },
    {
      "cell_type": "code",
      "metadata": {
        "id": "k-7EDQfKLSjC",
        "colab": {
          "base_uri": "https://localhost:8080/"
        },
        "outputId": "f6fdbb06-4dfc-4372-a7f0-8f1955e858a9"
      },
      "source": [
        "len(valid_df)"
      ],
      "execution_count": 23,
      "outputs": [
        {
          "output_type": "execute_result",
          "data": {
            "text/plain": [
              "1911"
            ]
          },
          "metadata": {
            "tags": []
          },
          "execution_count": 23
        }
      ]
    },
    {
      "cell_type": "markdown",
      "metadata": {
        "id": "-2iYXi-k7SZX"
      },
      "source": [
        "## Most frequent/generic type prediction"
      ]
    },
    {
      "cell_type": "code",
      "metadata": {
        "id": "DRPVfHb87SZa"
      },
      "source": [
        "target = 'top_level_type'\n"
      ],
      "execution_count": 38,
      "outputs": []
    },
    {
      "cell_type": "code",
      "metadata": {
        "id": "bgHEuW4yD6tZ",
        "colab": {
          "base_uri": "https://localhost:8080/"
        },
        "outputId": "da15e839-91f8-4e58-a56c-fd6139e8523b"
      },
      "source": [
        "train_res_df= train_df[train_df.category =='resource']\n",
        "valid_res_df= valid_df[valid_df.category =='resource']\n",
        "test_res_df= test_df[test_df.category =='resource']\n",
        "len(train_res_df),len(valid_res_df),len(test_res_df)"
      ],
      "execution_count": 39,
      "outputs": [
        {
          "output_type": "execute_result",
          "data": {
            "text/plain": [
              "(7646, 1911, 2445)"
            ]
          },
          "metadata": {
            "tags": []
          },
          "execution_count": 39
        }
      ]
    },
    {
      "cell_type": "code",
      "metadata": {
        "colab": {
          "base_uri": "https://localhost:8080/"
        },
        "id": "IjghmXjpVNHL",
        "outputId": "6ef34cba-69fd-4a05-9df9-ac6dc558a463"
      },
      "source": [
        "all_res_df = train_res_df.append(valid_res_df).append(test_res_df) \n",
        "n_utypes = all_res_df[target].unique()\n",
        "print (len(n_utypes))"
      ],
      "execution_count": 40,
      "outputs": [
        {
          "output_type": "stream",
          "text": [
            "46\n"
          ],
          "name": "stdout"
        }
      ]
    },
    {
      "cell_type": "code",
      "metadata": {
        "id": "Gi1kRUIyEKre",
        "colab": {
          "base_uri": "https://localhost:8080/"
        },
        "outputId": "235a37a8-b3d2-4d6b-e44b-0e348f6d72cb"
      },
      "source": [
        "len(train_res_df), len(valid_res_df)"
      ],
      "execution_count": 41,
      "outputs": [
        {
          "output_type": "execute_result",
          "data": {
            "text/plain": [
              "(7646, 1911)"
            ]
          },
          "metadata": {
            "tags": []
          },
          "execution_count": 41
        }
      ]
    },
    {
      "cell_type": "code",
      "metadata": {
        "id": "YVgGnGFsTdbm"
      },
      "source": [
        "type_hierarchy = {}\n",
        "to_upper_class = {}\n",
        "for i, row in dbpedia_res_df.type.iteritems():\n",
        "    #print (row)\n",
        "    types= list(row)\n",
        "    for i in range(len(types)-1):\n",
        "      parent = types[i]\n",
        "      child = types[i+1]\n",
        "      #print (parent, child) \n",
        "      if parent not in type_hierarchy:\n",
        "          type_hierarchy[parent] = [child]\n",
        "      else:\n",
        "          type_hierarchy[parent].append(child)\n",
        "          \n",
        "      if child not in to_upper_class:\n",
        "          to_upper_class[child] = parent"
      ],
      "execution_count": 42,
      "outputs": []
    },
    {
      "cell_type": "code",
      "metadata": {
        "id": "4Rlq1IJ6TSBU"
      },
      "source": [
        "def to_super_class(specific_type, type_with_less_freq):\n",
        "    if specific_type in type_with_less_freq:\n",
        "        if specific_type in to_upper_class:\n",
        "            #if to_upper_class[specific_type] == 'owl:Thing':\n",
        "            #   return specific_type\n",
        "            return to_upper_class[specific_type]\n",
        "    return specific_type\n",
        "\n",
        "def to_sub_class(specific_type, type_with_less_freq):\n",
        "    if specific_type in type_with_less_freq:\n",
        "        if specific_type in to_upper_class:\n",
        "            #if to_upper_class[specific_type] == 'owl:Thing':\n",
        "            #   return specific_type\n",
        "            return type_hierarchy[parent]\n",
        "    return specific_type\n",
        "\n",
        "def choose_freqent_types_balancing(specific_type, iters, min_freq):\n",
        "    for i in range(iters):\n",
        "        specific_type_freq = specific_type.value_counts()\n",
        "        type_with_less_freq = list(specific_type_freq[specific_type_freq < min_freq].keys())\n",
        "        specific_type = specific_type.apply(lambda x: to_super_class(x, type_with_less_freq) )\n",
        "    return specific_type\n",
        "\n",
        "def balance_types(specific_type, min_freq, max_freq):\n",
        "    # slipt to super-classes if number of \n",
        "    \n",
        "    specific_type_freq = specific_type.value_counts()\n",
        "    max_freq =  specific_type_freq.sum() * 2  / len(specific_type_freq)\n",
        "    type_with_most_freq = list(specific_type_freq[specific_type_freq > max_freq].keys())\n",
        "    type_with_less_freq = list(specific_type_freq[specific_type_freq < min_freq].keys())\n",
        "    \n",
        "    specific_type = specific_type.apply(lambda x: to_super_class(x, type_with_less_freq) )\n",
        "\n",
        "\n",
        "def choose_freqent_types_balancing(specific_type, iters, min_freq):\n",
        "    for i in range(iters):\n",
        "        specific_type_freq = specific_type.value_counts()\n",
        "        type_with_less_freq = list(specific_type_freq[specific_type_freq < min_freq].keys())\n",
        "        specific_type = specific_type.apply(lambda x: to_super_class(x, type_with_less_freq) )\n",
        "    return specific_type  "
      ],
      "execution_count": 43,
      "outputs": []
    },
    {
      "cell_type": "code",
      "metadata": {
        "id": "O70gxDq8TnK6"
      },
      "source": [
        "#train_res_df['frequent_type'] =choose_freqent_types_balancing(train_res_df['frequent_type'], 50, 200)"
      ],
      "execution_count": 44,
      "outputs": []
    },
    {
      "cell_type": "markdown",
      "metadata": {
        "id": "77geMBtPOx3q"
      },
      "source": [
        "### TF-IDF Text Classifier\n"
      ]
    },
    {
      "cell_type": "code",
      "metadata": {
        "colab": {
          "base_uri": "https://localhost:8080/"
        },
        "id": "hx9ZW-5eQhwW",
        "outputId": "fc1f9b63-bb37-415d-d3a6-a135fd90b617"
      },
      "source": [
        "label_dict = {}\n",
        "for index, possible_label in enumerate(sorted(all_res_df[target].unique())):\n",
        "    label_dict[possible_label] = index\n",
        "label_dict\n"
      ],
      "execution_count": 45,
      "outputs": [
        {
          "output_type": "execute_result",
          "data": {
            "text/plain": [
              "{'dbo:Activity': 0,\n",
              " 'dbo:Agent': 1,\n",
              " 'dbo:AnatomicalStructure': 2,\n",
              " 'dbo:Award': 3,\n",
              " 'dbo:BaseballTeam': 4,\n",
              " 'dbo:Biomolecule': 5,\n",
              " 'dbo:ChemicalSubstance': 6,\n",
              " 'dbo:City': 7,\n",
              " 'dbo:CollegeCoach': 8,\n",
              " 'dbo:Country': 9,\n",
              " 'dbo:Currency': 10,\n",
              " 'dbo:Device': 11,\n",
              " 'dbo:Disease': 12,\n",
              " 'dbo:EthnicGroup': 13,\n",
              " 'dbo:Event': 14,\n",
              " 'dbo:Flag': 15,\n",
              " 'dbo:Food': 16,\n",
              " 'dbo:Holiday': 17,\n",
              " 'dbo:HorseRace': 18,\n",
              " 'dbo:Language': 19,\n",
              " 'dbo:Location': 20,\n",
              " 'dbo:MeanOfTransportation': 21,\n",
              " 'dbo:Media': 22,\n",
              " 'dbo:MedicalSpecialty': 23,\n",
              " 'dbo:MountainRange': 24,\n",
              " 'dbo:Museum': 25,\n",
              " 'dbo:MusicGenre': 26,\n",
              " 'dbo:MusicalArtist': 27,\n",
              " 'dbo:Name': 28,\n",
              " 'dbo:OfficeHolder': 29,\n",
              " 'dbo:Person': 30,\n",
              " 'dbo:PersonFunction': 31,\n",
              " 'dbo:Place': 32,\n",
              " 'dbo:PoliticalParty': 33,\n",
              " 'dbo:PublicService': 34,\n",
              " 'dbo:RecordLabel': 35,\n",
              " 'dbo:River': 36,\n",
              " 'dbo:SoccerClub': 37,\n",
              " 'dbo:SoccerPlayer': 38,\n",
              " 'dbo:Species': 39,\n",
              " 'dbo:TimePeriod': 40,\n",
              " 'dbo:TopicalConcept': 41,\n",
              " 'dbo:UnitOfWork': 42,\n",
              " 'dbo:University': 43,\n",
              " 'dbo:Work': 44,\n",
              " 'dbo:Writer': 45}"
            ]
          },
          "metadata": {
            "tags": []
          },
          "execution_count": 45
        }
      ]
    },
    {
      "cell_type": "code",
      "metadata": {
        "id": "qaIxDKPfP4Gb"
      },
      "source": [
        "labels_train = train_res_df[target].replace(label_dict).values\n",
        "\n",
        "labels_val = valid_res_df[target].replace(label_dict).values\n"
      ],
      "execution_count": 46,
      "outputs": []
    },
    {
      "cell_type": "code",
      "metadata": {
        "id": "U6ezgcRRSYqu"
      },
      "source": [
        "labels_test = test_res_df[target].replace(label_dict).values"
      ],
      "execution_count": 47,
      "outputs": []
    },
    {
      "cell_type": "code",
      "metadata": {
        "id": "6pq1rMXUcPPf"
      },
      "source": [
        "from sklearn import tree, ensemble\n",
        "from sklearn.pipeline import Pipeline"
      ],
      "execution_count": 48,
      "outputs": []
    },
    {
      "cell_type": "code",
      "metadata": {
        "id": "6bbIEVuScdwl"
      },
      "source": [
        "from sklearn.feature_extraction.text import CountVectorizer\n",
        "from sklearn.feature_extraction.text import TfidfTransformer\n",
        "from sklearn.tree import DecisionTreeClassifier\n"
      ],
      "execution_count": 49,
      "outputs": []
    },
    {
      "cell_type": "code",
      "metadata": {
        "id": "vIrFIfR-cjMt"
      },
      "source": [
        "pipeline = Pipeline([\n",
        "    ('vect', CountVectorizer()),\n",
        "    ('tfidf', TfidfTransformer()),\n",
        "    ('clf', DecisionTreeClassifier()),\n",
        "])"
      ],
      "execution_count": 50,
      "outputs": []
    },
    {
      "cell_type": "code",
      "metadata": {
        "colab": {
          "base_uri": "https://localhost:8080/"
        },
        "id": "XTlZB6jkclfx",
        "outputId": "a2c1f819-2bce-447e-c916-ca256a95c9e1"
      },
      "source": [
        "pipeline.fit(train_res_df['question'], labels_train)"
      ],
      "execution_count": 51,
      "outputs": [
        {
          "output_type": "execute_result",
          "data": {
            "text/plain": [
              "Pipeline(memory=None,\n",
              "         steps=[('vect',\n",
              "                 CountVectorizer(analyzer='word', binary=False,\n",
              "                                 decode_error='strict',\n",
              "                                 dtype=<class 'numpy.int64'>, encoding='utf-8',\n",
              "                                 input='content', lowercase=True, max_df=1.0,\n",
              "                                 max_features=None, min_df=1,\n",
              "                                 ngram_range=(1, 1), preprocessor=None,\n",
              "                                 stop_words=None, strip_accents=None,\n",
              "                                 token_pattern='(?u)\\\\b\\\\w\\\\w+\\\\b',\n",
              "                                 tokenizer=None, vocabulary=Non...\n",
              "                                  sublinear_tf=False, use_idf=True)),\n",
              "                ('clf',\n",
              "                 DecisionTreeClassifier(ccp_alpha=0.0, class_weight=None,\n",
              "                                        criterion='gini', max_depth=None,\n",
              "                                        max_features=None, max_leaf_nodes=None,\n",
              "                                        min_impurity_decrease=0.0,\n",
              "                                        min_impurity_split=None,\n",
              "                                        min_samples_leaf=1, min_samples_split=2,\n",
              "                                        min_weight_fraction_leaf=0.0,\n",
              "                                        presort='deprecated', random_state=None,\n",
              "                                        splitter='best'))],\n",
              "         verbose=False)"
            ]
          },
          "metadata": {
            "tags": []
          },
          "execution_count": 51
        }
      ]
    },
    {
      "cell_type": "code",
      "metadata": {
        "colab": {
          "base_uri": "https://localhost:8080/"
        },
        "id": "OF1xOXTKc3ZE",
        "outputId": "df078823-d0df-4353-85a9-8ee319ce8aef"
      },
      "source": [
        "pipeline.score(valid_res_df['question'], labels_val)"
      ],
      "execution_count": 52,
      "outputs": [
        {
          "output_type": "execute_result",
          "data": {
            "text/plain": [
              "0.6216640502354788"
            ]
          },
          "metadata": {
            "tags": []
          },
          "execution_count": 52
        }
      ]
    },
    {
      "cell_type": "code",
      "metadata": {
        "colab": {
          "base_uri": "https://localhost:8080/"
        },
        "id": "NrOtSNGmdBde",
        "outputId": "58a7037b-88cc-4eed-c98f-2c45a0cbb2f7"
      },
      "source": [
        "pipeline.score(test_res_df['question'], labels_test)"
      ],
      "execution_count": 53,
      "outputs": [
        {
          "output_type": "execute_result",
          "data": {
            "text/plain": [
              "0.44785276073619634"
            ]
          },
          "metadata": {
            "tags": []
          },
          "execution_count": 53
        }
      ]
    },
    {
      "cell_type": "markdown",
      "metadata": {
        "id": "lE0dm7i7duAZ"
      },
      "source": [
        "## RandomForest Classifier"
      ]
    },
    {
      "cell_type": "code",
      "metadata": {
        "id": "9WffC0go9Rq-"
      },
      "source": [
        "pipeline1 = Pipeline([\n",
        "    ('vect', CountVectorizer()),\n",
        "    ('tfidf', TfidfTransformer()),\n",
        "    ('clf', ensemble.RandomForestClassifier(n_estimators=200)),\n",
        "])"
      ],
      "execution_count": 54,
      "outputs": []
    },
    {
      "cell_type": "code",
      "metadata": {
        "colab": {
          "base_uri": "https://localhost:8080/"
        },
        "id": "bChC76sBddWn",
        "outputId": "4eb249f1-e1a4-4ba8-efde-84903a4c17fe"
      },
      "source": [
        "pipeline1.fit(train_res_df['question'], labels_train)"
      ],
      "execution_count": 55,
      "outputs": [
        {
          "output_type": "execute_result",
          "data": {
            "text/plain": [
              "Pipeline(memory=None,\n",
              "         steps=[('vect',\n",
              "                 CountVectorizer(analyzer='word', binary=False,\n",
              "                                 decode_error='strict',\n",
              "                                 dtype=<class 'numpy.int64'>, encoding='utf-8',\n",
              "                                 input='content', lowercase=True, max_df=1.0,\n",
              "                                 max_features=None, min_df=1,\n",
              "                                 ngram_range=(1, 1), preprocessor=None,\n",
              "                                 stop_words=None, strip_accents=None,\n",
              "                                 token_pattern='(?u)\\\\b\\\\w\\\\w+\\\\b',\n",
              "                                 tokenizer=None, vocabulary=Non...\n",
              "                 RandomForestClassifier(bootstrap=True, ccp_alpha=0.0,\n",
              "                                        class_weight=None, criterion='gini',\n",
              "                                        max_depth=None, max_features='auto',\n",
              "                                        max_leaf_nodes=None, max_samples=None,\n",
              "                                        min_impurity_decrease=0.0,\n",
              "                                        min_impurity_split=None,\n",
              "                                        min_samples_leaf=1, min_samples_split=2,\n",
              "                                        min_weight_fraction_leaf=0.0,\n",
              "                                        n_estimators=200, n_jobs=None,\n",
              "                                        oob_score=False, random_state=None,\n",
              "                                        verbose=0, warm_start=False))],\n",
              "         verbose=False)"
            ]
          },
          "metadata": {
            "tags": []
          },
          "execution_count": 55
        }
      ]
    },
    {
      "cell_type": "code",
      "metadata": {
        "colab": {
          "base_uri": "https://localhost:8080/"
        },
        "id": "o1DvyrUYdfwF",
        "outputId": "74362a08-482f-43e4-ab96-1a50979fc6a2"
      },
      "source": [
        "pipeline1.score(valid_res_df['question'], labels_val)"
      ],
      "execution_count": 56,
      "outputs": [
        {
          "output_type": "execute_result",
          "data": {
            "text/plain": [
              "0.7022501308215594"
            ]
          },
          "metadata": {
            "tags": []
          },
          "execution_count": 56
        }
      ]
    },
    {
      "cell_type": "code",
      "metadata": {
        "colab": {
          "base_uri": "https://localhost:8080/"
        },
        "id": "SAnMsi3edoMO",
        "outputId": "92a025e1-d0fc-4e3f-ce51-4b70097c939c"
      },
      "source": [
        "pipeline1.score(test_res_df['question'], labels_test)"
      ],
      "execution_count": 57,
      "outputs": [
        {
          "output_type": "execute_result",
          "data": {
            "text/plain": [
              "0.505521472392638"
            ]
          },
          "metadata": {
            "tags": []
          },
          "execution_count": 57
        }
      ]
    },
    {
      "cell_type": "code",
      "metadata": {
        "id": "Kud08oWFdr4H"
      },
      "source": [
        ""
      ],
      "execution_count": 57,
      "outputs": []
    },
    {
      "cell_type": "markdown",
      "metadata": {
        "id": "BoptWPsYfT0N"
      },
      "source": [
        "## SVM Classifier"
      ]
    },
    {
      "cell_type": "code",
      "metadata": {
        "id": "sRgSxcNYfQ3s"
      },
      "source": [
        "from sklearn.svm import LinearSVC"
      ],
      "execution_count": 58,
      "outputs": []
    },
    {
      "cell_type": "code",
      "metadata": {
        "id": "OySELq1QfRdr"
      },
      "source": [
        "pipeline2 = Pipeline([\n",
        "    ('vect', CountVectorizer()),\n",
        "    ('tfidf', TfidfTransformer()),\n",
        "    ('clf', LinearSVC()),\n",
        "])"
      ],
      "execution_count": 59,
      "outputs": []
    },
    {
      "cell_type": "code",
      "metadata": {
        "colab": {
          "base_uri": "https://localhost:8080/"
        },
        "id": "D3NlZgbCfvP8",
        "outputId": "06f9aa2f-c6dc-4f0a-e08a-b443d0acf926"
      },
      "source": [
        "pipeline2.fit(train_res_df['question'], labels_train)"
      ],
      "execution_count": 60,
      "outputs": [
        {
          "output_type": "execute_result",
          "data": {
            "text/plain": [
              "Pipeline(memory=None,\n",
              "         steps=[('vect',\n",
              "                 CountVectorizer(analyzer='word', binary=False,\n",
              "                                 decode_error='strict',\n",
              "                                 dtype=<class 'numpy.int64'>, encoding='utf-8',\n",
              "                                 input='content', lowercase=True, max_df=1.0,\n",
              "                                 max_features=None, min_df=1,\n",
              "                                 ngram_range=(1, 1), preprocessor=None,\n",
              "                                 stop_words=None, strip_accents=None,\n",
              "                                 token_pattern='(?u)\\\\b\\\\w\\\\w+\\\\b',\n",
              "                                 tokenizer=None, vocabulary=None)),\n",
              "                ('tfidf',\n",
              "                 TfidfTransformer(norm='l2', smooth_idf=True,\n",
              "                                  sublinear_tf=False, use_idf=True)),\n",
              "                ('clf',\n",
              "                 LinearSVC(C=1.0, class_weight=None, dual=True,\n",
              "                           fit_intercept=True, intercept_scaling=1,\n",
              "                           loss='squared_hinge', max_iter=1000,\n",
              "                           multi_class='ovr', penalty='l2', random_state=None,\n",
              "                           tol=0.0001, verbose=0))],\n",
              "         verbose=False)"
            ]
          },
          "metadata": {
            "tags": []
          },
          "execution_count": 60
        }
      ]
    },
    {
      "cell_type": "code",
      "metadata": {
        "colab": {
          "base_uri": "https://localhost:8080/"
        },
        "id": "Cp88s2zUfxPL",
        "outputId": "5e789f6a-80df-4952-e10d-1963f9100e7e"
      },
      "source": [
        "pipeline2.score(valid_res_df['question'], labels_val)"
      ],
      "execution_count": 61,
      "outputs": [
        {
          "output_type": "execute_result",
          "data": {
            "text/plain": [
              "0.7948717948717948"
            ]
          },
          "metadata": {
            "tags": []
          },
          "execution_count": 61
        }
      ]
    },
    {
      "cell_type": "code",
      "metadata": {
        "colab": {
          "base_uri": "https://localhost:8080/"
        },
        "id": "HJ4fdExxf2MF",
        "outputId": "8deb5a91-33c0-4dfa-e004-31d76e62bc7f"
      },
      "source": [
        "pipeline2.score(test_res_df['question'], labels_test)"
      ],
      "execution_count": 62,
      "outputs": [
        {
          "output_type": "execute_result",
          "data": {
            "text/plain": [
              "0.5848670756646217"
            ]
          },
          "metadata": {
            "tags": []
          },
          "execution_count": 62
        }
      ]
    },
    {
      "cell_type": "code",
      "metadata": {
        "id": "EoCahx2ff63p"
      },
      "source": [
        ""
      ],
      "execution_count": null,
      "outputs": []
    }
  ]
}